{
 "cells": [
  {
   "cell_type": "markdown",
   "id": "688bf3e3",
   "metadata": {},
   "source": [
    "The task is to classify a given movie comment as either positive comment (class 1) or negative comment (class 0). Below model invokes Bert model from transformers module, fine-tunes it with one more linear layer added to do the classification task on a set of movie comments.\n",
    "The dataset used to train the model is SST2 training set, which contains 6920 movie comments, each labeled as 1 (positive comments) or 0 (negative comments).\n",
    "The data is split into 2 halves, with the first half used for training, and the second half used for testing.\n",
    "Some of the codes are referenced from:\n",
    "https://luv-bansal.medium.com/fine-tuning-bert-for-text-classification-in-pytorch-503d97342db2\n",
    "But with the following main enhancement:\n",
    "1. GPU is enabled to allow faster running of the program.\n",
    "2. Data is split into two subsets, with one for training and another for validation. The training/validation ratio can be set in the BertDataset class, with a number between 0 and 1. In this program, we set the ratio to be 0.8: 80% of the data for training, and 20% for validation.\n",
    "3. A model_testing function is added, where after each epoch of the fine-tuning process, the model is validated on the validation data to see its performance scores: accuracy and loss.\n",
    "4. Visualization is added to check the accuracy and loss for each epoch.\n",
    "5. The hyperparameteres are fine-tuned as well, and we finally come up with learning rate=0.001, opitmizer method=Adam, and epoch=10."
   ]
  },
  {
   "cell_type": "markdown",
   "id": "af3df278",
   "metadata": {},
   "source": [
    "Step1: check if GPU is enabled with Pytorch. \n",
    "\n",
    "If it shows tensor([1.], device='mps:0'), then GPU is enabled."
   ]
  },
  {
   "cell_type": "code",
   "execution_count": 1,
   "id": "5114295b",
   "metadata": {},
   "outputs": [
    {
     "name": "stdout",
     "output_type": "stream",
     "text": [
      "tensor([1.], device='mps:0')\n"
     ]
    }
   ],
   "source": [
    "import torch\n",
    "if torch.backends.mps.is_available():\n",
    "    mps_device = torch.device(\"mps\")\n",
    "    x = torch.ones(1, device=mps_device)\n",
    "    print (x)\n",
    "else:\n",
    "    print (\"MPS device not found.\")"
   ]
  },
  {
   "cell_type": "markdown",
   "id": "49efb934",
   "metadata": {},
   "source": [
    "Step2: import the necessary modules. \n",
    "\n",
    "Note that the transformers module in Python is a powerful open-source library developed by Hugging Face. It provides a wide range of state-of-the-art pre-trained models for natural language processing (NLP) tasks, including BERT. In this notebook, I will load BERT base (uncased) from transformers module, and fine tune it to perform the task for sentiment analysis."
   ]
  },
  {
   "cell_type": "code",
   "execution_count": 2,
   "id": "a321c438",
   "metadata": {},
   "outputs": [
    {
     "name": "stderr",
     "output_type": "stream",
     "text": [
      "/Users/susieli/anaconda3/lib/python3.10/site-packages/tqdm/auto.py:21: TqdmWarning: IProgress not found. Please update jupyter and ipywidgets. See https://ipywidgets.readthedocs.io/en/stable/user_install.html\n",
      "  from .autonotebook import tqdm as notebook_tqdm\n"
     ]
    }
   ],
   "source": [
    "import matplotlib.pyplot as plt\n",
    "from tabulate import tabulate\n",
    "import pandas as pd\n",
    "import numpy as np\n",
    "import transformers\n",
    "import torch.nn as nn\n",
    "from torch.utils.data import Dataset\n",
    "from torch.utils.data import DataLoader\n",
    "import torch.optim as optim\n",
    "import torch.nn.functional as F\n",
    "from torchsummary import summary\n",
    "from tqdm import tqdm"
   ]
  },
  {
   "cell_type": "markdown",
   "id": "0aa05797",
   "metadata": {},
   "source": [
    "Step3: load the dataset. \n",
    "\n",
    "The dataset will be divided into training set and validation set, based on the splitting ratio defined. For each data row in the dataset (that is, one movie comment), it will be tokenized and padded into a vector of length 100. For each input of a movie comment data item, the BertDataset class will return:\n",
    "\n",
    "ids: the tokenized and encoded sequence in the form of token IDs.\n",
    "\n",
    "mask: the attention_mask, which is a binary mask that specifies which tokens in the sequence should be attended to (1) and which ones should be ignored (0).\n",
    "\n",
    "token_type_ids: the token type information, which distinguishes between different segments or sentences within a sequence. \n",
    "\n",
    "target: the data item's label (whether positive or negative).\n",
    "\n",
    "After the prepared data is returned, it will then be loaded to the dataloader, and sent to the fine-tuning model for model training purposes."
   ]
  },
  {
   "cell_type": "code",
   "execution_count": 3,
   "id": "29f9cf87",
   "metadata": {},
   "outputs": [
    {
     "name": "stdout",
     "output_type": "stream",
     "text": [
      "total number of data items in the database: 6920\n",
      "we retain half of the data for training: 5536\n",
      "max size of each tokenized data is: 100\n",
      "\n",
      "total number of data items in the database: 6920\n",
      "we retain half of the data for validation: 1384\n",
      "max size of each tokenized data is: 100\n",
      "\n"
     ]
    }
   ],
   "source": [
    "class BertDataset(Dataset):\n",
    "    def __init__(self, tokenizer,max_length, data_type, training_ratio):\n",
    "        super(BertDataset, self).__init__()\n",
    "        self.data_type=data_type\n",
    "        self.training_ratio=training_ratio\n",
    "        #self.root_dir=root_dir\n",
    "        self.train_csv=pd.read_csv('https://github.com/clairett/pytorch-sentiment-classification/raw/master/data/SST2/train.tsv', delimiter='\\t', header=None)\n",
    "        print(\"total number of data items in the database: \"+str(len(self.train_csv)))\n",
    "        if self.data_type==\"train\":\n",
    "            self.train_csv=self.train_csv[:int(len(self.train_csv)*self.training_ratio)]\n",
    "            print(\"we retain half of the data for training: \" +str(len(self.train_csv)))\n",
    "        elif self.data_type==\"validate\":\n",
    "            self.train_csv=self.train_csv[int(len(self.train_csv)*self.training_ratio):]\n",
    "            print(\"we retain half of the data for validation: \"+str(len(self.train_csv)))\n",
    "        self.tokenizer=tokenizer\n",
    "        self.target=self.train_csv.iloc[:,1]\n",
    "        self.max_length=max_length\n",
    "        print(\"max size of each tokenized data is: \"+str(max_length)+\"\\n\")\n",
    "        \n",
    "    def __len__(self):\n",
    "        return len(self.train_csv)\n",
    "    \n",
    "    def __getitem__(self, index):\n",
    "        \n",
    "        text1 = self.train_csv.iloc[index,0]\n",
    "        \n",
    "        inputs = self.tokenizer.encode_plus(\n",
    "            text1 ,\n",
    "            None,\n",
    "            pad_to_max_length=True,\n",
    "            add_special_tokens=True,\n",
    "            return_attention_mask=True,\n",
    "            max_length=self.max_length,\n",
    "        )\n",
    "        ids = inputs[\"input_ids\"]\n",
    "        token_type_ids = inputs[\"token_type_ids\"]\n",
    "        mask = inputs[\"attention_mask\"]\n",
    "\n",
    "        return {\n",
    "            'ids': torch.tensor(ids, dtype=torch.long),\n",
    "            'mask': torch.tensor(mask, dtype=torch.long),\n",
    "            'token_type_ids': torch.tensor(token_type_ids, dtype=torch.long),\n",
    "            'target': torch.tensor(self.train_csv.iloc[index, 1], dtype=torch.long)\n",
    "            }\n",
    "tokenizer = transformers.BertTokenizer.from_pretrained(\"bert-base-uncased\")\n",
    "\n",
    "\n",
    "dataset= BertDataset(tokenizer, max_length=100, data_type=\"train\",training_ratio=0.8)\n",
    "\n",
    "dataset_test=BertDataset(tokenizer, max_length=100, data_type=\"validate\", training_ratio=0.8)\n",
    "\n",
    "\n",
    "dataloader=DataLoader(dataset=dataset,batch_size=128)\n",
    "\n",
    "dataloader_test=DataLoader(dataset=dataset_test,batch_size=128)\n"
   ]
  },
  {
   "cell_type": "markdown",
   "id": "c0b88aff",
   "metadata": {},
   "source": [
    "Step4: Build the model.\n",
    "\n",
    "The model is based on BERT base uncased, with an additional linear layer added.\n",
    "\n",
    "Note that the output of BERT model, the \"o2\" captures the representation of the [CLS] token, which is often used as a summary representation of the entire input sequence.In this case, the hidden size is 768, which is a common value for BERT models based on the bert-base-uncased configuration.\n",
    "\n",
    "The 768-dimensional output is the used as input to the linear layer, to generate a single output value, which will then be used in the binary classification task.\n",
    "\n"
   ]
  },
  {
   "cell_type": "code",
   "execution_count": 4,
   "id": "037d8511",
   "metadata": {},
   "outputs": [
    {
     "name": "stderr",
     "output_type": "stream",
     "text": [
      "Some weights of the model checkpoint at bert-base-uncased were not used when initializing BertModel: ['cls.predictions.bias', 'cls.seq_relationship.bias', 'cls.seq_relationship.weight', 'cls.predictions.transform.LayerNorm.bias', 'cls.predictions.transform.dense.weight', 'cls.predictions.transform.LayerNorm.weight', 'cls.predictions.transform.dense.bias']\n",
      "- This IS expected if you are initializing BertModel from the checkpoint of a model trained on another task or with another architecture (e.g. initializing a BertForSequenceClassification model from a BertForPreTraining model).\n",
      "- This IS NOT expected if you are initializing BertModel from the checkpoint of a model that you expect to be exactly identical (initializing a BertForSequenceClassification model from a BertForSequenceClassification model).\n"
     ]
    }
   ],
   "source": [
    "class BERT(nn.Module):\n",
    "    def __init__(self):\n",
    "        super(BERT, self).__init__()\n",
    "        self.bert_model = transformers.BertModel.from_pretrained(\"bert-base-uncased\")\n",
    "        self.out = nn.Linear(768, 1)\n",
    "        \n",
    "    def forward(self,ids,mask,token_type_ids):\n",
    "        _,o2= self.bert_model(ids,attention_mask=mask,token_type_ids=token_type_ids, return_dict=False)\n",
    "        \n",
    "        out= self.out(o2)\n",
    "        \n",
    "        return out\n",
    "    \n",
    "model=BERT()\n",
    "model.to(mps_device)\n",
    "loss_fn = nn.BCEWithLogitsLoss()\n",
    "optimizer= optim.Adam(model.parameters(),lr= 0.0001)"
   ]
  },
  {
   "cell_type": "markdown",
   "id": "2f54f0b3",
   "metadata": {},
   "source": [
    "Step 5: Train the model!\n",
    "\n",
    "In below codes, I first set param.requires_grad to be True, so that it ensures that all parameters in the BERT model are trainable and will have their gradients computed and updated during backpropagation and optimization.\n",
    "\n",
    "Then I define the model_testing function that returns the loss and accuracy for a given set of data loaded to the model.\n",
    "\n",
    "Finally I define the finetune function that uses the feed-forward backpropagation algorithm to train our BERT-classifier model!\n",
    "\n",
    "Note that:\n",
    "I use the BCEWithLogitsLoss to calculate the loss, which is by definition: loss = - (y_true * log(sigmoid(y_pred)) + (1 - y_true) * log(1 - sigmoid(y_pred))).\n",
    "\n",
    "I use the Adam optimizer, which is a popular optimization algorithm and an extension of the stochastic gradient descent (SGD) algorithm that incorporates adaptive learning rates for each parameter. Adam adjusts the learning rate dynamically based on the past gradients, allowing it to converge faster and handle different types of parameters more effectively.\n",
    "\n",
    "The backpropagation is done by batch: after each batch of data is fed forward, the model calculates the loss and adjusts all the parameters backwards.\n",
    "\n",
    "At the end of all epochs, visualization is done to show the accuracy and loss of the trained model on both training data and validation data after each epoch of training."
   ]
  },
  {
   "cell_type": "code",
   "execution_count": 5,
   "id": "e3021491",
   "metadata": {},
   "outputs": [],
   "source": [
    "for param in model.bert_model.parameters():\n",
    "    param.requires_grad = True"
   ]
  },
  {
   "cell_type": "code",
   "execution_count": 6,
   "id": "ed4192b3",
   "metadata": {},
   "outputs": [],
   "source": [
    "def model_testing(dataloader, model, loss_fn):\n",
    "    loop=tqdm(enumerate(dataloader),leave=False,total=len(dataloader))\n",
    "    pred_all_test=np.empty((0,1))\n",
    "    label_all_test=np.empty((0,1))\n",
    "    for batch, dl in loop:\n",
    "        dl = {'ids': dl['ids'].to(mps_device), \n",
    "                 'token_type_ids': dl['token_type_ids'].to(mps_device),\n",
    "                 'mask':dl['mask'].to(mps_device),\n",
    "                 'target': dl['target'].to(mps_device)}\n",
    "        ids=dl['ids']\n",
    "        token_type_ids=dl['token_type_ids']\n",
    "        mask= dl['mask']\n",
    "        label=dl['target']\n",
    "        label = label.unsqueeze(1)\n",
    "\n",
    "        output=model(\n",
    "            ids=ids,\n",
    "            mask=mask,\n",
    "            token_type_ids=token_type_ids)\n",
    "\n",
    "\n",
    "        label = label.type_as(output)\n",
    "\n",
    "        loss=loss_fn(output,label)\n",
    "\n",
    "        output=output.cpu().detach().numpy()\n",
    "        label=label.cpu().detach().numpy()\n",
    "        label_all_test=np.concatenate((label_all_test, label),axis=0)\n",
    "\n",
    "        pred = np.where(output >= 0, 1, 0)\n",
    "        pred_all_test=np.concatenate((pred_all_test, pred), axis=0)\n",
    "\n",
    "        num_correct = sum(1 for a, b in zip(pred_all_test, label_all_test) if a[0] == b[0])\n",
    "        num_samples = pred_all_test.shape[0]\n",
    "        accuracy = num_correct/num_samples\n",
    "    print(\"The current model is tested on {} testing data items.\".format(len(pred_all_test)))    \n",
    "    print(\"Accuracy after training this epoch in testing data is: \"+str(accuracy))\n",
    "    print(\"Loss after training this epoch in testing data is: \"+str(loss.item()))\n",
    "        \n",
    "    return accuracy, float(loss.item())\n",
    "    "
   ]
  },
  {
   "cell_type": "code",
   "execution_count": 7,
   "id": "9307fe86",
   "metadata": {},
   "outputs": [],
   "source": [
    "def finetune(epochs,dataloader,model,loss_fn,optimizer):\n",
    "    model.train()\n",
    "    training_acc=[]\n",
    "    testing_acc=[]\n",
    "    training_loss=[]\n",
    "    testing_loss=[]\n",
    "    \n",
    "    for  epoch in range(epochs):\n",
    "        pred_all=np.empty((0,1))\n",
    "        label_all=np.empty((0,1))\n",
    "        print(\"Starting epoch: \"+str(epoch+1))\n",
    "        \n",
    "        loop=tqdm(enumerate(dataloader),leave=True,total=len(dataloader))\n",
    "        for batch, dl in loop:\n",
    "            dl = {'ids': dl['ids'].to(mps_device), \n",
    "                     'token_type_ids': dl['token_type_ids'].to(mps_device),\n",
    "                     'mask':dl['mask'].to(mps_device),\n",
    "                     'target': dl['target'].to(mps_device)}\n",
    "            ids=dl['ids']\n",
    "            token_type_ids=dl['token_type_ids']\n",
    "            mask= dl['mask']\n",
    "            label=dl['target']\n",
    "            label = label.unsqueeze(1)\n",
    "            \n",
    "            optimizer.zero_grad()\n",
    "            \n",
    "            output=model(\n",
    "                ids=ids,\n",
    "                mask=mask,\n",
    "                token_type_ids=token_type_ids)\n",
    "\n",
    "            \n",
    "            label = label.type_as(output)\n",
    "\n",
    "            loss=loss_fn(output,label)\n",
    "            loss.backward()\n",
    "            \n",
    "            optimizer.step()\n",
    "            \n",
    "            output=output.cpu().detach().numpy()\n",
    "            label=label.cpu().detach().numpy()\n",
    "            label_all=np.concatenate((label_all, label),axis=0)\n",
    "\n",
    "            pred = np.where(output >= 0, 1, 0)\n",
    "            pred_all=np.concatenate((pred_all, pred), axis=0)\n",
    "            \n",
    "            print(\"Number of data items used in training: \"+str(len(pred_all)))\n",
    "\n",
    "            num_correct = sum(1 for a, b in zip(pred_all, label_all) if a[0] == b[0])\n",
    "            num_samples = pred_all.shape[0]\n",
    "            accuracy = num_correct/num_samples\n",
    "            \n",
    "            \n",
    "            # Show progress while training\n",
    "            loop.set_description(f'Epoch={epoch+1}/{epochs}')\n",
    "            loop.set_postfix(loss=loss.item(),acc=accuracy)\n",
    "        \n",
    "        training_acc.append(accuracy)\n",
    "        training_loss.append(float(loss.item()))\n",
    "        testing_acc_v,testing_loss_v=model_testing(dataloader_test,model, loss_fn)\n",
    "        testing_acc.append(testing_acc_v)\n",
    "        testing_loss.append(testing_loss_v)\n",
    "    \n",
    "    #Visualization after all epochs are done\n",
    "    epochs_num = range(1, len(training_acc) + 1)\n",
    "    plt.plot(epochs_num, training_loss, 'bo', label='Training loss')\n",
    "    plt.plot(epochs_num, testing_loss, 'b', label='Validation loss')\n",
    "\n",
    "    plt.title('Training and validation loss')\n",
    "    plt.xlabel('Epochs')\n",
    "    plt.ylabel('Loss')\n",
    "    plt.legend()\n",
    "    plt.show()\n",
    "\n",
    "    plt.plot(epochs_num, training_acc, 'bo', label='Training acc')\n",
    "    plt.plot(epochs_num, testing_acc, 'b', label='Validation acc')\n",
    "    plt.title('Training and validation accuracy')\n",
    "    plt.xlabel('Epochs')\n",
    "    plt.ylabel('Accuracy')\n",
    "    plt.legend(loc='lower right')\n",
    "    plt.show()\n",
    "    \n",
    "    table_header=epochs_num\n",
    "    table_row_titles = [\"training accuracy\", \"validation accuracy\", \"training loss\", \"validation loss\"]\n",
    "    table_data=[training_acc, testing_acc, training_loss, testing_loss]\n",
    "    table = [table_header] + [[title] + row for title, row in zip(table_row_titles, table_data)]\n",
    "    print(tabulate(table, headers=\"firstrow\", tablefmt=\"grid\"))\n",
    "\n",
    "    \n",
    "    return model"
   ]
  },
  {
   "cell_type": "code",
   "execution_count": 8,
   "id": "fffa1896",
   "metadata": {},
   "outputs": [
    {
     "name": "stdout",
     "output_type": "stream",
     "text": [
      "Starting epoch: 1\n"
     ]
    },
    {
     "name": "stderr",
     "output_type": "stream",
     "text": [
      "  0%|                                                    | 0/44 [00:00<?, ?it/s]Truncation was not explicitly activated but `max_length` is provided a specific value, please use `truncation=True` to explicitly truncate examples to max length. Defaulting to 'longest_first' truncation strategy. If you encode pairs of sequences (GLUE-style) with the tokenizer you can select this strategy more precisely by providing a specific strategy to `truncation`.\n",
      "/Users/susieli/anaconda3/lib/python3.10/site-packages/transformers/tokenization_utils_base.py:2377: FutureWarning: The `pad_to_max_length` argument is deprecated and will be removed in a future version, use `padding=True` or `padding='longest'` to pad to the longest sequence in the batch, or use `padding='max_length'` to pad to a max length. In this case, you can give a specific length with `max_length` (e.g. `max_length=45`) or leave max_length to None to pad to the maximal input size of the model (e.g. 512 for Bert).\n",
      "  warnings.warn(\n",
      "Epoch=1/10:   2%|▏        | 1/44 [00:07<05:12,  7.27s/it, acc=0.414, loss=0.763]"
     ]
    },
    {
     "name": "stdout",
     "output_type": "stream",
     "text": [
      "Number of data items used in training: 128\n"
     ]
    },
    {
     "name": "stderr",
     "output_type": "stream",
     "text": [
      "Epoch=1/10:   5%|▍        | 2/44 [00:10<03:18,  4.73s/it, acc=0.469, loss=0.686]"
     ]
    },
    {
     "name": "stdout",
     "output_type": "stream",
     "text": [
      "Number of data items used in training: 256\n"
     ]
    },
    {
     "name": "stderr",
     "output_type": "stream",
     "text": [
      "Epoch=1/10:   7%|▌        | 3/44 [00:13<02:39,  3.90s/it, acc=0.479, loss=0.698]"
     ]
    },
    {
     "name": "stdout",
     "output_type": "stream",
     "text": [
      "Number of data items used in training: 384\n"
     ]
    },
    {
     "name": "stderr",
     "output_type": "stream",
     "text": [
      "Epoch=1/10:   9%|▊        | 4/44 [00:16<02:20,  3.51s/it, acc=0.488, loss=0.679]"
     ]
    },
    {
     "name": "stdout",
     "output_type": "stream",
     "text": [
      "Number of data items used in training: 512\n"
     ]
    },
    {
     "name": "stderr",
     "output_type": "stream",
     "text": [
      "Epoch=1/10:  11%|█▎         | 5/44 [00:18<02:08,  3.29s/it, acc=0.5, loss=0.671]"
     ]
    },
    {
     "name": "stdout",
     "output_type": "stream",
     "text": [
      "Number of data items used in training: 640\n"
     ]
    },
    {
     "name": "stderr",
     "output_type": "stream",
     "text": [
      "Epoch=1/10:  14%|█▏       | 6/44 [00:21<01:59,  3.16s/it, acc=0.535, loss=0.648]"
     ]
    },
    {
     "name": "stdout",
     "output_type": "stream",
     "text": [
      "Number of data items used in training: 768\n"
     ]
    },
    {
     "name": "stderr",
     "output_type": "stream",
     "text": [
      "Epoch=1/10:  16%|█▍       | 7/44 [00:24<01:53,  3.08s/it, acc=0.541, loss=0.662]"
     ]
    },
    {
     "name": "stdout",
     "output_type": "stream",
     "text": [
      "Number of data items used in training: 896\n"
     ]
    },
    {
     "name": "stderr",
     "output_type": "stream",
     "text": [
      "Epoch=1/10:  18%|█▊        | 8/44 [00:27<01:49,  3.03s/it, acc=0.58, loss=0.574]"
     ]
    },
    {
     "name": "stdout",
     "output_type": "stream",
     "text": [
      "Number of data items used in training: 1024\n"
     ]
    },
    {
     "name": "stderr",
     "output_type": "stream",
     "text": [
      "Epoch=1/10:  20%|█▊       | 9/44 [00:30<01:45,  3.00s/it, acc=0.606, loss=0.533]"
     ]
    },
    {
     "name": "stdout",
     "output_type": "stream",
     "text": [
      "Number of data items used in training: 1152\n"
     ]
    },
    {
     "name": "stderr",
     "output_type": "stream",
     "text": [
      "Epoch=1/10:  23%|█▊      | 10/44 [00:33<01:41,  2.97s/it, acc=0.629, loss=0.468]"
     ]
    },
    {
     "name": "stdout",
     "output_type": "stream",
     "text": [
      "Number of data items used in training: 1280\n"
     ]
    },
    {
     "name": "stderr",
     "output_type": "stream",
     "text": [
      "Epoch=1/10:  25%|██      | 11/44 [00:36<01:37,  2.95s/it, acc=0.652, loss=0.401]"
     ]
    },
    {
     "name": "stdout",
     "output_type": "stream",
     "text": [
      "Number of data items used in training: 1408\n"
     ]
    },
    {
     "name": "stderr",
     "output_type": "stream",
     "text": [
      "Epoch=1/10:  27%|██▍      | 12/44 [00:39<01:34,  2.94s/it, acc=0.66, loss=0.506]"
     ]
    },
    {
     "name": "stdout",
     "output_type": "stream",
     "text": [
      "Number of data items used in training: 1536\n"
     ]
    },
    {
     "name": "stderr",
     "output_type": "stream",
     "text": [
      "Epoch=1/10:  30%|██▎     | 13/44 [00:42<01:30,  2.93s/it, acc=0.674, loss=0.389]"
     ]
    },
    {
     "name": "stdout",
     "output_type": "stream",
     "text": [
      "Number of data items used in training: 1664\n"
     ]
    },
    {
     "name": "stderr",
     "output_type": "stream",
     "text": [
      "Epoch=1/10:  32%|██▌     | 14/44 [00:45<01:27,  2.93s/it, acc=0.686, loss=0.416]"
     ]
    },
    {
     "name": "stdout",
     "output_type": "stream",
     "text": [
      "Number of data items used in training: 1792\n"
     ]
    },
    {
     "name": "stderr",
     "output_type": "stream",
     "text": [
      "Epoch=1/10:  34%|███      | 15/44 [00:48<01:24,  2.92s/it, acc=0.701, loss=0.29]"
     ]
    },
    {
     "name": "stdout",
     "output_type": "stream",
     "text": [
      "Number of data items used in training: 1920\n"
     ]
    },
    {
     "name": "stderr",
     "output_type": "stream",
     "text": [
      "Epoch=1/10:  36%|██▉     | 16/44 [00:51<01:22,  2.93s/it, acc=0.713, loss=0.295]"
     ]
    },
    {
     "name": "stdout",
     "output_type": "stream",
     "text": [
      "Number of data items used in training: 2048\n"
     ]
    },
    {
     "name": "stderr",
     "output_type": "stream",
     "text": [
      "Epoch=1/10:  39%|███▍     | 17/44 [00:53<01:18,  2.93s/it, acc=0.723, loss=0.32]"
     ]
    },
    {
     "name": "stdout",
     "output_type": "stream",
     "text": [
      "Number of data items used in training: 2176\n"
     ]
    },
    {
     "name": "stderr",
     "output_type": "stream",
     "text": [
      "Epoch=1/10:  41%|███▎    | 18/44 [00:56<01:15,  2.92s/it, acc=0.734, loss=0.241]"
     ]
    },
    {
     "name": "stdout",
     "output_type": "stream",
     "text": [
      "Number of data items used in training: 2304\n"
     ]
    },
    {
     "name": "stderr",
     "output_type": "stream",
     "text": [
      "Epoch=1/10:  43%|███▍    | 19/44 [00:59<01:12,  2.92s/it, acc=0.739, loss=0.417]"
     ]
    },
    {
     "name": "stdout",
     "output_type": "stream",
     "text": [
      "Number of data items used in training: 2432\n"
     ]
    },
    {
     "name": "stderr",
     "output_type": "stream",
     "text": [
      "Epoch=1/10:  45%|███▋    | 20/44 [01:02<01:09,  2.91s/it, acc=0.748, loss=0.243]"
     ]
    },
    {
     "name": "stdout",
     "output_type": "stream",
     "text": [
      "Number of data items used in training: 2560\n"
     ]
    },
    {
     "name": "stderr",
     "output_type": "stream",
     "text": [
      "Epoch=1/10:  48%|███▊    | 21/44 [01:05<01:07,  2.92s/it, acc=0.751, loss=0.402]"
     ]
    },
    {
     "name": "stdout",
     "output_type": "stream",
     "text": [
      "Number of data items used in training: 2688\n"
     ]
    },
    {
     "name": "stderr",
     "output_type": "stream",
     "text": [
      "Epoch=1/10:  50%|████    | 22/44 [01:08<01:04,  2.91s/it, acc=0.756, loss=0.314]"
     ]
    },
    {
     "name": "stdout",
     "output_type": "stream",
     "text": [
      "Number of data items used in training: 2816\n"
     ]
    },
    {
     "name": "stderr",
     "output_type": "stream",
     "text": [
      "Epoch=1/10:  52%|████▏   | 23/44 [01:11<01:01,  2.92s/it, acc=0.761, loss=0.328]"
     ]
    },
    {
     "name": "stdout",
     "output_type": "stream",
     "text": [
      "Number of data items used in training: 2944\n"
     ]
    },
    {
     "name": "stderr",
     "output_type": "stream",
     "text": [
      "Epoch=1/10:  55%|████▎   | 24/44 [01:14<00:58,  2.92s/it, acc=0.766, loss=0.365]"
     ]
    },
    {
     "name": "stdout",
     "output_type": "stream",
     "text": [
      "Number of data items used in training: 3072\n"
     ]
    },
    {
     "name": "stderr",
     "output_type": "stream",
     "text": [
      "Epoch=1/10:  57%|████▌   | 25/44 [01:17<00:55,  2.92s/it, acc=0.769, loss=0.328]"
     ]
    },
    {
     "name": "stdout",
     "output_type": "stream",
     "text": [
      "Number of data items used in training: 3200\n"
     ]
    },
    {
     "name": "stderr",
     "output_type": "stream",
     "text": [
      "Epoch=1/10:  59%|████▋   | 26/44 [01:20<00:52,  2.91s/it, acc=0.772, loss=0.359]"
     ]
    },
    {
     "name": "stdout",
     "output_type": "stream",
     "text": [
      "Number of data items used in training: 3328\n"
     ]
    },
    {
     "name": "stderr",
     "output_type": "stream",
     "text": [
      "Epoch=1/10:  61%|████▉   | 27/44 [01:23<00:49,  2.91s/it, acc=0.777, loss=0.306]"
     ]
    },
    {
     "name": "stdout",
     "output_type": "stream",
     "text": [
      "Number of data items used in training: 3456\n"
     ]
    },
    {
     "name": "stderr",
     "output_type": "stream",
     "text": [
      "Epoch=1/10:  64%|█████   | 28/44 [01:26<00:46,  2.92s/it, acc=0.781, loss=0.315]"
     ]
    },
    {
     "name": "stdout",
     "output_type": "stream",
     "text": [
      "Number of data items used in training: 3584\n"
     ]
    },
    {
     "name": "stderr",
     "output_type": "stream",
     "text": [
      "Epoch=1/10:  66%|█████▎  | 29/44 [01:28<00:43,  2.91s/it, acc=0.786, loss=0.234]"
     ]
    },
    {
     "name": "stdout",
     "output_type": "stream",
     "text": [
      "Number of data items used in training: 3712\n"
     ]
    },
    {
     "name": "stderr",
     "output_type": "stream",
     "text": [
      "Epoch=1/10:  68%|██████▏  | 30/44 [01:31<00:40,  2.92s/it, acc=0.79, loss=0.275]"
     ]
    },
    {
     "name": "stdout",
     "output_type": "stream",
     "text": [
      "Number of data items used in training: 3840\n"
     ]
    },
    {
     "name": "stderr",
     "output_type": "stream",
     "text": [
      "Epoch=1/10:  70%|█████▋  | 31/44 [01:34<00:37,  2.91s/it, acc=0.792, loss=0.314]"
     ]
    },
    {
     "name": "stdout",
     "output_type": "stream",
     "text": [
      "Number of data items used in training: 3968\n"
     ]
    },
    {
     "name": "stderr",
     "output_type": "stream",
     "text": [
      "Epoch=1/10:  73%|█████▊  | 32/44 [01:37<00:34,  2.91s/it, acc=0.794, loss=0.297]"
     ]
    },
    {
     "name": "stdout",
     "output_type": "stream",
     "text": [
      "Number of data items used in training: 4096\n"
     ]
    },
    {
     "name": "stderr",
     "output_type": "stream",
     "text": [
      "Epoch=1/10:  75%|██████  | 33/44 [01:40<00:31,  2.91s/it, acc=0.797, loss=0.279]"
     ]
    },
    {
     "name": "stdout",
     "output_type": "stream",
     "text": [
      "Number of data items used in training: 4224\n"
     ]
    },
    {
     "name": "stderr",
     "output_type": "stream",
     "text": [
      "Epoch=1/10:  77%|██████▏ | 34/44 [01:43<00:29,  2.91s/it, acc=0.799, loss=0.388]"
     ]
    },
    {
     "name": "stdout",
     "output_type": "stream",
     "text": [
      "Number of data items used in training: 4352\n"
     ]
    },
    {
     "name": "stderr",
     "output_type": "stream",
     "text": [
      "Epoch=1/10:  80%|██████▎ | 35/44 [01:46<00:26,  2.90s/it, acc=0.801, loss=0.271]"
     ]
    },
    {
     "name": "stdout",
     "output_type": "stream",
     "text": [
      "Number of data items used in training: 4480\n"
     ]
    },
    {
     "name": "stderr",
     "output_type": "stream",
     "text": [
      "Epoch=1/10:  82%|██████▌ | 36/44 [01:49<00:23,  2.91s/it, acc=0.803, loss=0.339]"
     ]
    },
    {
     "name": "stdout",
     "output_type": "stream",
     "text": [
      "Number of data items used in training: 4608\n"
     ]
    },
    {
     "name": "stderr",
     "output_type": "stream",
     "text": [
      "Epoch=1/10:  84%|███████▌ | 37/44 [01:52<00:20,  2.91s/it, acc=0.805, loss=0.28]"
     ]
    },
    {
     "name": "stdout",
     "output_type": "stream",
     "text": [
      "Number of data items used in training: 4736\n"
     ]
    },
    {
     "name": "stderr",
     "output_type": "stream",
     "text": [
      "Epoch=1/10:  86%|██████▉ | 38/44 [01:55<00:17,  2.91s/it, acc=0.807, loss=0.271]"
     ]
    },
    {
     "name": "stdout",
     "output_type": "stream",
     "text": [
      "Number of data items used in training: 4864\n"
     ]
    },
    {
     "name": "stderr",
     "output_type": "stream",
     "text": [
      "Epoch=1/10:  89%|███████ | 39/44 [01:58<00:14,  2.91s/it, acc=0.809, loss=0.254]"
     ]
    },
    {
     "name": "stdout",
     "output_type": "stream",
     "text": [
      "Number of data items used in training: 4992\n"
     ]
    },
    {
     "name": "stderr",
     "output_type": "stream",
     "text": [
      "Epoch=1/10:  91%|████████▏| 40/44 [02:00<00:11,  2.91s/it, acc=0.81, loss=0.342]"
     ]
    },
    {
     "name": "stdout",
     "output_type": "stream",
     "text": [
      "Number of data items used in training: 5120\n"
     ]
    },
    {
     "name": "stderr",
     "output_type": "stream",
     "text": [
      "Epoch=1/10:  93%|███████▍| 41/44 [02:03<00:08,  2.92s/it, acc=0.812, loss=0.244]"
     ]
    },
    {
     "name": "stdout",
     "output_type": "stream",
     "text": [
      "Number of data items used in training: 5248\n"
     ]
    },
    {
     "name": "stderr",
     "output_type": "stream",
     "text": [
      "Epoch=1/10:  95%|███████▋| 42/44 [02:06<00:05,  2.92s/it, acc=0.813, loss=0.309]"
     ]
    },
    {
     "name": "stdout",
     "output_type": "stream",
     "text": [
      "Number of data items used in training: 5376\n"
     ]
    },
    {
     "name": "stderr",
     "output_type": "stream",
     "text": [
      "Epoch=1/10:  98%|███████▊| 43/44 [02:09<00:02,  2.91s/it, acc=0.815, loss=0.265]"
     ]
    },
    {
     "name": "stdout",
     "output_type": "stream",
     "text": [
      "Number of data items used in training: 5504\n"
     ]
    },
    {
     "name": "stderr",
     "output_type": "stream",
     "text": [
      "Epoch=1/10: 100%|████████| 44/44 [02:10<00:00,  2.97s/it, acc=0.816, loss=0.221]\n"
     ]
    },
    {
     "name": "stdout",
     "output_type": "stream",
     "text": [
      "Number of data items used in training: 5536\n"
     ]
    },
    {
     "name": "stderr",
     "output_type": "stream",
     "text": [
      "                                                                                \r"
     ]
    },
    {
     "name": "stdout",
     "output_type": "stream",
     "text": [
      "The current model is tested on 1384 testing data items.\n",
      "Accuracy after training this epoch in testing data is: 0.8880057803468208\n",
      "Loss after training this epoch in testing data is: 0.26531410217285156\n",
      "Starting epoch: 2\n"
     ]
    },
    {
     "name": "stderr",
     "output_type": "stream",
     "text": [
      "Epoch=2/10:   2%|▏         | 1/44 [00:03<02:46,  3.88s/it, acc=0.766, loss=0.49]"
     ]
    },
    {
     "name": "stdout",
     "output_type": "stream",
     "text": [
      "Number of data items used in training: 128\n"
     ]
    },
    {
     "name": "stderr",
     "output_type": "stream",
     "text": [
      "Epoch=2/10:   5%|▍        | 2/44 [00:06<02:21,  3.37s/it, acc=0.812, loss=0.341]"
     ]
    },
    {
     "name": "stdout",
     "output_type": "stream",
     "text": [
      "Number of data items used in training: 256\n"
     ]
    },
    {
     "name": "stderr",
     "output_type": "stream",
     "text": [
      "Epoch=2/10:   7%|▌        | 3/44 [00:09<02:09,  3.17s/it, acc=0.826, loss=0.328]"
     ]
    },
    {
     "name": "stdout",
     "output_type": "stream",
     "text": [
      "Number of data items used in training: 384\n"
     ]
    },
    {
     "name": "stderr",
     "output_type": "stream",
     "text": [
      "Epoch=2/10:   9%|▉         | 4/44 [00:12<02:03,  3.09s/it, acc=0.834, loss=0.29]"
     ]
    },
    {
     "name": "stdout",
     "output_type": "stream",
     "text": [
      "Number of data items used in training: 512\n"
     ]
    },
    {
     "name": "stderr",
     "output_type": "stream",
     "text": [
      "Epoch=2/10:  11%|█        | 5/44 [00:15<01:58,  3.04s/it, acc=0.856, loss=0.198]"
     ]
    },
    {
     "name": "stdout",
     "output_type": "stream",
     "text": [
      "Number of data items used in training: 640\n"
     ]
    },
    {
     "name": "stderr",
     "output_type": "stream",
     "text": [
      "Epoch=2/10:  14%|█▏       | 6/44 [00:18<01:54,  3.02s/it, acc=0.861, loss=0.295]"
     ]
    },
    {
     "name": "stdout",
     "output_type": "stream",
     "text": [
      "Number of data items used in training: 768\n"
     ]
    },
    {
     "name": "stderr",
     "output_type": "stream",
     "text": [
      "Epoch=2/10:  16%|█▍       | 7/44 [00:21<01:51,  3.01s/it, acc=0.862, loss=0.342]"
     ]
    },
    {
     "name": "stdout",
     "output_type": "stream",
     "text": [
      "Number of data items used in training: 896\n"
     ]
    },
    {
     "name": "stderr",
     "output_type": "stream",
     "text": [
      "Epoch=2/10:  18%|█▋       | 8/44 [00:24<01:50,  3.07s/it, acc=0.868, loss=0.227]"
     ]
    },
    {
     "name": "stdout",
     "output_type": "stream",
     "text": [
      "Number of data items used in training: 1024\n"
     ]
    },
    {
     "name": "stderr",
     "output_type": "stream",
     "text": [
      "Epoch=2/10:  20%|█▊       | 9/44 [00:27<01:47,  3.07s/it, acc=0.875, loss=0.197]"
     ]
    },
    {
     "name": "stdout",
     "output_type": "stream",
     "text": [
      "Number of data items used in training: 1152\n"
     ]
    },
    {
     "name": "stderr",
     "output_type": "stream",
     "text": [
      "Epoch=2/10:  23%|█▊      | 10/44 [00:31<01:52,  3.31s/it, acc=0.882, loss=0.163]"
     ]
    },
    {
     "name": "stdout",
     "output_type": "stream",
     "text": [
      "Number of data items used in training: 1280\n"
     ]
    },
    {
     "name": "stderr",
     "output_type": "stream",
     "text": [
      "Epoch=2/10:  25%|██      | 11/44 [00:35<01:50,  3.35s/it, acc=0.886, loss=0.187]"
     ]
    },
    {
     "name": "stdout",
     "output_type": "stream",
     "text": [
      "Number of data items used in training: 1408\n"
     ]
    },
    {
     "name": "stderr",
     "output_type": "stream",
     "text": [
      "Epoch=2/10:  27%|██▏     | 12/44 [00:38<01:43,  3.25s/it, acc=0.881, loss=0.403]"
     ]
    },
    {
     "name": "stdout",
     "output_type": "stream",
     "text": [
      "Number of data items used in training: 1536\n"
     ]
    },
    {
     "name": "stderr",
     "output_type": "stream",
     "text": [
      "Epoch=2/10:  30%|██▎     | 13/44 [00:41<01:39,  3.20s/it, acc=0.885, loss=0.186]"
     ]
    },
    {
     "name": "stdout",
     "output_type": "stream",
     "text": [
      "Number of data items used in training: 1664\n"
     ]
    },
    {
     "name": "stderr",
     "output_type": "stream",
     "text": [
      "Epoch=2/10:  32%|██▊      | 14/44 [00:44<01:38,  3.27s/it, acc=0.887, loss=0.27]"
     ]
    },
    {
     "name": "stdout",
     "output_type": "stream",
     "text": [
      "Number of data items used in training: 1792\n"
     ]
    },
    {
     "name": "stderr",
     "output_type": "stream",
     "text": [
      "Epoch=2/10:  34%|███      | 15/44 [00:48<01:35,  3.29s/it, acc=0.89, loss=0.134]"
     ]
    },
    {
     "name": "stdout",
     "output_type": "stream",
     "text": [
      "Number of data items used in training: 1920\n"
     ]
    },
    {
     "name": "stderr",
     "output_type": "stream",
     "text": [
      "Epoch=2/10:  36%|██▉     | 16/44 [00:51<01:32,  3.32s/it, acc=0.894, loss=0.128]"
     ]
    },
    {
     "name": "stdout",
     "output_type": "stream",
     "text": [
      "Number of data items used in training: 2048\n"
     ]
    },
    {
     "name": "stderr",
     "output_type": "stream",
     "text": [
      "Epoch=2/10:  39%|███     | 17/44 [00:54<01:28,  3.30s/it, acc=0.894, loss=0.271]"
     ]
    },
    {
     "name": "stdout",
     "output_type": "stream",
     "text": [
      "Number of data items used in training: 2176\n"
     ]
    },
    {
     "name": "stderr",
     "output_type": "stream",
     "text": [
      "Epoch=2/10:  41%|███▎    | 18/44 [00:57<01:23,  3.20s/it, acc=0.898, loss=0.102]"
     ]
    },
    {
     "name": "stdout",
     "output_type": "stream",
     "text": [
      "Number of data items used in training: 2304\n"
     ]
    },
    {
     "name": "stderr",
     "output_type": "stream",
     "text": [
      "Epoch=2/10:  43%|███▍    | 19/44 [01:00<01:19,  3.17s/it, acc=0.902, loss=0.102]"
     ]
    },
    {
     "name": "stdout",
     "output_type": "stream",
     "text": [
      "Number of data items used in training: 2432\n"
     ]
    },
    {
     "name": "stderr",
     "output_type": "stream",
     "text": [
      "Epoch=2/10:  45%|███▋    | 20/44 [01:04<01:16,  3.18s/it, acc=0.904, loss=0.203]"
     ]
    },
    {
     "name": "stdout",
     "output_type": "stream",
     "text": [
      "Number of data items used in training: 2560\n"
     ]
    },
    {
     "name": "stderr",
     "output_type": "stream",
     "text": [
      "Epoch=2/10:  48%|███▊    | 21/44 [01:07<01:12,  3.16s/it, acc=0.904, loss=0.227]"
     ]
    },
    {
     "name": "stdout",
     "output_type": "stream",
     "text": [
      "Number of data items used in training: 2688\n"
     ]
    },
    {
     "name": "stderr",
     "output_type": "stream",
     "text": [
      "Epoch=2/10:  50%|████    | 22/44 [01:10<01:12,  3.31s/it, acc=0.906, loss=0.117]"
     ]
    },
    {
     "name": "stdout",
     "output_type": "stream",
     "text": [
      "Number of data items used in training: 2816\n"
     ]
    },
    {
     "name": "stderr",
     "output_type": "stream",
     "text": [
      "Epoch=2/10:  52%|████▏   | 23/44 [01:13<01:08,  3.25s/it, acc=0.908, loss=0.146]"
     ]
    },
    {
     "name": "stdout",
     "output_type": "stream",
     "text": [
      "Number of data items used in training: 2944\n"
     ]
    },
    {
     "name": "stderr",
     "output_type": "stream",
     "text": [
      "Epoch=2/10:  55%|████▎   | 24/44 [01:17<01:03,  3.20s/it, acc=0.909, loss=0.183]"
     ]
    },
    {
     "name": "stdout",
     "output_type": "stream",
     "text": [
      "Number of data items used in training: 3072\n"
     ]
    },
    {
     "name": "stderr",
     "output_type": "stream",
     "text": [
      "Epoch=2/10:  57%|████▌   | 25/44 [01:20<01:01,  3.24s/it, acc=0.911, loss=0.166]"
     ]
    },
    {
     "name": "stdout",
     "output_type": "stream",
     "text": [
      "Number of data items used in training: 3200\n"
     ]
    },
    {
     "name": "stderr",
     "output_type": "stream",
     "text": [
      "Epoch=2/10:  59%|████▋   | 26/44 [01:23<00:59,  3.32s/it, acc=0.913, loss=0.134]"
     ]
    },
    {
     "name": "stdout",
     "output_type": "stream",
     "text": [
      "Number of data items used in training: 3328\n"
     ]
    },
    {
     "name": "stderr",
     "output_type": "stream",
     "text": [
      "Epoch=2/10:  61%|████▉   | 27/44 [01:27<00:55,  3.27s/it, acc=0.915, loss=0.108]"
     ]
    },
    {
     "name": "stdout",
     "output_type": "stream",
     "text": [
      "Number of data items used in training: 3456\n"
     ]
    },
    {
     "name": "stderr",
     "output_type": "stream",
     "text": [
      "Epoch=2/10:  64%|█████   | 28/44 [01:30<00:51,  3.20s/it, acc=0.915, loss=0.193]"
     ]
    },
    {
     "name": "stdout",
     "output_type": "stream",
     "text": [
      "Number of data items used in training: 3584\n"
     ]
    },
    {
     "name": "stderr",
     "output_type": "stream",
     "text": [
      "Epoch=2/10:  66%|█████▉   | 29/44 [01:33<00:48,  3.20s/it, acc=0.917, loss=0.11]"
     ]
    },
    {
     "name": "stdout",
     "output_type": "stream",
     "text": [
      "Number of data items used in training: 3712\n"
     ]
    },
    {
     "name": "stderr",
     "output_type": "stream",
     "text": [
      "Epoch=2/10:  68%|████▊  | 30/44 [01:36<00:44,  3.18s/it, acc=0.919, loss=0.0662]"
     ]
    },
    {
     "name": "stdout",
     "output_type": "stream",
     "text": [
      "Number of data items used in training: 3840\n"
     ]
    },
    {
     "name": "stderr",
     "output_type": "stream",
     "text": [
      "Epoch=2/10:  70%|████▉  | 31/44 [01:39<00:42,  3.26s/it, acc=0.921, loss=0.0734]"
     ]
    },
    {
     "name": "stdout",
     "output_type": "stream",
     "text": [
      "Number of data items used in training: 3968\n"
     ]
    },
    {
     "name": "stderr",
     "output_type": "stream",
     "text": [
      "Epoch=2/10:  73%|█████  | 32/44 [01:43<00:40,  3.37s/it, acc=0.923, loss=0.0681]"
     ]
    },
    {
     "name": "stdout",
     "output_type": "stream",
     "text": [
      "Number of data items used in training: 4096\n"
     ]
    },
    {
     "name": "stderr",
     "output_type": "stream",
     "text": [
      "Epoch=2/10:  75%|█████▎ | 33/44 [01:46<00:36,  3.29s/it, acc=0.925, loss=0.0762]"
     ]
    },
    {
     "name": "stdout",
     "output_type": "stream",
     "text": [
      "Number of data items used in training: 4224\n"
     ]
    },
    {
     "name": "stderr",
     "output_type": "stream",
     "text": [
      "Epoch=2/10:  77%|██████▏ | 34/44 [01:49<00:32,  3.26s/it, acc=0.925, loss=0.163]"
     ]
    },
    {
     "name": "stdout",
     "output_type": "stream",
     "text": [
      "Number of data items used in training: 4352\n"
     ]
    },
    {
     "name": "stderr",
     "output_type": "stream",
     "text": [
      "Epoch=2/10:  80%|██████▎ | 35/44 [01:52<00:29,  3.23s/it, acc=0.926, loss=0.067]"
     ]
    },
    {
     "name": "stdout",
     "output_type": "stream",
     "text": [
      "Number of data items used in training: 4480\n"
     ]
    },
    {
     "name": "stderr",
     "output_type": "stream",
     "text": [
      "Epoch=2/10:  82%|█████▋ | 36/44 [01:56<00:25,  3.23s/it, acc=0.927, loss=0.0446]"
     ]
    },
    {
     "name": "stdout",
     "output_type": "stream",
     "text": [
      "Number of data items used in training: 4608\n"
     ]
    },
    {
     "name": "stderr",
     "output_type": "stream",
     "text": [
      "Epoch=2/10:  84%|█████▉ | 37/44 [01:59<00:22,  3.19s/it, acc=0.929, loss=0.0582]"
     ]
    },
    {
     "name": "stdout",
     "output_type": "stream",
     "text": [
      "Number of data items used in training: 4736\n"
     ]
    },
    {
     "name": "stderr",
     "output_type": "stream",
     "text": [
      "Epoch=2/10:  86%|███████▊ | 38/44 [02:02<00:18,  3.15s/it, acc=0.93, loss=0.119]"
     ]
    },
    {
     "name": "stdout",
     "output_type": "stream",
     "text": [
      "Number of data items used in training: 4864\n"
     ]
    },
    {
     "name": "stderr",
     "output_type": "stream",
     "text": [
      "Epoch=2/10:  89%|███████ | 39/44 [02:05<00:15,  3.14s/it, acc=0.931, loss=0.102]"
     ]
    },
    {
     "name": "stdout",
     "output_type": "stream",
     "text": [
      "Number of data items used in training: 4992\n"
     ]
    },
    {
     "name": "stderr",
     "output_type": "stream",
     "text": [
      "Epoch=2/10:  91%|██████▎| 40/44 [02:08<00:12,  3.15s/it, acc=0.932, loss=0.0844]"
     ]
    },
    {
     "name": "stdout",
     "output_type": "stream",
     "text": [
      "Number of data items used in training: 5120\n"
     ]
    },
    {
     "name": "stderr",
     "output_type": "stream",
     "text": [
      "Epoch=2/10:  93%|██████▌| 41/44 [02:11<00:09,  3.21s/it, acc=0.933, loss=0.0688]"
     ]
    },
    {
     "name": "stdout",
     "output_type": "stream",
     "text": [
      "Number of data items used in training: 5248\n"
     ]
    },
    {
     "name": "stderr",
     "output_type": "stream",
     "text": [
      "Epoch=2/10:  95%|███████▋| 42/44 [02:15<00:06,  3.21s/it, acc=0.933, loss=0.115]"
     ]
    },
    {
     "name": "stdout",
     "output_type": "stream",
     "text": [
      "Number of data items used in training: 5376\n"
     ]
    },
    {
     "name": "stderr",
     "output_type": "stream",
     "text": [
      "Epoch=2/10:  98%|██████▊| 43/44 [02:18<00:03,  3.18s/it, acc=0.934, loss=0.0578]"
     ]
    },
    {
     "name": "stdout",
     "output_type": "stream",
     "text": [
      "Number of data items used in training: 5504\n"
     ]
    },
    {
     "name": "stderr",
     "output_type": "stream",
     "text": [
      "Epoch=2/10: 100%|██████| 44/44 [02:19<00:00,  3.16s/it, acc=0.935, loss=0.00662]\n"
     ]
    },
    {
     "name": "stdout",
     "output_type": "stream",
     "text": [
      "Number of data items used in training: 5536\n"
     ]
    },
    {
     "name": "stderr",
     "output_type": "stream",
     "text": [
      "                                                                                \r"
     ]
    },
    {
     "name": "stdout",
     "output_type": "stream",
     "text": [
      "The current model is tested on 1384 testing data items.\n",
      "Accuracy after training this epoch in testing data is: 0.9082369942196532\n",
      "Loss after training this epoch in testing data is: 0.12947189807891846\n",
      "Starting epoch: 3\n"
     ]
    },
    {
     "name": "stderr",
     "output_type": "stream",
     "text": [
      "Epoch=3/10:   2%|▏        | 1/44 [00:08<05:50,  8.14s/it, acc=0.945, loss=0.143]"
     ]
    },
    {
     "name": "stdout",
     "output_type": "stream",
     "text": [
      "Number of data items used in training: 128\n"
     ]
    },
    {
     "name": "stderr",
     "output_type": "stream",
     "text": [
      "Epoch=3/10:   5%|▎       | 2/44 [00:11<03:45,  5.37s/it, acc=0.961, loss=0.0812]"
     ]
    },
    {
     "name": "stdout",
     "output_type": "stream",
     "text": [
      "Number of data items used in training: 256\n"
     ]
    },
    {
     "name": "stderr",
     "output_type": "stream",
     "text": [
      "Epoch=3/10:   7%|▌       | 3/44 [00:14<03:00,  4.39s/it, acc=0.964, loss=0.0473]"
     ]
    },
    {
     "name": "stdout",
     "output_type": "stream",
     "text": [
      "Number of data items used in training: 384\n"
     ]
    },
    {
     "name": "stderr",
     "output_type": "stream",
     "text": [
      "Epoch=3/10:   9%|▊        | 4/44 [00:17<02:36,  3.90s/it, acc=0.961, loss=0.106]"
     ]
    },
    {
     "name": "stdout",
     "output_type": "stream",
     "text": [
      "Number of data items used in training: 512\n"
     ]
    },
    {
     "name": "stderr",
     "output_type": "stream",
     "text": [
      "Epoch=3/10:  11%|█        | 5/44 [00:21<02:23,  3.68s/it, acc=0.959, loss=0.132]"
     ]
    },
    {
     "name": "stdout",
     "output_type": "stream",
     "text": [
      "Number of data items used in training: 640\n"
     ]
    },
    {
     "name": "stderr",
     "output_type": "stream",
     "text": [
      "Epoch=3/10:  14%|█▏       | 6/44 [00:26<02:38,  4.16s/it, acc=0.953, loss=0.195]"
     ]
    },
    {
     "name": "stdout",
     "output_type": "stream",
     "text": [
      "Number of data items used in training: 768\n"
     ]
    },
    {
     "name": "stderr",
     "output_type": "stream",
     "text": [
      "Epoch=3/10:  16%|█▎      | 7/44 [00:30<02:34,  4.19s/it, acc=0.956, loss=0.0661]"
     ]
    },
    {
     "name": "stdout",
     "output_type": "stream",
     "text": [
      "Number of data items used in training: 896\n"
     ]
    },
    {
     "name": "stderr",
     "output_type": "stream",
     "text": [
      "Epoch=3/10:  18%|█▋       | 8/44 [00:36<02:47,  4.65s/it, acc=0.96, loss=0.0685]"
     ]
    },
    {
     "name": "stdout",
     "output_type": "stream",
     "text": [
      "Number of data items used in training: 1024\n"
     ]
    },
    {
     "name": "stderr",
     "output_type": "stream",
     "text": [
      "Epoch=3/10:  20%|██▎        | 9/44 [00:40<02:37,  4.51s/it, acc=0.957, loss=0.2]"
     ]
    },
    {
     "name": "stdout",
     "output_type": "stream",
     "text": [
      "Number of data items used in training: 1152\n"
     ]
    },
    {
     "name": "stderr",
     "output_type": "stream",
     "text": [
      "Epoch=3/10:  23%|█▊      | 10/44 [00:45<02:34,  4.56s/it, acc=0.955, loss=0.177]"
     ]
    },
    {
     "name": "stdout",
     "output_type": "stream",
     "text": [
      "Number of data items used in training: 1280\n"
     ]
    },
    {
     "name": "stderr",
     "output_type": "stream",
     "text": [
      "Epoch=3/10:  25%|██      | 11/44 [00:48<02:22,  4.32s/it, acc=0.957, loss=0.104]"
     ]
    },
    {
     "name": "stdout",
     "output_type": "stream",
     "text": [
      "Number of data items used in training: 1408\n"
     ]
    },
    {
     "name": "stderr",
     "output_type": "stream",
     "text": [
      "Epoch=3/10:  27%|█▉     | 12/44 [00:51<02:05,  3.92s/it, acc=0.958, loss=0.0937]"
     ]
    },
    {
     "name": "stdout",
     "output_type": "stream",
     "text": [
      "Number of data items used in training: 1536\n"
     ]
    },
    {
     "name": "stderr",
     "output_type": "stream",
     "text": [
      "Epoch=3/10:  30%|██     | 13/44 [00:55<01:57,  3.80s/it, acc=0.959, loss=0.0881]"
     ]
    },
    {
     "name": "stdout",
     "output_type": "stream",
     "text": [
      "Number of data items used in training: 1664\n"
     ]
    },
    {
     "name": "stderr",
     "output_type": "stream",
     "text": [
      "Epoch=3/10:  32%|██▌     | 14/44 [00:58<01:49,  3.65s/it, acc=0.959, loss=0.136]"
     ]
    },
    {
     "name": "stdout",
     "output_type": "stream",
     "text": [
      "Number of data items used in training: 1792\n"
     ]
    },
    {
     "name": "stderr",
     "output_type": "stream",
     "text": [
      "Epoch=3/10:  34%|███      | 15/44 [01:01<01:41,  3.49s/it, acc=0.957, loss=0.16]"
     ]
    },
    {
     "name": "stdout",
     "output_type": "stream",
     "text": [
      "Number of data items used in training: 1920\n"
     ]
    },
    {
     "name": "stderr",
     "output_type": "stream",
     "text": [
      "Epoch=3/10:  36%|██▉     | 16/44 [01:04<01:34,  3.39s/it, acc=0.956, loss=0.154]"
     ]
    },
    {
     "name": "stdout",
     "output_type": "stream",
     "text": [
      "Number of data items used in training: 2048\n"
     ]
    },
    {
     "name": "stderr",
     "output_type": "stream",
     "text": [
      "Epoch=3/10:  39%|███     | 17/44 [01:08<01:32,  3.44s/it, acc=0.955, loss=0.145]"
     ]
    },
    {
     "name": "stdout",
     "output_type": "stream",
     "text": [
      "Number of data items used in training: 2176\n"
     ]
    },
    {
     "name": "stderr",
     "output_type": "stream",
     "text": [
      "Epoch=3/10:  41%|███▎    | 18/44 [01:11<01:26,  3.31s/it, acc=0.957, loss=0.033]"
     ]
    },
    {
     "name": "stdout",
     "output_type": "stream",
     "text": [
      "Number of data items used in training: 2304\n"
     ]
    },
    {
     "name": "stderr",
     "output_type": "stream",
     "text": [
      "Epoch=3/10:  43%|███▍    | 19/44 [01:14<01:21,  3.27s/it, acc=0.956, loss=0.128]"
     ]
    },
    {
     "name": "stdout",
     "output_type": "stream",
     "text": [
      "Number of data items used in training: 2432\n"
     ]
    },
    {
     "name": "stderr",
     "output_type": "stream",
     "text": [
      "Epoch=3/10:  45%|███▋    | 20/44 [01:17<01:18,  3.25s/it, acc=0.955, loss=0.105]"
     ]
    },
    {
     "name": "stdout",
     "output_type": "stream",
     "text": [
      "Number of data items used in training: 2560\n"
     ]
    },
    {
     "name": "stderr",
     "output_type": "stream",
     "text": [
      "Epoch=3/10:  48%|███▊    | 21/44 [01:21<01:14,  3.23s/it, acc=0.954, loss=0.131]"
     ]
    },
    {
     "name": "stdout",
     "output_type": "stream",
     "text": [
      "Number of data items used in training: 2688\n"
     ]
    },
    {
     "name": "stderr",
     "output_type": "stream",
     "text": [
      "Epoch=3/10:  50%|███▌   | 22/44 [01:24<01:13,  3.33s/it, acc=0.956, loss=0.0115]"
     ]
    },
    {
     "name": "stdout",
     "output_type": "stream",
     "text": [
      "Number of data items used in training: 2816\n"
     ]
    },
    {
     "name": "stderr",
     "output_type": "stream",
     "text": [
      "Epoch=3/10:  52%|████▋    | 23/44 [01:27<01:07,  3.22s/it, acc=0.957, loss=0.12]"
     ]
    },
    {
     "name": "stdout",
     "output_type": "stream",
     "text": [
      "Number of data items used in training: 2944\n"
     ]
    },
    {
     "name": "stderr",
     "output_type": "stream",
     "text": [
      "Epoch=3/10:  55%|███▊   | 24/44 [01:30<01:03,  3.19s/it, acc=0.957, loss=0.0619]"
     ]
    },
    {
     "name": "stdout",
     "output_type": "stream",
     "text": [
      "Number of data items used in training: 3072\n"
     ]
    },
    {
     "name": "stderr",
     "output_type": "stream",
     "text": [
      "Epoch=3/10:  57%|███▉   | 25/44 [01:33<01:00,  3.17s/it, acc=0.959, loss=0.0431]"
     ]
    },
    {
     "name": "stdout",
     "output_type": "stream",
     "text": [
      "Number of data items used in training: 3200\n"
     ]
    },
    {
     "name": "stderr",
     "output_type": "stream",
     "text": [
      "Epoch=3/10:  59%|████▏  | 26/44 [01:37<00:56,  3.16s/it, acc=0.959, loss=0.0827]"
     ]
    },
    {
     "name": "stdout",
     "output_type": "stream",
     "text": [
      "Number of data items used in training: 3328\n"
     ]
    },
    {
     "name": "stderr",
     "output_type": "stream",
     "text": [
      "Epoch=3/10:  61%|████▉   | 27/44 [01:40<00:53,  3.16s/it, acc=0.96, loss=0.0295]"
     ]
    },
    {
     "name": "stdout",
     "output_type": "stream",
     "text": [
      "Number of data items used in training: 3456\n"
     ]
    },
    {
     "name": "stderr",
     "output_type": "stream",
     "text": [
      "Epoch=3/10:  64%|████▍  | 28/44 [01:43<00:50,  3.18s/it, acc=0.961, loss=0.0595]"
     ]
    },
    {
     "name": "stdout",
     "output_type": "stream",
     "text": [
      "Number of data items used in training: 3584\n"
     ]
    },
    {
     "name": "stderr",
     "output_type": "stream",
     "text": [
      "Epoch=3/10:  66%|████▌  | 29/44 [01:46<00:46,  3.11s/it, acc=0.962, loss=0.0201]"
     ]
    },
    {
     "name": "stdout",
     "output_type": "stream",
     "text": [
      "Number of data items used in training: 3712\n"
     ]
    },
    {
     "name": "stderr",
     "output_type": "stream",
     "text": [
      "Epoch=3/10:  68%|████  | 30/44 [01:49<00:43,  3.12s/it, acc=0.963, loss=0.00494]"
     ]
    },
    {
     "name": "stdout",
     "output_type": "stream",
     "text": [
      "Number of data items used in training: 3840\n"
     ]
    },
    {
     "name": "stderr",
     "output_type": "stream",
     "text": [
      "Epoch=3/10:  70%|█████▋  | 31/44 [01:52<00:40,  3.11s/it, acc=0.964, loss=0.056]"
     ]
    },
    {
     "name": "stdout",
     "output_type": "stream",
     "text": [
      "Number of data items used in training: 3968\n"
     ]
    },
    {
     "name": "stderr",
     "output_type": "stream",
     "text": [
      "Epoch=3/10:  73%|█████  | 32/44 [01:55<00:36,  3.05s/it, acc=0.965, loss=0.0106]"
     ]
    },
    {
     "name": "stdout",
     "output_type": "stream",
     "text": [
      "Number of data items used in training: 4096\n"
     ]
    },
    {
     "name": "stderr",
     "output_type": "stream",
     "text": [
      "Epoch=3/10:  75%|██████  | 33/44 [01:58<00:34,  3.11s/it, acc=0.965, loss=0.101]"
     ]
    },
    {
     "name": "stdout",
     "output_type": "stream",
     "text": [
      "Number of data items used in training: 4224\n"
     ]
    },
    {
     "name": "stderr",
     "output_type": "stream",
     "text": [
      "Epoch=3/10:  77%|██████▏ | 34/44 [02:02<00:32,  3.21s/it, acc=0.966, loss=0.014]"
     ]
    },
    {
     "name": "stdout",
     "output_type": "stream",
     "text": [
      "Number of data items used in training: 4352\n"
     ]
    },
    {
     "name": "stderr",
     "output_type": "stream",
     "text": [
      "Epoch=3/10:  80%|█████▌ | 35/44 [02:05<00:28,  3.16s/it, acc=0.967, loss=0.0118]"
     ]
    },
    {
     "name": "stdout",
     "output_type": "stream",
     "text": [
      "Number of data items used in training: 4480\n"
     ]
    },
    {
     "name": "stderr",
     "output_type": "stream",
     "text": [
      "Epoch=3/10:  82%|█████▋ | 36/44 [02:08<00:25,  3.13s/it, acc=0.967, loss=0.0723]"
     ]
    },
    {
     "name": "stdout",
     "output_type": "stream",
     "text": [
      "Number of data items used in training: 4608\n"
     ]
    },
    {
     "name": "stderr",
     "output_type": "stream",
     "text": [
      "Epoch=3/10:  84%|█████▉ | 37/44 [02:11<00:22,  3.18s/it, acc=0.967, loss=0.0612]"
     ]
    },
    {
     "name": "stdout",
     "output_type": "stream",
     "text": [
      "Number of data items used in training: 4736\n"
     ]
    },
    {
     "name": "stderr",
     "output_type": "stream",
     "text": [
      "Epoch=3/10:  86%|██████ | 38/44 [02:14<00:19,  3.19s/it, acc=0.968, loss=0.0139]"
     ]
    },
    {
     "name": "stdout",
     "output_type": "stream",
     "text": [
      "Number of data items used in training: 4864\n"
     ]
    },
    {
     "name": "stderr",
     "output_type": "stream",
     "text": [
      "Epoch=3/10:  89%|███████ | 39/44 [02:18<00:16,  3.27s/it, acc=0.968, loss=0.127]"
     ]
    },
    {
     "name": "stdout",
     "output_type": "stream",
     "text": [
      "Number of data items used in training: 4992\n"
     ]
    },
    {
     "name": "stderr",
     "output_type": "stream",
     "text": [
      "Epoch=3/10:  91%|██████▎| 40/44 [02:21<00:12,  3.18s/it, acc=0.968, loss=0.0826]"
     ]
    },
    {
     "name": "stdout",
     "output_type": "stream",
     "text": [
      "Number of data items used in training: 5120\n"
     ]
    },
    {
     "name": "stderr",
     "output_type": "stream",
     "text": [
      "Epoch=3/10:  93%|██████▌| 41/44 [02:24<00:09,  3.16s/it, acc=0.969, loss=0.0422]"
     ]
    },
    {
     "name": "stdout",
     "output_type": "stream",
     "text": [
      "Number of data items used in training: 5248\n"
     ]
    },
    {
     "name": "stderr",
     "output_type": "stream",
     "text": [
      "Epoch=3/10:  95%|██████▋| 42/44 [02:28<00:06,  3.31s/it, acc=0.969, loss=0.0588]"
     ]
    },
    {
     "name": "stdout",
     "output_type": "stream",
     "text": [
      "Number of data items used in training: 5376\n"
     ]
    },
    {
     "name": "stderr",
     "output_type": "stream",
     "text": [
      "Epoch=3/10:  98%|██████▊| 43/44 [02:30<00:03,  3.20s/it, acc=0.969, loss=0.0367]"
     ]
    },
    {
     "name": "stdout",
     "output_type": "stream",
     "text": [
      "Number of data items used in training: 5504\n"
     ]
    },
    {
     "name": "stderr",
     "output_type": "stream",
     "text": [
      "Epoch=3/10: 100%|████████| 44/44 [02:31<00:00,  3.45s/it, acc=0.969, loss=0.163]\n"
     ]
    },
    {
     "name": "stdout",
     "output_type": "stream",
     "text": [
      "Number of data items used in training: 5536\n"
     ]
    },
    {
     "name": "stderr",
     "output_type": "stream",
     "text": [
      "                                                                                \r"
     ]
    },
    {
     "name": "stdout",
     "output_type": "stream",
     "text": [
      "The current model is tested on 1384 testing data items.\n",
      "Accuracy after training this epoch in testing data is: 0.8815028901734104\n",
      "Loss after training this epoch in testing data is: 0.26835787296295166\n",
      "Starting epoch: 4\n"
     ]
    },
    {
     "name": "stderr",
     "output_type": "stream",
     "text": [
      "Epoch=4/10:   2%|▏       | 1/44 [00:04<03:22,  4.70s/it, acc=0.992, loss=0.0432]"
     ]
    },
    {
     "name": "stdout",
     "output_type": "stream",
     "text": [
      "Number of data items used in training: 128\n"
     ]
    },
    {
     "name": "stderr",
     "output_type": "stream",
     "text": [
      "Epoch=4/10:   5%|▎       | 2/44 [00:07<02:35,  3.71s/it, acc=0.984, loss=0.0465]"
     ]
    },
    {
     "name": "stdout",
     "output_type": "stream",
     "text": [
      "Number of data items used in training: 256\n"
     ]
    },
    {
     "name": "stderr",
     "output_type": "stream",
     "text": [
      "Epoch=4/10:   7%|▋         | 3/44 [00:10<02:17,  3.37s/it, acc=0.99, loss=0.013]"
     ]
    },
    {
     "name": "stdout",
     "output_type": "stream",
     "text": [
      "Number of data items used in training: 384\n"
     ]
    },
    {
     "name": "stderr",
     "output_type": "stream",
     "text": [
      "Epoch=4/10:   9%|▉         | 4/44 [00:13<02:09,  3.23s/it, acc=0.99, loss=0.028]"
     ]
    },
    {
     "name": "stdout",
     "output_type": "stream",
     "text": [
      "Number of data items used in training: 512\n"
     ]
    },
    {
     "name": "stderr",
     "output_type": "stream",
     "text": [
      "Epoch=4/10:  11%|▉       | 5/44 [00:16<02:02,  3.13s/it, acc=0.989, loss=0.0672]"
     ]
    },
    {
     "name": "stdout",
     "output_type": "stream",
     "text": [
      "Number of data items used in training: 640\n"
     ]
    },
    {
     "name": "stderr",
     "output_type": "stream",
     "text": [
      "Epoch=4/10:  14%|█▏       | 6/44 [00:19<01:56,  3.07s/it, acc=0.99, loss=0.0219]"
     ]
    },
    {
     "name": "stdout",
     "output_type": "stream",
     "text": [
      "Number of data items used in training: 768\n"
     ]
    },
    {
     "name": "stderr",
     "output_type": "stream",
     "text": [
      "Epoch=4/10:  16%|█▎      | 7/44 [00:22<01:51,  3.03s/it, acc=0.991, loss=0.0135]"
     ]
    },
    {
     "name": "stdout",
     "output_type": "stream",
     "text": [
      "Number of data items used in training: 896\n"
     ]
    },
    {
     "name": "stderr",
     "output_type": "stream",
     "text": [
      "Epoch=4/10:  18%|█▍      | 8/44 [00:25<01:48,  3.01s/it, acc=0.991, loss=0.0425]"
     ]
    },
    {
     "name": "stdout",
     "output_type": "stream",
     "text": [
      "Number of data items used in training: 1024\n"
     ]
    },
    {
     "name": "stderr",
     "output_type": "stream",
     "text": [
      "Epoch=4/10:  20%|█▊       | 9/44 [00:28<01:44,  3.00s/it, acc=0.99, loss=0.0318]"
     ]
    },
    {
     "name": "stdout",
     "output_type": "stream",
     "text": [
      "Number of data items used in training: 1152\n"
     ]
    },
    {
     "name": "stderr",
     "output_type": "stream",
     "text": [
      "Epoch=4/10:  23%|█▌     | 10/44 [00:31<01:42,  3.03s/it, acc=0.991, loss=0.0183]"
     ]
    },
    {
     "name": "stdout",
     "output_type": "stream",
     "text": [
      "Number of data items used in training: 1280\n"
     ]
    },
    {
     "name": "stderr",
     "output_type": "stream",
     "text": [
      "Epoch=4/10:  25%|█▌    | 11/44 [00:35<01:46,  3.22s/it, acc=0.991, loss=0.00989]"
     ]
    },
    {
     "name": "stdout",
     "output_type": "stream",
     "text": [
      "Number of data items used in training: 1408\n"
     ]
    },
    {
     "name": "stderr",
     "output_type": "stream",
     "text": [
      "Epoch=4/10:  27%|█▉     | 12/44 [00:38<01:41,  3.16s/it, acc=0.992, loss=0.0283]"
     ]
    },
    {
     "name": "stdout",
     "output_type": "stream",
     "text": [
      "Number of data items used in training: 1536\n"
     ]
    },
    {
     "name": "stderr",
     "output_type": "stream",
     "text": [
      "Epoch=4/10:  30%|██     | 13/44 [00:41<01:39,  3.20s/it, acc=0.992, loss=0.0207]"
     ]
    },
    {
     "name": "stdout",
     "output_type": "stream",
     "text": [
      "Number of data items used in training: 1664\n"
     ]
    },
    {
     "name": "stderr",
     "output_type": "stream",
     "text": [
      "Epoch=4/10:  32%|██▏    | 14/44 [00:44<01:33,  3.12s/it, acc=0.992, loss=0.0393]"
     ]
    },
    {
     "name": "stdout",
     "output_type": "stream",
     "text": [
      "Number of data items used in training: 1792\n"
     ]
    },
    {
     "name": "stderr",
     "output_type": "stream",
     "text": [
      "Epoch=4/10:  34%|██    | 15/44 [00:47<01:29,  3.08s/it, acc=0.992, loss=0.00357]"
     ]
    },
    {
     "name": "stdout",
     "output_type": "stream",
     "text": [
      "Number of data items used in training: 1920\n"
     ]
    },
    {
     "name": "stderr",
     "output_type": "stream",
     "text": [
      "Epoch=4/10:  36%|██▏   | 16/44 [00:50<01:25,  3.06s/it, acc=0.993, loss=0.00467]"
     ]
    },
    {
     "name": "stdout",
     "output_type": "stream",
     "text": [
      "Number of data items used in training: 2048\n"
     ]
    },
    {
     "name": "stderr",
     "output_type": "stream",
     "text": [
      "Epoch=4/10:  39%|██▋    | 17/44 [00:54<01:26,  3.22s/it, acc=0.993, loss=0.0213]"
     ]
    },
    {
     "name": "stdout",
     "output_type": "stream",
     "text": [
      "Number of data items used in training: 2176\n"
     ]
    },
    {
     "name": "stderr",
     "output_type": "stream",
     "text": [
      "Epoch=4/10:  41%|██▍   | 18/44 [00:57<01:21,  3.13s/it, acc=0.993, loss=0.00576]"
     ]
    },
    {
     "name": "stdout",
     "output_type": "stream",
     "text": [
      "Number of data items used in training: 2304\n"
     ]
    },
    {
     "name": "stderr",
     "output_type": "stream",
     "text": [
      "Epoch=4/10:  43%|███    | 19/44 [00:59<01:17,  3.08s/it, acc=0.993, loss=0.0164]"
     ]
    },
    {
     "name": "stdout",
     "output_type": "stream",
     "text": [
      "Number of data items used in training: 2432\n"
     ]
    },
    {
     "name": "stderr",
     "output_type": "stream",
     "text": [
      "Epoch=4/10:  45%|██▋   | 20/44 [01:02<01:12,  3.04s/it, acc=0.993, loss=0.00776]"
     ]
    },
    {
     "name": "stdout",
     "output_type": "stream",
     "text": [
      "Number of data items used in training: 2560\n"
     ]
    },
    {
     "name": "stderr",
     "output_type": "stream",
     "text": [
      "Epoch=4/10:  48%|██▊   | 21/44 [01:05<01:09,  3.01s/it, acc=0.994, loss=0.00881]"
     ]
    },
    {
     "name": "stdout",
     "output_type": "stream",
     "text": [
      "Number of data items used in training: 2688\n"
     ]
    },
    {
     "name": "stderr",
     "output_type": "stream",
     "text": [
      "Epoch=4/10:  50%|████▌    | 22/44 [01:08<01:06,  3.01s/it, acc=0.992, loss=0.11]"
     ]
    },
    {
     "name": "stdout",
     "output_type": "stream",
     "text": [
      "Number of data items used in training: 2816\n"
     ]
    },
    {
     "name": "stderr",
     "output_type": "stream",
     "text": [
      "Epoch=4/10:  52%|███▋   | 23/44 [01:11<01:02,  2.99s/it, acc=0.992, loss=0.0138]"
     ]
    },
    {
     "name": "stdout",
     "output_type": "stream",
     "text": [
      "Number of data items used in training: 2944\n"
     ]
    },
    {
     "name": "stderr",
     "output_type": "stream",
     "text": [
      "Epoch=4/10:  55%|███▊   | 24/44 [01:14<00:59,  2.98s/it, acc=0.992, loss=0.0329]"
     ]
    },
    {
     "name": "stdout",
     "output_type": "stream",
     "text": [
      "Number of data items used in training: 3072\n"
     ]
    },
    {
     "name": "stderr",
     "output_type": "stream",
     "text": [
      "Epoch=4/10:  57%|███▍  | 25/44 [01:17<00:56,  2.98s/it, acc=0.993, loss=0.00218]"
     ]
    },
    {
     "name": "stdout",
     "output_type": "stream",
     "text": [
      "Number of data items used in training: 3200\n"
     ]
    },
    {
     "name": "stderr",
     "output_type": "stream",
     "text": [
      "Epoch=4/10:  59%|████▏  | 26/44 [01:20<00:53,  2.97s/it, acc=0.992, loss=0.0581]"
     ]
    },
    {
     "name": "stdout",
     "output_type": "stream",
     "text": [
      "Number of data items used in training: 3328\n"
     ]
    },
    {
     "name": "stderr",
     "output_type": "stream",
     "text": [
      "Epoch=4/10:  61%|████▉   | 27/44 [01:23<00:50,  2.96s/it, acc=0.992, loss=0.051]"
     ]
    },
    {
     "name": "stdout",
     "output_type": "stream",
     "text": [
      "Number of data items used in training: 3456\n"
     ]
    },
    {
     "name": "stderr",
     "output_type": "stream",
     "text": [
      "Epoch=4/10:  64%|████▍  | 28/44 [01:26<00:47,  2.97s/it, acc=0.992, loss=0.0139]"
     ]
    },
    {
     "name": "stdout",
     "output_type": "stream",
     "text": [
      "Number of data items used in training: 3584\n"
     ]
    },
    {
     "name": "stderr",
     "output_type": "stream",
     "text": [
      "Epoch=4/10:  66%|███▉  | 29/44 [01:29<00:46,  3.07s/it, acc=0.992, loss=0.00557]"
     ]
    },
    {
     "name": "stdout",
     "output_type": "stream",
     "text": [
      "Number of data items used in training: 3712\n"
     ]
    },
    {
     "name": "stderr",
     "output_type": "stream",
     "text": [
      "Epoch=4/10:  68%|█████▍  | 30/44 [01:32<00:42,  3.05s/it, acc=0.992, loss=0.013]"
     ]
    },
    {
     "name": "stdout",
     "output_type": "stream",
     "text": [
      "Number of data items used in training: 3840\n"
     ]
    },
    {
     "name": "stderr",
     "output_type": "stream",
     "text": [
      "Epoch=4/10:  70%|████▉  | 31/44 [01:35<00:39,  3.02s/it, acc=0.992, loss=0.0189]"
     ]
    },
    {
     "name": "stdout",
     "output_type": "stream",
     "text": [
      "Number of data items used in training: 3968\n"
     ]
    },
    {
     "name": "stderr",
     "output_type": "stream",
     "text": [
      "Epoch=4/10:  73%|█████  | 32/44 [01:38<00:35,  3.00s/it, acc=0.992, loss=0.0267]"
     ]
    },
    {
     "name": "stdout",
     "output_type": "stream",
     "text": [
      "Number of data items used in training: 4096\n"
     ]
    },
    {
     "name": "stderr",
     "output_type": "stream",
     "text": [
      "Epoch=4/10:  75%|████▌ | 33/44 [01:41<00:32,  2.98s/it, acc=0.993, loss=0.00436]"
     ]
    },
    {
     "name": "stdout",
     "output_type": "stream",
     "text": [
      "Number of data items used in training: 4224\n"
     ]
    },
    {
     "name": "stderr",
     "output_type": "stream",
     "text": [
      "Epoch=4/10:  77%|████▋ | 34/44 [01:44<00:29,  2.97s/it, acc=0.993, loss=0.00601]"
     ]
    },
    {
     "name": "stdout",
     "output_type": "stream",
     "text": [
      "Number of data items used in training: 4352\n"
     ]
    },
    {
     "name": "stderr",
     "output_type": "stream",
     "text": [
      "Epoch=4/10:  80%|█████▌ | 35/44 [01:47<00:26,  2.96s/it, acc=0.993, loss=0.0189]"
     ]
    },
    {
     "name": "stdout",
     "output_type": "stream",
     "text": [
      "Number of data items used in training: 4480\n"
     ]
    },
    {
     "name": "stderr",
     "output_type": "stream",
     "text": [
      "Epoch=4/10:  82%|█████▋ | 36/44 [01:50<00:23,  2.97s/it, acc=0.993, loss=0.0401]"
     ]
    },
    {
     "name": "stdout",
     "output_type": "stream",
     "text": [
      "Number of data items used in training: 4608\n"
     ]
    },
    {
     "name": "stderr",
     "output_type": "stream",
     "text": [
      "Epoch=4/10:  84%|█████▉ | 37/44 [01:53<00:20,  2.96s/it, acc=0.993, loss=0.0483]"
     ]
    },
    {
     "name": "stdout",
     "output_type": "stream",
     "text": [
      "Number of data items used in training: 4736\n"
     ]
    },
    {
     "name": "stderr",
     "output_type": "stream",
     "text": [
      "Epoch=4/10:  86%|██████ | 38/44 [01:56<00:17,  2.96s/it, acc=0.993, loss=0.0116]"
     ]
    },
    {
     "name": "stdout",
     "output_type": "stream",
     "text": [
      "Number of data items used in training: 4864\n"
     ]
    },
    {
     "name": "stderr",
     "output_type": "stream",
     "text": [
      "Epoch=4/10:  89%|██████▏| 39/44 [01:59<00:14,  2.95s/it, acc=0.992, loss=0.0212]"
     ]
    },
    {
     "name": "stdout",
     "output_type": "stream",
     "text": [
      "Number of data items used in training: 4992\n"
     ]
    },
    {
     "name": "stderr",
     "output_type": "stream",
     "text": [
      "Epoch=4/10:  91%|██████▎| 40/44 [02:02<00:11,  2.95s/it, acc=0.992, loss=0.0405]"
     ]
    },
    {
     "name": "stdout",
     "output_type": "stream",
     "text": [
      "Number of data items used in training: 5120\n"
     ]
    },
    {
     "name": "stderr",
     "output_type": "stream",
     "text": [
      "Epoch=4/10:  93%|██████▌| 41/44 [02:05<00:08,  2.95s/it, acc=0.992, loss=0.0355]"
     ]
    },
    {
     "name": "stdout",
     "output_type": "stream",
     "text": [
      "Number of data items used in training: 5248\n"
     ]
    },
    {
     "name": "stderr",
     "output_type": "stream",
     "text": [
      "Epoch=4/10:  95%|██████▋| 42/44 [02:08<00:05,  2.95s/it, acc=0.992, loss=0.0266]"
     ]
    },
    {
     "name": "stdout",
     "output_type": "stream",
     "text": [
      "Number of data items used in training: 5376\n"
     ]
    },
    {
     "name": "stderr",
     "output_type": "stream",
     "text": [
      "Epoch=4/10:  98%|██████▊| 43/44 [02:11<00:02,  2.95s/it, acc=0.992, loss=0.0197]"
     ]
    },
    {
     "name": "stdout",
     "output_type": "stream",
     "text": [
      "Number of data items used in training: 5504\n"
     ]
    },
    {
     "name": "stderr",
     "output_type": "stream",
     "text": [
      "Epoch=4/10: 100%|██████| 44/44 [02:12<00:00,  3.00s/it, acc=0.992, loss=0.00279]\n"
     ]
    },
    {
     "name": "stdout",
     "output_type": "stream",
     "text": [
      "Number of data items used in training: 5536\n"
     ]
    },
    {
     "name": "stderr",
     "output_type": "stream",
     "text": [
      "                                                                                \r"
     ]
    },
    {
     "name": "stdout",
     "output_type": "stream",
     "text": [
      "The current model is tested on 1384 testing data items.\n",
      "Accuracy after training this epoch in testing data is: 0.8901734104046243\n",
      "Loss after training this epoch in testing data is: 0.2596048414707184\n",
      "Starting epoch: 5\n"
     ]
    },
    {
     "name": "stderr",
     "output_type": "stream",
     "text": [
      "Epoch=5/10:   2%|▏       | 1/44 [00:06<04:42,  6.56s/it, acc=0.992, loss=0.0277]"
     ]
    },
    {
     "name": "stdout",
     "output_type": "stream",
     "text": [
      "Number of data items used in training: 128\n"
     ]
    },
    {
     "name": "stderr",
     "output_type": "stream",
     "text": [
      "Epoch=5/10:   5%|▎      | 2/44 [00:10<03:29,  4.98s/it, acc=0.996, loss=0.00561]"
     ]
    },
    {
     "name": "stdout",
     "output_type": "stream",
     "text": [
      "Number of data items used in training: 256\n"
     ]
    },
    {
     "name": "stderr",
     "output_type": "stream",
     "text": [
      "Epoch=5/10:   7%|▌       | 3/44 [00:13<02:46,  4.06s/it, acc=0.995, loss=0.0233]"
     ]
    },
    {
     "name": "stdout",
     "output_type": "stream",
     "text": [
      "Number of data items used in training: 384\n"
     ]
    },
    {
     "name": "stderr",
     "output_type": "stream",
     "text": [
      "Epoch=5/10:   9%|▋      | 4/44 [00:16<02:26,  3.65s/it, acc=0.996, loss=0.00512]"
     ]
    },
    {
     "name": "stdout",
     "output_type": "stream",
     "text": [
      "Number of data items used in training: 512\n"
     ]
    },
    {
     "name": "stderr",
     "output_type": "stream",
     "text": [
      "Epoch=5/10:  11%|▉       | 5/44 [00:19<02:14,  3.44s/it, acc=0.994, loss=0.0225]"
     ]
    },
    {
     "name": "stdout",
     "output_type": "stream",
     "text": [
      "Number of data items used in training: 640\n"
     ]
    },
    {
     "name": "stderr",
     "output_type": "stream",
     "text": [
      "Epoch=5/10:  14%|█       | 6/44 [00:22<02:05,  3.31s/it, acc=0.993, loss=0.0111]"
     ]
    },
    {
     "name": "stdout",
     "output_type": "stream",
     "text": [
      "Number of data items used in training: 768\n"
     ]
    },
    {
     "name": "stderr",
     "output_type": "stream",
     "text": [
      "Epoch=5/10:  16%|█      | 7/44 [00:25<01:58,  3.20s/it, acc=0.994, loss=0.00272]"
     ]
    },
    {
     "name": "stdout",
     "output_type": "stream",
     "text": [
      "Number of data items used in training: 896\n"
     ]
    },
    {
     "name": "stderr",
     "output_type": "stream",
     "text": [
      "Epoch=5/10:  18%|█▎     | 8/44 [00:28<01:52,  3.13s/it, acc=0.995, loss=0.00525]"
     ]
    },
    {
     "name": "stdout",
     "output_type": "stream",
     "text": [
      "Number of data items used in training: 1024\n"
     ]
    },
    {
     "name": "stderr",
     "output_type": "stream",
     "text": [
      "Epoch=5/10:  20%|█▍     | 9/44 [00:31<01:49,  3.14s/it, acc=0.996, loss=0.00243]"
     ]
    },
    {
     "name": "stdout",
     "output_type": "stream",
     "text": [
      "Number of data items used in training: 1152\n"
     ]
    },
    {
     "name": "stderr",
     "output_type": "stream",
     "text": [
      "Epoch=5/10:  23%|█▌     | 10/44 [00:34<01:44,  3.08s/it, acc=0.995, loss=0.0169]"
     ]
    },
    {
     "name": "stdout",
     "output_type": "stream",
     "text": [
      "Number of data items used in training: 1280\n"
     ]
    },
    {
     "name": "stderr",
     "output_type": "stream",
     "text": [
      "Epoch=5/10:  25%|█▊     | 11/44 [00:37<01:40,  3.05s/it, acc=0.995, loss=0.0176]"
     ]
    },
    {
     "name": "stdout",
     "output_type": "stream",
     "text": [
      "Number of data items used in training: 1408\n"
     ]
    },
    {
     "name": "stderr",
     "output_type": "stream",
     "text": [
      "Epoch=5/10:  27%|█▉     | 12/44 [00:40<01:36,  3.02s/it, acc=0.995, loss=0.0103]"
     ]
    },
    {
     "name": "stdout",
     "output_type": "stream",
     "text": [
      "Number of data items used in training: 1536\n"
     ]
    },
    {
     "name": "stderr",
     "output_type": "stream",
     "text": [
      "Epoch=5/10:  30%|██     | 13/44 [00:43<01:32,  2.99s/it, acc=0.995, loss=0.0579]"
     ]
    },
    {
     "name": "stdout",
     "output_type": "stream",
     "text": [
      "Number of data items used in training: 1664\n"
     ]
    },
    {
     "name": "stderr",
     "output_type": "stream",
     "text": [
      "Epoch=5/10:  32%|██▌     | 14/44 [00:46<01:30,  3.01s/it, acc=0.995, loss=0.011]"
     ]
    },
    {
     "name": "stdout",
     "output_type": "stream",
     "text": [
      "Number of data items used in training: 1792\n"
     ]
    },
    {
     "name": "stderr",
     "output_type": "stream",
     "text": [
      "Epoch=5/10:  34%|██    | 15/44 [00:49<01:28,  3.05s/it, acc=0.995, loss=0.00319]"
     ]
    },
    {
     "name": "stdout",
     "output_type": "stream",
     "text": [
      "Number of data items used in training: 1920\n"
     ]
    },
    {
     "name": "stderr",
     "output_type": "stream",
     "text": [
      "Epoch=5/10:  36%|██▌    | 16/44 [00:52<01:25,  3.05s/it, acc=0.996, loss=0.0037]"
     ]
    },
    {
     "name": "stdout",
     "output_type": "stream",
     "text": [
      "Number of data items used in training: 2048\n"
     ]
    },
    {
     "name": "stderr",
     "output_type": "stream",
     "text": [
      "Epoch=5/10:  39%|██▋    | 17/44 [00:55<01:22,  3.04s/it, acc=0.995, loss=0.0233]"
     ]
    },
    {
     "name": "stdout",
     "output_type": "stream",
     "text": [
      "Number of data items used in training: 2176\n"
     ]
    },
    {
     "name": "stderr",
     "output_type": "stream",
     "text": [
      "Epoch=5/10:  41%|██▊    | 18/44 [00:58<01:19,  3.05s/it, acc=0.994, loss=0.0431]"
     ]
    },
    {
     "name": "stdout",
     "output_type": "stream",
     "text": [
      "Number of data items used in training: 2304\n"
     ]
    },
    {
     "name": "stderr",
     "output_type": "stream",
     "text": [
      "Epoch=5/10:  43%|██▌   | 19/44 [01:01<01:17,  3.08s/it, acc=0.995, loss=0.00205]"
     ]
    },
    {
     "name": "stdout",
     "output_type": "stream",
     "text": [
      "Number of data items used in training: 2432\n"
     ]
    },
    {
     "name": "stderr",
     "output_type": "stream",
     "text": [
      "Epoch=5/10:  45%|██▋   | 20/44 [01:05<01:14,  3.12s/it, acc=0.995, loss=0.00294]"
     ]
    },
    {
     "name": "stdout",
     "output_type": "stream",
     "text": [
      "Number of data items used in training: 2560\n"
     ]
    },
    {
     "name": "stderr",
     "output_type": "stream",
     "text": [
      "Epoch=5/10:  48%|███▎   | 21/44 [01:08<01:10,  3.07s/it, acc=0.995, loss=0.0345]"
     ]
    },
    {
     "name": "stdout",
     "output_type": "stream",
     "text": [
      "Number of data items used in training: 2688\n"
     ]
    },
    {
     "name": "stderr",
     "output_type": "stream",
     "text": [
      "Epoch=5/10:  50%|████    | 22/44 [01:11<01:06,  3.03s/it, acc=0.995, loss=0.049]"
     ]
    },
    {
     "name": "stdout",
     "output_type": "stream",
     "text": [
      "Number of data items used in training: 2816\n"
     ]
    },
    {
     "name": "stderr",
     "output_type": "stream",
     "text": [
      "Epoch=5/10:  52%|███▏  | 23/44 [01:13<01:03,  3.00s/it, acc=0.995, loss=0.00372]"
     ]
    },
    {
     "name": "stdout",
     "output_type": "stream",
     "text": [
      "Number of data items used in training: 2944\n"
     ]
    },
    {
     "name": "stderr",
     "output_type": "stream",
     "text": [
      "Epoch=5/10:  55%|███▎  | 24/44 [01:16<00:59,  2.98s/it, acc=0.995, loss=0.00282]"
     ]
    },
    {
     "name": "stdout",
     "output_type": "stream",
     "text": [
      "Number of data items used in training: 3072\n"
     ]
    },
    {
     "name": "stderr",
     "output_type": "stream",
     "text": [
      "Epoch=5/10:  57%|███▉   | 25/44 [01:19<00:56,  2.96s/it, acc=0.995, loss=0.0122]"
     ]
    },
    {
     "name": "stdout",
     "output_type": "stream",
     "text": [
      "Number of data items used in training: 3200\n"
     ]
    },
    {
     "name": "stderr",
     "output_type": "stream",
     "text": [
      "Epoch=5/10:  59%|████▏  | 26/44 [01:22<00:53,  2.99s/it, acc=0.995, loss=0.0103]"
     ]
    },
    {
     "name": "stdout",
     "output_type": "stream",
     "text": [
      "Number of data items used in training: 3328\n"
     ]
    },
    {
     "name": "stderr",
     "output_type": "stream",
     "text": [
      "Epoch=5/10:  61%|███▋  | 27/44 [01:26<00:52,  3.07s/it, acc=0.995, loss=0.00646]"
     ]
    },
    {
     "name": "stdout",
     "output_type": "stream",
     "text": [
      "Number of data items used in training: 3456\n"
     ]
    },
    {
     "name": "stderr",
     "output_type": "stream",
     "text": [
      "Epoch=5/10:  64%|█████   | 28/44 [01:29<00:48,  3.03s/it, acc=0.995, loss=0.011]"
     ]
    },
    {
     "name": "stdout",
     "output_type": "stream",
     "text": [
      "Number of data items used in training: 3584\n"
     ]
    },
    {
     "name": "stderr",
     "output_type": "stream",
     "text": [
      "Epoch=5/10:  66%|█████▎  | 29/44 [01:32<00:44,  3.00s/it, acc=0.995, loss=0.006]"
     ]
    },
    {
     "name": "stdout",
     "output_type": "stream",
     "text": [
      "Number of data items used in training: 3712\n"
     ]
    },
    {
     "name": "stderr",
     "output_type": "stream",
     "text": [
      "Epoch=5/10:  68%|████▊  | 30/44 [01:34<00:41,  2.97s/it, acc=0.995, loss=0.0055]"
     ]
    },
    {
     "name": "stdout",
     "output_type": "stream",
     "text": [
      "Number of data items used in training: 3840\n"
     ]
    },
    {
     "name": "stderr",
     "output_type": "stream",
     "text": [
      "Epoch=5/10:  70%|████▏ | 31/44 [01:37<00:38,  2.96s/it, acc=0.995, loss=0.00319]"
     ]
    },
    {
     "name": "stdout",
     "output_type": "stream",
     "text": [
      "Number of data items used in training: 3968\n"
     ]
    },
    {
     "name": "stderr",
     "output_type": "stream",
     "text": [
      "Epoch=5/10:  73%|█████  | 32/44 [01:40<00:35,  2.95s/it, acc=0.996, loss=0.0065]"
     ]
    },
    {
     "name": "stdout",
     "output_type": "stream",
     "text": [
      "Number of data items used in training: 4096\n"
     ]
    },
    {
     "name": "stderr",
     "output_type": "stream",
     "text": [
      "Epoch=5/10:  75%|████▌ | 33/44 [01:43<00:32,  2.98s/it, acc=0.996, loss=0.00229]"
     ]
    },
    {
     "name": "stdout",
     "output_type": "stream",
     "text": [
      "Number of data items used in training: 4224\n"
     ]
    },
    {
     "name": "stderr",
     "output_type": "stream",
     "text": [
      "Epoch=5/10:  77%|██████▏ | 34/44 [01:46<00:29,  2.98s/it, acc=0.996, loss=0.026]"
     ]
    },
    {
     "name": "stdout",
     "output_type": "stream",
     "text": [
      "Number of data items used in training: 4352\n"
     ]
    },
    {
     "name": "stderr",
     "output_type": "stream",
     "text": [
      "Epoch=5/10:  80%|████▊ | 35/44 [01:49<00:27,  3.00s/it, acc=0.996, loss=0.00236]"
     ]
    },
    {
     "name": "stdout",
     "output_type": "stream",
     "text": [
      "Number of data items used in training: 4480\n"
     ]
    },
    {
     "name": "stderr",
     "output_type": "stream",
     "text": [
      "Epoch=5/10:  82%|██████▌ | 36/44 [01:52<00:24,  3.03s/it, acc=0.996, loss=0.013]"
     ]
    },
    {
     "name": "stdout",
     "output_type": "stream",
     "text": [
      "Number of data items used in training: 4608\n"
     ]
    },
    {
     "name": "stderr",
     "output_type": "stream",
     "text": [
      "Epoch=5/10:  84%|████▏| 37/44 [01:56<00:22,  3.15s/it, acc=0.996, loss=0.000857]"
     ]
    },
    {
     "name": "stdout",
     "output_type": "stream",
     "text": [
      "Number of data items used in training: 4736\n"
     ]
    },
    {
     "name": "stderr",
     "output_type": "stream",
     "text": [
      "Epoch=5/10:  86%|█████▏| 38/44 [01:59<00:18,  3.14s/it, acc=0.996, loss=0.00204]"
     ]
    },
    {
     "name": "stdout",
     "output_type": "stream",
     "text": [
      "Number of data items used in training: 4864\n"
     ]
    },
    {
     "name": "stderr",
     "output_type": "stream",
     "text": [
      "Epoch=5/10:  89%|█████▎| 39/44 [02:02<00:15,  3.09s/it, acc=0.996, loss=0.00545]"
     ]
    },
    {
     "name": "stdout",
     "output_type": "stream",
     "text": [
      "Number of data items used in training: 4992\n"
     ]
    },
    {
     "name": "stderr",
     "output_type": "stream",
     "text": [
      "Epoch=5/10:  91%|██████▎| 40/44 [02:05<00:12,  3.08s/it, acc=0.996, loss=0.0506]"
     ]
    },
    {
     "name": "stdout",
     "output_type": "stream",
     "text": [
      "Number of data items used in training: 5120\n"
     ]
    },
    {
     "name": "stderr",
     "output_type": "stream",
     "text": [
      "Epoch=5/10:  93%|███████▍| 41/44 [02:08<00:09,  3.08s/it, acc=0.996, loss=0.038]"
     ]
    },
    {
     "name": "stdout",
     "output_type": "stream",
     "text": [
      "Number of data items used in training: 5248\n"
     ]
    },
    {
     "name": "stderr",
     "output_type": "stream",
     "text": [
      "Epoch=5/10:  95%|██████▋| 42/44 [02:11<00:06,  3.04s/it, acc=0.996, loss=0.0543]"
     ]
    },
    {
     "name": "stdout",
     "output_type": "stream",
     "text": [
      "Number of data items used in training: 5376\n"
     ]
    },
    {
     "name": "stderr",
     "output_type": "stream",
     "text": [
      "Epoch=5/10:  98%|██████▊| 43/44 [02:14<00:03,  3.13s/it, acc=0.995, loss=0.0228]"
     ]
    },
    {
     "name": "stdout",
     "output_type": "stream",
     "text": [
      "Number of data items used in training: 5504\n"
     ]
    },
    {
     "name": "stderr",
     "output_type": "stream",
     "text": [
      "Epoch=5/10: 100%|█████| 44/44 [02:15<00:00,  3.09s/it, acc=0.995, loss=0.000485]\n"
     ]
    },
    {
     "name": "stdout",
     "output_type": "stream",
     "text": [
      "Number of data items used in training: 5536\n"
     ]
    },
    {
     "name": "stderr",
     "output_type": "stream",
     "text": [
      "                                                                                \r"
     ]
    },
    {
     "name": "stdout",
     "output_type": "stream",
     "text": [
      "The current model is tested on 1384 testing data items.\n",
      "Accuracy after training this epoch in testing data is: 0.875\n",
      "Loss after training this epoch in testing data is: 0.4583416283130646\n",
      "Starting epoch: 6\n"
     ]
    },
    {
     "name": "stderr",
     "output_type": "stream",
     "text": [
      "Epoch=6/10:   2%|▏       | 1/44 [00:07<05:22,  7.50s/it, acc=0.984, loss=0.0411]"
     ]
    },
    {
     "name": "stdout",
     "output_type": "stream",
     "text": [
      "Number of data items used in training: 128\n"
     ]
    },
    {
     "name": "stderr",
     "output_type": "stream",
     "text": [
      "Epoch=6/10:   5%|▎       | 2/44 [00:11<03:49,  5.48s/it, acc=0.984, loss=0.0734]"
     ]
    },
    {
     "name": "stdout",
     "output_type": "stream",
     "text": [
      "Number of data items used in training: 256\n"
     ]
    },
    {
     "name": "stderr",
     "output_type": "stream",
     "text": [
      "Epoch=6/10:   7%|▌        | 3/44 [00:14<02:57,  4.33s/it, acc=0.979, loss=0.104]"
     ]
    },
    {
     "name": "stdout",
     "output_type": "stream",
     "text": [
      "Number of data items used in training: 384\n"
     ]
    },
    {
     "name": "stderr",
     "output_type": "stream",
     "text": [
      "Epoch=6/10:   9%|▊        | 4/44 [00:17<02:32,  3.82s/it, acc=0.98, loss=0.0584]"
     ]
    },
    {
     "name": "stdout",
     "output_type": "stream",
     "text": [
      "Number of data items used in training: 512\n"
     ]
    },
    {
     "name": "stderr",
     "output_type": "stream",
     "text": [
      "Epoch=6/10:  11%|▉       | 5/44 [00:20<02:17,  3.53s/it, acc=0.981, loss=0.0351]"
     ]
    },
    {
     "name": "stdout",
     "output_type": "stream",
     "text": [
      "Number of data items used in training: 640\n"
     ]
    },
    {
     "name": "stderr",
     "output_type": "stream",
     "text": [
      "Epoch=6/10:  14%|█       | 6/44 [00:23<02:07,  3.37s/it, acc=0.983, loss=0.0116]"
     ]
    },
    {
     "name": "stdout",
     "output_type": "stream",
     "text": [
      "Number of data items used in training: 768\n"
     ]
    },
    {
     "name": "stderr",
     "output_type": "stream",
     "text": [
      "Epoch=6/10:  16%|█▍       | 7/44 [00:26<02:00,  3.26s/it, acc=0.984, loss=0.039]"
     ]
    },
    {
     "name": "stdout",
     "output_type": "stream",
     "text": [
      "Number of data items used in training: 896\n"
     ]
    },
    {
     "name": "stderr",
     "output_type": "stream",
     "text": [
      "Epoch=6/10:  18%|█▍      | 8/44 [00:29<01:54,  3.18s/it, acc=0.983, loss=0.0498]"
     ]
    },
    {
     "name": "stdout",
     "output_type": "stream",
     "text": [
      "Number of data items used in training: 1024\n"
     ]
    },
    {
     "name": "stderr",
     "output_type": "stream",
     "text": [
      "Epoch=6/10:  20%|█▋      | 9/44 [00:32<01:49,  3.13s/it, acc=0.984, loss=0.0373]"
     ]
    },
    {
     "name": "stdout",
     "output_type": "stream",
     "text": [
      "Number of data items used in training: 1152\n"
     ]
    },
    {
     "name": "stderr",
     "output_type": "stream",
     "text": [
      "Epoch=6/10:  23%|█▌     | 10/44 [00:35<01:45,  3.11s/it, acc=0.984, loss=0.0269]"
     ]
    },
    {
     "name": "stdout",
     "output_type": "stream",
     "text": [
      "Number of data items used in training: 1280\n"
     ]
    },
    {
     "name": "stderr",
     "output_type": "stream",
     "text": [
      "Epoch=6/10:  25%|█▊     | 11/44 [00:38<01:41,  3.08s/it, acc=0.986, loss=0.0115]"
     ]
    },
    {
     "name": "stdout",
     "output_type": "stream",
     "text": [
      "Number of data items used in training: 1408\n"
     ]
    },
    {
     "name": "stderr",
     "output_type": "stream",
     "text": [
      "Epoch=6/10:  27%|█▉     | 12/44 [00:41<01:37,  3.05s/it, acc=0.987, loss=0.0152]"
     ]
    },
    {
     "name": "stdout",
     "output_type": "stream",
     "text": [
      "Number of data items used in training: 1536\n"
     ]
    },
    {
     "name": "stderr",
     "output_type": "stream",
     "text": [
      "Epoch=6/10:  30%|██     | 13/44 [00:44<01:34,  3.06s/it, acc=0.988, loss=0.0133]"
     ]
    },
    {
     "name": "stdout",
     "output_type": "stream",
     "text": [
      "Number of data items used in training: 1664\n"
     ]
    },
    {
     "name": "stderr",
     "output_type": "stream",
     "text": [
      "Epoch=6/10:  32%|█▉    | 14/44 [00:47<01:31,  3.06s/it, acc=0.989, loss=0.00799]"
     ]
    },
    {
     "name": "stdout",
     "output_type": "stream",
     "text": [
      "Number of data items used in training: 1792\n"
     ]
    },
    {
     "name": "stderr",
     "output_type": "stream",
     "text": [
      "Epoch=6/10:  34%|██▍    | 15/44 [00:50<01:28,  3.06s/it, acc=0.989, loss=0.0332]"
     ]
    },
    {
     "name": "stdout",
     "output_type": "stream",
     "text": [
      "Number of data items used in training: 1920\n"
     ]
    },
    {
     "name": "stderr",
     "output_type": "stream",
     "text": [
      "Epoch=6/10:  36%|██▌    | 16/44 [00:53<01:25,  3.05s/it, acc=0.989, loss=0.0452]"
     ]
    },
    {
     "name": "stdout",
     "output_type": "stream",
     "text": [
      "Number of data items used in training: 2048\n"
     ]
    },
    {
     "name": "stderr",
     "output_type": "stream",
     "text": [
      "Epoch=6/10:  39%|██▋    | 17/44 [00:57<01:22,  3.04s/it, acc=0.989, loss=0.0221]"
     ]
    },
    {
     "name": "stdout",
     "output_type": "stream",
     "text": [
      "Number of data items used in training: 2176\n"
     ]
    },
    {
     "name": "stderr",
     "output_type": "stream",
     "text": [
      "Epoch=6/10:  41%|██▊    | 18/44 [01:00<01:18,  3.04s/it, acc=0.99, loss=0.00786]"
     ]
    },
    {
     "name": "stdout",
     "output_type": "stream",
     "text": [
      "Number of data items used in training: 2304\n"
     ]
    },
    {
     "name": "stderr",
     "output_type": "stream",
     "text": [
      "Epoch=6/10:  43%|███    | 19/44 [01:03<01:16,  3.05s/it, acc=0.99, loss=0.00864]"
     ]
    },
    {
     "name": "stdout",
     "output_type": "stream",
     "text": [
      "Number of data items used in training: 2432\n"
     ]
    },
    {
     "name": "stderr",
     "output_type": "stream",
     "text": [
      "Epoch=6/10:  45%|██▋   | 20/44 [01:06<01:13,  3.04s/it, acc=0.991, loss=0.00223]"
     ]
    },
    {
     "name": "stdout",
     "output_type": "stream",
     "text": [
      "Number of data items used in training: 2560\n"
     ]
    },
    {
     "name": "stderr",
     "output_type": "stream",
     "text": [
      "Epoch=6/10:  48%|██▊   | 21/44 [01:09<01:09,  3.03s/it, acc=0.991, loss=0.00293]"
     ]
    },
    {
     "name": "stdout",
     "output_type": "stream",
     "text": [
      "Number of data items used in training: 2688\n"
     ]
    },
    {
     "name": "stderr",
     "output_type": "stream",
     "text": [
      "Epoch=6/10:  50%|███   | 22/44 [01:12<01:06,  3.04s/it, acc=0.991, loss=0.00416]"
     ]
    },
    {
     "name": "stdout",
     "output_type": "stream",
     "text": [
      "Number of data items used in training: 2816\n"
     ]
    },
    {
     "name": "stderr",
     "output_type": "stream",
     "text": [
      "Epoch=6/10:  52%|███▋   | 23/44 [01:15<01:03,  3.05s/it, acc=0.991, loss=0.0553]"
     ]
    },
    {
     "name": "stdout",
     "output_type": "stream",
     "text": [
      "Number of data items used in training: 2944\n"
     ]
    },
    {
     "name": "stderr",
     "output_type": "stream",
     "text": [
      "Epoch=6/10:  55%|███▊   | 24/44 [01:18<01:02,  3.13s/it, acc=0.991, loss=0.0414]"
     ]
    },
    {
     "name": "stdout",
     "output_type": "stream",
     "text": [
      "Number of data items used in training: 3072\n"
     ]
    },
    {
     "name": "stderr",
     "output_type": "stream",
     "text": [
      "Epoch=6/10:  57%|███▍  | 25/44 [01:21<00:58,  3.10s/it, acc=0.991, loss=0.00685]"
     ]
    },
    {
     "name": "stdout",
     "output_type": "stream",
     "text": [
      "Number of data items used in training: 3200\n"
     ]
    },
    {
     "name": "stderr",
     "output_type": "stream",
     "text": [
      "Epoch=6/10:  59%|████▏  | 26/44 [01:24<00:55,  3.10s/it, acc=0.991, loss=0.0389]"
     ]
    },
    {
     "name": "stdout",
     "output_type": "stream",
     "text": [
      "Number of data items used in training: 3328\n"
     ]
    },
    {
     "name": "stderr",
     "output_type": "stream",
     "text": [
      "Epoch=6/10:  61%|████▎  | 27/44 [01:27<00:52,  3.08s/it, acc=0.991, loss=0.0352]"
     ]
    },
    {
     "name": "stdout",
     "output_type": "stream",
     "text": [
      "Number of data items used in training: 3456\n"
     ]
    },
    {
     "name": "stderr",
     "output_type": "stream",
     "text": [
      "Epoch=6/10:  64%|███▊  | 28/44 [01:30<00:49,  3.09s/it, acc=0.991, loss=0.00769]"
     ]
    },
    {
     "name": "stdout",
     "output_type": "stream",
     "text": [
      "Number of data items used in training: 3584\n"
     ]
    },
    {
     "name": "stderr",
     "output_type": "stream",
     "text": [
      "Epoch=6/10:  66%|███▉  | 29/44 [01:34<00:46,  3.13s/it, acc=0.991, loss=0.00869]"
     ]
    },
    {
     "name": "stdout",
     "output_type": "stream",
     "text": [
      "Number of data items used in training: 3712\n"
     ]
    },
    {
     "name": "stderr",
     "output_type": "stream",
     "text": [
      "Epoch=6/10:  68%|████  | 30/44 [01:37<00:46,  3.36s/it, acc=0.992, loss=0.00467]"
     ]
    },
    {
     "name": "stdout",
     "output_type": "stream",
     "text": [
      "Number of data items used in training: 3840\n"
     ]
    },
    {
     "name": "stderr",
     "output_type": "stream",
     "text": [
      "Epoch=6/10:  70%|████▉  | 31/44 [01:41<00:42,  3.26s/it, acc=0.991, loss=0.0655]"
     ]
    },
    {
     "name": "stdout",
     "output_type": "stream",
     "text": [
      "Number of data items used in training: 3968\n"
     ]
    },
    {
     "name": "stderr",
     "output_type": "stream",
     "text": [
      "Epoch=6/10:  73%|████▎ | 32/44 [01:43<00:37,  3.16s/it, acc=0.991, loss=0.00738]"
     ]
    },
    {
     "name": "stdout",
     "output_type": "stream",
     "text": [
      "Number of data items used in training: 4096\n"
     ]
    },
    {
     "name": "stderr",
     "output_type": "stream",
     "text": [
      "Epoch=6/10:  75%|████▌ | 33/44 [01:46<00:34,  3.12s/it, acc=0.992, loss=0.00403]"
     ]
    },
    {
     "name": "stdout",
     "output_type": "stream",
     "text": [
      "Number of data items used in training: 4224\n"
     ]
    },
    {
     "name": "stderr",
     "output_type": "stream",
     "text": [
      "Epoch=6/10:  77%|█████▍ | 34/44 [01:49<00:30,  3.09s/it, acc=0.991, loss=0.0342]"
     ]
    },
    {
     "name": "stdout",
     "output_type": "stream",
     "text": [
      "Number of data items used in training: 4352\n"
     ]
    },
    {
     "name": "stderr",
     "output_type": "stream",
     "text": [
      "Epoch=6/10:  80%|█████▌ | 35/44 [01:52<00:27,  3.05s/it, acc=0.992, loss=0.0075]"
     ]
    },
    {
     "name": "stdout",
     "output_type": "stream",
     "text": [
      "Number of data items used in training: 4480\n"
     ]
    },
    {
     "name": "stderr",
     "output_type": "stream",
     "text": [
      "Epoch=6/10:  82%|█████▋ | 36/44 [01:56<00:26,  3.27s/it, acc=0.991, loss=0.0563]"
     ]
    },
    {
     "name": "stdout",
     "output_type": "stream",
     "text": [
      "Number of data items used in training: 4608\n"
     ]
    },
    {
     "name": "stderr",
     "output_type": "stream",
     "text": [
      "Epoch=6/10:  84%|█████▉ | 37/44 [01:59<00:22,  3.21s/it, acc=0.991, loss=0.0113]"
     ]
    },
    {
     "name": "stdout",
     "output_type": "stream",
     "text": [
      "Number of data items used in training: 4736\n"
     ]
    },
    {
     "name": "stderr",
     "output_type": "stream",
     "text": [
      "Epoch=6/10:  86%|██████ | 38/44 [02:03<00:19,  3.26s/it, acc=0.991, loss=0.0154]"
     ]
    },
    {
     "name": "stdout",
     "output_type": "stream",
     "text": [
      "Number of data items used in training: 4864\n"
     ]
    },
    {
     "name": "stderr",
     "output_type": "stream",
     "text": [
      "Epoch=6/10:  89%|█████▎| 39/44 [02:06<00:16,  3.37s/it, acc=0.992, loss=0.00909]"
     ]
    },
    {
     "name": "stdout",
     "output_type": "stream",
     "text": [
      "Number of data items used in training: 4992\n"
     ]
    },
    {
     "name": "stderr",
     "output_type": "stream",
     "text": [
      "Epoch=6/10:  91%|██████▎| 40/44 [02:09<00:12,  3.24s/it, acc=0.992, loss=0.0182]"
     ]
    },
    {
     "name": "stdout",
     "output_type": "stream",
     "text": [
      "Number of data items used in training: 5120\n"
     ]
    },
    {
     "name": "stderr",
     "output_type": "stream",
     "text": [
      "Epoch=6/10:  93%|██████▌| 41/44 [02:12<00:09,  3.20s/it, acc=0.992, loss=0.0206]"
     ]
    },
    {
     "name": "stdout",
     "output_type": "stream",
     "text": [
      "Number of data items used in training: 5248\n"
     ]
    },
    {
     "name": "stderr",
     "output_type": "stream",
     "text": [
      "Epoch=6/10:  95%|██████▋| 42/44 [02:15<00:06,  3.18s/it, acc=0.992, loss=0.0167]"
     ]
    },
    {
     "name": "stdout",
     "output_type": "stream",
     "text": [
      "Number of data items used in training: 5376\n"
     ]
    },
    {
     "name": "stderr",
     "output_type": "stream",
     "text": [
      "Epoch=6/10:  98%|█████▊| 43/44 [02:19<00:03,  3.20s/it, acc=0.992, loss=0.00692]"
     ]
    },
    {
     "name": "stdout",
     "output_type": "stream",
     "text": [
      "Number of data items used in training: 5504\n"
     ]
    },
    {
     "name": "stderr",
     "output_type": "stream",
     "text": [
      "Epoch=6/10: 100%|█████| 44/44 [02:20<00:00,  3.19s/it, acc=0.992, loss=0.000502]\n"
     ]
    },
    {
     "name": "stdout",
     "output_type": "stream",
     "text": [
      "Number of data items used in training: 5536\n"
     ]
    },
    {
     "name": "stderr",
     "output_type": "stream",
     "text": [
      "                                                                                \r"
     ]
    },
    {
     "name": "stdout",
     "output_type": "stream",
     "text": [
      "The current model is tested on 1384 testing data items.\n",
      "Accuracy after training this epoch in testing data is: 0.8894508670520231\n",
      "Loss after training this epoch in testing data is: 0.2704946994781494\n",
      "Starting epoch: 7\n"
     ]
    },
    {
     "name": "stderr",
     "output_type": "stream",
     "text": [
      "Epoch=7/10:   2%|▏       | 1/44 [00:03<02:36,  3.63s/it, acc=0.992, loss=0.0269]"
     ]
    },
    {
     "name": "stdout",
     "output_type": "stream",
     "text": [
      "Number of data items used in training: 128\n"
     ]
    },
    {
     "name": "stderr",
     "output_type": "stream",
     "text": [
      "Epoch=7/10:   5%|▎      | 2/44 [00:06<02:15,  3.22s/it, acc=0.996, loss=0.00516]"
     ]
    },
    {
     "name": "stdout",
     "output_type": "stream",
     "text": [
      "Number of data items used in training: 256\n"
     ]
    },
    {
     "name": "stderr",
     "output_type": "stream",
     "text": [
      "Epoch=7/10:   7%|▍      | 3/44 [00:09<02:08,  3.13s/it, acc=0.997, loss=0.00962]"
     ]
    },
    {
     "name": "stdout",
     "output_type": "stream",
     "text": [
      "Number of data items used in training: 384\n"
     ]
    },
    {
     "name": "stderr",
     "output_type": "stream",
     "text": [
      "Epoch=7/10:   9%|▋       | 4/44 [00:12<02:02,  3.07s/it, acc=0.996, loss=0.0372]"
     ]
    },
    {
     "name": "stdout",
     "output_type": "stream",
     "text": [
      "Number of data items used in training: 512\n"
     ]
    },
    {
     "name": "stderr",
     "output_type": "stream",
     "text": [
      "Epoch=7/10:  11%|▉       | 5/44 [00:15<01:57,  3.02s/it, acc=0.992, loss=0.0486]"
     ]
    },
    {
     "name": "stdout",
     "output_type": "stream",
     "text": [
      "Number of data items used in training: 640\n"
     ]
    },
    {
     "name": "stderr",
     "output_type": "stream",
     "text": [
      "Epoch=7/10:  14%|█▎        | 6/44 [00:18<01:53,  3.00s/it, acc=0.99, loss=0.036]"
     ]
    },
    {
     "name": "stdout",
     "output_type": "stream",
     "text": [
      "Number of data items used in training: 768\n"
     ]
    },
    {
     "name": "stderr",
     "output_type": "stream",
     "text": [
      "Epoch=7/10:  16%|█      | 7/44 [00:21<01:52,  3.03s/it, acc=0.991, loss=0.00234]"
     ]
    },
    {
     "name": "stdout",
     "output_type": "stream",
     "text": [
      "Number of data items used in training: 896\n"
     ]
    },
    {
     "name": "stderr",
     "output_type": "stream",
     "text": [
      "Epoch=7/10:  18%|█     | 8/44 [00:24<01:48,  3.01s/it, acc=0.992, loss=0.000648]"
     ]
    },
    {
     "name": "stdout",
     "output_type": "stream",
     "text": [
      "Number of data items used in training: 1024\n"
     ]
    },
    {
     "name": "stderr",
     "output_type": "stream",
     "text": [
      "Epoch=7/10:  20%|█▍     | 9/44 [00:27<01:45,  3.02s/it, acc=0.993, loss=0.00565]"
     ]
    },
    {
     "name": "stdout",
     "output_type": "stream",
     "text": [
      "Number of data items used in training: 1152\n"
     ]
    },
    {
     "name": "stderr",
     "output_type": "stream",
     "text": [
      "Epoch=7/10:  23%|█▎    | 10/44 [00:31<01:47,  3.17s/it, acc=0.993, loss=0.00855]"
     ]
    },
    {
     "name": "stdout",
     "output_type": "stream",
     "text": [
      "Number of data items used in training: 1280\n"
     ]
    },
    {
     "name": "stderr",
     "output_type": "stream",
     "text": [
      "Epoch=7/10:  25%|█▊     | 11/44 [00:34<01:43,  3.13s/it, acc=0.993, loss=0.0246]"
     ]
    },
    {
     "name": "stdout",
     "output_type": "stream",
     "text": [
      "Number of data items used in training: 1408\n"
     ]
    },
    {
     "name": "stderr",
     "output_type": "stream",
     "text": [
      "Epoch=7/10:  27%|█▉     | 12/44 [00:37<01:39,  3.10s/it, acc=0.993, loss=0.0198]"
     ]
    },
    {
     "name": "stdout",
     "output_type": "stream",
     "text": [
      "Number of data items used in training: 1536\n"
     ]
    },
    {
     "name": "stderr",
     "output_type": "stream",
     "text": [
      "Epoch=7/10:  30%|██▎     | 13/44 [00:40<01:36,  3.11s/it, acc=0.989, loss=0.219]"
     ]
    },
    {
     "name": "stdout",
     "output_type": "stream",
     "text": [
      "Number of data items used in training: 1664\n"
     ]
    },
    {
     "name": "stderr",
     "output_type": "stream",
     "text": [
      "Epoch=7/10:  32%|██▌     | 14/44 [00:43<01:32,  3.09s/it, acc=0.99, loss=0.0116]"
     ]
    },
    {
     "name": "stdout",
     "output_type": "stream",
     "text": [
      "Number of data items used in training: 1792\n"
     ]
    },
    {
     "name": "stderr",
     "output_type": "stream",
     "text": [
      "Epoch=7/10:  34%|██    | 15/44 [00:46<01:28,  3.06s/it, acc=0.991, loss=0.00112]"
     ]
    },
    {
     "name": "stdout",
     "output_type": "stream",
     "text": [
      "Number of data items used in training: 1920\n"
     ]
    },
    {
     "name": "stderr",
     "output_type": "stream",
     "text": [
      "Epoch=7/10:  36%|██▏   | 16/44 [00:49<01:25,  3.04s/it, acc=0.991, loss=0.00523]"
     ]
    },
    {
     "name": "stdout",
     "output_type": "stream",
     "text": [
      "Number of data items used in training: 2048\n"
     ]
    },
    {
     "name": "stderr",
     "output_type": "stream",
     "text": [
      "Epoch=7/10:  39%|██▋    | 17/44 [00:52<01:21,  3.03s/it, acc=0.991, loss=0.0159]"
     ]
    },
    {
     "name": "stdout",
     "output_type": "stream",
     "text": [
      "Number of data items used in training: 2176\n"
     ]
    },
    {
     "name": "stderr",
     "output_type": "stream",
     "text": [
      "Epoch=7/10:  41%|███▎    | 18/44 [00:55<01:18,  3.01s/it, acc=0.99, loss=0.0403]"
     ]
    },
    {
     "name": "stdout",
     "output_type": "stream",
     "text": [
      "Number of data items used in training: 2304\n"
     ]
    },
    {
     "name": "stderr",
     "output_type": "stream",
     "text": [
      "Epoch=7/10:  43%|███    | 19/44 [00:58<01:14,  2.99s/it, acc=0.989, loss=0.0992]"
     ]
    },
    {
     "name": "stdout",
     "output_type": "stream",
     "text": [
      "Number of data items used in training: 2432\n"
     ]
    },
    {
     "name": "stderr",
     "output_type": "stream",
     "text": [
      "Epoch=7/10:  45%|███▏   | 20/44 [01:01<01:11,  2.98s/it, acc=0.988, loss=0.0633]"
     ]
    },
    {
     "name": "stdout",
     "output_type": "stream",
     "text": [
      "Number of data items used in training: 2560\n"
     ]
    },
    {
     "name": "stderr",
     "output_type": "stream",
     "text": [
      "Epoch=7/10:  48%|██▊   | 21/44 [01:04<01:08,  2.97s/it, acc=0.988, loss=0.00915]"
     ]
    },
    {
     "name": "stdout",
     "output_type": "stream",
     "text": [
      "Number of data items used in training: 2688\n"
     ]
    },
    {
     "name": "stderr",
     "output_type": "stream",
     "text": [
      "Epoch=7/10:  50%|███   | 22/44 [01:07<01:05,  2.96s/it, acc=0.989, loss=0.00758]"
     ]
    },
    {
     "name": "stdout",
     "output_type": "stream",
     "text": [
      "Number of data items used in training: 2816\n"
     ]
    },
    {
     "name": "stderr",
     "output_type": "stream",
     "text": [
      "Epoch=7/10:  52%|███▏  | 23/44 [01:09<01:01,  2.95s/it, acc=0.989, loss=0.00361]"
     ]
    },
    {
     "name": "stdout",
     "output_type": "stream",
     "text": [
      "Number of data items used in training: 2944\n"
     ]
    },
    {
     "name": "stderr",
     "output_type": "stream",
     "text": [
      "Epoch=7/10:  55%|███▊   | 24/44 [01:13<00:59,  2.98s/it, acc=0.989, loss=0.0352]"
     ]
    },
    {
     "name": "stdout",
     "output_type": "stream",
     "text": [
      "Number of data items used in training: 3072\n"
     ]
    },
    {
     "name": "stderr",
     "output_type": "stream",
     "text": [
      "Epoch=7/10:  57%|███▉   | 25/44 [01:16<00:57,  3.02s/it, acc=0.989, loss=0.0418]"
     ]
    },
    {
     "name": "stdout",
     "output_type": "stream",
     "text": [
      "Number of data items used in training: 3200\n"
     ]
    },
    {
     "name": "stderr",
     "output_type": "stream",
     "text": [
      "Epoch=7/10:  59%|████▋   | 26/44 [01:19<00:53,  2.99s/it, acc=0.988, loss=0.112]"
     ]
    },
    {
     "name": "stdout",
     "output_type": "stream",
     "text": [
      "Number of data items used in training: 3328\n"
     ]
    },
    {
     "name": "stderr",
     "output_type": "stream",
     "text": [
      "Epoch=7/10:  61%|███▋  | 27/44 [01:22<00:51,  3.01s/it, acc=0.989, loss=0.00905]"
     ]
    },
    {
     "name": "stdout",
     "output_type": "stream",
     "text": [
      "Number of data items used in training: 3456\n"
     ]
    },
    {
     "name": "stderr",
     "output_type": "stream",
     "text": [
      "Epoch=7/10:  64%|████▍  | 28/44 [01:25<00:49,  3.10s/it, acc=0.989, loss=0.0105]"
     ]
    },
    {
     "name": "stdout",
     "output_type": "stream",
     "text": [
      "Number of data items used in training: 3584\n"
     ]
    },
    {
     "name": "stderr",
     "output_type": "stream",
     "text": [
      "Epoch=7/10:  66%|████▌  | 29/44 [01:28<00:46,  3.11s/it, acc=0.989, loss=0.0497]"
     ]
    },
    {
     "name": "stdout",
     "output_type": "stream",
     "text": [
      "Number of data items used in training: 3712\n"
     ]
    },
    {
     "name": "stderr",
     "output_type": "stream",
     "text": [
      "Epoch=7/10:  68%|████▊  | 30/44 [01:31<00:43,  3.12s/it, acc=0.989, loss=0.0147]"
     ]
    },
    {
     "name": "stdout",
     "output_type": "stream",
     "text": [
      "Number of data items used in training: 3840\n"
     ]
    },
    {
     "name": "stderr",
     "output_type": "stream",
     "text": [
      "Epoch=7/10:  70%|████▉  | 31/44 [01:34<00:39,  3.06s/it, acc=0.989, loss=0.0252]"
     ]
    },
    {
     "name": "stdout",
     "output_type": "stream",
     "text": [
      "Number of data items used in training: 3968\n"
     ]
    },
    {
     "name": "stderr",
     "output_type": "stream",
     "text": [
      "Epoch=7/10:  73%|█████  | 32/44 [01:37<00:36,  3.05s/it, acc=0.989, loss=0.0291]"
     ]
    },
    {
     "name": "stdout",
     "output_type": "stream",
     "text": [
      "Number of data items used in training: 4096\n"
     ]
    },
    {
     "name": "stderr",
     "output_type": "stream",
     "text": [
      "Epoch=7/10:  75%|█████▎ | 33/44 [01:40<00:33,  3.09s/it, acc=0.989, loss=0.0309]"
     ]
    },
    {
     "name": "stdout",
     "output_type": "stream",
     "text": [
      "Number of data items used in training: 4224\n"
     ]
    },
    {
     "name": "stderr",
     "output_type": "stream",
     "text": [
      "Epoch=7/10:  77%|████▋ | 34/44 [01:43<00:30,  3.04s/it, acc=0.989, loss=0.00835]"
     ]
    },
    {
     "name": "stdout",
     "output_type": "stream",
     "text": [
      "Number of data items used in training: 4352\n"
     ]
    },
    {
     "name": "stderr",
     "output_type": "stream",
     "text": [
      "Epoch=7/10:  80%|█████▌ | 35/44 [01:46<00:27,  3.01s/it, acc=0.989, loss=0.0304]"
     ]
    },
    {
     "name": "stdout",
     "output_type": "stream",
     "text": [
      "Number of data items used in training: 4480\n"
     ]
    },
    {
     "name": "stderr",
     "output_type": "stream",
     "text": [
      "Epoch=7/10:  82%|███████▎ | 36/44 [01:49<00:23,  2.99s/it, acc=0.99, loss=0.015]"
     ]
    },
    {
     "name": "stdout",
     "output_type": "stream",
     "text": [
      "Number of data items used in training: 4608\n"
     ]
    },
    {
     "name": "stderr",
     "output_type": "stream",
     "text": [
      "Epoch=7/10:  84%|█████▉ | 37/44 [01:52<00:20,  2.97s/it, acc=0.99, loss=0.00235]"
     ]
    },
    {
     "name": "stdout",
     "output_type": "stream",
     "text": [
      "Number of data items used in training: 4736\n"
     ]
    },
    {
     "name": "stderr",
     "output_type": "stream",
     "text": [
      "Epoch=7/10:  86%|██████▉ | 38/44 [01:55<00:17,  2.97s/it, acc=0.99, loss=0.0198]"
     ]
    },
    {
     "name": "stdout",
     "output_type": "stream",
     "text": [
      "Number of data items used in training: 4864\n"
     ]
    },
    {
     "name": "stderr",
     "output_type": "stream",
     "text": [
      "Epoch=7/10:  89%|███████ | 39/44 [01:58<00:14,  2.96s/it, acc=0.99, loss=0.0334]"
     ]
    },
    {
     "name": "stdout",
     "output_type": "stream",
     "text": [
      "Number of data items used in training: 4992\n"
     ]
    },
    {
     "name": "stderr",
     "output_type": "stream",
     "text": [
      "Epoch=7/10:  91%|██████▎| 40/44 [02:01<00:11,  2.96s/it, acc=0.99, loss=0.00419]"
     ]
    },
    {
     "name": "stdout",
     "output_type": "stream",
     "text": [
      "Number of data items used in training: 5120\n"
     ]
    },
    {
     "name": "stderr",
     "output_type": "stream",
     "text": [
      "Epoch=7/10:  93%|███████▍| 41/44 [02:04<00:08,  2.95s/it, acc=0.99, loss=0.0194]"
     ]
    },
    {
     "name": "stdout",
     "output_type": "stream",
     "text": [
      "Number of data items used in training: 5248\n"
     ]
    },
    {
     "name": "stderr",
     "output_type": "stream",
     "text": [
      "Epoch=7/10:  95%|███████▋| 42/44 [02:07<00:05,  2.95s/it, acc=0.99, loss=0.0375]"
     ]
    },
    {
     "name": "stdout",
     "output_type": "stream",
     "text": [
      "Number of data items used in training: 5376\n"
     ]
    },
    {
     "name": "stderr",
     "output_type": "stream",
     "text": [
      "Epoch=7/10:  98%|██████▊| 43/44 [02:10<00:02,  2.94s/it, acc=0.99, loss=0.00407]"
     ]
    },
    {
     "name": "stdout",
     "output_type": "stream",
     "text": [
      "Number of data items used in training: 5504\n"
     ]
    },
    {
     "name": "stderr",
     "output_type": "stream",
     "text": [
      "Epoch=7/10: 100%|██████| 44/44 [02:11<00:00,  2.98s/it, acc=0.99, loss=0.000687]\n"
     ]
    },
    {
     "name": "stdout",
     "output_type": "stream",
     "text": [
      "Number of data items used in training: 5536\n"
     ]
    },
    {
     "name": "stderr",
     "output_type": "stream",
     "text": [
      "                                                                                \r"
     ]
    },
    {
     "name": "stdout",
     "output_type": "stream",
     "text": [
      "The current model is tested on 1384 testing data items.\n",
      "Accuracy after training this epoch in testing data is: 0.8973988439306358\n",
      "Loss after training this epoch in testing data is: 0.25242048501968384\n",
      "Starting epoch: 8\n"
     ]
    },
    {
     "name": "stderr",
     "output_type": "stream",
     "text": [
      "Epoch=8/10:   2%|▎          | 1/44 [00:04<03:12,  4.48s/it, acc=1, loss=0.00629]"
     ]
    },
    {
     "name": "stdout",
     "output_type": "stream",
     "text": [
      "Number of data items used in training: 128\n"
     ]
    },
    {
     "name": "stderr",
     "output_type": "stream",
     "text": [
      "Epoch=8/10:   5%|▎       | 2/44 [00:07<02:30,  3.58s/it, acc=0.996, loss=0.0269]"
     ]
    },
    {
     "name": "stdout",
     "output_type": "stream",
     "text": [
      "Number of data items used in training: 256\n"
     ]
    },
    {
     "name": "stderr",
     "output_type": "stream",
     "text": [
      "Epoch=8/10:   7%|▍      | 3/44 [00:10<02:14,  3.29s/it, acc=0.997, loss=0.00597]"
     ]
    },
    {
     "name": "stdout",
     "output_type": "stream",
     "text": [
      "Number of data items used in training: 384\n"
     ]
    },
    {
     "name": "stderr",
     "output_type": "stream",
     "text": [
      "Epoch=8/10:   9%|▋       | 4/44 [00:13<02:05,  3.14s/it, acc=0.996, loss=0.0125]"
     ]
    },
    {
     "name": "stdout",
     "output_type": "stream",
     "text": [
      "Number of data items used in training: 512\n"
     ]
    },
    {
     "name": "stderr",
     "output_type": "stream",
     "text": [
      "Epoch=8/10:  11%|▊      | 5/44 [00:16<01:59,  3.06s/it, acc=0.997, loss=0.00317]"
     ]
    },
    {
     "name": "stdout",
     "output_type": "stream",
     "text": [
      "Number of data items used in training: 640\n"
     ]
    },
    {
     "name": "stderr",
     "output_type": "stream",
     "text": [
      "Epoch=8/10:  14%|█       | 6/44 [00:19<01:55,  3.03s/it, acc=0.995, loss=0.0738]"
     ]
    },
    {
     "name": "stdout",
     "output_type": "stream",
     "text": [
      "Number of data items used in training: 768\n"
     ]
    },
    {
     "name": "stderr",
     "output_type": "stream",
     "text": [
      "Epoch=8/10:  16%|█      | 7/44 [00:22<01:50,  3.00s/it, acc=0.996, loss=0.00444]"
     ]
    },
    {
     "name": "stdout",
     "output_type": "stream",
     "text": [
      "Number of data items used in training: 896\n"
     ]
    },
    {
     "name": "stderr",
     "output_type": "stream",
     "text": [
      "Epoch=8/10:  18%|█▍      | 8/44 [00:25<01:47,  2.99s/it, acc=0.995, loss=0.0144]"
     ]
    },
    {
     "name": "stdout",
     "output_type": "stream",
     "text": [
      "Number of data items used in training: 1024\n"
     ]
    },
    {
     "name": "stderr",
     "output_type": "stream",
     "text": [
      "Epoch=8/10:  20%|█▋      | 9/44 [00:28<01:43,  2.97s/it, acc=0.995, loss=0.0445]"
     ]
    },
    {
     "name": "stdout",
     "output_type": "stream",
     "text": [
      "Number of data items used in training: 1152\n"
     ]
    },
    {
     "name": "stderr",
     "output_type": "stream",
     "text": [
      "Epoch=8/10:  23%|█▎    | 10/44 [00:30<01:40,  2.97s/it, acc=0.995, loss=0.00947]"
     ]
    },
    {
     "name": "stdout",
     "output_type": "stream",
     "text": [
      "Number of data items used in training: 1280\n"
     ]
    },
    {
     "name": "stderr",
     "output_type": "stream",
     "text": [
      "Epoch=8/10:  25%|█▊     | 11/44 [00:33<01:37,  2.96s/it, acc=0.995, loss=0.0536]"
     ]
    },
    {
     "name": "stdout",
     "output_type": "stream",
     "text": [
      "Number of data items used in training: 1408\n"
     ]
    },
    {
     "name": "stderr",
     "output_type": "stream",
     "text": [
      "Epoch=8/10:  27%|█▎   | 12/44 [00:36<01:34,  2.95s/it, acc=0.995, loss=0.000794]"
     ]
    },
    {
     "name": "stdout",
     "output_type": "stream",
     "text": [
      "Number of data items used in training: 1536\n"
     ]
    },
    {
     "name": "stderr",
     "output_type": "stream",
     "text": [
      "Epoch=8/10:  30%|█▊    | 13/44 [00:39<01:31,  2.95s/it, acc=0.996, loss=0.00291]"
     ]
    },
    {
     "name": "stdout",
     "output_type": "stream",
     "text": [
      "Number of data items used in training: 1664\n"
     ]
    },
    {
     "name": "stderr",
     "output_type": "stream",
     "text": [
      "Epoch=8/10:  32%|██▏    | 14/44 [00:42<01:28,  2.94s/it, acc=0.996, loss=0.0295]"
     ]
    },
    {
     "name": "stdout",
     "output_type": "stream",
     "text": [
      "Number of data items used in training: 1792\n"
     ]
    },
    {
     "name": "stderr",
     "output_type": "stream",
     "text": [
      "Epoch=8/10:  34%|██▍    | 15/44 [00:45<01:25,  2.96s/it, acc=0.994, loss=0.0642]"
     ]
    },
    {
     "name": "stdout",
     "output_type": "stream",
     "text": [
      "Number of data items used in training: 1920\n"
     ]
    },
    {
     "name": "stderr",
     "output_type": "stream",
     "text": [
      "Epoch=8/10:  36%|██▌    | 16/44 [00:48<01:23,  2.98s/it, acc=0.993, loss=0.0716]"
     ]
    },
    {
     "name": "stdout",
     "output_type": "stream",
     "text": [
      "Number of data items used in training: 2048\n"
     ]
    },
    {
     "name": "stderr",
     "output_type": "stream",
     "text": [
      "Epoch=8/10:  39%|███     | 17/44 [00:51<01:19,  2.96s/it, acc=0.993, loss=0.031]"
     ]
    },
    {
     "name": "stdout",
     "output_type": "stream",
     "text": [
      "Number of data items used in training: 2176\n"
     ]
    },
    {
     "name": "stderr",
     "output_type": "stream",
     "text": [
      "Epoch=8/10:  41%|██▊    | 18/44 [00:54<01:16,  2.95s/it, acc=0.993, loss=0.0369]"
     ]
    },
    {
     "name": "stdout",
     "output_type": "stream",
     "text": [
      "Number of data items used in training: 2304\n"
     ]
    },
    {
     "name": "stderr",
     "output_type": "stream",
     "text": [
      "Epoch=8/10:  43%|██▌   | 19/44 [00:57<01:13,  2.95s/it, acc=0.993, loss=0.00163]"
     ]
    },
    {
     "name": "stdout",
     "output_type": "stream",
     "text": [
      "Number of data items used in training: 2432\n"
     ]
    },
    {
     "name": "stderr",
     "output_type": "stream",
     "text": [
      "Epoch=8/10:  45%|██▋   | 20/44 [01:00<01:10,  2.95s/it, acc=0.993, loss=0.00383]"
     ]
    },
    {
     "name": "stdout",
     "output_type": "stream",
     "text": [
      "Number of data items used in training: 2560\n"
     ]
    },
    {
     "name": "stderr",
     "output_type": "stream",
     "text": [
      "Epoch=8/10:  48%|███▊    | 21/44 [01:03<01:07,  2.94s/it, acc=0.993, loss=0.033]"
     ]
    },
    {
     "name": "stdout",
     "output_type": "stream",
     "text": [
      "Number of data items used in training: 2688\n"
     ]
    },
    {
     "name": "stderr",
     "output_type": "stream",
     "text": [
      "Epoch=8/10:  50%|███▌   | 22/44 [01:06<01:04,  2.94s/it, acc=0.992, loss=0.0564]"
     ]
    },
    {
     "name": "stdout",
     "output_type": "stream",
     "text": [
      "Number of data items used in training: 2816\n"
     ]
    },
    {
     "name": "stderr",
     "output_type": "stream",
     "text": [
      "Epoch=8/10:  52%|████▋    | 23/44 [01:09<01:01,  2.94s/it, acc=0.99, loss=0.132]"
     ]
    },
    {
     "name": "stdout",
     "output_type": "stream",
     "text": [
      "Number of data items used in training: 2944\n"
     ]
    },
    {
     "name": "stderr",
     "output_type": "stream",
     "text": [
      "Epoch=8/10:  55%|████▎   | 24/44 [01:12<00:58,  2.93s/it, acc=0.99, loss=0.0797]"
     ]
    },
    {
     "name": "stdout",
     "output_type": "stream",
     "text": [
      "Number of data items used in training: 3072\n"
     ]
    },
    {
     "name": "stderr",
     "output_type": "stream",
     "text": [
      "Epoch=8/10:  57%|███▉   | 25/44 [01:15<00:56,  2.97s/it, acc=0.99, loss=0.00394]"
     ]
    },
    {
     "name": "stdout",
     "output_type": "stream",
     "text": [
      "Number of data items used in training: 3200\n"
     ]
    },
    {
     "name": "stderr",
     "output_type": "stream",
     "text": [
      "Epoch=8/10:  59%|███▌  | 26/44 [01:18<00:53,  2.96s/it, acc=0.991, loss=0.00411]"
     ]
    },
    {
     "name": "stdout",
     "output_type": "stream",
     "text": [
      "Number of data items used in training: 3328\n"
     ]
    },
    {
     "name": "stderr",
     "output_type": "stream",
     "text": [
      "Epoch=8/10:  61%|████▎  | 27/44 [01:21<00:50,  2.95s/it, acc=0.991, loss=0.0153]"
     ]
    },
    {
     "name": "stdout",
     "output_type": "stream",
     "text": [
      "Number of data items used in training: 3456\n"
     ]
    },
    {
     "name": "stderr",
     "output_type": "stream",
     "text": [
      "Epoch=8/10:  64%|████▍  | 28/44 [01:24<00:47,  2.97s/it, acc=0.991, loss=0.0605]"
     ]
    },
    {
     "name": "stdout",
     "output_type": "stream",
     "text": [
      "Number of data items used in training: 3584\n"
     ]
    },
    {
     "name": "stderr",
     "output_type": "stream",
     "text": [
      "Epoch=8/10:  66%|█████▎  | 29/44 [01:27<00:45,  3.01s/it, acc=0.99, loss=0.0541]"
     ]
    },
    {
     "name": "stdout",
     "output_type": "stream",
     "text": [
      "Number of data items used in training: 3712\n"
     ]
    },
    {
     "name": "stderr",
     "output_type": "stream",
     "text": [
      "Epoch=8/10:  68%|█████▍  | 30/44 [01:30<00:41,  2.98s/it, acc=0.99, loss=0.0637]"
     ]
    },
    {
     "name": "stdout",
     "output_type": "stream",
     "text": [
      "Number of data items used in training: 3840\n"
     ]
    },
    {
     "name": "stderr",
     "output_type": "stream",
     "text": [
      "Epoch=8/10:  70%|█████▋  | 31/44 [01:33<00:38,  2.97s/it, acc=0.99, loss=0.0145]"
     ]
    },
    {
     "name": "stdout",
     "output_type": "stream",
     "text": [
      "Number of data items used in training: 3968\n"
     ]
    },
    {
     "name": "stderr",
     "output_type": "stream",
     "text": [
      "Epoch=8/10:  73%|█████▊  | 32/44 [01:35<00:35,  2.95s/it, acc=0.99, loss=0.0889]"
     ]
    },
    {
     "name": "stdout",
     "output_type": "stream",
     "text": [
      "Number of data items used in training: 4096\n"
     ]
    },
    {
     "name": "stderr",
     "output_type": "stream",
     "text": [
      "Epoch=8/10:  75%|██████  | 33/44 [01:38<00:32,  2.96s/it, acc=0.99, loss=0.0212]"
     ]
    },
    {
     "name": "stdout",
     "output_type": "stream",
     "text": [
      "Number of data items used in training: 4224\n"
     ]
    },
    {
     "name": "stderr",
     "output_type": "stream",
     "text": [
      "Epoch=8/10:  77%|██████▏ | 34/44 [01:41<00:29,  2.95s/it, acc=0.99, loss=0.0214]"
     ]
    },
    {
     "name": "stdout",
     "output_type": "stream",
     "text": [
      "Number of data items used in training: 4352\n"
     ]
    },
    {
     "name": "stderr",
     "output_type": "stream",
     "text": [
      "Epoch=8/10:  80%|██████▎ | 35/44 [01:44<00:26,  2.94s/it, acc=0.99, loss=0.0148]"
     ]
    },
    {
     "name": "stdout",
     "output_type": "stream",
     "text": [
      "Number of data items used in training: 4480\n"
     ]
    },
    {
     "name": "stderr",
     "output_type": "stream",
     "text": [
      "Epoch=8/10:  82%|██████▌ | 36/44 [01:47<00:23,  2.94s/it, acc=0.99, loss=0.0414]"
     ]
    },
    {
     "name": "stdout",
     "output_type": "stream",
     "text": [
      "Number of data items used in training: 4608\n"
     ]
    },
    {
     "name": "stderr",
     "output_type": "stream",
     "text": [
      "Epoch=8/10:  84%|██████▋ | 37/44 [01:50<00:20,  2.94s/it, acc=0.99, loss=0.0609]"
     ]
    },
    {
     "name": "stdout",
     "output_type": "stream",
     "text": [
      "Number of data items used in training: 4736\n"
     ]
    },
    {
     "name": "stderr",
     "output_type": "stream",
     "text": [
      "Epoch=8/10:  86%|██████▉ | 38/44 [01:53<00:17,  2.93s/it, acc=0.99, loss=0.0466]"
     ]
    },
    {
     "name": "stdout",
     "output_type": "stream",
     "text": [
      "Number of data items used in training: 4864\n"
     ]
    },
    {
     "name": "stderr",
     "output_type": "stream",
     "text": [
      "Epoch=8/10:  89%|███████ | 39/44 [01:56<00:14,  2.93s/it, acc=0.99, loss=0.0181]"
     ]
    },
    {
     "name": "stdout",
     "output_type": "stream",
     "text": [
      "Number of data items used in training: 4992\n"
     ]
    },
    {
     "name": "stderr",
     "output_type": "stream",
     "text": [
      "Epoch=8/10:  91%|██████▎| 40/44 [01:59<00:11,  2.93s/it, acc=0.99, loss=0.00368]"
     ]
    },
    {
     "name": "stdout",
     "output_type": "stream",
     "text": [
      "Number of data items used in training: 5120\n"
     ]
    },
    {
     "name": "stderr",
     "output_type": "stream",
     "text": [
      "Epoch=8/10:  93%|██████▌| 41/44 [02:02<00:08,  2.93s/it, acc=0.99, loss=0.00211]"
     ]
    },
    {
     "name": "stdout",
     "output_type": "stream",
     "text": [
      "Number of data items used in training: 5248\n"
     ]
    },
    {
     "name": "stderr",
     "output_type": "stream",
     "text": [
      "Epoch=8/10:  95%|█████▋| 42/44 [02:05<00:05,  2.96s/it, acc=0.991, loss=0.00309]"
     ]
    },
    {
     "name": "stdout",
     "output_type": "stream",
     "text": [
      "Number of data items used in training: 5376\n"
     ]
    },
    {
     "name": "stderr",
     "output_type": "stream",
     "text": [
      "Epoch=8/10:  98%|█████▊| 43/44 [02:08<00:02,  2.97s/it, acc=0.991, loss=0.00441]"
     ]
    },
    {
     "name": "stdout",
     "output_type": "stream",
     "text": [
      "Number of data items used in training: 5504\n"
     ]
    },
    {
     "name": "stderr",
     "output_type": "stream",
     "text": [
      "Epoch=8/10: 100%|█████| 44/44 [02:09<00:00,  2.94s/it, acc=0.991, loss=0.000601]\n"
     ]
    },
    {
     "name": "stdout",
     "output_type": "stream",
     "text": [
      "Number of data items used in training: 5536\n"
     ]
    },
    {
     "name": "stderr",
     "output_type": "stream",
     "text": [
      "                                                                                \r"
     ]
    },
    {
     "name": "stdout",
     "output_type": "stream",
     "text": [
      "The current model is tested on 1384 testing data items.\n",
      "Accuracy after training this epoch in testing data is: 0.880057803468208\n",
      "Loss after training this epoch in testing data is: 0.3901478946208954\n",
      "Starting epoch: 9\n"
     ]
    },
    {
     "name": "stderr",
     "output_type": "stream",
     "text": [
      "Epoch=9/10:   2%|▏         | 1/44 [00:05<03:47,  5.30s/it, acc=0.945, loss=0.13]"
     ]
    },
    {
     "name": "stdout",
     "output_type": "stream",
     "text": [
      "Number of data items used in training: 128\n"
     ]
    },
    {
     "name": "stderr",
     "output_type": "stream",
     "text": [
      "Epoch=9/10:   5%|▎       | 2/44 [00:08<02:44,  3.91s/it, acc=0.965, loss=0.0575]"
     ]
    },
    {
     "name": "stdout",
     "output_type": "stream",
     "text": [
      "Number of data items used in training: 256\n"
     ]
    },
    {
     "name": "stderr",
     "output_type": "stream",
     "text": [
      "Epoch=9/10:   7%|▍      | 3/44 [00:11<02:22,  3.47s/it, acc=0.974, loss=0.00949]"
     ]
    },
    {
     "name": "stdout",
     "output_type": "stream",
     "text": [
      "Number of data items used in training: 384\n"
     ]
    },
    {
     "name": "stderr",
     "output_type": "stream",
     "text": [
      "Epoch=9/10:   9%|▋       | 4/44 [00:14<02:10,  3.26s/it, acc=0.98, loss=0.00782]"
     ]
    },
    {
     "name": "stdout",
     "output_type": "stream",
     "text": [
      "Number of data items used in training: 512\n"
     ]
    },
    {
     "name": "stderr",
     "output_type": "stream",
     "text": [
      "Epoch=9/10:  11%|▉       | 5/44 [00:17<02:02,  3.14s/it, acc=0.984, loss=0.0105]"
     ]
    },
    {
     "name": "stdout",
     "output_type": "stream",
     "text": [
      "Number of data items used in training: 640\n"
     ]
    },
    {
     "name": "stderr",
     "output_type": "stream",
     "text": [
      "Epoch=9/10:  14%|█       | 6/44 [00:20<01:57,  3.09s/it, acc=0.984, loss=0.0792]"
     ]
    },
    {
     "name": "stdout",
     "output_type": "stream",
     "text": [
      "Number of data items used in training: 768\n"
     ]
    },
    {
     "name": "stderr",
     "output_type": "stream",
     "text": [
      "Epoch=9/10:  16%|█▍       | 7/44 [00:23<01:53,  3.06s/it, acc=0.981, loss=0.188]"
     ]
    },
    {
     "name": "stdout",
     "output_type": "stream",
     "text": [
      "Number of data items used in training: 896\n"
     ]
    },
    {
     "name": "stderr",
     "output_type": "stream",
     "text": [
      "Epoch=9/10:  18%|█▋       | 8/44 [00:25<01:48,  3.02s/it, acc=0.979, loss=0.113]"
     ]
    },
    {
     "name": "stdout",
     "output_type": "stream",
     "text": [
      "Number of data items used in training: 1024\n"
     ]
    },
    {
     "name": "stderr",
     "output_type": "stream",
     "text": [
      "Epoch=9/10:  20%|█▋      | 9/44 [00:28<01:44,  2.99s/it, acc=0.981, loss=0.0198]"
     ]
    },
    {
     "name": "stdout",
     "output_type": "stream",
     "text": [
      "Number of data items used in training: 1152\n"
     ]
    },
    {
     "name": "stderr",
     "output_type": "stream",
     "text": [
      "Epoch=9/10:  23%|█▎    | 10/44 [00:31<01:41,  3.00s/it, acc=0.983, loss=0.00623]"
     ]
    },
    {
     "name": "stdout",
     "output_type": "stream",
     "text": [
      "Number of data items used in training: 1280\n"
     ]
    },
    {
     "name": "stderr",
     "output_type": "stream",
     "text": [
      "Epoch=9/10:  25%|█▌    | 11/44 [00:34<01:38,  3.00s/it, acc=0.984, loss=0.00367]"
     ]
    },
    {
     "name": "stdout",
     "output_type": "stream",
     "text": [
      "Number of data items used in training: 1408\n"
     ]
    },
    {
     "name": "stderr",
     "output_type": "stream",
     "text": [
      "Epoch=9/10:  27%|█▉     | 12/44 [00:37<01:35,  3.00s/it, acc=0.985, loss=0.0233]"
     ]
    },
    {
     "name": "stdout",
     "output_type": "stream",
     "text": [
      "Number of data items used in training: 1536\n"
     ]
    },
    {
     "name": "stderr",
     "output_type": "stream",
     "text": [
      "Epoch=9/10:  30%|██     | 13/44 [00:40<01:32,  2.98s/it, acc=0.985, loss=0.0534]"
     ]
    },
    {
     "name": "stdout",
     "output_type": "stream",
     "text": [
      "Number of data items used in training: 1664\n"
     ]
    },
    {
     "name": "stderr",
     "output_type": "stream",
     "text": [
      "Epoch=9/10:  32%|██▌     | 14/44 [00:43<01:29,  2.99s/it, acc=0.985, loss=0.028]"
     ]
    },
    {
     "name": "stdout",
     "output_type": "stream",
     "text": [
      "Number of data items used in training: 1792\n"
     ]
    },
    {
     "name": "stderr",
     "output_type": "stream",
     "text": [
      "Epoch=9/10:  34%|██▍    | 15/44 [00:46<01:27,  3.02s/it, acc=0.986, loss=0.0191]"
     ]
    },
    {
     "name": "stdout",
     "output_type": "stream",
     "text": [
      "Number of data items used in training: 1920\n"
     ]
    },
    {
     "name": "stderr",
     "output_type": "stream",
     "text": [
      "Epoch=9/10:  36%|██▌    | 16/44 [00:49<01:23,  2.99s/it, acc=0.987, loss=0.0119]"
     ]
    },
    {
     "name": "stdout",
     "output_type": "stream",
     "text": [
      "Number of data items used in training: 2048\n"
     ]
    },
    {
     "name": "stderr",
     "output_type": "stream",
     "text": [
      "Epoch=9/10:  39%|███     | 17/44 [00:52<01:20,  2.97s/it, acc=0.986, loss=0.125]"
     ]
    },
    {
     "name": "stdout",
     "output_type": "stream",
     "text": [
      "Number of data items used in training: 2176\n"
     ]
    },
    {
     "name": "stderr",
     "output_type": "stream",
     "text": [
      "Epoch=9/10:  41%|██▊    | 18/44 [00:55<01:16,  2.96s/it, acc=0.986, loss=0.0582]"
     ]
    },
    {
     "name": "stdout",
     "output_type": "stream",
     "text": [
      "Number of data items used in training: 2304\n"
     ]
    },
    {
     "name": "stderr",
     "output_type": "stream",
     "text": [
      "Epoch=9/10:  43%|███▍    | 19/44 [00:58<01:13,  2.95s/it, acc=0.986, loss=0.018]"
     ]
    },
    {
     "name": "stdout",
     "output_type": "stream",
     "text": [
      "Number of data items used in training: 2432\n"
     ]
    },
    {
     "name": "stderr",
     "output_type": "stream",
     "text": [
      "Epoch=9/10:  45%|███▏   | 20/44 [01:01<01:10,  2.96s/it, acc=0.986, loss=0.0227]"
     ]
    },
    {
     "name": "stdout",
     "output_type": "stream",
     "text": [
      "Number of data items used in training: 2560\n"
     ]
    },
    {
     "name": "stderr",
     "output_type": "stream",
     "text": [
      "Epoch=9/10:  48%|██▊   | 21/44 [01:04<01:08,  2.97s/it, acc=0.987, loss=0.00546]"
     ]
    },
    {
     "name": "stdout",
     "output_type": "stream",
     "text": [
      "Number of data items used in training: 2688\n"
     ]
    },
    {
     "name": "stderr",
     "output_type": "stream",
     "text": [
      "Epoch=9/10:  50%|███   | 22/44 [01:07<01:05,  2.99s/it, acc=0.988, loss=0.00206]"
     ]
    },
    {
     "name": "stdout",
     "output_type": "stream",
     "text": [
      "Number of data items used in training: 2816\n"
     ]
    },
    {
     "name": "stderr",
     "output_type": "stream",
     "text": [
      "Epoch=9/10:  52%|███▏  | 23/44 [01:10<01:03,  3.05s/it, acc=0.988, loss=0.00445]"
     ]
    },
    {
     "name": "stdout",
     "output_type": "stream",
     "text": [
      "Number of data items used in training: 2944\n"
     ]
    },
    {
     "name": "stderr",
     "output_type": "stream",
     "text": [
      "Epoch=9/10:  55%|███▊   | 24/44 [01:14<01:03,  3.16s/it, acc=0.988, loss=0.0214]"
     ]
    },
    {
     "name": "stdout",
     "output_type": "stream",
     "text": [
      "Number of data items used in training: 3072\n"
     ]
    },
    {
     "name": "stderr",
     "output_type": "stream",
     "text": [
      "Epoch=9/10:  57%|████▌   | 25/44 [01:17<00:58,  3.10s/it, acc=0.989, loss=0.014]"
     ]
    },
    {
     "name": "stdout",
     "output_type": "stream",
     "text": [
      "Number of data items used in training: 3200\n"
     ]
    },
    {
     "name": "stderr",
     "output_type": "stream",
     "text": [
      "Epoch=9/10:  59%|████▏  | 26/44 [01:20<00:55,  3.06s/it, acc=0.989, loss=0.0591]"
     ]
    },
    {
     "name": "stdout",
     "output_type": "stream",
     "text": [
      "Number of data items used in training: 3328\n"
     ]
    },
    {
     "name": "stderr",
     "output_type": "stream",
     "text": [
      "Epoch=9/10:  61%|████▉   | 27/44 [01:23<00:54,  3.19s/it, acc=0.988, loss=0.032]"
     ]
    },
    {
     "name": "stdout",
     "output_type": "stream",
     "text": [
      "Number of data items used in training: 3456\n"
     ]
    },
    {
     "name": "stderr",
     "output_type": "stream",
     "text": [
      "Epoch=9/10:  64%|████▍  | 28/44 [01:26<00:50,  3.13s/it, acc=0.988, loss=0.0645]"
     ]
    },
    {
     "name": "stdout",
     "output_type": "stream",
     "text": [
      "Number of data items used in training: 3584\n"
     ]
    },
    {
     "name": "stderr",
     "output_type": "stream",
     "text": [
      "Epoch=9/10:  66%|████▌  | 29/44 [01:29<00:46,  3.10s/it, acc=0.988, loss=0.0113]"
     ]
    },
    {
     "name": "stdout",
     "output_type": "stream",
     "text": [
      "Number of data items used in training: 3712\n"
     ]
    },
    {
     "name": "stderr",
     "output_type": "stream",
     "text": [
      "Epoch=9/10:  68%|████▊  | 30/44 [01:33<00:45,  3.24s/it, acc=0.988, loss=0.0315]"
     ]
    },
    {
     "name": "stdout",
     "output_type": "stream",
     "text": [
      "Number of data items used in training: 3840\n"
     ]
    },
    {
     "name": "stderr",
     "output_type": "stream",
     "text": [
      "Epoch=9/10:  70%|████▉  | 31/44 [01:36<00:40,  3.15s/it, acc=0.988, loss=0.0226]"
     ]
    },
    {
     "name": "stdout",
     "output_type": "stream",
     "text": [
      "Number of data items used in training: 3968\n"
     ]
    },
    {
     "name": "stderr",
     "output_type": "stream",
     "text": [
      "Epoch=9/10:  73%|████▎ | 32/44 [01:39<00:37,  3.08s/it, acc=0.989, loss=0.00105]"
     ]
    },
    {
     "name": "stdout",
     "output_type": "stream",
     "text": [
      "Number of data items used in training: 4096\n"
     ]
    },
    {
     "name": "stderr",
     "output_type": "stream",
     "text": [
      "Epoch=9/10:  75%|█████▎ | 33/44 [01:42<00:33,  3.03s/it, acc=0.988, loss=0.0409]"
     ]
    },
    {
     "name": "stdout",
     "output_type": "stream",
     "text": [
      "Number of data items used in training: 4224\n"
     ]
    },
    {
     "name": "stderr",
     "output_type": "stream",
     "text": [
      "Epoch=9/10:  77%|██████▏ | 34/44 [01:45<00:30,  3.02s/it, acc=0.988, loss=0.093]"
     ]
    },
    {
     "name": "stdout",
     "output_type": "stream",
     "text": [
      "Number of data items used in training: 4352\n"
     ]
    },
    {
     "name": "stderr",
     "output_type": "stream",
     "text": [
      "Epoch=9/10:  80%|█████▌ | 35/44 [01:48<00:27,  3.05s/it, acc=0.988, loss=0.0213]"
     ]
    },
    {
     "name": "stdout",
     "output_type": "stream",
     "text": [
      "Number of data items used in training: 4480\n"
     ]
    },
    {
     "name": "stderr",
     "output_type": "stream",
     "text": [
      "Epoch=9/10:  82%|█████▋ | 36/44 [01:51<00:24,  3.03s/it, acc=0.988, loss=0.0208]"
     ]
    },
    {
     "name": "stdout",
     "output_type": "stream",
     "text": [
      "Number of data items used in training: 4608\n"
     ]
    },
    {
     "name": "stderr",
     "output_type": "stream",
     "text": [
      "Epoch=9/10:  84%|█████ | 37/44 [01:54<00:21,  3.00s/it, acc=0.988, loss=0.00227]"
     ]
    },
    {
     "name": "stdout",
     "output_type": "stream",
     "text": [
      "Number of data items used in training: 4736\n"
     ]
    },
    {
     "name": "stderr",
     "output_type": "stream",
     "text": [
      "Epoch=9/10:  86%|█████▏| 38/44 [01:57<00:17,  2.99s/it, acc=0.988, loss=0.00461]"
     ]
    },
    {
     "name": "stdout",
     "output_type": "stream",
     "text": [
      "Number of data items used in training: 4864\n"
     ]
    },
    {
     "name": "stderr",
     "output_type": "stream",
     "text": [
      "Epoch=9/10:  89%|██████▏| 39/44 [01:59<00:14,  2.98s/it, acc=0.989, loss=0.0101]"
     ]
    },
    {
     "name": "stdout",
     "output_type": "stream",
     "text": [
      "Number of data items used in training: 4992\n"
     ]
    },
    {
     "name": "stderr",
     "output_type": "stream",
     "text": [
      "Epoch=9/10:  91%|█████▍| 40/44 [02:03<00:12,  3.06s/it, acc=0.989, loss=0.00173]"
     ]
    },
    {
     "name": "stdout",
     "output_type": "stream",
     "text": [
      "Number of data items used in training: 5120\n"
     ]
    },
    {
     "name": "stderr",
     "output_type": "stream",
     "text": [
      "Epoch=9/10:  93%|██████▌| 41/44 [02:06<00:09,  3.04s/it, acc=0.989, loss=0.0104]"
     ]
    },
    {
     "name": "stdout",
     "output_type": "stream",
     "text": [
      "Number of data items used in training: 5248\n"
     ]
    },
    {
     "name": "stderr",
     "output_type": "stream",
     "text": [
      "Epoch=9/10:  95%|██████▋| 42/44 [02:09<00:06,  3.02s/it, acc=0.989, loss=0.0235]"
     ]
    },
    {
     "name": "stdout",
     "output_type": "stream",
     "text": [
      "Number of data items used in training: 5376\n"
     ]
    },
    {
     "name": "stderr",
     "output_type": "stream",
     "text": [
      "Epoch=9/10:  98%|██████▊| 43/44 [02:12<00:03,  3.09s/it, acc=0.989, loss=0.0163]"
     ]
    },
    {
     "name": "stdout",
     "output_type": "stream",
     "text": [
      "Number of data items used in training: 5504\n"
     ]
    },
    {
     "name": "stderr",
     "output_type": "stream",
     "text": [
      "Epoch=9/10: 100%|██████| 44/44 [02:13<00:00,  3.03s/it, acc=0.989, loss=0.00141]\n"
     ]
    },
    {
     "name": "stdout",
     "output_type": "stream",
     "text": [
      "Number of data items used in training: 5536\n"
     ]
    },
    {
     "name": "stderr",
     "output_type": "stream",
     "text": [
      "                                                                                \r"
     ]
    },
    {
     "name": "stdout",
     "output_type": "stream",
     "text": [
      "The current model is tested on 1384 testing data items.\n",
      "Accuracy after training this epoch in testing data is: 0.8894508670520231\n",
      "Loss after training this epoch in testing data is: 0.3382405638694763\n",
      "Starting epoch: 10\n"
     ]
    },
    {
     "name": "stderr",
     "output_type": "stream",
     "text": [
      "Epoch=10/10:   2%|▏      | 1/44 [00:03<02:40,  3.73s/it, acc=0.992, loss=0.0153]"
     ]
    },
    {
     "name": "stdout",
     "output_type": "stream",
     "text": [
      "Number of data items used in training: 128\n"
     ]
    },
    {
     "name": "stderr",
     "output_type": "stream",
     "text": [
      "Epoch=10/10:   5%|▎     | 2/44 [00:06<02:16,  3.25s/it, acc=0.996, loss=0.00283]"
     ]
    },
    {
     "name": "stdout",
     "output_type": "stream",
     "text": [
      "Number of data items used in training: 256\n"
     ]
    },
    {
     "name": "stderr",
     "output_type": "stream",
     "text": [
      "Epoch=10/10:   7%|▍      | 3/44 [00:09<02:08,  3.13s/it, acc=0.997, loss=0.0019]"
     ]
    },
    {
     "name": "stdout",
     "output_type": "stream",
     "text": [
      "Number of data items used in training: 384\n"
     ]
    },
    {
     "name": "stderr",
     "output_type": "stream",
     "text": [
      "Epoch=10/10:   9%|▌     | 4/44 [00:12<02:01,  3.05s/it, acc=0.998, loss=0.00337]"
     ]
    },
    {
     "name": "stdout",
     "output_type": "stream",
     "text": [
      "Number of data items used in training: 512\n"
     ]
    },
    {
     "name": "stderr",
     "output_type": "stream",
     "text": [
      "Epoch=10/10:  11%|▊      | 5/44 [00:15<01:57,  3.01s/it, acc=0.998, loss=0.0032]"
     ]
    },
    {
     "name": "stdout",
     "output_type": "stream",
     "text": [
      "Number of data items used in training: 640\n"
     ]
    },
    {
     "name": "stderr",
     "output_type": "stream",
     "text": [
      "Epoch=10/10:  14%|▋    | 6/44 [00:18<01:53,  2.98s/it, acc=0.999, loss=0.000674]"
     ]
    },
    {
     "name": "stdout",
     "output_type": "stream",
     "text": [
      "Number of data items used in training: 768\n"
     ]
    },
    {
     "name": "stderr",
     "output_type": "stream",
     "text": [
      "Epoch=10/10:  16%|█      | 7/44 [00:21<01:49,  2.96s/it, acc=0.998, loss=0.0112]"
     ]
    },
    {
     "name": "stdout",
     "output_type": "stream",
     "text": [
      "Number of data items used in training: 896\n"
     ]
    },
    {
     "name": "stderr",
     "output_type": "stream",
     "text": [
      "Epoch=10/10:  18%|▉    | 8/44 [00:24<01:46,  2.95s/it, acc=0.998, loss=0.000552]"
     ]
    },
    {
     "name": "stdout",
     "output_type": "stream",
     "text": [
      "Number of data items used in training: 1024\n"
     ]
    },
    {
     "name": "stderr",
     "output_type": "stream",
     "text": [
      "Epoch=10/10:  20%|█    | 9/44 [00:27<01:43,  2.95s/it, acc=0.998, loss=0.000496]"
     ]
    },
    {
     "name": "stdout",
     "output_type": "stream",
     "text": [
      "Number of data items used in training: 1152\n"
     ]
    },
    {
     "name": "stderr",
     "output_type": "stream",
     "text": [
      "Epoch=10/10:  23%|▉   | 10/44 [00:30<01:40,  2.94s/it, acc=0.998, loss=0.000653]"
     ]
    },
    {
     "name": "stdout",
     "output_type": "stream",
     "text": [
      "Number of data items used in training: 1280\n"
     ]
    },
    {
     "name": "stderr",
     "output_type": "stream",
     "text": [
      "Epoch=10/10:  25%|█   | 11/44 [00:33<01:37,  2.94s/it, acc=0.999, loss=0.000499]"
     ]
    },
    {
     "name": "stdout",
     "output_type": "stream",
     "text": [
      "Number of data items used in training: 1408\n"
     ]
    },
    {
     "name": "stderr",
     "output_type": "stream",
     "text": [
      "Epoch=10/10:  27%|█▋    | 12/44 [00:36<01:34,  2.94s/it, acc=0.999, loss=0.0012]"
     ]
    },
    {
     "name": "stdout",
     "output_type": "stream",
     "text": [
      "Number of data items used in training: 1536\n"
     ]
    },
    {
     "name": "stderr",
     "output_type": "stream",
     "text": [
      "Epoch=10/10:  30%|█▍   | 13/44 [00:38<01:31,  2.94s/it, acc=0.999, loss=0.00112]"
     ]
    },
    {
     "name": "stdout",
     "output_type": "stream",
     "text": [
      "Number of data items used in training: 1664\n"
     ]
    },
    {
     "name": "stderr",
     "output_type": "stream",
     "text": [
      "Epoch=10/10:  32%|█▉    | 14/44 [00:41<01:27,  2.93s/it, acc=0.999, loss=0.0013]"
     ]
    },
    {
     "name": "stdout",
     "output_type": "stream",
     "text": [
      "Number of data items used in training: 1792\n"
     ]
    },
    {
     "name": "stderr",
     "output_type": "stream",
     "text": [
      "Epoch=10/10:  34%|█▎  | 15/44 [00:44<01:25,  2.96s/it, acc=0.999, loss=0.000357]"
     ]
    },
    {
     "name": "stdout",
     "output_type": "stream",
     "text": [
      "Number of data items used in training: 1920\n"
     ]
    },
    {
     "name": "stderr",
     "output_type": "stream",
     "text": [
      "Epoch=10/10:  36%|█▍  | 16/44 [00:47<01:22,  2.95s/it, acc=0.999, loss=0.000569]"
     ]
    },
    {
     "name": "stdout",
     "output_type": "stream",
     "text": [
      "Number of data items used in training: 2048\n"
     ]
    },
    {
     "name": "stderr",
     "output_type": "stream",
     "text": [
      "Epoch=10/10:  39%|█▉   | 17/44 [00:50<01:19,  2.94s/it, acc=0.999, loss=0.00944]"
     ]
    },
    {
     "name": "stdout",
     "output_type": "stream",
     "text": [
      "Number of data items used in training: 2176\n"
     ]
    },
    {
     "name": "stderr",
     "output_type": "stream",
     "text": [
      "Epoch=10/10:  41%|█▋  | 18/44 [00:53<01:16,  2.95s/it, acc=0.999, loss=0.000331]"
     ]
    },
    {
     "name": "stdout",
     "output_type": "stream",
     "text": [
      "Number of data items used in training: 2304\n"
     ]
    },
    {
     "name": "stderr",
     "output_type": "stream",
     "text": [
      "Epoch=10/10:  43%|██▏  | 19/44 [00:56<01:13,  2.95s/it, acc=0.999, loss=0.00107]"
     ]
    },
    {
     "name": "stdout",
     "output_type": "stream",
     "text": [
      "Number of data items used in training: 2432\n"
     ]
    },
    {
     "name": "stderr",
     "output_type": "stream",
     "text": [
      "Epoch=10/10:  45%|█▊  | 20/44 [00:59<01:10,  2.94s/it, acc=0.999, loss=0.000447]"
     ]
    },
    {
     "name": "stdout",
     "output_type": "stream",
     "text": [
      "Number of data items used in training: 2560\n"
     ]
    },
    {
     "name": "stderr",
     "output_type": "stream",
     "text": [
      "Epoch=10/10:  48%|██▊   | 21/44 [01:02<01:07,  2.94s/it, acc=0.999, loss=0.0198]"
     ]
    },
    {
     "name": "stdout",
     "output_type": "stream",
     "text": [
      "Number of data items used in training: 2688\n"
     ]
    },
    {
     "name": "stderr",
     "output_type": "stream",
     "text": [
      "Epoch=10/10:  50%|██  | 22/44 [01:05<01:04,  2.93s/it, acc=0.999, loss=0.000408]"
     ]
    },
    {
     "name": "stdout",
     "output_type": "stream",
     "text": [
      "Number of data items used in training: 2816\n"
     ]
    },
    {
     "name": "stderr",
     "output_type": "stream",
     "text": [
      "Epoch=10/10:  52%|███▏  | 23/44 [01:08<01:01,  2.95s/it, acc=0.998, loss=0.0146]"
     ]
    },
    {
     "name": "stdout",
     "output_type": "stream",
     "text": [
      "Number of data items used in training: 2944\n"
     ]
    },
    {
     "name": "stderr",
     "output_type": "stream",
     "text": [
      "Epoch=10/10:  55%|██▏ | 24/44 [01:11<00:58,  2.94s/it, acc=0.998, loss=0.000638]"
     ]
    },
    {
     "name": "stdout",
     "output_type": "stream",
     "text": [
      "Number of data items used in training: 3072\n"
     ]
    },
    {
     "name": "stderr",
     "output_type": "stream",
     "text": [
      "Epoch=10/10:  57%|██▊  | 25/44 [01:14<00:55,  2.94s/it, acc=0.998, loss=0.00231]"
     ]
    },
    {
     "name": "stdout",
     "output_type": "stream",
     "text": [
      "Number of data items used in training: 3200\n"
     ]
    },
    {
     "name": "stderr",
     "output_type": "stream",
     "text": [
      "Epoch=10/10:  59%|███▌  | 26/44 [01:17<00:52,  2.93s/it, acc=0.998, loss=0.0005]"
     ]
    },
    {
     "name": "stdout",
     "output_type": "stream",
     "text": [
      "Number of data items used in training: 3328\n"
     ]
    },
    {
     "name": "stderr",
     "output_type": "stream",
     "text": [
      "Epoch=10/10:  61%|███  | 27/44 [01:20<00:49,  2.93s/it, acc=0.998, loss=0.00127]"
     ]
    },
    {
     "name": "stdout",
     "output_type": "stream",
     "text": [
      "Number of data items used in training: 3456\n"
     ]
    },
    {
     "name": "stderr",
     "output_type": "stream",
     "text": [
      "Epoch=10/10:  64%|███▊  | 28/44 [01:23<00:46,  2.93s/it, acc=0.998, loss=0.0111]"
     ]
    },
    {
     "name": "stdout",
     "output_type": "stream",
     "text": [
      "Number of data items used in training: 3584\n"
     ]
    },
    {
     "name": "stderr",
     "output_type": "stream",
     "text": [
      "Epoch=10/10:  66%|███▉  | 29/44 [01:25<00:43,  2.92s/it, acc=0.998, loss=0.0701]"
     ]
    },
    {
     "name": "stdout",
     "output_type": "stream",
     "text": [
      "Number of data items used in training: 3712\n"
     ]
    },
    {
     "name": "stderr",
     "output_type": "stream",
     "text": [
      "Epoch=10/10:  68%|██▋ | 30/44 [01:28<00:40,  2.93s/it, acc=0.998, loss=0.000786]"
     ]
    },
    {
     "name": "stdout",
     "output_type": "stream",
     "text": [
      "Number of data items used in training: 3840\n"
     ]
    },
    {
     "name": "stderr",
     "output_type": "stream",
     "text": [
      "Epoch=10/10:  70%|████▏ | 31/44 [01:31<00:38,  2.92s/it, acc=0.997, loss=0.0187]"
     ]
    },
    {
     "name": "stdout",
     "output_type": "stream",
     "text": [
      "Number of data items used in training: 3968\n"
     ]
    },
    {
     "name": "stderr",
     "output_type": "stream",
     "text": [
      "Epoch=10/10:  73%|███▋ | 32/44 [01:34<00:35,  2.92s/it, acc=0.998, loss=0.00286]"
     ]
    },
    {
     "name": "stdout",
     "output_type": "stream",
     "text": [
      "Number of data items used in training: 4096\n"
     ]
    },
    {
     "name": "stderr",
     "output_type": "stream",
     "text": [
      "Epoch=10/10:  75%|███ | 33/44 [01:37<00:32,  2.92s/it, acc=0.998, loss=0.000475]"
     ]
    },
    {
     "name": "stdout",
     "output_type": "stream",
     "text": [
      "Number of data items used in training: 4224\n"
     ]
    },
    {
     "name": "stderr",
     "output_type": "stream",
     "text": [
      "Epoch=10/10:  77%|███▊ | 34/44 [01:40<00:29,  2.92s/it, acc=0.998, loss=0.00217]"
     ]
    },
    {
     "name": "stdout",
     "output_type": "stream",
     "text": [
      "Number of data items used in training: 4352\n"
     ]
    },
    {
     "name": "stderr",
     "output_type": "stream",
     "text": [
      "Epoch=10/10:  80%|████▊ | 35/44 [01:43<00:26,  2.93s/it, acc=0.998, loss=0.0314]"
     ]
    },
    {
     "name": "stdout",
     "output_type": "stream",
     "text": [
      "Number of data items used in training: 4480\n"
     ]
    },
    {
     "name": "stderr",
     "output_type": "stream",
     "text": [
      "Epoch=10/10:  82%|███▎| 36/44 [01:46<00:23,  2.93s/it, acc=0.998, loss=0.000788]"
     ]
    },
    {
     "name": "stdout",
     "output_type": "stream",
     "text": [
      "Number of data items used in training: 4608\n"
     ]
    },
    {
     "name": "stderr",
     "output_type": "stream",
     "text": [
      "Epoch=10/10:  84%|████▏| 37/44 [01:49<00:20,  2.93s/it, acc=0.998, loss=0.00868]"
     ]
    },
    {
     "name": "stdout",
     "output_type": "stream",
     "text": [
      "Number of data items used in training: 4736\n"
     ]
    },
    {
     "name": "stderr",
     "output_type": "stream",
     "text": [
      "Epoch=10/10:  86%|████▎| 38/44 [01:52<00:17,  2.93s/it, acc=0.998, loss=0.00671]"
     ]
    },
    {
     "name": "stdout",
     "output_type": "stream",
     "text": [
      "Number of data items used in training: 4864\n"
     ]
    },
    {
     "name": "stderr",
     "output_type": "stream",
     "text": [
      "Epoch=10/10:  89%|████▍| 39/44 [01:55<00:14,  2.93s/it, acc=0.998, loss=0.00186]"
     ]
    },
    {
     "name": "stdout",
     "output_type": "stream",
     "text": [
      "Number of data items used in training: 4992\n"
     ]
    },
    {
     "name": "stderr",
     "output_type": "stream",
     "text": [
      "Epoch=10/10:  91%|█████▍| 40/44 [01:58<00:11,  2.94s/it, acc=0.998, loss=0.0018]"
     ]
    },
    {
     "name": "stdout",
     "output_type": "stream",
     "text": [
      "Number of data items used in training: 5120\n"
     ]
    },
    {
     "name": "stderr",
     "output_type": "stream",
     "text": [
      "Epoch=10/10:  93%|█████▌| 41/44 [02:01<00:08,  2.95s/it, acc=0.998, loss=0.0032]"
     ]
    },
    {
     "name": "stdout",
     "output_type": "stream",
     "text": [
      "Number of data items used in training: 5248\n"
     ]
    },
    {
     "name": "stderr",
     "output_type": "stream",
     "text": [
      "Epoch=10/10:  95%|████▊| 42/44 [02:04<00:05,  2.94s/it, acc=0.998, loss=0.00378]"
     ]
    },
    {
     "name": "stdout",
     "output_type": "stream",
     "text": [
      "Number of data items used in training: 5376\n"
     ]
    },
    {
     "name": "stderr",
     "output_type": "stream",
     "text": [
      "Epoch=10/10:  98%|████▉| 43/44 [02:07<00:02,  2.94s/it, acc=0.998, loss=0.00236]"
     ]
    },
    {
     "name": "stdout",
     "output_type": "stream",
     "text": [
      "Number of data items used in training: 5504\n"
     ]
    },
    {
     "name": "stderr",
     "output_type": "stream",
     "text": [
      "Epoch=10/10: 100%|████| 44/44 [02:07<00:00,  2.91s/it, acc=0.998, loss=0.000201]\n"
     ]
    },
    {
     "name": "stdout",
     "output_type": "stream",
     "text": [
      "Number of data items used in training: 5536\n"
     ]
    },
    {
     "name": "stderr",
     "output_type": "stream",
     "text": [
      "                                                                                \r"
     ]
    },
    {
     "name": "stdout",
     "output_type": "stream",
     "text": [
      "The current model is tested on 1384 testing data items.\n",
      "Accuracy after training this epoch in testing data is: 0.8952312138728323\n",
      "Loss after training this epoch in testing data is: 0.3341759145259857\n"
     ]
    },
    {
     "data": {
      "image/png": "[encoded data removed]",
      "text/plain": [
       "<Figure size 640x480 with 1 Axes>"
      ]
     },
     "metadata": {},
     "output_type": "display_data"
    },
    {
     "data": {
      "image/png": "[encoded data removed]",
      "text/plain": [
       "<Figure size 640x480 with 1 Axes>"
      ]
     },
     "metadata": {},
     "output_type": "display_data"
    }
   ],
   "source": [
    "model=finetune(10, dataloader, model, loss_fn, optimizer)"
   ]
  },
  {
   "cell_type": "markdown",
   "id": "15d064a1",
   "metadata": {},
   "source": [
    "Our training is done! As can be seen from the result, the classifier can achieve an accuracy of around 90% on the validation dataset. This shows how BERT can also be used in sentiment analysis area: it can help us determine the sentiment expressed in a given piece of text, and achieve good testing results.\n",
    "\n",
    "References:\n",
    "\n",
    "https://luv-bansal.medium.com/fine-tuning-bert-for-text-classification-in-pytorch-503d97342db2\n",
    "\n",
    "https://colab.research.google.com/github/jalammar/jalammar.github.io/blob/master/notebooks/bert/A_Visual_Notebook_to_Using_BERT_for_the_First_Time.ipynb"
   ]
  }
 ],
 "metadata": {
  "kernelspec": {
   "display_name": "Python 3 (ipykernel)",
   "language": "python",
   "name": "python3"
  },
  "language_info": {
   "codemirror_mode": {
    "name": "ipython",
    "version": 3
   },
   "file_extension": ".py",
   "mimetype": "text/x-python",
   "name": "python",
   "nbconvert_exporter": "python",
   "pygments_lexer": "ipython3",
   "version": "3.10.11"
  }
 },
 "nbformat": 4,
 "nbformat_minor": 5
}
