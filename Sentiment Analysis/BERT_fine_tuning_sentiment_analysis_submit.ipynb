{
 "cells": [
  {
   "cell_type": "markdown",
   "id": "688bf3e3",
   "metadata": {},
   "source": [
    "The task is to classify a given movie comment as either positive comment (class 1) or negative comment (class 0). Below model invokes Bert model from transformers module, fine-tunes it with one more linear layer added to do the classification task on a set of movie comments.\n",
    "The dataset used to train the model is SST2 training set, which contains 6920 movie comments, each labeled as 1 (positive comments) or 0 (negative comments).\n",
    "The data is split into 2 halves, with the first half used for training, and the second half used for testing.\n",
    "Some of the codes are referenced from:\n",
    "https://luv-bansal.medium.com/fine-tuning-bert-for-text-classification-in-pytorch-503d97342db2\n",
    "But with the following main enhancement:\n",
    "1. GPU is enabled to allow faster running of the program.\n",
    "2. Data is split into two subsets, with one for training and another for validation. The training/validation ratio can be set in the BertDataset class, with a number between 0 and 1. In this program, we set the ratio to be 0.8: 80% of the data for training, and 20% for validation.\n",
    "3. A model_testing function is added, where after each epoch of the fine-tuning process, the model is validated on the validation data to see its performance scores: accuracy and loss.\n",
    "4. Visualization is added to check the accuracy and loss for each epoch.\n",
    "5. The hyperparameteres are fine-tuned as well, and we finally come up with learning rate=0.001, opitmizer method=Adam, and epoch=10.\n",
    "6. Finally, we use the 10 testing data in testing_data.csv to test the model, and find that all of them are predicted correctly."
   ]
  },
  {
   "cell_type": "markdown",
   "id": "af3df278",
   "metadata": {},
   "source": [
    "Step1: check if GPU is enabled with Pytorch. \n",
    "\n",
    "If it shows tensor([1.], device='mps:0'), then GPU is enabled."
   ]
  },
  {
   "cell_type": "code",
   "execution_count": 1,
   "id": "5114295b",
   "metadata": {},
   "outputs": [
    {
     "name": "stdout",
     "output_type": "stream",
     "text": [
      "tensor([1.], device='mps:0')\n"
     ]
    }
   ],
   "source": [
    "import torch\n",
    "if torch.backends.mps.is_available():\n",
    "    mps_device = torch.device(\"mps\")\n",
    "    x = torch.ones(1, device=mps_device)\n",
    "    print (x)\n",
    "else:\n",
    "    print (\"MPS device not found.\")"
   ]
  },
  {
   "cell_type": "markdown",
   "id": "49efb934",
   "metadata": {},
   "source": [
    "Step2: import the necessary modules. \n",
    "\n",
    "Note that the transformers module in Python is a powerful open-source library developed by Hugging Face. It provides a wide range of state-of-the-art pre-trained models for natural language processing (NLP) tasks, including BERT. In this notebook, I will load BERT base (uncased) from transformers module, and fine tune it to perform the task for sentiment analysis."
   ]
  },
  {
   "cell_type": "code",
   "execution_count": 2,
   "id": "a321c438",
   "metadata": {},
   "outputs": [
    {
     "name": "stderr",
     "output_type": "stream",
     "text": [
      "/Users/susieli/anaconda3/lib/python3.10/site-packages/tqdm/auto.py:21: TqdmWarning: IProgress not found. Please update jupyter and ipywidgets. See https://ipywidgets.readthedocs.io/en/stable/user_install.html\n",
      "  from .autonotebook import tqdm as notebook_tqdm\n"
     ]
    }
   ],
   "source": [
    "import matplotlib.pyplot as plt\n",
    "from tabulate import tabulate\n",
    "import pandas as pd\n",
    "import numpy as np\n",
    "import transformers\n",
    "import torch.nn as nn\n",
    "from torch.utils.data import Dataset\n",
    "from torch.utils.data import DataLoader\n",
    "import torch.optim as optim\n",
    "import torch.nn.functional as F\n",
    "from torchsummary import summary\n",
    "from tqdm import tqdm"
   ]
  },
  {
   "cell_type": "markdown",
   "id": "0aa05797",
   "metadata": {},
   "source": [
    "Step3: load the dataset. \n",
    "\n",
    "The dataset will be divided into training set and validation set, based on the splitting ratio defined. For each data row in the dataset (that is, one movie comment), it will be tokenized and padded into a vector of length 100. For each input of a movie comment data item, the BertDataset class will return:\n",
    "\n",
    "ids: the tokenized and encoded sequence in the form of token IDs.\n",
    "\n",
    "mask: the attention_mask, which is a binary mask that specifies which tokens in the sequence should be attended to (1) and which ones should be ignored (0).\n",
    "\n",
    "token_type_ids: the token type information, which distinguishes between different segments or sentences within a sequence. \n",
    "\n",
    "target: the data item's label (whether positive or negative).\n",
    "\n",
    "After the prepared data is returned, it will then be loaded to the dataloader, and sent to the fine-tuning model for model training purposes."
   ]
  },
  {
   "cell_type": "code",
   "execution_count": 3,
   "id": "29f9cf87",
   "metadata": {},
   "outputs": [
    {
     "name": "stdout",
     "output_type": "stream",
     "text": [
      "total number of data items in the database: 6920\n",
      "we retain half of the data for training: 5536\n",
      "max size of each tokenized data is: 100\n",
      "\n",
      "total number of data items in the database: 6920\n",
      "we retain half of the data for validation: 1384\n",
      "max size of each tokenized data is: 100\n",
      "\n"
     ]
    }
   ],
   "source": [
    "class BertDataset(Dataset):\n",
    "    def __init__(self, tokenizer,max_length, data_type, training_ratio):\n",
    "        super(BertDataset, self).__init__()\n",
    "        self.data_type=data_type\n",
    "        self.training_ratio=training_ratio\n",
    "        #self.root_dir=root_dir\n",
    "        self.train_csv=pd.read_csv('https://github.com/clairett/pytorch-sentiment-classification/raw/master/data/SST2/train.tsv', delimiter='\\t', header=None)\n",
    "        print(\"total number of data items in the database: \"+str(len(self.train_csv)))\n",
    "        if self.data_type==\"train\":\n",
    "            self.train_csv=self.train_csv[:int(len(self.train_csv)*self.training_ratio)]\n",
    "            print(\"we retain half of the data for training: \" +str(len(self.train_csv)))\n",
    "        elif self.data_type==\"validate\":\n",
    "            self.train_csv=self.train_csv[int(len(self.train_csv)*self.training_ratio):]\n",
    "            print(\"we retain half of the data for validation: \"+str(len(self.train_csv)))\n",
    "        self.tokenizer=tokenizer\n",
    "        self.target=self.train_csv.iloc[:,1]\n",
    "        self.max_length=max_length\n",
    "        print(\"max size of each tokenized data is: \"+str(max_length)+\"\\n\")\n",
    "        \n",
    "    def __len__(self):\n",
    "        return len(self.train_csv)\n",
    "    \n",
    "    def __getitem__(self, index):\n",
    "        \n",
    "        text1 = self.train_csv.iloc[index,0]\n",
    "        \n",
    "        inputs = self.tokenizer.encode_plus(\n",
    "            text1 ,\n",
    "            None,\n",
    "            pad_to_max_length=True,\n",
    "            add_special_tokens=True,\n",
    "            return_attention_mask=True,\n",
    "            max_length=self.max_length,\n",
    "        )\n",
    "        ids = inputs[\"input_ids\"]\n",
    "        token_type_ids = inputs[\"token_type_ids\"]\n",
    "        mask = inputs[\"attention_mask\"]\n",
    "\n",
    "        return {\n",
    "            'ids': torch.tensor(ids, dtype=torch.long),\n",
    "            'mask': torch.tensor(mask, dtype=torch.long),\n",
    "            'token_type_ids': torch.tensor(token_type_ids, dtype=torch.long),\n",
    "            'target': torch.tensor(self.train_csv.iloc[index, 1], dtype=torch.long)\n",
    "            }\n",
    "tokenizer = transformers.BertTokenizer.from_pretrained(\"bert-base-uncased\")\n",
    "\n",
    "\n",
    "dataset= BertDataset(tokenizer, max_length=100, data_type=\"train\",training_ratio=0.8)\n",
    "\n",
    "dataset_test=BertDataset(tokenizer, max_length=100, data_type=\"validate\", training_ratio=0.8)\n",
    "\n",
    "\n",
    "dataloader=DataLoader(dataset=dataset,batch_size=128)\n",
    "\n",
    "dataloader_test=DataLoader(dataset=dataset_test,batch_size=128)\n"
   ]
  },
  {
   "cell_type": "markdown",
   "id": "c0b88aff",
   "metadata": {},
   "source": [
    "Step4: Build the model.\n",
    "\n",
    "The model is based on BERT base uncased, with an additional linear layer added.\n",
    "\n",
    "Note that the output of BERT model, the \"o2\" captures the representation of the [CLS] token, which is often used as a summary representation of the entire input sequence.In this case, the hidden size is 768, which is a common value for BERT models based on the bert-base-uncased configuration.\n",
    "\n",
    "The 768-dimensional output is the used as input to the linear layer, to generate a single output value, which will then be used in the binary classification task.\n",
    "\n"
   ]
  },
  {
   "cell_type": "code",
   "execution_count": 4,
   "id": "037d8511",
   "metadata": {},
   "outputs": [
    {
     "name": "stderr",
     "output_type": "stream",
     "text": [
      "Some weights of the model checkpoint at bert-base-uncased were not used when initializing BertModel: ['cls.seq_relationship.weight', 'cls.predictions.transform.LayerNorm.weight', 'cls.predictions.bias', 'cls.predictions.transform.dense.bias', 'cls.seq_relationship.bias', 'cls.predictions.transform.LayerNorm.bias', 'cls.predictions.transform.dense.weight']\n",
      "- This IS expected if you are initializing BertModel from the checkpoint of a model trained on another task or with another architecture (e.g. initializing a BertForSequenceClassification model from a BertForPreTraining model).\n",
      "- This IS NOT expected if you are initializing BertModel from the checkpoint of a model that you expect to be exactly identical (initializing a BertForSequenceClassification model from a BertForSequenceClassification model).\n"
     ]
    }
   ],
   "source": [
    "class BERT(nn.Module):\n",
    "    def __init__(self):\n",
    "        super(BERT, self).__init__()\n",
    "        self.bert_model = transformers.BertModel.from_pretrained(\"bert-base-uncased\")\n",
    "        self.out = nn.Linear(768, 1)\n",
    "        \n",
    "    def forward(self,ids,mask,token_type_ids):\n",
    "        _,o2= self.bert_model(ids,attention_mask=mask,token_type_ids=token_type_ids, return_dict=False)\n",
    "        \n",
    "        out= self.out(o2)\n",
    "        \n",
    "        return out\n",
    "    \n",
    "model=BERT()\n",
    "model.to(mps_device)\n",
    "loss_fn = nn.BCEWithLogitsLoss()\n",
    "optimizer= optim.Adam(model.parameters(),lr= 0.0001)"
   ]
  },
  {
   "cell_type": "markdown",
   "id": "2f54f0b3",
   "metadata": {},
   "source": [
    "Step 5: Train the model!\n",
    "\n",
    "In below codes, I first set param.requires_grad to be True, so that it ensures that all parameters in the BERT model are trainable and will have their gradients computed and updated during backpropagation and optimization.\n",
    "\n",
    "Then I define the model_testing function that returns the loss and accuracy for a given set of data loaded to the model.\n",
    "\n",
    "Finally I define the finetune function that uses the feed-forward backpropagation algorithm to train our BERT-classifier model!\n",
    "\n",
    "Note that:\n",
    "I use the BCEWithLogitsLoss to calculate the loss, which is by definition: loss = - (y_true * log(sigmoid(y_pred)) + (1 - y_true) * log(1 - sigmoid(y_pred))).\n",
    "\n",
    "I use the Adam optimizer, which is a popular optimization algorithm and an extension of the stochastic gradient descent (SGD) algorithm that incorporates adaptive learning rates for each parameter. Adam adjusts the learning rate dynamically based on the past gradients, allowing it to converge faster and handle different types of parameters more effectively.\n",
    "\n",
    "The backpropagation is done by batch: after each batch of data is fed forward, the model calculates the loss and adjusts all the parameters backwards.\n",
    "\n",
    "At the end of all epochs, visualization is done to show the accuracy and loss of the trained model on both training data and validation data after each epoch of training."
   ]
  },
  {
   "cell_type": "code",
   "execution_count": 5,
   "id": "e3021491",
   "metadata": {},
   "outputs": [],
   "source": [
    "for param in model.bert_model.parameters():\n",
    "    param.requires_grad = True"
   ]
  },
  {
   "cell_type": "code",
   "execution_count": 10,
   "id": "ed4192b3",
   "metadata": {},
   "outputs": [],
   "source": [
    "def model_testing(dataloader, model, loss_fn):\n",
    "    loop=tqdm(enumerate(dataloader),leave=False,total=len(dataloader))\n",
    "    pred_all_test=np.empty((0,1))\n",
    "    label_all_test=np.empty((0,1))\n",
    "    for batch, dl in loop:\n",
    "        dl = {'ids': dl['ids'].to(mps_device), \n",
    "                 'token_type_ids': dl['token_type_ids'].to(mps_device),\n",
    "                 'mask':dl['mask'].to(mps_device),\n",
    "                 'target': dl['target'].to(mps_device)}\n",
    "        ids=dl['ids']\n",
    "        token_type_ids=dl['token_type_ids']\n",
    "        mask= dl['mask']\n",
    "        label=dl['target']\n",
    "        label = label.unsqueeze(1)\n",
    "\n",
    "        output=model(\n",
    "            ids=ids,\n",
    "            mask=mask,\n",
    "            token_type_ids=token_type_ids)\n",
    "\n",
    "\n",
    "        label = label.type_as(output)\n",
    "\n",
    "        loss=loss_fn(output,label)\n",
    "\n",
    "        output=output.cpu().detach().numpy()\n",
    "        label=label.cpu().detach().numpy()\n",
    "        label_all_test=np.concatenate((label_all_test, label),axis=0)\n",
    "\n",
    "        pred = np.where(output >= 0, 1, 0)\n",
    "        pred_all_test=np.concatenate((pred_all_test, pred), axis=0)\n",
    "\n",
    "        num_correct = sum(1 for a, b in zip(pred_all_test, label_all_test) if a[0] == b[0])\n",
    "        num_samples = pred_all_test.shape[0]\n",
    "        accuracy = num_correct/num_samples\n",
    "    print(\"The current model is tested on {} testing data items.\".format(len(pred_all_test)))    \n",
    "    print(\"Accuracy after training this epoch in testing data is: \"+str(accuracy))\n",
    "    print(\"Loss after training this epoch in testing data is: \"+str(loss.item()))\n",
    "        \n",
    "    return accuracy, float(loss.item()), pred_all_test\n",
    "    "
   ]
  },
  {
   "cell_type": "code",
   "execution_count": 7,
   "id": "9307fe86",
   "metadata": {},
   "outputs": [],
   "source": [
    "def finetune(epochs,dataloader,model,loss_fn,optimizer):\n",
    "    model.train()\n",
    "    training_acc=[]\n",
    "    testing_acc=[]\n",
    "    training_loss=[]\n",
    "    testing_loss=[]\n",
    "    \n",
    "    for  epoch in range(epochs):\n",
    "        pred_all=np.empty((0,1))\n",
    "        label_all=np.empty((0,1))\n",
    "        print(\"Starting epoch: \"+str(epoch+1))\n",
    "        \n",
    "        loop=tqdm(enumerate(dataloader),leave=True,total=len(dataloader))\n",
    "        for batch, dl in loop:\n",
    "            dl = {'ids': dl['ids'].to(mps_device), \n",
    "                     'token_type_ids': dl['token_type_ids'].to(mps_device),\n",
    "                     'mask':dl['mask'].to(mps_device),\n",
    "                     'target': dl['target'].to(mps_device)}\n",
    "            ids=dl['ids']\n",
    "            token_type_ids=dl['token_type_ids']\n",
    "            mask= dl['mask']\n",
    "            label=dl['target']\n",
    "            label = label.unsqueeze(1)\n",
    "            \n",
    "            optimizer.zero_grad()\n",
    "            \n",
    "            output=model(\n",
    "                ids=ids,\n",
    "                mask=mask,\n",
    "                token_type_ids=token_type_ids)\n",
    "\n",
    "            \n",
    "            label = label.type_as(output)\n",
    "\n",
    "            loss=loss_fn(output,label)\n",
    "            loss.backward()\n",
    "            \n",
    "            optimizer.step()\n",
    "            \n",
    "            output=output.cpu().detach().numpy()\n",
    "            label=label.cpu().detach().numpy()\n",
    "            label_all=np.concatenate((label_all, label),axis=0)\n",
    "\n",
    "            pred = np.where(output >= 0, 1, 0)\n",
    "            pred_all=np.concatenate((pred_all, pred), axis=0)\n",
    "            \n",
    "            print(\"Number of data items used in training: \"+str(len(pred_all)))\n",
    "\n",
    "            num_correct = sum(1 for a, b in zip(pred_all, label_all) if a[0] == b[0])\n",
    "            num_samples = pred_all.shape[0]\n",
    "            accuracy = num_correct/num_samples\n",
    "            \n",
    "            \n",
    "            # Show progress while training\n",
    "            loop.set_description(f'Epoch={epoch+1}/{epochs}')\n",
    "            loop.set_postfix(loss=loss.item(),acc=accuracy)\n",
    "        \n",
    "        training_acc.append(accuracy)\n",
    "        training_loss.append(float(loss.item()))\n",
    "        testing_acc_v,testing_loss_v,_=model_testing(dataloader_test,model, loss_fn)\n",
    "        testing_acc.append(testing_acc_v)\n",
    "        testing_loss.append(testing_loss_v)\n",
    "    \n",
    "    #Visualization after all epochs are done\n",
    "    epochs_num = range(1, len(training_acc) + 1)\n",
    "    plt.plot(epochs_num, training_loss, 'bo', label='Training loss')\n",
    "    plt.plot(epochs_num, testing_loss, 'b', label='Validation loss')\n",
    "\n",
    "    plt.title('Training and validation loss')\n",
    "    plt.xlabel('Epochs')\n",
    "    plt.ylabel('Loss')\n",
    "    plt.legend()\n",
    "    plt.show()\n",
    "\n",
    "    plt.plot(epochs_num, training_acc, 'bo', label='Training acc')\n",
    "    plt.plot(epochs_num, testing_acc, 'b', label='Validation acc')\n",
    "    plt.title('Training and validation accuracy')\n",
    "    plt.xlabel('Epochs')\n",
    "    plt.ylabel('Accuracy')\n",
    "    plt.legend(loc='lower right')\n",
    "    plt.show()\n",
    "    \n",
    "    table_header=epochs_num\n",
    "    table_row_titles = [\"training accuracy\", \"validation accuracy\", \"training loss\", \"validation loss\"]\n",
    "    table_data=[training_acc, testing_acc, training_loss, testing_loss]\n",
    "    table = [table_header] + [[title] + row for title, row in zip(table_row_titles, table_data)]\n",
    "    print(tabulate(table, headers=\"firstrow\", tablefmt=\"grid\"))\n",
    "    print(\"==========================\")\n",
    "\n",
    "    \n",
    "    return model"
   ]
  },
  {
   "cell_type": "code",
   "execution_count": 8,
   "id": "fffa1896",
   "metadata": {},
   "outputs": [
    {
     "name": "stdout",
     "output_type": "stream",
     "text": [
      "Starting epoch: 1\n"
     ]
    },
    {
     "name": "stderr",
     "output_type": "stream",
     "text": [
      "  0%|                                                    | 0/44 [00:00<?, ?it/s]Truncation was not explicitly activated but `max_length` is provided a specific value, please use `truncation=True` to explicitly truncate examples to max length. Defaulting to 'longest_first' truncation strategy. If you encode pairs of sequences (GLUE-style) with the tokenizer you can select this strategy more precisely by providing a specific strategy to `truncation`.\n",
      "/Users/susieli/anaconda3/lib/python3.10/site-packages/transformers/tokenization_utils_base.py:2377: FutureWarning: The `pad_to_max_length` argument is deprecated and will be removed in a future version, use `padding=True` or `padding='longest'` to pad to the longest sequence in the batch, or use `padding='max_length'` to pad to a max length. In this case, you can give a specific length with `max_length` (e.g. `max_length=45`) or leave max_length to None to pad to the maximal input size of the model (e.g. 512 for Bert).\n",
      "  warnings.warn(\n",
      "Epoch=1/20:   2%|▏        | 1/44 [00:05<03:51,  5.39s/it, acc=0.398, loss=0.708]"
     ]
    },
    {
     "name": "stdout",
     "output_type": "stream",
     "text": [
      "Number of data items used in training: 128\n"
     ]
    },
    {
     "name": "stderr",
     "output_type": "stream",
     "text": [
      "Epoch=1/20:   5%|▍         | 2/44 [00:08<02:46,  3.96s/it, acc=0.473, loss=0.69]"
     ]
    },
    {
     "name": "stdout",
     "output_type": "stream",
     "text": [
      "Number of data items used in training: 256\n"
     ]
    },
    {
     "name": "stderr",
     "output_type": "stream",
     "text": [
      "Epoch=1/20:   7%|▌        | 3/44 [00:11<02:22,  3.48s/it, acc=0.477, loss=0.693]"
     ]
    },
    {
     "name": "stdout",
     "output_type": "stream",
     "text": [
      "Number of data items used in training: 384\n"
     ]
    },
    {
     "name": "stderr",
     "output_type": "stream",
     "text": [
      "Epoch=1/20:   9%|▊        | 4/44 [00:14<02:10,  3.26s/it, acc=0.484, loss=0.682]"
     ]
    },
    {
     "name": "stdout",
     "output_type": "stream",
     "text": [
      "Number of data items used in training: 512\n"
     ]
    },
    {
     "name": "stderr",
     "output_type": "stream",
     "text": [
      "Epoch=1/20:  11%|█        | 5/44 [00:17<02:02,  3.14s/it, acc=0.495, loss=0.669]"
     ]
    },
    {
     "name": "stdout",
     "output_type": "stream",
     "text": [
      "Number of data items used in training: 640\n"
     ]
    },
    {
     "name": "stderr",
     "output_type": "stream",
     "text": [
      "Epoch=1/20:  14%|█▏       | 6/44 [00:20<01:56,  3.07s/it, acc=0.518, loss=0.629]"
     ]
    },
    {
     "name": "stdout",
     "output_type": "stream",
     "text": [
      "Number of data items used in training: 768\n"
     ]
    },
    {
     "name": "stderr",
     "output_type": "stream",
     "text": [
      "Epoch=1/20:  16%|█▍       | 7/44 [00:22<01:51,  3.02s/it, acc=0.523, loss=0.658]"
     ]
    },
    {
     "name": "stdout",
     "output_type": "stream",
     "text": [
      "Number of data items used in training: 896\n"
     ]
    },
    {
     "name": "stderr",
     "output_type": "stream",
     "text": [
      "Epoch=1/20:  18%|█▋       | 8/44 [00:25<01:47,  3.00s/it, acc=0.561, loss=0.595]"
     ]
    },
    {
     "name": "stdout",
     "output_type": "stream",
     "text": [
      "Number of data items used in training: 1024\n"
     ]
    },
    {
     "name": "stderr",
     "output_type": "stream",
     "text": [
      "Epoch=1/20:  20%|█▊       | 9/44 [00:28<01:44,  2.98s/it, acc=0.588, loss=0.546]"
     ]
    },
    {
     "name": "stdout",
     "output_type": "stream",
     "text": [
      "Number of data items used in training: 1152\n"
     ]
    },
    {
     "name": "stderr",
     "output_type": "stream",
     "text": [
      "Epoch=1/20:  23%|█▊      | 10/44 [00:31<01:40,  2.97s/it, acc=0.616, loss=0.461]"
     ]
    },
    {
     "name": "stdout",
     "output_type": "stream",
     "text": [
      "Number of data items used in training: 1280\n"
     ]
    },
    {
     "name": "stderr",
     "output_type": "stream",
     "text": [
      "Epoch=1/20:  25%|██      | 11/44 [00:34<01:37,  2.96s/it, acc=0.632, loss=0.505]"
     ]
    },
    {
     "name": "stdout",
     "output_type": "stream",
     "text": [
      "Number of data items used in training: 1408\n"
     ]
    },
    {
     "name": "stderr",
     "output_type": "stream",
     "text": [
      "Epoch=1/20:  27%|██▏     | 12/44 [00:37<01:34,  2.95s/it, acc=0.651, loss=0.389]"
     ]
    },
    {
     "name": "stdout",
     "output_type": "stream",
     "text": [
      "Number of data items used in training: 1536\n"
     ]
    },
    {
     "name": "stderr",
     "output_type": "stream",
     "text": [
      "Epoch=1/20:  30%|██▋      | 13/44 [00:40<01:31,  2.94s/it, acc=0.665, loss=0.39]"
     ]
    },
    {
     "name": "stdout",
     "output_type": "stream",
     "text": [
      "Number of data items used in training: 1664\n"
     ]
    },
    {
     "name": "stderr",
     "output_type": "stream",
     "text": [
      "Epoch=1/20:  32%|██▊      | 14/44 [00:43<01:28,  2.94s/it, acc=0.677, loss=0.41]"
     ]
    },
    {
     "name": "stdout",
     "output_type": "stream",
     "text": [
      "Number of data items used in training: 1792\n"
     ]
    },
    {
     "name": "stderr",
     "output_type": "stream",
     "text": [
      "Epoch=1/20:  34%|██▋     | 15/44 [00:46<01:25,  2.94s/it, acc=0.692, loss=0.287]"
     ]
    },
    {
     "name": "stdout",
     "output_type": "stream",
     "text": [
      "Number of data items used in training: 1920\n"
     ]
    },
    {
     "name": "stderr",
     "output_type": "stream",
     "text": [
      "Epoch=1/20:  36%|██▉     | 16/44 [00:49<01:22,  2.93s/it, acc=0.704, loss=0.278]"
     ]
    },
    {
     "name": "stdout",
     "output_type": "stream",
     "text": [
      "Number of data items used in training: 2048\n"
     ]
    },
    {
     "name": "stderr",
     "output_type": "stream",
     "text": [
      "Epoch=1/20:  39%|███     | 17/44 [00:52<01:19,  2.93s/it, acc=0.712, loss=0.352]"
     ]
    },
    {
     "name": "stdout",
     "output_type": "stream",
     "text": [
      "Number of data items used in training: 2176\n"
     ]
    },
    {
     "name": "stderr",
     "output_type": "stream",
     "text": [
      "Epoch=1/20:  41%|███▋     | 18/44 [00:55<01:16,  2.94s/it, acc=0.723, loss=0.24]"
     ]
    },
    {
     "name": "stdout",
     "output_type": "stream",
     "text": [
      "Number of data items used in training: 2304\n"
     ]
    },
    {
     "name": "stderr",
     "output_type": "stream",
     "text": [
      "Epoch=1/20:  43%|███▍    | 19/44 [00:58<01:13,  2.95s/it, acc=0.729, loss=0.339]"
     ]
    },
    {
     "name": "stdout",
     "output_type": "stream",
     "text": [
      "Number of data items used in training: 2432\n"
     ]
    },
    {
     "name": "stderr",
     "output_type": "stream",
     "text": [
      "Epoch=1/20:  45%|███▋    | 20/44 [01:01<01:10,  2.95s/it, acc=0.738, loss=0.243]"
     ]
    },
    {
     "name": "stdout",
     "output_type": "stream",
     "text": [
      "Number of data items used in training: 2560\n"
     ]
    },
    {
     "name": "stderr",
     "output_type": "stream",
     "text": [
      "Epoch=1/20:  48%|███▊    | 21/44 [01:04<01:07,  2.94s/it, acc=0.745, loss=0.277]"
     ]
    },
    {
     "name": "stdout",
     "output_type": "stream",
     "text": [
      "Number of data items used in training: 2688\n"
     ]
    },
    {
     "name": "stderr",
     "output_type": "stream",
     "text": [
      "Epoch=1/20:  50%|████    | 22/44 [01:07<01:04,  2.94s/it, acc=0.751, loss=0.303]"
     ]
    },
    {
     "name": "stdout",
     "output_type": "stream",
     "text": [
      "Number of data items used in training: 2816\n"
     ]
    },
    {
     "name": "stderr",
     "output_type": "stream",
     "text": [
      "Epoch=1/20:  52%|████▏   | 23/44 [01:09<01:01,  2.94s/it, acc=0.756, loss=0.381]"
     ]
    },
    {
     "name": "stdout",
     "output_type": "stream",
     "text": [
      "Number of data items used in training: 2944\n"
     ]
    },
    {
     "name": "stderr",
     "output_type": "stream",
     "text": [
      "Epoch=1/20:  55%|████▎   | 24/44 [01:12<00:58,  2.95s/it, acc=0.763, loss=0.287]"
     ]
    },
    {
     "name": "stdout",
     "output_type": "stream",
     "text": [
      "Number of data items used in training: 3072\n"
     ]
    },
    {
     "name": "stderr",
     "output_type": "stream",
     "text": [
      "Epoch=1/20:  57%|████▌   | 25/44 [01:15<00:55,  2.95s/it, acc=0.767, loss=0.334]"
     ]
    },
    {
     "name": "stdout",
     "output_type": "stream",
     "text": [
      "Number of data items used in training: 3200\n"
     ]
    },
    {
     "name": "stderr",
     "output_type": "stream",
     "text": [
      "Epoch=1/20:  59%|████▋   | 26/44 [01:18<00:52,  2.94s/it, acc=0.772, loss=0.332]"
     ]
    },
    {
     "name": "stdout",
     "output_type": "stream",
     "text": [
      "Number of data items used in training: 3328\n"
     ]
    },
    {
     "name": "stderr",
     "output_type": "stream",
     "text": [
      "Epoch=1/20:  61%|████▉   | 27/44 [01:21<00:50,  2.94s/it, acc=0.776, loss=0.255]"
     ]
    },
    {
     "name": "stdout",
     "output_type": "stream",
     "text": [
      "Number of data items used in training: 3456\n"
     ]
    },
    {
     "name": "stderr",
     "output_type": "stream",
     "text": [
      "Epoch=1/20:  64%|█████   | 28/44 [01:24<00:47,  2.94s/it, acc=0.779, loss=0.306]"
     ]
    },
    {
     "name": "stdout",
     "output_type": "stream",
     "text": [
      "Number of data items used in training: 3584\n"
     ]
    },
    {
     "name": "stderr",
     "output_type": "stream",
     "text": [
      "Epoch=1/20:  66%|█████▎  | 29/44 [01:27<00:44,  2.93s/it, acc=0.784, loss=0.218]"
     ]
    },
    {
     "name": "stdout",
     "output_type": "stream",
     "text": [
      "Number of data items used in training: 3712\n"
     ]
    },
    {
     "name": "stderr",
     "output_type": "stream",
     "text": [
      "Epoch=1/20:  68%|██████▏  | 30/44 [01:30<00:41,  2.94s/it, acc=0.787, loss=0.24]"
     ]
    },
    {
     "name": "stdout",
     "output_type": "stream",
     "text": [
      "Number of data items used in training: 3840\n"
     ]
    },
    {
     "name": "stderr",
     "output_type": "stream",
     "text": [
      "Epoch=1/20:  70%|█████▋  | 31/44 [01:33<00:38,  2.93s/it, acc=0.791, loss=0.304]"
     ]
    },
    {
     "name": "stdout",
     "output_type": "stream",
     "text": [
      "Number of data items used in training: 3968\n"
     ]
    },
    {
     "name": "stderr",
     "output_type": "stream",
     "text": [
      "Epoch=1/20:  73%|█████▊  | 32/44 [01:36<00:35,  2.93s/it, acc=0.793, loss=0.383]"
     ]
    },
    {
     "name": "stdout",
     "output_type": "stream",
     "text": [
      "Number of data items used in training: 4096\n"
     ]
    },
    {
     "name": "stderr",
     "output_type": "stream",
     "text": [
      "Epoch=1/20:  75%|██████  | 33/44 [01:39<00:32,  2.93s/it, acc=0.795, loss=0.337]"
     ]
    },
    {
     "name": "stdout",
     "output_type": "stream",
     "text": [
      "Number of data items used in training: 4224\n"
     ]
    },
    {
     "name": "stderr",
     "output_type": "stream",
     "text": [
      "Epoch=1/20:  77%|██████▏ | 34/44 [01:42<00:29,  2.93s/it, acc=0.796, loss=0.469]"
     ]
    },
    {
     "name": "stdout",
     "output_type": "stream",
     "text": [
      "Number of data items used in training: 4352\n"
     ]
    },
    {
     "name": "stderr",
     "output_type": "stream",
     "text": [
      "Epoch=1/20:  80%|██████▎ | 35/44 [01:45<00:26,  2.94s/it, acc=0.798, loss=0.333]"
     ]
    },
    {
     "name": "stdout",
     "output_type": "stream",
     "text": [
      "Number of data items used in training: 4480\n"
     ]
    },
    {
     "name": "stderr",
     "output_type": "stream",
     "text": [
      "Epoch=1/20:  82%|███████▎ | 36/44 [01:48<00:23,  2.95s/it, acc=0.801, loss=0.29]"
     ]
    },
    {
     "name": "stdout",
     "output_type": "stream",
     "text": [
      "Number of data items used in training: 4608\n"
     ]
    },
    {
     "name": "stderr",
     "output_type": "stream",
     "text": [
      "Epoch=1/20:  84%|██████▋ | 37/44 [01:51<00:20,  2.94s/it, acc=0.802, loss=0.311]"
     ]
    },
    {
     "name": "stdout",
     "output_type": "stream",
     "text": [
      "Number of data items used in training: 4736\n"
     ]
    },
    {
     "name": "stderr",
     "output_type": "stream",
     "text": [
      "Epoch=1/20:  86%|██████▉ | 38/44 [01:54<00:17,  2.94s/it, acc=0.802, loss=0.401]"
     ]
    },
    {
     "name": "stdout",
     "output_type": "stream",
     "text": [
      "Number of data items used in training: 4864\n"
     ]
    },
    {
     "name": "stderr",
     "output_type": "stream",
     "text": [
      "Epoch=1/20:  89%|███████ | 39/44 [01:56<00:14,  2.93s/it, acc=0.804, loss=0.313]"
     ]
    },
    {
     "name": "stdout",
     "output_type": "stream",
     "text": [
      "Number of data items used in training: 4992\n"
     ]
    },
    {
     "name": "stderr",
     "output_type": "stream",
     "text": [
      "Epoch=1/20:  91%|███████▎| 40/44 [01:59<00:11,  2.93s/it, acc=0.804, loss=0.366]"
     ]
    },
    {
     "name": "stdout",
     "output_type": "stream",
     "text": [
      "Number of data items used in training: 5120\n"
     ]
    },
    {
     "name": "stderr",
     "output_type": "stream",
     "text": [
      "Epoch=1/20:  93%|███████▍| 41/44 [02:02<00:08,  2.93s/it, acc=0.807, loss=0.262]"
     ]
    },
    {
     "name": "stdout",
     "output_type": "stream",
     "text": [
      "Number of data items used in training: 5248\n"
     ]
    },
    {
     "name": "stderr",
     "output_type": "stream",
     "text": [
      "Epoch=1/20:  95%|███████▋| 42/44 [02:05<00:05,  2.93s/it, acc=0.808, loss=0.329]"
     ]
    },
    {
     "name": "stdout",
     "output_type": "stream",
     "text": [
      "Number of data items used in training: 5376\n"
     ]
    },
    {
     "name": "stderr",
     "output_type": "stream",
     "text": [
      "Epoch=1/20:  98%|███████▊| 43/44 [02:08<00:02,  2.93s/it, acc=0.811, loss=0.312]"
     ]
    },
    {
     "name": "stdout",
     "output_type": "stream",
     "text": [
      "Number of data items used in training: 5504\n"
     ]
    },
    {
     "name": "stderr",
     "output_type": "stream",
     "text": [
      "Epoch=1/20: 100%|████████| 44/44 [02:09<00:00,  2.95s/it, acc=0.811, loss=0.249]\n"
     ]
    },
    {
     "name": "stdout",
     "output_type": "stream",
     "text": [
      "Number of data items used in training: 5536\n"
     ]
    },
    {
     "name": "stderr",
     "output_type": "stream",
     "text": [
      "                                                                                \r"
     ]
    },
    {
     "name": "stdout",
     "output_type": "stream",
     "text": [
      "The current model is tested on 1384 testing data items.\n",
      "Accuracy after training this epoch in testing data is: 0.8930635838150289\n",
      "Loss after training this epoch in testing data is: 0.2024480402469635\n",
      "Starting epoch: 2\n"
     ]
    },
    {
     "name": "stderr",
     "output_type": "stream",
     "text": [
      "Epoch=2/20:   2%|▏        | 1/44 [00:04<03:15,  4.55s/it, acc=0.789, loss=0.464]"
     ]
    },
    {
     "name": "stdout",
     "output_type": "stream",
     "text": [
      "Number of data items used in training: 128\n"
     ]
    },
    {
     "name": "stderr",
     "output_type": "stream",
     "text": [
      "Epoch=2/20:   5%|▍        | 2/44 [00:07<02:37,  3.75s/it, acc=0.832, loss=0.261]"
     ]
    },
    {
     "name": "stdout",
     "output_type": "stream",
     "text": [
      "Number of data items used in training: 256\n"
     ]
    },
    {
     "name": "stderr",
     "output_type": "stream",
     "text": [
      "Epoch=2/20:   7%|▌        | 3/44 [00:10<02:20,  3.43s/it, acc=0.852, loss=0.262]"
     ]
    },
    {
     "name": "stdout",
     "output_type": "stream",
     "text": [
      "Number of data items used in training: 384\n"
     ]
    },
    {
     "name": "stderr",
     "output_type": "stream",
     "text": [
      "Epoch=2/20:   9%|▉         | 4/44 [00:13<02:12,  3.32s/it, acc=0.859, loss=0.29]"
     ]
    },
    {
     "name": "stdout",
     "output_type": "stream",
     "text": [
      "Number of data items used in training: 512\n"
     ]
    },
    {
     "name": "stderr",
     "output_type": "stream",
     "text": [
      "Epoch=2/20:  11%|█        | 5/44 [00:17<02:07,  3.26s/it, acc=0.872, loss=0.204]"
     ]
    },
    {
     "name": "stdout",
     "output_type": "stream",
     "text": [
      "Number of data items used in training: 640\n"
     ]
    },
    {
     "name": "stderr",
     "output_type": "stream",
     "text": [
      "Epoch=2/20:  14%|█▎        | 6/44 [00:20<02:08,  3.37s/it, acc=0.876, loss=0.24]"
     ]
    },
    {
     "name": "stdout",
     "output_type": "stream",
     "text": [
      "Number of data items used in training: 768\n"
     ]
    },
    {
     "name": "stderr",
     "output_type": "stream",
     "text": [
      "Epoch=2/20:  16%|█▍       | 7/44 [00:24<02:10,  3.53s/it, acc=0.888, loss=0.163]"
     ]
    },
    {
     "name": "stdout",
     "output_type": "stream",
     "text": [
      "Number of data items used in training: 896\n"
     ]
    },
    {
     "name": "stderr",
     "output_type": "stream",
     "text": [
      "Epoch=2/20:  18%|█▋       | 8/44 [00:28<02:07,  3.55s/it, acc=0.896, loss=0.145]"
     ]
    },
    {
     "name": "stdout",
     "output_type": "stream",
     "text": [
      "Number of data items used in training: 1024\n"
     ]
    },
    {
     "name": "stderr",
     "output_type": "stream",
     "text": [
      "Epoch=2/20:  20%|█▊       | 9/44 [00:31<02:01,  3.46s/it, acc=0.897, loss=0.222]"
     ]
    },
    {
     "name": "stdout",
     "output_type": "stream",
     "text": [
      "Number of data items used in training: 1152\n"
     ]
    },
    {
     "name": "stderr",
     "output_type": "stream",
     "text": [
      "Epoch=2/20:  23%|█▊      | 10/44 [00:34<01:57,  3.47s/it, acc=0.902, loss=0.181]"
     ]
    },
    {
     "name": "stdout",
     "output_type": "stream",
     "text": [
      "Number of data items used in training: 1280\n"
     ]
    },
    {
     "name": "stderr",
     "output_type": "stream",
     "text": [
      "Epoch=2/20:  25%|██      | 11/44 [00:38<01:53,  3.44s/it, acc=0.906, loss=0.141]"
     ]
    },
    {
     "name": "stdout",
     "output_type": "stream",
     "text": [
      "Number of data items used in training: 1408\n"
     ]
    },
    {
     "name": "stderr",
     "output_type": "stream",
     "text": [
      "Epoch=2/20:  27%|██▍      | 12/44 [00:41<01:48,  3.39s/it, acc=0.91, loss=0.122]"
     ]
    },
    {
     "name": "stdout",
     "output_type": "stream",
     "text": [
      "Number of data items used in training: 1536\n"
     ]
    },
    {
     "name": "stderr",
     "output_type": "stream",
     "text": [
      "Epoch=2/20:  30%|██▎     | 13/44 [00:44<01:44,  3.36s/it, acc=0.912, loss=0.203]"
     ]
    },
    {
     "name": "stdout",
     "output_type": "stream",
     "text": [
      "Number of data items used in training: 1664\n"
     ]
    },
    {
     "name": "stderr",
     "output_type": "stream",
     "text": [
      "Epoch=2/20:  32%|██▌     | 14/44 [00:48<01:40,  3.35s/it, acc=0.912, loss=0.229]"
     ]
    },
    {
     "name": "stdout",
     "output_type": "stream",
     "text": [
      "Number of data items used in training: 1792\n"
     ]
    },
    {
     "name": "stderr",
     "output_type": "stream",
     "text": [
      "Epoch=2/20:  34%|██▋     | 15/44 [00:51<01:37,  3.35s/it, acc=0.915, loss=0.078]"
     ]
    },
    {
     "name": "stdout",
     "output_type": "stream",
     "text": [
      "Number of data items used in training: 1920\n"
     ]
    },
    {
     "name": "stderr",
     "output_type": "stream",
     "text": [
      "Epoch=2/20:  36%|██▉     | 16/44 [00:54<01:32,  3.32s/it, acc=0.919, loss=0.046]"
     ]
    },
    {
     "name": "stdout",
     "output_type": "stream",
     "text": [
      "Number of data items used in training: 2048\n"
     ]
    },
    {
     "name": "stderr",
     "output_type": "stream",
     "text": [
      "Epoch=2/20:  39%|███▍     | 17/44 [00:58<01:32,  3.43s/it, acc=0.922, loss=0.16]"
     ]
    },
    {
     "name": "stdout",
     "output_type": "stream",
     "text": [
      "Number of data items used in training: 2176\n"
     ]
    },
    {
     "name": "stderr",
     "output_type": "stream",
     "text": [
      "Epoch=2/20:  41%|██▊    | 18/44 [01:02<01:31,  3.52s/it, acc=0.925, loss=0.0612]"
     ]
    },
    {
     "name": "stdout",
     "output_type": "stream",
     "text": [
      "Number of data items used in training: 2304\n"
     ]
    },
    {
     "name": "stderr",
     "output_type": "stream",
     "text": [
      "Epoch=2/20:  43%|███▍    | 19/44 [01:06<01:31,  3.67s/it, acc=0.927, loss=0.155]"
     ]
    },
    {
     "name": "stdout",
     "output_type": "stream",
     "text": [
      "Number of data items used in training: 2432\n"
     ]
    },
    {
     "name": "stderr",
     "output_type": "stream",
     "text": [
      "Epoch=2/20:  45%|███▋    | 20/44 [01:10<01:30,  3.77s/it, acc=0.929, loss=0.117]"
     ]
    },
    {
     "name": "stdout",
     "output_type": "stream",
     "text": [
      "Number of data items used in training: 2560\n"
     ]
    },
    {
     "name": "stderr",
     "output_type": "stream",
     "text": [
      "Epoch=2/20:  48%|███▊    | 21/44 [01:13<01:24,  3.66s/it, acc=0.931, loss=0.147]"
     ]
    },
    {
     "name": "stdout",
     "output_type": "stream",
     "text": [
      "Number of data items used in training: 2688\n"
     ]
    },
    {
     "name": "stderr",
     "output_type": "stream",
     "text": [
      "Epoch=2/20:  50%|███▌   | 22/44 [01:17<01:19,  3.61s/it, acc=0.933, loss=0.0661]"
     ]
    },
    {
     "name": "stdout",
     "output_type": "stream",
     "text": [
      "Number of data items used in training: 2816\n"
     ]
    },
    {
     "name": "stderr",
     "output_type": "stream",
     "text": [
      "Epoch=2/20:  52%|████▏   | 23/44 [01:20<01:15,  3.62s/it, acc=0.933, loss=0.235]"
     ]
    },
    {
     "name": "stdout",
     "output_type": "stream",
     "text": [
      "Number of data items used in training: 2944\n"
     ]
    },
    {
     "name": "stderr",
     "output_type": "stream",
     "text": [
      "Epoch=2/20:  55%|████▎   | 24/44 [01:23<01:09,  3.47s/it, acc=0.934, loss=0.134]"
     ]
    },
    {
     "name": "stdout",
     "output_type": "stream",
     "text": [
      "Number of data items used in training: 3072\n"
     ]
    },
    {
     "name": "stderr",
     "output_type": "stream",
     "text": [
      "Epoch=2/20:  57%|████▌   | 25/44 [01:27<01:05,  3.46s/it, acc=0.935, loss=0.114]"
     ]
    },
    {
     "name": "stdout",
     "output_type": "stream",
     "text": [
      "Number of data items used in training: 3200\n"
     ]
    },
    {
     "name": "stderr",
     "output_type": "stream",
     "text": [
      "Epoch=2/20:  59%|████▋   | 26/44 [01:31<01:05,  3.61s/it, acc=0.937, loss=0.111]"
     ]
    },
    {
     "name": "stdout",
     "output_type": "stream",
     "text": [
      "Number of data items used in training: 3328\n"
     ]
    },
    {
     "name": "stderr",
     "output_type": "stream",
     "text": [
      "Epoch=2/20:  61%|████▎  | 27/44 [01:34<00:59,  3.52s/it, acc=0.938, loss=0.0755]"
     ]
    },
    {
     "name": "stdout",
     "output_type": "stream",
     "text": [
      "Number of data items used in training: 3456\n"
     ]
    },
    {
     "name": "stderr",
     "output_type": "stream",
     "text": [
      "Epoch=2/20:  64%|█████   | 28/44 [01:38<00:57,  3.62s/it, acc=0.939, loss=0.127]"
     ]
    },
    {
     "name": "stdout",
     "output_type": "stream",
     "text": [
      "Number of data items used in training: 3584\n"
     ]
    },
    {
     "name": "stderr",
     "output_type": "stream",
     "text": [
      "Epoch=2/20:  66%|█████▎  | 29/44 [01:42<00:55,  3.69s/it, acc=0.94, loss=0.0977]"
     ]
    },
    {
     "name": "stdout",
     "output_type": "stream",
     "text": [
      "Number of data items used in training: 3712\n"
     ]
    },
    {
     "name": "stderr",
     "output_type": "stream",
     "text": [
      "Epoch=2/20:  68%|████▊  | 30/44 [01:46<00:52,  3.75s/it, acc=0.941, loss=0.0604]"
     ]
    },
    {
     "name": "stdout",
     "output_type": "stream",
     "text": [
      "Number of data items used in training: 3840\n"
     ]
    },
    {
     "name": "stderr",
     "output_type": "stream",
     "text": [
      "Epoch=2/20:  70%|████▉  | 31/44 [01:49<00:48,  3.71s/it, acc=0.942, loss=0.0975]"
     ]
    },
    {
     "name": "stdout",
     "output_type": "stream",
     "text": [
      "Number of data items used in training: 3968\n"
     ]
    },
    {
     "name": "stderr",
     "output_type": "stream",
     "text": [
      "Epoch=2/20:  73%|█████▊  | 32/44 [01:53<00:44,  3.69s/it, acc=0.942, loss=0.111]"
     ]
    },
    {
     "name": "stdout",
     "output_type": "stream",
     "text": [
      "Number of data items used in training: 4096\n"
     ]
    },
    {
     "name": "stderr",
     "output_type": "stream",
     "text": [
      "Epoch=2/20:  75%|██████  | 33/44 [01:57<00:40,  3.69s/it, acc=0.943, loss=0.128]"
     ]
    },
    {
     "name": "stdout",
     "output_type": "stream",
     "text": [
      "Number of data items used in training: 4224\n"
     ]
    },
    {
     "name": "stderr",
     "output_type": "stream",
     "text": [
      "Epoch=2/20:  77%|██████▏ | 34/44 [02:00<00:36,  3.65s/it, acc=0.942, loss=0.248]"
     ]
    },
    {
     "name": "stdout",
     "output_type": "stream",
     "text": [
      "Number of data items used in training: 4352\n"
     ]
    },
    {
     "name": "stderr",
     "output_type": "stream",
     "text": [
      "Epoch=2/20:  80%|█████▌ | 35/44 [02:04<00:32,  3.64s/it, acc=0.943, loss=0.0782]"
     ]
    },
    {
     "name": "stdout",
     "output_type": "stream",
     "text": [
      "Number of data items used in training: 4480\n"
     ]
    },
    {
     "name": "stderr",
     "output_type": "stream",
     "text": [
      "Epoch=2/20:  82%|██████▌ | 36/44 [02:07<00:29,  3.63s/it, acc=0.943, loss=0.126]"
     ]
    },
    {
     "name": "stdout",
     "output_type": "stream",
     "text": [
      "Number of data items used in training: 4608\n"
     ]
    },
    {
     "name": "stderr",
     "output_type": "stream",
     "text": [
      "Epoch=2/20:  84%|██████▋ | 37/44 [02:11<00:25,  3.70s/it, acc=0.944, loss=0.117]"
     ]
    },
    {
     "name": "stdout",
     "output_type": "stream",
     "text": [
      "Number of data items used in training: 4736\n"
     ]
    },
    {
     "name": "stderr",
     "output_type": "stream",
     "text": [
      "Epoch=2/20:  86%|██████▉ | 38/44 [02:15<00:22,  3.74s/it, acc=0.944, loss=0.164]"
     ]
    },
    {
     "name": "stdout",
     "output_type": "stream",
     "text": [
      "Number of data items used in training: 4864\n"
     ]
    },
    {
     "name": "stderr",
     "output_type": "stream",
     "text": [
      "Epoch=2/20:  89%|███████ | 39/44 [02:19<00:18,  3.77s/it, acc=0.944, loss=0.139]"
     ]
    },
    {
     "name": "stdout",
     "output_type": "stream",
     "text": [
      "Number of data items used in training: 4992\n"
     ]
    },
    {
     "name": "stderr",
     "output_type": "stream",
     "text": [
      "Epoch=2/20:  91%|███████▎| 40/44 [02:23<00:15,  3.76s/it, acc=0.945, loss=0.102]"
     ]
    },
    {
     "name": "stdout",
     "output_type": "stream",
     "text": [
      "Number of data items used in training: 5120\n"
     ]
    },
    {
     "name": "stderr",
     "output_type": "stream",
     "text": [
      "Epoch=2/20:  93%|██████▌| 41/44 [02:26<00:11,  3.68s/it, acc=0.946, loss=0.0847]"
     ]
    },
    {
     "name": "stdout",
     "output_type": "stream",
     "text": [
      "Number of data items used in training: 5248\n"
     ]
    },
    {
     "name": "stderr",
     "output_type": "stream",
     "text": [
      "Epoch=2/20:  95%|███████▋| 42/44 [02:30<00:07,  3.62s/it, acc=0.945, loss=0.138]"
     ]
    },
    {
     "name": "stdout",
     "output_type": "stream",
     "text": [
      "Number of data items used in training: 5376\n"
     ]
    },
    {
     "name": "stderr",
     "output_type": "stream",
     "text": [
      "Epoch=2/20:  98%|███████▊| 43/44 [02:34<00:03,  3.80s/it, acc=0.946, loss=0.063]"
     ]
    },
    {
     "name": "stdout",
     "output_type": "stream",
     "text": [
      "Number of data items used in training: 5504\n"
     ]
    },
    {
     "name": "stderr",
     "output_type": "stream",
     "text": [
      "Epoch=2/20: 100%|███████| 44/44 [02:35<00:00,  3.54s/it, acc=0.947, loss=0.0101]\n"
     ]
    },
    {
     "name": "stdout",
     "output_type": "stream",
     "text": [
      "Number of data items used in training: 5536\n"
     ]
    },
    {
     "name": "stderr",
     "output_type": "stream",
     "text": [
      "                                                                                \r"
     ]
    },
    {
     "name": "stdout",
     "output_type": "stream",
     "text": [
      "The current model is tested on 1384 testing data items.\n",
      "Accuracy after training this epoch in testing data is: 0.8598265895953757\n",
      "Loss after training this epoch in testing data is: 0.32734861969947815\n",
      "Starting epoch: 3\n"
     ]
    },
    {
     "name": "stderr",
     "output_type": "stream",
     "text": [
      "Epoch=3/20:   2%|▏        | 1/44 [00:08<05:52,  8.20s/it, acc=0.914, loss=0.198]"
     ]
    },
    {
     "name": "stdout",
     "output_type": "stream",
     "text": [
      "Number of data items used in training: 128\n"
     ]
    },
    {
     "name": "stderr",
     "output_type": "stream",
     "text": [
      "Epoch=3/20:   5%|▍        | 2/44 [00:11<03:53,  5.56s/it, acc=0.918, loss=0.185]"
     ]
    },
    {
     "name": "stdout",
     "output_type": "stream",
     "text": [
      "Number of data items used in training: 256\n"
     ]
    },
    {
     "name": "stderr",
     "output_type": "stream",
     "text": [
      "Epoch=3/20:   7%|▌        | 3/44 [00:15<03:17,  4.81s/it, acc=0.932, loss=0.107]"
     ]
    },
    {
     "name": "stdout",
     "output_type": "stream",
     "text": [
      "Number of data items used in training: 384\n"
     ]
    },
    {
     "name": "stderr",
     "output_type": "stream",
     "text": [
      "Epoch=3/20:   9%|▋       | 4/44 [00:19<02:50,  4.27s/it, acc=0.943, loss=0.0929]"
     ]
    },
    {
     "name": "stdout",
     "output_type": "stream",
     "text": [
      "Number of data items used in training: 512\n"
     ]
    },
    {
     "name": "stderr",
     "output_type": "stream",
     "text": [
      "Epoch=3/20:  11%|▉       | 5/44 [00:23<02:42,  4.16s/it, acc=0.952, loss=0.0447]"
     ]
    },
    {
     "name": "stdout",
     "output_type": "stream",
     "text": [
      "Number of data items used in training: 640\n"
     ]
    },
    {
     "name": "stderr",
     "output_type": "stream",
     "text": [
      "Epoch=3/20:  14%|█▏       | 6/44 [00:26<02:31,  3.99s/it, acc=0.949, loss=0.124]"
     ]
    },
    {
     "name": "stdout",
     "output_type": "stream",
     "text": [
      "Number of data items used in training: 768\n"
     ]
    },
    {
     "name": "stderr",
     "output_type": "stream",
     "text": [
      "Epoch=3/20:  16%|█▍       | 7/44 [00:29<02:14,  3.65s/it, acc=0.948, loss=0.109]"
     ]
    },
    {
     "name": "stdout",
     "output_type": "stream",
     "text": [
      "Number of data items used in training: 896\n"
     ]
    },
    {
     "name": "stderr",
     "output_type": "stream",
     "text": [
      "Epoch=3/20:  18%|█▋       | 8/44 [00:32<02:05,  3.48s/it, acc=0.952, loss=0.048]"
     ]
    },
    {
     "name": "stdout",
     "output_type": "stream",
     "text": [
      "Number of data items used in training: 1024\n"
     ]
    },
    {
     "name": "stderr",
     "output_type": "stream",
     "text": [
      "Epoch=3/20:  20%|█▋      | 9/44 [00:36<01:58,  3.39s/it, acc=0.954, loss=0.0602]"
     ]
    },
    {
     "name": "stdout",
     "output_type": "stream",
     "text": [
      "Number of data items used in training: 1152\n"
     ]
    },
    {
     "name": "stderr",
     "output_type": "stream",
     "text": [
      "Epoch=3/20:  23%|█▌     | 10/44 [00:39<01:51,  3.28s/it, acc=0.956, loss=0.0688]"
     ]
    },
    {
     "name": "stdout",
     "output_type": "stream",
     "text": [
      "Number of data items used in training: 1280\n"
     ]
    },
    {
     "name": "stderr",
     "output_type": "stream",
     "text": [
      "Epoch=3/20:  25%|█▊     | 11/44 [00:42<01:46,  3.23s/it, acc=0.959, loss=0.0422]"
     ]
    },
    {
     "name": "stdout",
     "output_type": "stream",
     "text": [
      "Number of data items used in training: 1408\n"
     ]
    },
    {
     "name": "stderr",
     "output_type": "stream",
     "text": [
      "Epoch=3/20:  27%|██▏     | 12/44 [00:45<01:43,  3.23s/it, acc=0.957, loss=0.121]"
     ]
    },
    {
     "name": "stdout",
     "output_type": "stream",
     "text": [
      "Number of data items used in training: 1536\n"
     ]
    },
    {
     "name": "stderr",
     "output_type": "stream",
     "text": [
      "Epoch=3/20:  30%|██▎     | 13/44 [00:48<01:37,  3.14s/it, acc=0.955, loss=0.138]"
     ]
    },
    {
     "name": "stdout",
     "output_type": "stream",
     "text": [
      "Number of data items used in training: 1664\n"
     ]
    },
    {
     "name": "stderr",
     "output_type": "stream",
     "text": [
      "Epoch=3/20:  32%|██▏    | 14/44 [00:51<01:34,  3.17s/it, acc=0.956, loss=0.0719]"
     ]
    },
    {
     "name": "stdout",
     "output_type": "stream",
     "text": [
      "Number of data items used in training: 1792\n"
     ]
    },
    {
     "name": "stderr",
     "output_type": "stream",
     "text": [
      "Epoch=3/20:  34%|██    | 15/44 [00:54<01:30,  3.11s/it, acc=0.959, loss=0.00772]"
     ]
    },
    {
     "name": "stdout",
     "output_type": "stream",
     "text": [
      "Number of data items used in training: 1920\n"
     ]
    },
    {
     "name": "stderr",
     "output_type": "stream",
     "text": [
      "Epoch=3/20:  36%|██▉     | 16/44 [00:58<01:30,  3.23s/it, acc=0.959, loss=0.104]"
     ]
    },
    {
     "name": "stdout",
     "output_type": "stream",
     "text": [
      "Number of data items used in training: 2048\n"
     ]
    },
    {
     "name": "stderr",
     "output_type": "stream",
     "text": [
      "Epoch=3/20:  39%|███     | 17/44 [01:01<01:26,  3.20s/it, acc=0.958, loss=0.163]"
     ]
    },
    {
     "name": "stdout",
     "output_type": "stream",
     "text": [
      "Number of data items used in training: 2176\n"
     ]
    },
    {
     "name": "stderr",
     "output_type": "stream",
     "text": [
      "Epoch=3/20:  41%|██▊    | 18/44 [01:04<01:22,  3.18s/it, acc=0.961, loss=0.0212]"
     ]
    },
    {
     "name": "stdout",
     "output_type": "stream",
     "text": [
      "Number of data items used in training: 2304\n"
     ]
    },
    {
     "name": "stderr",
     "output_type": "stream",
     "text": [
      "Epoch=3/20:  43%|███    | 19/44 [01:07<01:19,  3.17s/it, acc=0.961, loss=0.0928]"
     ]
    },
    {
     "name": "stdout",
     "output_type": "stream",
     "text": [
      "Number of data items used in training: 2432\n"
     ]
    },
    {
     "name": "stderr",
     "output_type": "stream",
     "text": [
      "Epoch=3/20:  45%|███▏   | 20/44 [01:11<01:20,  3.36s/it, acc=0.962, loss=0.0351]"
     ]
    },
    {
     "name": "stdout",
     "output_type": "stream",
     "text": [
      "Number of data items used in training: 2560\n"
     ]
    },
    {
     "name": "stderr",
     "output_type": "stream",
     "text": [
      "Epoch=3/20:  48%|███▊    | 21/44 [01:14<01:15,  3.30s/it, acc=0.961, loss=0.154]"
     ]
    },
    {
     "name": "stdout",
     "output_type": "stream",
     "text": [
      "Number of data items used in training: 2688\n"
     ]
    },
    {
     "name": "stderr",
     "output_type": "stream",
     "text": [
      "Epoch=3/20:  50%|████    | 22/44 [01:17<01:11,  3.25s/it, acc=0.961, loss=0.113]"
     ]
    },
    {
     "name": "stdout",
     "output_type": "stream",
     "text": [
      "Number of data items used in training: 2816\n"
     ]
    },
    {
     "name": "stderr",
     "output_type": "stream",
     "text": [
      "Epoch=3/20:  52%|███▋   | 23/44 [01:20<01:07,  3.23s/it, acc=0.962, loss=0.0685]"
     ]
    },
    {
     "name": "stdout",
     "output_type": "stream",
     "text": [
      "Number of data items used in training: 2944\n"
     ]
    },
    {
     "name": "stderr",
     "output_type": "stream",
     "text": [
      "Epoch=3/20:  55%|███▊   | 24/44 [01:23<01:04,  3.20s/it, acc=0.961, loss=0.0976]"
     ]
    },
    {
     "name": "stdout",
     "output_type": "stream",
     "text": [
      "Number of data items used in training: 3072\n"
     ]
    },
    {
     "name": "stderr",
     "output_type": "stream",
     "text": [
      "Epoch=3/20:  57%|███▉   | 25/44 [01:26<00:59,  3.13s/it, acc=0.962, loss=0.0678]"
     ]
    },
    {
     "name": "stdout",
     "output_type": "stream",
     "text": [
      "Number of data items used in training: 3200\n"
     ]
    },
    {
     "name": "stderr",
     "output_type": "stream",
     "text": [
      "Epoch=3/20:  59%|████▏  | 26/44 [01:29<00:55,  3.09s/it, acc=0.963, loss=0.0734]"
     ]
    },
    {
     "name": "stdout",
     "output_type": "stream",
     "text": [
      "Number of data items used in training: 3328\n"
     ]
    },
    {
     "name": "stderr",
     "output_type": "stream",
     "text": [
      "Epoch=3/20:  61%|████▉   | 27/44 [01:33<00:52,  3.11s/it, acc=0.962, loss=0.128]"
     ]
    },
    {
     "name": "stdout",
     "output_type": "stream",
     "text": [
      "Number of data items used in training: 3456\n"
     ]
    },
    {
     "name": "stderr",
     "output_type": "stream",
     "text": [
      "Epoch=3/20:  64%|█████   | 28/44 [01:36<00:49,  3.07s/it, acc=0.962, loss=0.158]"
     ]
    },
    {
     "name": "stdout",
     "output_type": "stream",
     "text": [
      "Number of data items used in training: 3584\n"
     ]
    },
    {
     "name": "stderr",
     "output_type": "stream",
     "text": [
      "Epoch=3/20:  66%|█████▎  | 29/44 [01:39<00:46,  3.10s/it, acc=0.963, loss=0.103]"
     ]
    },
    {
     "name": "stdout",
     "output_type": "stream",
     "text": [
      "Number of data items used in training: 3712\n"
     ]
    },
    {
     "name": "stderr",
     "output_type": "stream",
     "text": [
      "Epoch=3/20:  68%|████▊  | 30/44 [01:42<00:44,  3.16s/it, acc=0.964, loss=0.0537]"
     ]
    },
    {
     "name": "stdout",
     "output_type": "stream",
     "text": [
      "Number of data items used in training: 3840\n"
     ]
    },
    {
     "name": "stderr",
     "output_type": "stream",
     "text": [
      "Epoch=3/20:  70%|████▉  | 31/44 [01:45<00:41,  3.23s/it, acc=0.965, loss=0.0336]"
     ]
    },
    {
     "name": "stdout",
     "output_type": "stream",
     "text": [
      "Number of data items used in training: 3968\n"
     ]
    },
    {
     "name": "stderr",
     "output_type": "stream",
     "text": [
      "Epoch=3/20:  73%|█████  | 32/44 [01:49<00:39,  3.31s/it, acc=0.965, loss=0.0582]"
     ]
    },
    {
     "name": "stdout",
     "output_type": "stream",
     "text": [
      "Number of data items used in training: 4096\n"
     ]
    },
    {
     "name": "stderr",
     "output_type": "stream",
     "text": [
      "Epoch=3/20:  75%|██████  | 33/44 [01:55<00:45,  4.14s/it, acc=0.964, loss=0.155]"
     ]
    },
    {
     "name": "stdout",
     "output_type": "stream",
     "text": [
      "Number of data items used in training: 4224\n"
     ]
    },
    {
     "name": "stderr",
     "output_type": "stream",
     "text": [
      "Epoch=3/20:  77%|██████▏ | 34/44 [02:03<00:52,  5.23s/it, acc=0.965, loss=0.076]"
     ]
    },
    {
     "name": "stdout",
     "output_type": "stream",
     "text": [
      "Number of data items used in training: 4352\n"
     ]
    },
    {
     "name": "stderr",
     "output_type": "stream",
     "text": [
      "Epoch=3/20:  80%|█████▌ | 35/44 [02:11<00:54,  6.08s/it, acc=0.966, loss=0.0331]"
     ]
    },
    {
     "name": "stdout",
     "output_type": "stream",
     "text": [
      "Number of data items used in training: 4480\n"
     ]
    },
    {
     "name": "stderr",
     "output_type": "stream",
     "text": [
      "Epoch=3/20:  82%|█████▋ | 36/44 [02:18<00:51,  6.38s/it, acc=0.966, loss=0.0364]"
     ]
    },
    {
     "name": "stdout",
     "output_type": "stream",
     "text": [
      "Number of data items used in training: 4608\n"
     ]
    },
    {
     "name": "stderr",
     "output_type": "stream",
     "text": [
      "Epoch=3/20:  84%|█████▉ | 37/44 [02:25<00:46,  6.69s/it, acc=0.967, loss=0.0368]"
     ]
    },
    {
     "name": "stdout",
     "output_type": "stream",
     "text": [
      "Number of data items used in training: 4736\n"
     ]
    },
    {
     "name": "stderr",
     "output_type": "stream",
     "text": [
      "Epoch=3/20:  86%|██████ | 38/44 [02:33<00:41,  7.00s/it, acc=0.968, loss=0.0147]"
     ]
    },
    {
     "name": "stdout",
     "output_type": "stream",
     "text": [
      "Number of data items used in training: 4864\n"
     ]
    },
    {
     "name": "stderr",
     "output_type": "stream",
     "text": [
      "Epoch=3/20:  89%|██████▏| 39/44 [02:40<00:35,  7.08s/it, acc=0.968, loss=0.0733]"
     ]
    },
    {
     "name": "stdout",
     "output_type": "stream",
     "text": [
      "Number of data items used in training: 4992\n"
     ]
    },
    {
     "name": "stderr",
     "output_type": "stream",
     "text": [
      "Epoch=3/20:  91%|██████▎| 40/44 [02:48<00:29,  7.31s/it, acc=0.968, loss=0.0658]"
     ]
    },
    {
     "name": "stdout",
     "output_type": "stream",
     "text": [
      "Number of data items used in training: 5120\n"
     ]
    },
    {
     "name": "stderr",
     "output_type": "stream",
     "text": [
      "Epoch=3/20:  93%|█████▌| 41/44 [02:54<00:20,  6.97s/it, acc=0.969, loss=0.00635]"
     ]
    },
    {
     "name": "stdout",
     "output_type": "stream",
     "text": [
      "Number of data items used in training: 5248\n"
     ]
    },
    {
     "name": "stderr",
     "output_type": "stream",
     "text": [
      "Epoch=3/20:  95%|██████▋| 42/44 [03:02<00:14,  7.13s/it, acc=0.969, loss=0.0678]"
     ]
    },
    {
     "name": "stdout",
     "output_type": "stream",
     "text": [
      "Number of data items used in training: 5376\n"
     ]
    },
    {
     "name": "stderr",
     "output_type": "stream",
     "text": [
      "Epoch=3/20:  98%|███████▊| 43/44 [03:09<00:07,  7.16s/it, acc=0.97, loss=0.0134]"
     ]
    },
    {
     "name": "stdout",
     "output_type": "stream",
     "text": [
      "Number of data items used in training: 5504\n"
     ]
    },
    {
     "name": "stderr",
     "output_type": "stream",
     "text": [
      "Epoch=3/20: 100%|███████| 44/44 [03:11<00:00,  4.35s/it, acc=0.97, loss=0.00161]\n"
     ]
    },
    {
     "name": "stdout",
     "output_type": "stream",
     "text": [
      "Number of data items used in training: 5536\n"
     ]
    },
    {
     "name": "stderr",
     "output_type": "stream",
     "text": [
      "                                                                                \r"
     ]
    },
    {
     "name": "stdout",
     "output_type": "stream",
     "text": [
      "The current model is tested on 1384 testing data items.\n",
      "Accuracy after training this epoch in testing data is: 0.9024566473988439\n",
      "Loss after training this epoch in testing data is: 0.18116477131843567\n",
      "Starting epoch: 4\n"
     ]
    },
    {
     "name": "stderr",
     "output_type": "stream",
     "text": [
      "Epoch=4/20:   2%|▏       | 1/44 [00:08<05:59,  8.37s/it, acc=0.953, loss=0.0722]"
     ]
    },
    {
     "name": "stdout",
     "output_type": "stream",
     "text": [
      "Number of data items used in training: 128\n"
     ]
    },
    {
     "name": "stderr",
     "output_type": "stream",
     "text": [
      "Epoch=4/20:   5%|▍        | 2/44 [00:16<05:34,  7.97s/it, acc=0.969, loss=0.068]"
     ]
    },
    {
     "name": "stdout",
     "output_type": "stream",
     "text": [
      "Number of data items used in training: 256\n"
     ]
    },
    {
     "name": "stderr",
     "output_type": "stream",
     "text": [
      "Epoch=4/20:   7%|▌        | 3/44 [00:21<04:48,  7.02s/it, acc=0.958, loss=0.154]"
     ]
    },
    {
     "name": "stdout",
     "output_type": "stream",
     "text": [
      "Number of data items used in training: 384\n"
     ]
    },
    {
     "name": "stderr",
     "output_type": "stream",
     "text": [
      "Epoch=4/20:   9%|▊        | 4/44 [00:29<04:45,  7.14s/it, acc=0.955, loss=0.226]"
     ]
    },
    {
     "name": "stdout",
     "output_type": "stream",
     "text": [
      "Number of data items used in training: 512\n"
     ]
    },
    {
     "name": "stderr",
     "output_type": "stream",
     "text": [
      "Epoch=4/20:  11%|▉       | 5/44 [00:36<04:35,  7.07s/it, acc=0.956, loss=0.0868]"
     ]
    },
    {
     "name": "stdout",
     "output_type": "stream",
     "text": [
      "Number of data items used in training: 640\n"
     ]
    },
    {
     "name": "stderr",
     "output_type": "stream",
     "text": [
      "Epoch=4/20:  14%|▉      | 6/44 [00:43<04:28,  7.08s/it, acc=0.964, loss=0.00703]"
     ]
    },
    {
     "name": "stdout",
     "output_type": "stream",
     "text": [
      "Number of data items used in training: 768\n"
     ]
    },
    {
     "name": "stderr",
     "output_type": "stream",
     "text": [
      "Epoch=4/20:  16%|█▍       | 7/44 [00:49<04:16,  6.93s/it, acc=0.965, loss=0.066]"
     ]
    },
    {
     "name": "stdout",
     "output_type": "stream",
     "text": [
      "Number of data items used in training: 896\n"
     ]
    },
    {
     "name": "stderr",
     "output_type": "stream",
     "text": [
      "Epoch=4/20:  18%|█▋       | 8/44 [00:56<04:10,  6.95s/it, acc=0.962, loss=0.182]"
     ]
    },
    {
     "name": "stdout",
     "output_type": "stream",
     "text": [
      "Number of data items used in training: 1024\n"
     ]
    },
    {
     "name": "stderr",
     "output_type": "stream",
     "text": [
      "Epoch=4/20:  20%|█▊       | 9/44 [01:03<04:04,  6.98s/it, acc=0.953, loss=0.288]"
     ]
    },
    {
     "name": "stdout",
     "output_type": "stream",
     "text": [
      "Number of data items used in training: 1152\n"
     ]
    },
    {
     "name": "stderr",
     "output_type": "stream",
     "text": [
      "Epoch=4/20:  23%|█▊      | 10/44 [01:11<03:59,  7.05s/it, acc=0.947, loss=0.243]"
     ]
    },
    {
     "name": "stdout",
     "output_type": "stream",
     "text": [
      "Number of data items used in training: 1280\n"
     ]
    },
    {
     "name": "stderr",
     "output_type": "stream",
     "text": [
      "Epoch=4/20:  25%|██      | 11/44 [01:18<03:56,  7.16s/it, acc=0.95, loss=0.0631]"
     ]
    },
    {
     "name": "stdout",
     "output_type": "stream",
     "text": [
      "Number of data items used in training: 1408\n"
     ]
    },
    {
     "name": "stderr",
     "output_type": "stream",
     "text": [
      "Epoch=4/20:  27%|█▉     | 12/44 [01:24<03:39,  6.86s/it, acc=0.954, loss=0.0459]"
     ]
    },
    {
     "name": "stdout",
     "output_type": "stream",
     "text": [
      "Number of data items used in training: 1536\n"
     ]
    },
    {
     "name": "stderr",
     "output_type": "stream",
     "text": [
      "Epoch=4/20:  30%|██▎     | 13/44 [01:31<03:31,  6.81s/it, acc=0.955, loss=0.102]"
     ]
    },
    {
     "name": "stdout",
     "output_type": "stream",
     "text": [
      "Number of data items used in training: 1664\n"
     ]
    },
    {
     "name": "stderr",
     "output_type": "stream",
     "text": [
      "Epoch=4/20:  32%|██▌     | 14/44 [01:38<03:25,  6.83s/it, acc=0.949, loss=0.319]"
     ]
    },
    {
     "name": "stdout",
     "output_type": "stream",
     "text": [
      "Number of data items used in training: 1792\n"
     ]
    },
    {
     "name": "stderr",
     "output_type": "stream",
     "text": [
      "Epoch=4/20:  34%|██▋     | 15/44 [01:45<03:18,  6.86s/it, acc=0.944, loss=0.283]"
     ]
    },
    {
     "name": "stdout",
     "output_type": "stream",
     "text": [
      "Number of data items used in training: 1920\n"
     ]
    },
    {
     "name": "stderr",
     "output_type": "stream",
     "text": [
      "Epoch=4/20:  36%|██▉     | 16/44 [01:52<03:12,  6.89s/it, acc=0.945, loss=0.152]"
     ]
    },
    {
     "name": "stdout",
     "output_type": "stream",
     "text": [
      "Number of data items used in training: 2048\n"
     ]
    },
    {
     "name": "stderr",
     "output_type": "stream",
     "text": [
      "Epoch=4/20:  39%|██▋    | 17/44 [01:58<03:02,  6.75s/it, acc=0.947, loss=0.0775]"
     ]
    },
    {
     "name": "stdout",
     "output_type": "stream",
     "text": [
      "Number of data items used in training: 2176\n"
     ]
    },
    {
     "name": "stderr",
     "output_type": "stream",
     "text": [
      "Epoch=4/20:  41%|███▎    | 18/44 [02:05<02:55,  6.76s/it, acc=0.95, loss=0.0364]"
     ]
    },
    {
     "name": "stdout",
     "output_type": "stream",
     "text": [
      "Number of data items used in training: 2304\n"
     ]
    },
    {
     "name": "stderr",
     "output_type": "stream",
     "text": [
      "Epoch=4/20:  43%|███▍    | 19/44 [02:11<02:46,  6.66s/it, acc=0.951, loss=0.092]"
     ]
    },
    {
     "name": "stdout",
     "output_type": "stream",
     "text": [
      "Number of data items used in training: 2432\n"
     ]
    },
    {
     "name": "stderr",
     "output_type": "stream",
     "text": [
      "Epoch=4/20:  45%|███▋    | 20/44 [02:18<02:41,  6.75s/it, acc=0.952, loss=0.111]"
     ]
    },
    {
     "name": "stdout",
     "output_type": "stream",
     "text": [
      "Number of data items used in training: 2560\n"
     ]
    },
    {
     "name": "stderr",
     "output_type": "stream",
     "text": [
      "Epoch=4/20:  48%|███▊    | 21/44 [02:25<02:35,  6.78s/it, acc=0.952, loss=0.172]"
     ]
    },
    {
     "name": "stdout",
     "output_type": "stream",
     "text": [
      "Number of data items used in training: 2688\n"
     ]
    },
    {
     "name": "stderr",
     "output_type": "stream",
     "text": [
      "Epoch=4/20:  50%|████    | 22/44 [02:32<02:29,  6.79s/it, acc=0.952, loss=0.108]"
     ]
    },
    {
     "name": "stdout",
     "output_type": "stream",
     "text": [
      "Number of data items used in training: 2816\n"
     ]
    },
    {
     "name": "stderr",
     "output_type": "stream",
     "text": [
      "Epoch=4/20:  52%|████▏   | 23/44 [02:39<02:24,  6.90s/it, acc=0.951, loss=0.151]"
     ]
    },
    {
     "name": "stdout",
     "output_type": "stream",
     "text": [
      "Number of data items used in training: 2944\n"
     ]
    },
    {
     "name": "stderr",
     "output_type": "stream",
     "text": [
      "Epoch=4/20:  55%|███▊   | 24/44 [02:46<02:17,  6.89s/it, acc=0.953, loss=0.0516]"
     ]
    },
    {
     "name": "stdout",
     "output_type": "stream",
     "text": [
      "Number of data items used in training: 3072\n"
     ]
    },
    {
     "name": "stderr",
     "output_type": "stream",
     "text": [
      "Epoch=4/20:  57%|███▉   | 25/44 [02:53<02:10,  6.88s/it, acc=0.954, loss=0.0254]"
     ]
    },
    {
     "name": "stdout",
     "output_type": "stream",
     "text": [
      "Number of data items used in training: 3200\n"
     ]
    },
    {
     "name": "stderr",
     "output_type": "stream",
     "text": [
      "Epoch=4/20:  59%|████▋   | 26/44 [02:59<01:59,  6.66s/it, acc=0.955, loss=0.109]"
     ]
    },
    {
     "name": "stdout",
     "output_type": "stream",
     "text": [
      "Number of data items used in training: 3328\n"
     ]
    },
    {
     "name": "stderr",
     "output_type": "stream",
     "text": [
      "Epoch=4/20:  61%|████▎  | 27/44 [03:06<01:55,  6.81s/it, acc=0.956, loss=0.0628]"
     ]
    },
    {
     "name": "stdout",
     "output_type": "stream",
     "text": [
      "Number of data items used in training: 3456\n"
     ]
    },
    {
     "name": "stderr",
     "output_type": "stream",
     "text": [
      "Epoch=4/20:  64%|█████   | 28/44 [03:13<01:50,  6.91s/it, acc=0.957, loss=0.144]"
     ]
    },
    {
     "name": "stdout",
     "output_type": "stream",
     "text": [
      "Number of data items used in training: 3584\n"
     ]
    },
    {
     "name": "stderr",
     "output_type": "stream",
     "text": [
      "Epoch=4/20:  66%|████▌  | 29/44 [03:20<01:44,  6.98s/it, acc=0.957, loss=0.0542]"
     ]
    },
    {
     "name": "stdout",
     "output_type": "stream",
     "text": [
      "Number of data items used in training: 3712\n"
     ]
    },
    {
     "name": "stderr",
     "output_type": "stream",
     "text": [
      "Epoch=4/20:  68%|████▊  | 30/44 [03:28<01:39,  7.11s/it, acc=0.959, loss=0.0493]"
     ]
    },
    {
     "name": "stdout",
     "output_type": "stream",
     "text": [
      "Number of data items used in training: 3840\n"
     ]
    },
    {
     "name": "stderr",
     "output_type": "stream",
     "text": [
      "Epoch=4/20:  70%|█████▋  | 31/44 [03:35<01:32,  7.09s/it, acc=0.96, loss=0.0187]"
     ]
    },
    {
     "name": "stdout",
     "output_type": "stream",
     "text": [
      "Number of data items used in training: 3968\n"
     ]
    },
    {
     "name": "stderr",
     "output_type": "stream",
     "text": [
      "Epoch=4/20:  73%|█████  | 32/44 [03:42<01:23,  6.96s/it, acc=0.961, loss=0.0128]"
     ]
    },
    {
     "name": "stdout",
     "output_type": "stream",
     "text": [
      "Number of data items used in training: 4096\n"
     ]
    },
    {
     "name": "stderr",
     "output_type": "stream",
     "text": [
      "Epoch=4/20:  75%|█████▎ | 33/44 [03:48<01:15,  6.83s/it, acc=0.962, loss=0.0504]"
     ]
    },
    {
     "name": "stdout",
     "output_type": "stream",
     "text": [
      "Number of data items used in training: 4224\n"
     ]
    },
    {
     "name": "stderr",
     "output_type": "stream",
     "text": [
      "Epoch=4/20:  77%|█████▍ | 34/44 [03:55<01:09,  6.95s/it, acc=0.962, loss=0.0359]"
     ]
    },
    {
     "name": "stdout",
     "output_type": "stream",
     "text": [
      "Number of data items used in training: 4352\n"
     ]
    },
    {
     "name": "stderr",
     "output_type": "stream",
     "text": [
      "Epoch=4/20:  80%|████▊ | 35/44 [04:02<01:01,  6.86s/it, acc=0.963, loss=0.00743]"
     ]
    },
    {
     "name": "stdout",
     "output_type": "stream",
     "text": [
      "Number of data items used in training: 4480\n"
     ]
    },
    {
     "name": "stderr",
     "output_type": "stream",
     "text": [
      "Epoch=4/20:  82%|█████▋ | 36/44 [04:09<00:55,  6.90s/it, acc=0.964, loss=0.0862]"
     ]
    },
    {
     "name": "stdout",
     "output_type": "stream",
     "text": [
      "Number of data items used in training: 4608\n"
     ]
    },
    {
     "name": "stderr",
     "output_type": "stream",
     "text": [
      "Epoch=4/20:  84%|█████▉ | 37/44 [04:16<00:48,  6.99s/it, acc=0.964, loss=0.0402]"
     ]
    },
    {
     "name": "stdout",
     "output_type": "stream",
     "text": [
      "Number of data items used in training: 4736\n"
     ]
    },
    {
     "name": "stderr",
     "output_type": "stream",
     "text": [
      "Epoch=4/20:  86%|██████ | 38/44 [04:23<00:41,  6.97s/it, acc=0.965, loss=0.0221]"
     ]
    },
    {
     "name": "stdout",
     "output_type": "stream",
     "text": [
      "Number of data items used in training: 4864\n"
     ]
    },
    {
     "name": "stderr",
     "output_type": "stream",
     "text": [
      "Epoch=4/20:  89%|██████▏| 39/44 [04:30<00:35,  7.02s/it, acc=0.965, loss=0.0265]"
     ]
    },
    {
     "name": "stdout",
     "output_type": "stream",
     "text": [
      "Number of data items used in training: 4992\n"
     ]
    },
    {
     "name": "stderr",
     "output_type": "stream",
     "text": [
      "Epoch=4/20:  91%|██████▎| 40/44 [04:36<00:27,  6.78s/it, acc=0.966, loss=0.0222]"
     ]
    },
    {
     "name": "stdout",
     "output_type": "stream",
     "text": [
      "Number of data items used in training: 5120\n"
     ]
    },
    {
     "name": "stderr",
     "output_type": "stream",
     "text": [
      "Epoch=4/20:  93%|██████▌| 41/44 [04:43<00:20,  6.79s/it, acc=0.967, loss=0.0243]"
     ]
    },
    {
     "name": "stdout",
     "output_type": "stream",
     "text": [
      "Number of data items used in training: 5248\n"
     ]
    },
    {
     "name": "stderr",
     "output_type": "stream",
     "text": [
      "Epoch=4/20:  95%|█████▋| 42/44 [04:50<00:13,  6.77s/it, acc=0.967, loss=0.00689]"
     ]
    },
    {
     "name": "stdout",
     "output_type": "stream",
     "text": [
      "Number of data items used in training: 5376\n"
     ]
    },
    {
     "name": "stderr",
     "output_type": "stream",
     "text": [
      "Epoch=4/20:  98%|██████▊| 43/44 [04:57<00:06,  6.85s/it, acc=0.968, loss=0.0186]"
     ]
    },
    {
     "name": "stdout",
     "output_type": "stream",
     "text": [
      "Number of data items used in training: 5504\n"
     ]
    },
    {
     "name": "stderr",
     "output_type": "stream",
     "text": [
      "Epoch=4/20: 100%|██████| 44/44 [04:59<00:00,  6.80s/it, acc=0.968, loss=0.00274]\n"
     ]
    },
    {
     "name": "stdout",
     "output_type": "stream",
     "text": [
      "Number of data items used in training: 5536\n"
     ]
    },
    {
     "name": "stderr",
     "output_type": "stream",
     "text": [
      "                                                                                \r"
     ]
    },
    {
     "name": "stdout",
     "output_type": "stream",
     "text": [
      "The current model is tested on 1384 testing data items.\n",
      "Accuracy after training this epoch in testing data is: 0.898121387283237\n",
      "Loss after training this epoch in testing data is: 0.2510944604873657\n",
      "Starting epoch: 5\n"
     ]
    },
    {
     "name": "stderr",
     "output_type": "stream",
     "text": [
      "Epoch=5/20:   2%|▏       | 1/44 [00:07<05:40,  7.92s/it, acc=0.992, loss=0.0252]"
     ]
    },
    {
     "name": "stdout",
     "output_type": "stream",
     "text": [
      "Number of data items used in training: 128\n"
     ]
    },
    {
     "name": "stderr",
     "output_type": "stream",
     "text": [
      "Epoch=5/20:   5%|▎      | 2/44 [00:12<04:22,  6.25s/it, acc=0.996, loss=0.00625]"
     ]
    },
    {
     "name": "stdout",
     "output_type": "stream",
     "text": [
      "Number of data items used in training: 256\n"
     ]
    },
    {
     "name": "stderr",
     "output_type": "stream",
     "text": [
      "Epoch=5/20:   7%|▌       | 3/44 [00:19<04:28,  6.55s/it, acc=0.995, loss=0.0141]"
     ]
    },
    {
     "name": "stdout",
     "output_type": "stream",
     "text": [
      "Number of data items used in training: 384\n"
     ]
    },
    {
     "name": "stderr",
     "output_type": "stream",
     "text": [
      "Epoch=5/20:   9%|▋       | 4/44 [00:27<04:32,  6.82s/it, acc=0.994, loss=0.0109]"
     ]
    },
    {
     "name": "stdout",
     "output_type": "stream",
     "text": [
      "Number of data items used in training: 512\n"
     ]
    },
    {
     "name": "stderr",
     "output_type": "stream",
     "text": [
      "Epoch=5/20:  11%|▉       | 5/44 [00:33<04:26,  6.82s/it, acc=0.991, loss=0.0453]"
     ]
    },
    {
     "name": "stdout",
     "output_type": "stream",
     "text": [
      "Number of data items used in training: 640\n"
     ]
    },
    {
     "name": "stderr",
     "output_type": "stream",
     "text": [
      "Epoch=5/20:  14%|█▏       | 6/44 [00:40<04:12,  6.64s/it, acc=0.986, loss=0.144]"
     ]
    },
    {
     "name": "stdout",
     "output_type": "stream",
     "text": [
      "Number of data items used in training: 768\n"
     ]
    },
    {
     "name": "stderr",
     "output_type": "stream",
     "text": [
      "Epoch=5/20:  16%|█▎      | 7/44 [00:46<04:00,  6.50s/it, acc=0.985, loss=0.0625]"
     ]
    },
    {
     "name": "stdout",
     "output_type": "stream",
     "text": [
      "Number of data items used in training: 896\n"
     ]
    },
    {
     "name": "stderr",
     "output_type": "stream",
     "text": [
      "Epoch=5/20:  18%|█▎     | 8/44 [00:53<03:59,  6.66s/it, acc=0.987, loss=0.00262]"
     ]
    },
    {
     "name": "stdout",
     "output_type": "stream",
     "text": [
      "Number of data items used in training: 1024\n"
     ]
    },
    {
     "name": "stderr",
     "output_type": "stream",
     "text": [
      "Epoch=5/20:  20%|█▋      | 9/44 [01:00<03:55,  6.73s/it, acc=0.989, loss=0.0101]"
     ]
    },
    {
     "name": "stdout",
     "output_type": "stream",
     "text": [
      "Number of data items used in training: 1152\n"
     ]
    },
    {
     "name": "stderr",
     "output_type": "stream",
     "text": [
      "Epoch=5/20:  23%|█▌     | 10/44 [01:06<03:47,  6.70s/it, acc=0.99, loss=0.00196]"
     ]
    },
    {
     "name": "stdout",
     "output_type": "stream",
     "text": [
      "Number of data items used in training: 1280\n"
     ]
    },
    {
     "name": "stderr",
     "output_type": "stream",
     "text": [
      "Epoch=5/20:  25%|██      | 11/44 [01:13<03:41,  6.72s/it, acc=0.99, loss=0.0158]"
     ]
    },
    {
     "name": "stdout",
     "output_type": "stream",
     "text": [
      "Number of data items used in training: 1408\n"
     ]
    },
    {
     "name": "stderr",
     "output_type": "stream",
     "text": [
      "Epoch=5/20:  27%|██▏     | 12/44 [01:20<03:32,  6.65s/it, acc=0.99, loss=0.0441]"
     ]
    },
    {
     "name": "stdout",
     "output_type": "stream",
     "text": [
      "Number of data items used in training: 1536\n"
     ]
    },
    {
     "name": "stderr",
     "output_type": "stream",
     "text": [
      "Epoch=5/20:  30%|██     | 13/44 [01:27<03:30,  6.80s/it, acc=0.989, loss=0.0456]"
     ]
    },
    {
     "name": "stdout",
     "output_type": "stream",
     "text": [
      "Number of data items used in training: 1664\n"
     ]
    },
    {
     "name": "stderr",
     "output_type": "stream",
     "text": [
      "Epoch=5/20:  32%|██▏    | 14/44 [01:33<03:18,  6.63s/it, acc=0.989, loss=0.0419]"
     ]
    },
    {
     "name": "stdout",
     "output_type": "stream",
     "text": [
      "Number of data items used in training: 1792\n"
     ]
    },
    {
     "name": "stderr",
     "output_type": "stream",
     "text": [
      "Epoch=5/20:  34%|██▍    | 15/44 [01:40<03:12,  6.64s/it, acc=0.989, loss=0.0167]"
     ]
    },
    {
     "name": "stdout",
     "output_type": "stream",
     "text": [
      "Number of data items used in training: 1920\n"
     ]
    },
    {
     "name": "stderr",
     "output_type": "stream",
     "text": [
      "Epoch=5/20:  36%|██▌    | 16/44 [01:47<03:08,  6.72s/it, acc=0.99, loss=0.00267]"
     ]
    },
    {
     "name": "stdout",
     "output_type": "stream",
     "text": [
      "Number of data items used in training: 2048\n"
     ]
    },
    {
     "name": "stderr",
     "output_type": "stream",
     "text": [
      "Epoch=5/20:  39%|██▋    | 17/44 [01:54<03:08,  6.97s/it, acc=0.99, loss=0.00418]"
     ]
    },
    {
     "name": "stdout",
     "output_type": "stream",
     "text": [
      "Number of data items used in training: 2176\n"
     ]
    },
    {
     "name": "stderr",
     "output_type": "stream",
     "text": [
      "Epoch=5/20:  41%|███▎    | 18/44 [02:01<03:03,  7.05s/it, acc=0.99, loss=0.0237]"
     ]
    },
    {
     "name": "stdout",
     "output_type": "stream",
     "text": [
      "Number of data items used in training: 2304\n"
     ]
    },
    {
     "name": "stderr",
     "output_type": "stream",
     "text": [
      "Epoch=5/20:  43%|██▌   | 19/44 [02:08<02:52,  6.91s/it, acc=0.991, loss=0.00771]"
     ]
    },
    {
     "name": "stdout",
     "output_type": "stream",
     "text": [
      "Number of data items used in training: 2432\n"
     ]
    },
    {
     "name": "stderr",
     "output_type": "stream",
     "text": [
      "Epoch=5/20:  45%|███▏   | 20/44 [02:14<02:41,  6.75s/it, acc=0.991, loss=0.0172]"
     ]
    },
    {
     "name": "stdout",
     "output_type": "stream",
     "text": [
      "Number of data items used in training: 2560\n"
     ]
    },
    {
     "name": "stderr",
     "output_type": "stream",
     "text": [
      "Epoch=5/20:  48%|███▎   | 21/44 [02:21<02:35,  6.78s/it, acc=0.991, loss=0.0715]"
     ]
    },
    {
     "name": "stdout",
     "output_type": "stream",
     "text": [
      "Number of data items used in training: 2688\n"
     ]
    },
    {
     "name": "stderr",
     "output_type": "stream",
     "text": [
      "Epoch=5/20:  50%|████    | 22/44 [02:28<02:31,  6.88s/it, acc=0.991, loss=0.014]"
     ]
    },
    {
     "name": "stdout",
     "output_type": "stream",
     "text": [
      "Number of data items used in training: 2816\n"
     ]
    },
    {
     "name": "stderr",
     "output_type": "stream",
     "text": [
      "Epoch=5/20:  52%|███▋   | 23/44 [02:35<02:24,  6.90s/it, acc=0.991, loss=0.0254]"
     ]
    },
    {
     "name": "stdout",
     "output_type": "stream",
     "text": [
      "Number of data items used in training: 2944\n"
     ]
    },
    {
     "name": "stderr",
     "output_type": "stream",
     "text": [
      "Epoch=5/20:  55%|███▊   | 24/44 [02:42<02:18,  6.92s/it, acc=0.991, loss=0.0451]"
     ]
    },
    {
     "name": "stdout",
     "output_type": "stream",
     "text": [
      "Number of data items used in training: 3072\n"
     ]
    },
    {
     "name": "stderr",
     "output_type": "stream",
     "text": [
      "Epoch=5/20:  57%|███▍  | 25/44 [02:49<02:12,  6.98s/it, acc=0.991, loss=0.00743]"
     ]
    },
    {
     "name": "stdout",
     "output_type": "stream",
     "text": [
      "Number of data items used in training: 3200\n"
     ]
    },
    {
     "name": "stderr",
     "output_type": "stream",
     "text": [
      "Epoch=5/20:  59%|███▌  | 26/44 [02:56<02:04,  6.92s/it, acc=0.992, loss=0.00872]"
     ]
    },
    {
     "name": "stdout",
     "output_type": "stream",
     "text": [
      "Number of data items used in training: 3328\n"
     ]
    },
    {
     "name": "stderr",
     "output_type": "stream",
     "text": [
      "Epoch=5/20:  61%|████▉   | 27/44 [03:03<01:58,  7.00s/it, acc=0.992, loss=0.013]"
     ]
    },
    {
     "name": "stdout",
     "output_type": "stream",
     "text": [
      "Number of data items used in training: 3456\n"
     ]
    },
    {
     "name": "stderr",
     "output_type": "stream",
     "text": [
      "Epoch=5/20:  64%|████▍  | 28/44 [03:10<01:51,  6.95s/it, acc=0.992, loss=0.0542]"
     ]
    },
    {
     "name": "stdout",
     "output_type": "stream",
     "text": [
      "Number of data items used in training: 3584\n"
     ]
    },
    {
     "name": "stderr",
     "output_type": "stream",
     "text": [
      "Epoch=5/20:  66%|████▌  | 29/44 [03:17<01:45,  7.00s/it, acc=0.992, loss=0.0157]"
     ]
    },
    {
     "name": "stdout",
     "output_type": "stream",
     "text": [
      "Number of data items used in training: 3712\n"
     ]
    },
    {
     "name": "stderr",
     "output_type": "stream",
     "text": [
      "Epoch=5/20:  68%|████  | 30/44 [03:24<01:36,  6.88s/it, acc=0.992, loss=0.00774]"
     ]
    },
    {
     "name": "stdout",
     "output_type": "stream",
     "text": [
      "Number of data items used in training: 3840\n"
     ]
    },
    {
     "name": "stderr",
     "output_type": "stream",
     "text": [
      "Epoch=5/20:  70%|████▉  | 31/44 [03:31<01:30,  6.93s/it, acc=0.991, loss=0.0215]"
     ]
    },
    {
     "name": "stdout",
     "output_type": "stream",
     "text": [
      "Number of data items used in training: 3968\n"
     ]
    },
    {
     "name": "stderr",
     "output_type": "stream",
     "text": [
      "Epoch=5/20:  73%|█████  | 32/44 [03:38<01:24,  7.05s/it, acc=0.991, loss=0.0545]"
     ]
    },
    {
     "name": "stdout",
     "output_type": "stream",
     "text": [
      "Number of data items used in training: 4096\n"
     ]
    },
    {
     "name": "stderr",
     "output_type": "stream",
     "text": [
      "Epoch=5/20:  75%|█████▎ | 33/44 [03:45<01:16,  6.96s/it, acc=0.991, loss=0.0336]"
     ]
    },
    {
     "name": "stdout",
     "output_type": "stream",
     "text": [
      "Number of data items used in training: 4224\n"
     ]
    },
    {
     "name": "stderr",
     "output_type": "stream",
     "text": [
      "Epoch=5/20:  77%|█████▍ | 34/44 [03:52<01:10,  7.01s/it, acc=0.991, loss=0.0044]"
     ]
    },
    {
     "name": "stdout",
     "output_type": "stream",
     "text": [
      "Number of data items used in training: 4352\n"
     ]
    },
    {
     "name": "stderr",
     "output_type": "stream",
     "text": [
      "Epoch=5/20:  80%|████▊ | 35/44 [03:59<01:01,  6.82s/it, acc=0.992, loss=0.00378]"
     ]
    },
    {
     "name": "stdout",
     "output_type": "stream",
     "text": [
      "Number of data items used in training: 4480\n"
     ]
    },
    {
     "name": "stderr",
     "output_type": "stream",
     "text": [
      "Epoch=5/20:  82%|██████▌ | 36/44 [04:05<00:54,  6.78s/it, acc=0.991, loss=0.102]"
     ]
    },
    {
     "name": "stdout",
     "output_type": "stream",
     "text": [
      "Number of data items used in training: 4608\n"
     ]
    },
    {
     "name": "stderr",
     "output_type": "stream",
     "text": [
      "Epoch=5/20:  84%|█████ | 37/44 [04:12<00:47,  6.73s/it, acc=0.992, loss=0.00353]"
     ]
    },
    {
     "name": "stdout",
     "output_type": "stream",
     "text": [
      "Number of data items used in training: 4736\n"
     ]
    },
    {
     "name": "stderr",
     "output_type": "stream",
     "text": [
      "Epoch=5/20:  86%|██████ | 38/44 [04:19<00:40,  6.82s/it, acc=0.992, loss=0.0056]"
     ]
    },
    {
     "name": "stdout",
     "output_type": "stream",
     "text": [
      "Number of data items used in training: 4864\n"
     ]
    },
    {
     "name": "stderr",
     "output_type": "stream",
     "text": [
      "Epoch=5/20:  89%|██████▏| 39/44 [04:26<00:34,  6.96s/it, acc=0.992, loss=0.0302]"
     ]
    },
    {
     "name": "stdout",
     "output_type": "stream",
     "text": [
      "Number of data items used in training: 4992\n"
     ]
    },
    {
     "name": "stderr",
     "output_type": "stream",
     "text": [
      "Epoch=5/20:  91%|██████▎| 40/44 [04:33<00:27,  6.95s/it, acc=0.992, loss=0.0285]"
     ]
    },
    {
     "name": "stdout",
     "output_type": "stream",
     "text": [
      "Number of data items used in training: 5120\n"
     ]
    },
    {
     "name": "stderr",
     "output_type": "stream",
     "text": [
      "Epoch=5/20:  93%|██████▌| 41/44 [04:40<00:20,  6.89s/it, acc=0.992, loss=0.0135]"
     ]
    },
    {
     "name": "stdout",
     "output_type": "stream",
     "text": [
      "Number of data items used in training: 5248\n"
     ]
    },
    {
     "name": "stderr",
     "output_type": "stream",
     "text": [
      "Epoch=5/20:  95%|█████▋| 42/44 [04:46<00:13,  6.72s/it, acc=0.992, loss=0.00603]"
     ]
    },
    {
     "name": "stdout",
     "output_type": "stream",
     "text": [
      "Number of data items used in training: 5376\n"
     ]
    },
    {
     "name": "stderr",
     "output_type": "stream",
     "text": [
      "Epoch=5/20:  98%|██████▊| 43/44 [04:53<00:06,  6.85s/it, acc=0.992, loss=0.0177]"
     ]
    },
    {
     "name": "stdout",
     "output_type": "stream",
     "text": [
      "Number of data items used in training: 5504\n"
     ]
    },
    {
     "name": "stderr",
     "output_type": "stream",
     "text": [
      "Epoch=5/20: 100%|██████| 44/44 [04:55<00:00,  6.72s/it, acc=0.992, loss=0.00187]\n"
     ]
    },
    {
     "name": "stdout",
     "output_type": "stream",
     "text": [
      "Number of data items used in training: 5536\n"
     ]
    },
    {
     "name": "stderr",
     "output_type": "stream",
     "text": [
      "                                                                                \r"
     ]
    },
    {
     "name": "stdout",
     "output_type": "stream",
     "text": [
      "The current model is tested on 1384 testing data items.\n",
      "Accuracy after training this epoch in testing data is: 0.9067919075144508\n",
      "Loss after training this epoch in testing data is: 0.1523023396730423\n",
      "Starting epoch: 6\n"
     ]
    },
    {
     "name": "stderr",
     "output_type": "stream",
     "text": [
      "Epoch=6/20:   2%|▏       | 1/44 [00:08<06:08,  8.58s/it, acc=0.992, loss=0.0218]"
     ]
    },
    {
     "name": "stdout",
     "output_type": "stream",
     "text": [
      "Number of data items used in training: 128\n"
     ]
    },
    {
     "name": "stderr",
     "output_type": "stream",
     "text": [
      "Epoch=6/20:   5%|▎       | 2/44 [00:14<04:48,  6.86s/it, acc=0.992, loss=0.0176]"
     ]
    },
    {
     "name": "stdout",
     "output_type": "stream",
     "text": [
      "Number of data items used in training: 256\n"
     ]
    },
    {
     "name": "stderr",
     "output_type": "stream",
     "text": [
      "Epoch=6/20:   7%|▍      | 3/44 [00:21<04:46,  6.98s/it, acc=0.995, loss=0.00678]"
     ]
    },
    {
     "name": "stdout",
     "output_type": "stream",
     "text": [
      "Number of data items used in training: 384\n"
     ]
    },
    {
     "name": "stderr",
     "output_type": "stream",
     "text": [
      "Epoch=6/20:   9%|▋       | 4/44 [00:28<04:36,  6.92s/it, acc=0.994, loss=0.0541]"
     ]
    },
    {
     "name": "stdout",
     "output_type": "stream",
     "text": [
      "Number of data items used in training: 512\n"
     ]
    },
    {
     "name": "stderr",
     "output_type": "stream",
     "text": [
      "Epoch=6/20:  11%|▉       | 5/44 [00:35<04:32,  6.99s/it, acc=0.995, loss=0.0117]"
     ]
    },
    {
     "name": "stdout",
     "output_type": "stream",
     "text": [
      "Number of data items used in training: 640\n"
     ]
    },
    {
     "name": "stderr",
     "output_type": "stream",
     "text": [
      "Epoch=6/20:  14%|█       | 6/44 [00:41<04:16,  6.74s/it, acc=0.995, loss=0.0296]"
     ]
    },
    {
     "name": "stdout",
     "output_type": "stream",
     "text": [
      "Number of data items used in training: 768\n"
     ]
    },
    {
     "name": "stderr",
     "output_type": "stream",
     "text": [
      "Epoch=6/20:  16%|█      | 7/44 [00:48<04:09,  6.74s/it, acc=0.996, loss=0.00784]"
     ]
    },
    {
     "name": "stdout",
     "output_type": "stream",
     "text": [
      "Number of data items used in training: 896\n"
     ]
    },
    {
     "name": "stderr",
     "output_type": "stream",
     "text": [
      "Epoch=6/20:  18%|█▎     | 8/44 [00:55<04:05,  6.82s/it, acc=0.996, loss=0.00372]"
     ]
    },
    {
     "name": "stdout",
     "output_type": "stream",
     "text": [
      "Number of data items used in training: 1024\n"
     ]
    },
    {
     "name": "stderr",
     "output_type": "stream",
     "text": [
      "Epoch=6/20:  20%|█▍     | 9/44 [01:02<03:57,  6.79s/it, acc=0.997, loss=0.00621]"
     ]
    },
    {
     "name": "stdout",
     "output_type": "stream",
     "text": [
      "Number of data items used in training: 1152\n"
     ]
    },
    {
     "name": "stderr",
     "output_type": "stream",
     "text": [
      "Epoch=6/20:  23%|█▎    | 10/44 [01:08<03:51,  6.80s/it, acc=0.997, loss=0.00233]"
     ]
    },
    {
     "name": "stdout",
     "output_type": "stream",
     "text": [
      "Number of data items used in training: 1280\n"
     ]
    },
    {
     "name": "stderr",
     "output_type": "stream",
     "text": [
      "Epoch=6/20:  25%|█▊     | 11/44 [01:14<03:35,  6.55s/it, acc=0.996, loss=0.0218]"
     ]
    },
    {
     "name": "stdout",
     "output_type": "stream",
     "text": [
      "Number of data items used in training: 1408\n"
     ]
    },
    {
     "name": "stderr",
     "output_type": "stream",
     "text": [
      "Epoch=6/20:  27%|█▉     | 12/44 [01:21<03:32,  6.65s/it, acc=0.997, loss=0.0059]"
     ]
    },
    {
     "name": "stdout",
     "output_type": "stream",
     "text": [
      "Number of data items used in training: 1536\n"
     ]
    },
    {
     "name": "stderr",
     "output_type": "stream",
     "text": [
      "Epoch=6/20:  30%|█▊    | 13/44 [01:28<03:28,  6.73s/it, acc=0.997, loss=0.00139]"
     ]
    },
    {
     "name": "stdout",
     "output_type": "stream",
     "text": [
      "Number of data items used in training: 1664\n"
     ]
    },
    {
     "name": "stderr",
     "output_type": "stream",
     "text": [
      "Epoch=6/20:  32%|█▉    | 14/44 [01:35<03:23,  6.78s/it, acc=0.997, loss=0.00116]"
     ]
    },
    {
     "name": "stdout",
     "output_type": "stream",
     "text": [
      "Number of data items used in training: 1792\n"
     ]
    },
    {
     "name": "stderr",
     "output_type": "stream",
     "text": [
      "Epoch=6/20:  34%|██    | 15/44 [01:42<03:15,  6.75s/it, acc=0.997, loss=0.00101]"
     ]
    },
    {
     "name": "stdout",
     "output_type": "stream",
     "text": [
      "Number of data items used in training: 1920\n"
     ]
    },
    {
     "name": "stderr",
     "output_type": "stream",
     "text": [
      "Epoch=6/20:  36%|█▊   | 16/44 [01:48<03:01,  6.50s/it, acc=0.998, loss=0.000784]"
     ]
    },
    {
     "name": "stdout",
     "output_type": "stream",
     "text": [
      "Number of data items used in training: 2048\n"
     ]
    },
    {
     "name": "stderr",
     "output_type": "stream",
     "text": [
      "Epoch=6/20:  39%|███     | 17/44 [01:55<03:00,  6.69s/it, acc=0.998, loss=0.001]"
     ]
    },
    {
     "name": "stdout",
     "output_type": "stream",
     "text": [
      "Number of data items used in training: 2176\n"
     ]
    },
    {
     "name": "stderr",
     "output_type": "stream",
     "text": [
      "Epoch=6/20:  41%|██▍   | 18/44 [02:02<02:55,  6.75s/it, acc=0.998, loss=0.00387]"
     ]
    },
    {
     "name": "stdout",
     "output_type": "stream",
     "text": [
      "Number of data items used in training: 2304\n"
     ]
    },
    {
     "name": "stderr",
     "output_type": "stream",
     "text": [
      "Epoch=6/20:  43%|██▌   | 19/44 [02:09<02:50,  6.81s/it, acc=0.998, loss=0.00804]"
     ]
    },
    {
     "name": "stdout",
     "output_type": "stream",
     "text": [
      "Number of data items used in training: 2432\n"
     ]
    },
    {
     "name": "stderr",
     "output_type": "stream",
     "text": [
      "Epoch=6/20:  45%|██▎  | 20/44 [02:15<02:43,  6.80s/it, acc=0.998, loss=0.000958]"
     ]
    },
    {
     "name": "stdout",
     "output_type": "stream",
     "text": [
      "Number of data items used in training: 2560\n"
     ]
    },
    {
     "name": "stderr",
     "output_type": "stream",
     "text": [
      "Epoch=6/20:  48%|██▊   | 21/44 [02:22<02:35,  6.78s/it, acc=0.998, loss=0.00187]"
     ]
    },
    {
     "name": "stdout",
     "output_type": "stream",
     "text": [
      "Number of data items used in training: 2688\n"
     ]
    },
    {
     "name": "stderr",
     "output_type": "stream",
     "text": [
      "Epoch=6/20:  50%|██▌  | 22/44 [02:29<02:31,  6.91s/it, acc=0.998, loss=0.000556]"
     ]
    },
    {
     "name": "stdout",
     "output_type": "stream",
     "text": [
      "Number of data items used in training: 2816\n"
     ]
    },
    {
     "name": "stderr",
     "output_type": "stream",
     "text": [
      "Epoch=6/20:  52%|███▋   | 23/44 [02:36<02:25,  6.94s/it, acc=0.998, loss=0.0162]"
     ]
    },
    {
     "name": "stdout",
     "output_type": "stream",
     "text": [
      "Number of data items used in training: 2944\n"
     ]
    },
    {
     "name": "stderr",
     "output_type": "stream",
     "text": [
      "Epoch=6/20:  55%|██▋  | 24/44 [02:43<02:19,  6.99s/it, acc=0.998, loss=0.000595]"
     ]
    },
    {
     "name": "stdout",
     "output_type": "stream",
     "text": [
      "Number of data items used in training: 3072\n"
     ]
    },
    {
     "name": "stderr",
     "output_type": "stream",
     "text": [
      "Epoch=6/20:  57%|███▍  | 25/44 [02:50<02:09,  6.84s/it, acc=0.998, loss=0.00119]"
     ]
    },
    {
     "name": "stdout",
     "output_type": "stream",
     "text": [
      "Number of data items used in training: 3200\n"
     ]
    },
    {
     "name": "stderr",
     "output_type": "stream",
     "text": [
      "Epoch=6/20:  59%|██▉  | 26/44 [02:57<02:06,  7.00s/it, acc=0.998, loss=0.000572]"
     ]
    },
    {
     "name": "stdout",
     "output_type": "stream",
     "text": [
      "Number of data items used in training: 3328\n"
     ]
    },
    {
     "name": "stderr",
     "output_type": "stream",
     "text": [
      "Epoch=6/20:  61%|███▋  | 27/44 [03:05<02:01,  7.17s/it, acc=0.998, loss=0.00109]"
     ]
    },
    {
     "name": "stdout",
     "output_type": "stream",
     "text": [
      "Number of data items used in training: 3456\n"
     ]
    },
    {
     "name": "stderr",
     "output_type": "stream",
     "text": [
      "Epoch=6/20:  64%|█████   | 28/44 [03:12<01:56,  7.25s/it, acc=0.998, loss=0.018]"
     ]
    },
    {
     "name": "stdout",
     "output_type": "stream",
     "text": [
      "Number of data items used in training: 3584\n"
     ]
    },
    {
     "name": "stderr",
     "output_type": "stream",
     "text": [
      "Epoch=6/20:  66%|███▉  | 29/44 [03:20<01:48,  7.25s/it, acc=0.998, loss=0.00625]"
     ]
    },
    {
     "name": "stdout",
     "output_type": "stream",
     "text": [
      "Number of data items used in training: 3712\n"
     ]
    },
    {
     "name": "stderr",
     "output_type": "stream",
     "text": [
      "Epoch=6/20:  68%|███▍ | 30/44 [03:26<01:39,  7.09s/it, acc=0.998, loss=0.000653]"
     ]
    },
    {
     "name": "stdout",
     "output_type": "stream",
     "text": [
      "Number of data items used in training: 3840\n"
     ]
    },
    {
     "name": "stderr",
     "output_type": "stream",
     "text": [
      "Epoch=6/20:  70%|████▏ | 31/44 [03:33<01:32,  7.13s/it, acc=0.998, loss=0.00941]"
     ]
    },
    {
     "name": "stdout",
     "output_type": "stream",
     "text": [
      "Number of data items used in training: 3968\n"
     ]
    },
    {
     "name": "stderr",
     "output_type": "stream",
     "text": [
      "Epoch=6/20:  73%|█████  | 32/44 [03:39<01:21,  6.75s/it, acc=0.998, loss=0.0013]"
     ]
    },
    {
     "name": "stdout",
     "output_type": "stream",
     "text": [
      "Number of data items used in training: 4096\n"
     ]
    },
    {
     "name": "stderr",
     "output_type": "stream",
     "text": [
      "Epoch=6/20:  75%|████▌ | 33/44 [03:46<01:15,  6.85s/it, acc=0.998, loss=0.00255]"
     ]
    },
    {
     "name": "stdout",
     "output_type": "stream",
     "text": [
      "Number of data items used in training: 4224\n"
     ]
    },
    {
     "name": "stderr",
     "output_type": "stream",
     "text": [
      "Epoch=6/20:  77%|████▋ | 34/44 [03:53<01:08,  6.89s/it, acc=0.998, loss=0.00161]"
     ]
    },
    {
     "name": "stdout",
     "output_type": "stream",
     "text": [
      "Number of data items used in training: 4352\n"
     ]
    },
    {
     "name": "stderr",
     "output_type": "stream",
     "text": [
      "Epoch=6/20:  80%|████▊ | 35/44 [04:01<01:02,  6.97s/it, acc=0.998, loss=0.00207]"
     ]
    },
    {
     "name": "stdout",
     "output_type": "stream",
     "text": [
      "Number of data items used in training: 4480\n"
     ]
    },
    {
     "name": "stderr",
     "output_type": "stream",
     "text": [
      "Epoch=6/20:  82%|████ | 36/44 [04:08<00:56,  7.12s/it, acc=0.998, loss=0.000892]"
     ]
    },
    {
     "name": "stdout",
     "output_type": "stream",
     "text": [
      "Number of data items used in training: 4608\n"
     ]
    },
    {
     "name": "stderr",
     "output_type": "stream",
     "text": [
      "Epoch=6/20:  84%|█████▉ | 37/44 [04:15<00:48,  6.99s/it, acc=0.998, loss=0.0187]"
     ]
    },
    {
     "name": "stdout",
     "output_type": "stream",
     "text": [
      "Number of data items used in training: 4736\n"
     ]
    },
    {
     "name": "stderr",
     "output_type": "stream",
     "text": [
      "Epoch=6/20:  86%|█████▏| 38/44 [04:22<00:42,  7.07s/it, acc=0.998, loss=0.00144]"
     ]
    },
    {
     "name": "stdout",
     "output_type": "stream",
     "text": [
      "Number of data items used in training: 4864\n"
     ]
    },
    {
     "name": "stderr",
     "output_type": "stream",
     "text": [
      "Epoch=6/20:  89%|███████ | 39/44 [04:29<00:35,  7.05s/it, acc=0.998, loss=0.018]"
     ]
    },
    {
     "name": "stdout",
     "output_type": "stream",
     "text": [
      "Number of data items used in training: 4992\n"
     ]
    },
    {
     "name": "stderr",
     "output_type": "stream",
     "text": [
      "Epoch=6/20:  91%|████▌| 40/44 [04:37<00:29,  7.28s/it, acc=0.998, loss=0.000918]"
     ]
    },
    {
     "name": "stdout",
     "output_type": "stream",
     "text": [
      "Number of data items used in training: 5120\n"
     ]
    },
    {
     "name": "stderr",
     "output_type": "stream",
     "text": [
      "Epoch=6/20:  93%|█████▌| 41/44 [04:44<00:21,  7.23s/it, acc=0.998, loss=0.00126]"
     ]
    },
    {
     "name": "stdout",
     "output_type": "stream",
     "text": [
      "Number of data items used in training: 5248\n"
     ]
    },
    {
     "name": "stderr",
     "output_type": "stream",
     "text": [
      "Epoch=6/20:  95%|█████▋| 42/44 [04:51<00:14,  7.14s/it, acc=0.998, loss=0.00134]"
     ]
    },
    {
     "name": "stdout",
     "output_type": "stream",
     "text": [
      "Number of data items used in training: 5376\n"
     ]
    },
    {
     "name": "stderr",
     "output_type": "stream",
     "text": [
      "Epoch=6/20:  98%|█████▊| 43/44 [04:58<00:07,  7.19s/it, acc=0.998, loss=0.00158]"
     ]
    },
    {
     "name": "stdout",
     "output_type": "stream",
     "text": [
      "Number of data items used in training: 5504\n"
     ]
    },
    {
     "name": "stderr",
     "output_type": "stream",
     "text": [
      "Epoch=6/20: 100%|█████| 44/44 [05:00<00:00,  6.84s/it, acc=0.998, loss=0.000344]\n"
     ]
    },
    {
     "name": "stdout",
     "output_type": "stream",
     "text": [
      "Number of data items used in training: 5536\n"
     ]
    },
    {
     "name": "stderr",
     "output_type": "stream",
     "text": [
      "                                                                                \r"
     ]
    },
    {
     "name": "stdout",
     "output_type": "stream",
     "text": [
      "The current model is tested on 1384 testing data items.\n",
      "Accuracy after training this epoch in testing data is: 0.9002890173410405\n",
      "Loss after training this epoch in testing data is: 0.28919151425361633\n",
      "Starting epoch: 7\n"
     ]
    },
    {
     "name": "stderr",
     "output_type": "stream",
     "text": [
      "Epoch=7/20:   2%|▏       | 1/44 [00:07<05:34,  7.77s/it, acc=0.992, loss=0.0286]"
     ]
    },
    {
     "name": "stdout",
     "output_type": "stream",
     "text": [
      "Number of data items used in training: 128\n"
     ]
    },
    {
     "name": "stderr",
     "output_type": "stream",
     "text": [
      "Epoch=7/20:   5%|▎     | 2/44 [00:14<04:54,  7.02s/it, acc=0.996, loss=0.000499]"
     ]
    },
    {
     "name": "stdout",
     "output_type": "stream",
     "text": [
      "Number of data items used in training: 256\n"
     ]
    },
    {
     "name": "stderr",
     "output_type": "stream",
     "text": [
      "Epoch=7/20:   7%|▍     | 3/44 [00:19<04:23,  6.43s/it, acc=0.997, loss=0.000483]"
     ]
    },
    {
     "name": "stdout",
     "output_type": "stream",
     "text": [
      "Number of data items used in training: 384\n"
     ]
    },
    {
     "name": "stderr",
     "output_type": "stream",
     "text": [
      "Epoch=7/20:   9%|▌     | 4/44 [00:27<04:27,  6.69s/it, acc=0.998, loss=0.000569]"
     ]
    },
    {
     "name": "stdout",
     "output_type": "stream",
     "text": [
      "Number of data items used in training: 512\n"
     ]
    },
    {
     "name": "stderr",
     "output_type": "stream",
     "text": [
      "Epoch=7/20:  11%|▊      | 5/44 [00:33<04:23,  6.75s/it, acc=0.998, loss=0.00238]"
     ]
    },
    {
     "name": "stdout",
     "output_type": "stream",
     "text": [
      "Number of data items used in training: 640\n"
     ]
    },
    {
     "name": "stderr",
     "output_type": "stream",
     "text": [
      "Epoch=7/20:  14%|█       | 6/44 [00:40<04:11,  6.61s/it, acc=0.999, loss=0.0024]"
     ]
    },
    {
     "name": "stdout",
     "output_type": "stream",
     "text": [
      "Number of data items used in training: 768\n"
     ]
    },
    {
     "name": "stderr",
     "output_type": "stream",
     "text": [
      "Epoch=7/20:  16%|▉     | 7/44 [00:47<04:07,  6.68s/it, acc=0.999, loss=0.000746]"
     ]
    },
    {
     "name": "stdout",
     "output_type": "stream",
     "text": [
      "Number of data items used in training: 896\n"
     ]
    },
    {
     "name": "stderr",
     "output_type": "stream",
     "text": [
      "Epoch=7/20:  18%|█▎     | 8/44 [00:53<04:00,  6.69s/it, acc=0.999, loss=0.00176]"
     ]
    },
    {
     "name": "stdout",
     "output_type": "stream",
     "text": [
      "Number of data items used in training: 1024\n"
     ]
    },
    {
     "name": "stderr",
     "output_type": "stream",
     "text": [
      "Epoch=7/20:  20%|█▍     | 9/44 [01:00<03:57,  6.79s/it, acc=0.999, loss=0.00456]"
     ]
    },
    {
     "name": "stdout",
     "output_type": "stream",
     "text": [
      "Number of data items used in training: 1152\n"
     ]
    },
    {
     "name": "stderr",
     "output_type": "stream",
     "text": [
      "Epoch=7/20:  23%|█▎    | 10/44 [01:06<03:43,  6.56s/it, acc=0.999, loss=0.00138]"
     ]
    },
    {
     "name": "stdout",
     "output_type": "stream",
     "text": [
      "Number of data items used in training: 1280\n"
     ]
    },
    {
     "name": "stderr",
     "output_type": "stream",
     "text": [
      "Epoch=7/20:  25%|█▎   | 11/44 [01:13<03:37,  6.59s/it, acc=0.999, loss=0.000923]"
     ]
    },
    {
     "name": "stdout",
     "output_type": "stream",
     "text": [
      "Number of data items used in training: 1408\n"
     ]
    },
    {
     "name": "stderr",
     "output_type": "stream",
     "text": [
      "Epoch=7/20:  27%|█▎   | 12/44 [01:20<03:34,  6.69s/it, acc=0.999, loss=0.000565]"
     ]
    },
    {
     "name": "stdout",
     "output_type": "stream",
     "text": [
      "Number of data items used in training: 1536\n"
     ]
    },
    {
     "name": "stderr",
     "output_type": "stream",
     "text": [
      "Epoch=7/20:  30%|█▍   | 13/44 [01:27<03:28,  6.72s/it, acc=0.999, loss=0.000369]"
     ]
    },
    {
     "name": "stdout",
     "output_type": "stream",
     "text": [
      "Number of data items used in training: 1664\n"
     ]
    },
    {
     "name": "stderr",
     "output_type": "stream",
     "text": [
      "Epoch=7/20:  32%|██▏    | 14/44 [01:33<03:21,  6.73s/it, acc=0.999, loss=0.0212]"
     ]
    },
    {
     "name": "stdout",
     "output_type": "stream",
     "text": [
      "Number of data items used in training: 1792\n"
     ]
    },
    {
     "name": "stderr",
     "output_type": "stream",
     "text": [
      "Epoch=7/20:  34%|█▋   | 15/44 [01:40<03:13,  6.66s/it, acc=0.999, loss=0.000412]"
     ]
    },
    {
     "name": "stdout",
     "output_type": "stream",
     "text": [
      "Number of data items used in training: 1920\n"
     ]
    },
    {
     "name": "stderr",
     "output_type": "stream",
     "text": [
      "Epoch=7/20:  36%|█▊   | 16/44 [01:47<03:11,  6.85s/it, acc=0.999, loss=0.000361]"
     ]
    },
    {
     "name": "stdout",
     "output_type": "stream",
     "text": [
      "Number of data items used in training: 2048\n"
     ]
    },
    {
     "name": "stderr",
     "output_type": "stream",
     "text": [
      "Epoch=7/20:  39%|██▎   | 17/44 [01:54<03:01,  6.71s/it, acc=0.999, loss=0.00288]"
     ]
    },
    {
     "name": "stdout",
     "output_type": "stream",
     "text": [
      "Number of data items used in training: 2176\n"
     ]
    },
    {
     "name": "stderr",
     "output_type": "stream",
     "text": [
      "Epoch=7/20:  41%|██   | 18/44 [02:01<02:58,  6.85s/it, acc=0.999, loss=0.000635]"
     ]
    },
    {
     "name": "stdout",
     "output_type": "stream",
     "text": [
      "Number of data items used in training: 2304\n"
     ]
    },
    {
     "name": "stderr",
     "output_type": "stream",
     "text": [
      "Epoch=7/20:  43%|██▏  | 19/44 [02:08<02:54,  6.98s/it, acc=0.999, loss=0.000548]"
     ]
    },
    {
     "name": "stdout",
     "output_type": "stream",
     "text": [
      "Number of data items used in training: 2432\n"
     ]
    },
    {
     "name": "stderr",
     "output_type": "stream",
     "text": [
      "Epoch=7/20:  45%|██▋   | 20/44 [02:15<02:45,  6.91s/it, acc=0.999, loss=0.00177]"
     ]
    },
    {
     "name": "stdout",
     "output_type": "stream",
     "text": [
      "Number of data items used in training: 2560\n"
     ]
    },
    {
     "name": "stderr",
     "output_type": "stream",
     "text": [
      "Epoch=7/20:  48%|██▍  | 21/44 [02:22<02:41,  7.04s/it, acc=0.999, loss=0.000449]"
     ]
    },
    {
     "name": "stdout",
     "output_type": "stream",
     "text": [
      "Number of data items used in training: 2688\n"
     ]
    },
    {
     "name": "stderr",
     "output_type": "stream",
     "text": [
      "Epoch=7/20:  50%|██▌  | 22/44 [02:29<02:30,  6.86s/it, acc=0.999, loss=0.000662]"
     ]
    },
    {
     "name": "stdout",
     "output_type": "stream",
     "text": [
      "Number of data items used in training: 2816\n"
     ]
    },
    {
     "name": "stderr",
     "output_type": "stream",
     "text": [
      "Epoch=7/20:  52%|███▏  | 23/44 [02:36<02:27,  7.04s/it, acc=0.999, loss=0.00118]"
     ]
    },
    {
     "name": "stdout",
     "output_type": "stream",
     "text": [
      "Number of data items used in training: 2944\n"
     ]
    },
    {
     "name": "stderr",
     "output_type": "stream",
     "text": [
      "Epoch=7/20:  55%|███▊   | 24/44 [02:44<02:26,  7.30s/it, acc=0.999, loss=0.0167]"
     ]
    },
    {
     "name": "stdout",
     "output_type": "stream",
     "text": [
      "Number of data items used in training: 3072\n"
     ]
    },
    {
     "name": "stderr",
     "output_type": "stream",
     "text": [
      "Epoch=7/20:  57%|███▍  | 25/44 [02:51<02:16,  7.21s/it, acc=0.999, loss=0.00383]"
     ]
    },
    {
     "name": "stdout",
     "output_type": "stream",
     "text": [
      "Number of data items used in training: 3200\n"
     ]
    },
    {
     "name": "stderr",
     "output_type": "stream",
     "text": [
      "Epoch=7/20:  59%|██▉  | 26/44 [02:58<02:07,  7.07s/it, acc=0.999, loss=0.000994]"
     ]
    },
    {
     "name": "stdout",
     "output_type": "stream",
     "text": [
      "Number of data items used in training: 3328\n"
     ]
    },
    {
     "name": "stderr",
     "output_type": "stream",
     "text": [
      "Epoch=7/20:  61%|███  | 27/44 [03:05<02:01,  7.16s/it, acc=0.999, loss=0.000692]"
     ]
    },
    {
     "name": "stdout",
     "output_type": "stream",
     "text": [
      "Number of data items used in training: 3456\n"
     ]
    },
    {
     "name": "stderr",
     "output_type": "stream",
     "text": [
      "Epoch=7/20:  64%|███▏ | 28/44 [03:12<01:54,  7.17s/it, acc=0.999, loss=0.000495]"
     ]
    },
    {
     "name": "stdout",
     "output_type": "stream",
     "text": [
      "Number of data items used in training: 3584\n"
     ]
    },
    {
     "name": "stderr",
     "output_type": "stream",
     "text": [
      "Epoch=7/20:  66%|███▎ | 29/44 [03:20<01:49,  7.28s/it, acc=0.999, loss=0.000326]"
     ]
    },
    {
     "name": "stdout",
     "output_type": "stream",
     "text": [
      "Number of data items used in training: 3712\n"
     ]
    },
    {
     "name": "stderr",
     "output_type": "stream",
     "text": [
      "Epoch=7/20:  68%|████  | 30/44 [03:27<01:41,  7.22s/it, acc=0.999, loss=0.00188]"
     ]
    },
    {
     "name": "stdout",
     "output_type": "stream",
     "text": [
      "Number of data items used in training: 3840\n"
     ]
    },
    {
     "name": "stderr",
     "output_type": "stream",
     "text": [
      "Epoch=7/20:  70%|████▏ | 31/44 [03:34<01:33,  7.19s/it, acc=0.999, loss=0.00256]"
     ]
    },
    {
     "name": "stdout",
     "output_type": "stream",
     "text": [
      "Number of data items used in training: 3968\n"
     ]
    },
    {
     "name": "stderr",
     "output_type": "stream",
     "text": [
      "Epoch=7/20:  73%|████▎ | 32/44 [03:41<01:26,  7.23s/it, acc=0.999, loss=0.00123]"
     ]
    },
    {
     "name": "stdout",
     "output_type": "stream",
     "text": [
      "Number of data items used in training: 4096\n"
     ]
    },
    {
     "name": "stderr",
     "output_type": "stream",
     "text": [
      "Epoch=7/20:  75%|█████▎ | 33/44 [03:48<01:18,  7.11s/it, acc=0.999, loss=0.0563]"
     ]
    },
    {
     "name": "stdout",
     "output_type": "stream",
     "text": [
      "Number of data items used in training: 4224\n"
     ]
    },
    {
     "name": "stderr",
     "output_type": "stream",
     "text": [
      "Epoch=7/20:  77%|█████▍ | 34/44 [03:55<01:09,  7.00s/it, acc=0.998, loss=0.0543]"
     ]
    },
    {
     "name": "stdout",
     "output_type": "stream",
     "text": [
      "Number of data items used in training: 4352\n"
     ]
    },
    {
     "name": "stderr",
     "output_type": "stream",
     "text": [
      "Epoch=7/20:  80%|████▊ | 35/44 [04:02<01:03,  7.02s/it, acc=0.998, loss=0.00204]"
     ]
    },
    {
     "name": "stdout",
     "output_type": "stream",
     "text": [
      "Number of data items used in training: 4480\n"
     ]
    },
    {
     "name": "stderr",
     "output_type": "stream",
     "text": [
      "Epoch=7/20:  82%|████▉ | 36/44 [04:10<00:57,  7.18s/it, acc=0.998, loss=0.00149]"
     ]
    },
    {
     "name": "stdout",
     "output_type": "stream",
     "text": [
      "Number of data items used in training: 4608\n"
     ]
    },
    {
     "name": "stderr",
     "output_type": "stream",
     "text": [
      "Epoch=7/20:  84%|████▏| 37/44 [04:17<00:50,  7.24s/it, acc=0.998, loss=0.000834]"
     ]
    },
    {
     "name": "stdout",
     "output_type": "stream",
     "text": [
      "Number of data items used in training: 4736\n"
     ]
    },
    {
     "name": "stderr",
     "output_type": "stream",
     "text": [
      "Epoch=7/20:  86%|██████ | 38/44 [04:25<00:44,  7.41s/it, acc=0.998, loss=0.0225]"
     ]
    },
    {
     "name": "stdout",
     "output_type": "stream",
     "text": [
      "Number of data items used in training: 4864\n"
     ]
    },
    {
     "name": "stderr",
     "output_type": "stream",
     "text": [
      "Epoch=7/20:  89%|██████▏| 39/44 [04:32<00:36,  7.33s/it, acc=0.998, loss=0.0252]"
     ]
    },
    {
     "name": "stdout",
     "output_type": "stream",
     "text": [
      "Number of data items used in training: 4992\n"
     ]
    },
    {
     "name": "stderr",
     "output_type": "stream",
     "text": [
      "Epoch=7/20:  91%|██████▎| 40/44 [04:39<00:28,  7.20s/it, acc=0.998, loss=0.0213]"
     ]
    },
    {
     "name": "stdout",
     "output_type": "stream",
     "text": [
      "Number of data items used in training: 5120\n"
     ]
    },
    {
     "name": "stderr",
     "output_type": "stream",
     "text": [
      "Epoch=7/20:  93%|█████▌| 41/44 [04:46<00:21,  7.29s/it, acc=0.998, loss=0.00225]"
     ]
    },
    {
     "name": "stdout",
     "output_type": "stream",
     "text": [
      "Number of data items used in training: 5248\n"
     ]
    },
    {
     "name": "stderr",
     "output_type": "stream",
     "text": [
      "Epoch=7/20:  95%|█████▋| 42/44 [04:54<00:14,  7.31s/it, acc=0.998, loss=0.00168]"
     ]
    },
    {
     "name": "stdout",
     "output_type": "stream",
     "text": [
      "Number of data items used in training: 5376\n"
     ]
    },
    {
     "name": "stderr",
     "output_type": "stream",
     "text": [
      "Epoch=7/20:  98%|█████▊| 43/44 [05:01<00:07,  7.30s/it, acc=0.998, loss=0.00287]"
     ]
    },
    {
     "name": "stdout",
     "output_type": "stream",
     "text": [
      "Number of data items used in training: 5504\n"
     ]
    },
    {
     "name": "stderr",
     "output_type": "stream",
     "text": [
      "Epoch=7/20: 100%|█████| 44/44 [05:03<00:00,  6.90s/it, acc=0.998, loss=0.000227]\n"
     ]
    },
    {
     "name": "stdout",
     "output_type": "stream",
     "text": [
      "Number of data items used in training: 5536\n"
     ]
    },
    {
     "name": "stderr",
     "output_type": "stream",
     "text": [
      "                                                                                \r"
     ]
    },
    {
     "name": "stdout",
     "output_type": "stream",
     "text": [
      "The current model is tested on 1384 testing data items.\n",
      "Accuracy after training this epoch in testing data is: 0.9060693641618497\n",
      "Loss after training this epoch in testing data is: 0.26776322722435\n",
      "Starting epoch: 8\n"
     ]
    },
    {
     "name": "stderr",
     "output_type": "stream",
     "text": [
      "Epoch=8/20:   2%|▏         | 1/44 [00:09<06:48,  9.51s/it, acc=1, loss=0.000611]"
     ]
    },
    {
     "name": "stdout",
     "output_type": "stream",
     "text": [
      "Number of data items used in training: 128\n"
     ]
    },
    {
     "name": "stderr",
     "output_type": "stream",
     "text": [
      "Epoch=8/20:   5%|▌          | 2/44 [00:15<05:03,  7.23s/it, acc=1, loss=0.00397]"
     ]
    },
    {
     "name": "stdout",
     "output_type": "stream",
     "text": [
      "Number of data items used in training: 256\n"
     ]
    },
    {
     "name": "stderr",
     "output_type": "stream",
     "text": [
      "Epoch=8/20:   7%|▌       | 3/44 [00:22<05:02,  7.38s/it, acc=0.995, loss=0.0415]"
     ]
    },
    {
     "name": "stdout",
     "output_type": "stream",
     "text": [
      "Number of data items used in training: 384\n"
     ]
    },
    {
     "name": "stderr",
     "output_type": "stream",
     "text": [
      "Epoch=8/20:   9%|▋      | 4/44 [00:29<04:51,  7.28s/it, acc=0.996, loss=0.00345]"
     ]
    },
    {
     "name": "stdout",
     "output_type": "stream",
     "text": [
      "Number of data items used in training: 512\n"
     ]
    },
    {
     "name": "stderr",
     "output_type": "stream",
     "text": [
      "Epoch=8/20:  11%|▉       | 5/44 [00:36<04:40,  7.19s/it, acc=0.991, loss=0.0514]"
     ]
    },
    {
     "name": "stdout",
     "output_type": "stream",
     "text": [
      "Number of data items used in training: 640\n"
     ]
    },
    {
     "name": "stderr",
     "output_type": "stream",
     "text": [
      "Epoch=8/20:  14%|▉      | 6/44 [00:42<04:09,  6.58s/it, acc=0.992, loss=0.00251]"
     ]
    },
    {
     "name": "stdout",
     "output_type": "stream",
     "text": [
      "Number of data items used in training: 768\n"
     ]
    },
    {
     "name": "stderr",
     "output_type": "stream",
     "text": [
      "Epoch=8/20:  16%|█      | 7/44 [00:49<04:07,  6.70s/it, acc=0.993, loss=0.00275]"
     ]
    },
    {
     "name": "stdout",
     "output_type": "stream",
     "text": [
      "Number of data items used in training: 896\n"
     ]
    },
    {
     "name": "stderr",
     "output_type": "stream",
     "text": [
      "Epoch=8/20:  18%|█▎     | 8/44 [00:56<04:04,  6.79s/it, acc=0.994, loss=0.00783]"
     ]
    },
    {
     "name": "stdout",
     "output_type": "stream",
     "text": [
      "Number of data items used in training: 1024\n"
     ]
    },
    {
     "name": "stderr",
     "output_type": "stream",
     "text": [
      "Epoch=8/20:  20%|█▋      | 9/44 [01:03<03:58,  6.81s/it, acc=0.993, loss=0.0682]"
     ]
    },
    {
     "name": "stdout",
     "output_type": "stream",
     "text": [
      "Number of data items used in training: 1152\n"
     ]
    },
    {
     "name": "stderr",
     "output_type": "stream",
     "text": [
      "Epoch=8/20:  23%|█▌     | 10/44 [01:10<03:56,  6.96s/it, acc=0.993, loss=0.0126]"
     ]
    },
    {
     "name": "stdout",
     "output_type": "stream",
     "text": [
      "Number of data items used in training: 1280\n"
     ]
    },
    {
     "name": "stderr",
     "output_type": "stream",
     "text": [
      "Epoch=8/20:  25%|█▎   | 11/44 [01:16<03:45,  6.84s/it, acc=0.994, loss=0.000827]"
     ]
    },
    {
     "name": "stdout",
     "output_type": "stream",
     "text": [
      "Number of data items used in training: 1408\n"
     ]
    },
    {
     "name": "stderr",
     "output_type": "stream",
     "text": [
      "Epoch=8/20:  27%|█▋    | 12/44 [01:24<03:46,  7.07s/it, acc=0.994, loss=0.00542]"
     ]
    },
    {
     "name": "stdout",
     "output_type": "stream",
     "text": [
      "Number of data items used in training: 1536\n"
     ]
    },
    {
     "name": "stderr",
     "output_type": "stream",
     "text": [
      "Epoch=8/20:  30%|█▊    | 13/44 [01:31<03:34,  6.90s/it, acc=0.995, loss=0.00212]"
     ]
    },
    {
     "name": "stdout",
     "output_type": "stream",
     "text": [
      "Number of data items used in training: 1664\n"
     ]
    },
    {
     "name": "stderr",
     "output_type": "stream",
     "text": [
      "Epoch=8/20:  32%|██▏    | 14/44 [01:37<03:26,  6.89s/it, acc=0.994, loss=0.0142]"
     ]
    },
    {
     "name": "stdout",
     "output_type": "stream",
     "text": [
      "Number of data items used in training: 1792\n"
     ]
    },
    {
     "name": "stderr",
     "output_type": "stream",
     "text": [
      "Epoch=8/20:  34%|██▍    | 15/44 [01:44<03:21,  6.96s/it, acc=0.994, loss=0.0178]"
     ]
    },
    {
     "name": "stdout",
     "output_type": "stream",
     "text": [
      "Number of data items used in training: 1920\n"
     ]
    },
    {
     "name": "stderr",
     "output_type": "stream",
     "text": [
      "Epoch=8/20:  36%|██▏   | 16/44 [01:51<03:13,  6.91s/it, acc=0.995, loss=0.00085]"
     ]
    },
    {
     "name": "stdout",
     "output_type": "stream",
     "text": [
      "Number of data items used in training: 2048\n"
     ]
    },
    {
     "name": "stderr",
     "output_type": "stream",
     "text": [
      "Epoch=8/20:  39%|██▎   | 17/44 [01:58<03:08,  6.98s/it, acc=0.995, loss=0.00244]"
     ]
    },
    {
     "name": "stdout",
     "output_type": "stream",
     "text": [
      "Number of data items used in training: 2176\n"
     ]
    },
    {
     "name": "stderr",
     "output_type": "stream",
     "text": [
      "Epoch=8/20:  41%|██▍   | 18/44 [02:05<02:59,  6.91s/it, acc=0.995, loss=0.00442]"
     ]
    },
    {
     "name": "stdout",
     "output_type": "stream",
     "text": [
      "Number of data items used in training: 2304\n"
     ]
    },
    {
     "name": "stderr",
     "output_type": "stream",
     "text": [
      "Epoch=8/20:  43%|██▌   | 19/44 [02:13<02:57,  7.08s/it, acc=0.995, loss=0.00244]"
     ]
    },
    {
     "name": "stdout",
     "output_type": "stream",
     "text": [
      "Number of data items used in training: 2432\n"
     ]
    },
    {
     "name": "stderr",
     "output_type": "stream",
     "text": [
      "Epoch=8/20:  45%|██▋   | 20/44 [02:18<02:38,  6.61s/it, acc=0.996, loss=0.00117]"
     ]
    },
    {
     "name": "stdout",
     "output_type": "stream",
     "text": [
      "Number of data items used in training: 2560\n"
     ]
    },
    {
     "name": "stderr",
     "output_type": "stream",
     "text": [
      "Epoch=8/20:  48%|██▊   | 21/44 [02:25<02:35,  6.75s/it, acc=0.996, loss=0.00101]"
     ]
    },
    {
     "name": "stdout",
     "output_type": "stream",
     "text": [
      "Number of data items used in training: 2688\n"
     ]
    },
    {
     "name": "stderr",
     "output_type": "stream",
     "text": [
      "Epoch=8/20:  50%|██▌  | 22/44 [02:32<02:29,  6.80s/it, acc=0.996, loss=0.000752]"
     ]
    },
    {
     "name": "stdout",
     "output_type": "stream",
     "text": [
      "Number of data items used in training: 2816\n"
     ]
    },
    {
     "name": "stderr",
     "output_type": "stream",
     "text": [
      "Epoch=8/20:  52%|███▏  | 23/44 [02:39<02:23,  6.84s/it, acc=0.996, loss=0.00682]"
     ]
    },
    {
     "name": "stdout",
     "output_type": "stream",
     "text": [
      "Number of data items used in training: 2944\n"
     ]
    },
    {
     "name": "stderr",
     "output_type": "stream",
     "text": [
      "Epoch=8/20:  55%|███▊   | 24/44 [02:46<02:16,  6.80s/it, acc=0.996, loss=0.0058]"
     ]
    },
    {
     "name": "stdout",
     "output_type": "stream",
     "text": [
      "Number of data items used in training: 3072\n"
     ]
    },
    {
     "name": "stderr",
     "output_type": "stream",
     "text": [
      "Epoch=8/20:  57%|███▉   | 25/44 [02:52<02:06,  6.67s/it, acc=0.996, loss=0.0163]"
     ]
    },
    {
     "name": "stdout",
     "output_type": "stream",
     "text": [
      "Number of data items used in training: 3200\n"
     ]
    },
    {
     "name": "stderr",
     "output_type": "stream",
     "text": [
      "Epoch=8/20:  59%|███▌  | 26/44 [02:59<02:03,  6.85s/it, acc=0.996, loss=0.00189]"
     ]
    },
    {
     "name": "stdout",
     "output_type": "stream",
     "text": [
      "Number of data items used in training: 3328\n"
     ]
    },
    {
     "name": "stderr",
     "output_type": "stream",
     "text": [
      "Epoch=8/20:  61%|███▋  | 27/44 [03:06<01:56,  6.87s/it, acc=0.996, loss=0.00168]"
     ]
    },
    {
     "name": "stdout",
     "output_type": "stream",
     "text": [
      "Number of data items used in training: 3456\n"
     ]
    },
    {
     "name": "stderr",
     "output_type": "stream",
     "text": [
      "Epoch=8/20:  64%|███▊  | 28/44 [03:13<01:50,  6.92s/it, acc=0.996, loss=0.00323]"
     ]
    },
    {
     "name": "stdout",
     "output_type": "stream",
     "text": [
      "Number of data items used in training: 3584\n"
     ]
    },
    {
     "name": "stderr",
     "output_type": "stream",
     "text": [
      "Epoch=8/20:  66%|███▉  | 29/44 [03:20<01:41,  6.74s/it, acc=0.996, loss=0.00468]"
     ]
    },
    {
     "name": "stdout",
     "output_type": "stream",
     "text": [
      "Number of data items used in training: 3712\n"
     ]
    },
    {
     "name": "stderr",
     "output_type": "stream",
     "text": [
      "Epoch=8/20:  68%|████  | 30/44 [03:27<01:34,  6.78s/it, acc=0.997, loss=0.00199]"
     ]
    },
    {
     "name": "stdout",
     "output_type": "stream",
     "text": [
      "Number of data items used in training: 3840\n"
     ]
    },
    {
     "name": "stderr",
     "output_type": "stream",
     "text": [
      "Epoch=8/20:  70%|████▏ | 31/44 [03:34<01:30,  6.97s/it, acc=0.997, loss=0.00336]"
     ]
    },
    {
     "name": "stdout",
     "output_type": "stream",
     "text": [
      "Number of data items used in training: 3968\n"
     ]
    },
    {
     "name": "stderr",
     "output_type": "stream",
     "text": [
      "Epoch=8/20:  73%|█████  | 32/44 [03:41<01:23,  6.99s/it, acc=0.997, loss=0.0152]"
     ]
    },
    {
     "name": "stdout",
     "output_type": "stream",
     "text": [
      "Number of data items used in training: 4096\n"
     ]
    },
    {
     "name": "stderr",
     "output_type": "stream",
     "text": [
      "Epoch=8/20:  75%|████▌ | 33/44 [03:48<01:17,  7.04s/it, acc=0.997, loss=0.00598]"
     ]
    },
    {
     "name": "stdout",
     "output_type": "stream",
     "text": [
      "Number of data items used in training: 4224\n"
     ]
    },
    {
     "name": "stderr",
     "output_type": "stream",
     "text": [
      "Epoch=8/20:  77%|████▋ | 34/44 [03:54<01:06,  6.63s/it, acc=0.997, loss=0.00113]"
     ]
    },
    {
     "name": "stdout",
     "output_type": "stream",
     "text": [
      "Number of data items used in training: 4352\n"
     ]
    },
    {
     "name": "stderr",
     "output_type": "stream",
     "text": [
      "Epoch=8/20:  80%|███▉ | 35/44 [04:01<01:02,  6.90s/it, acc=0.997, loss=0.000943]"
     ]
    },
    {
     "name": "stdout",
     "output_type": "stream",
     "text": [
      "Number of data items used in training: 4480\n"
     ]
    },
    {
     "name": "stderr",
     "output_type": "stream",
     "text": [
      "Epoch=8/20:  82%|████ | 36/44 [04:08<00:55,  6.91s/it, acc=0.997, loss=0.000318]"
     ]
    },
    {
     "name": "stdout",
     "output_type": "stream",
     "text": [
      "Number of data items used in training: 4608\n"
     ]
    },
    {
     "name": "stderr",
     "output_type": "stream",
     "text": [
      "Epoch=8/20:  84%|█████▉ | 37/44 [04:15<00:47,  6.85s/it, acc=0.997, loss=0.0354]"
     ]
    },
    {
     "name": "stdout",
     "output_type": "stream",
     "text": [
      "Number of data items used in training: 4736\n"
     ]
    },
    {
     "name": "stderr",
     "output_type": "stream",
     "text": [
      "Epoch=8/20:  86%|█████▏| 38/44 [04:22<00:41,  6.85s/it, acc=0.997, loss=0.00599]"
     ]
    },
    {
     "name": "stdout",
     "output_type": "stream",
     "text": [
      "Number of data items used in training: 4864\n"
     ]
    },
    {
     "name": "stderr",
     "output_type": "stream",
     "text": [
      "Epoch=8/20:  89%|██████▏| 39/44 [04:28<00:33,  6.76s/it, acc=0.997, loss=0.0016]"
     ]
    },
    {
     "name": "stdout",
     "output_type": "stream",
     "text": [
      "Number of data items used in training: 4992\n"
     ]
    },
    {
     "name": "stderr",
     "output_type": "stream",
     "text": [
      "Epoch=8/20:  91%|████▌| 40/44 [04:36<00:27,  6.85s/it, acc=0.997, loss=0.000733]"
     ]
    },
    {
     "name": "stdout",
     "output_type": "stream",
     "text": [
      "Number of data items used in training: 5120\n"
     ]
    },
    {
     "name": "stderr",
     "output_type": "stream",
     "text": [
      "Epoch=8/20:  93%|██████▌| 41/44 [04:42<00:19,  6.64s/it, acc=0.997, loss=0.0266]"
     ]
    },
    {
     "name": "stdout",
     "output_type": "stream",
     "text": [
      "Number of data items used in training: 5248\n"
     ]
    },
    {
     "name": "stderr",
     "output_type": "stream",
     "text": [
      "Epoch=8/20:  95%|█████▋| 42/44 [04:49<00:13,  6.71s/it, acc=0.997, loss=0.00598]"
     ]
    },
    {
     "name": "stdout",
     "output_type": "stream",
     "text": [
      "Number of data items used in training: 5376\n"
     ]
    },
    {
     "name": "stderr",
     "output_type": "stream",
     "text": [
      "Epoch=8/20:  98%|██████▊| 43/44 [04:56<00:06,  6.79s/it, acc=0.997, loss=0.0288]"
     ]
    },
    {
     "name": "stdout",
     "output_type": "stream",
     "text": [
      "Number of data items used in training: 5504\n"
     ]
    },
    {
     "name": "stderr",
     "output_type": "stream",
     "text": [
      "Epoch=8/20: 100%|█████| 44/44 [04:57<00:00,  6.77s/it, acc=0.997, loss=0.000236]\n"
     ]
    },
    {
     "name": "stdout",
     "output_type": "stream",
     "text": [
      "Number of data items used in training: 5536\n"
     ]
    },
    {
     "name": "stderr",
     "output_type": "stream",
     "text": [
      "                                                                                \r"
     ]
    },
    {
     "name": "stdout",
     "output_type": "stream",
     "text": [
      "The current model is tested on 1384 testing data items.\n",
      "Accuracy after training this epoch in testing data is: 0.8959537572254336\n",
      "Loss after training this epoch in testing data is: 0.2676805853843689\n",
      "Starting epoch: 9\n"
     ]
    },
    {
     "name": "stderr",
     "output_type": "stream",
     "text": [
      "Epoch=9/20:   2%|▏       | 1/44 [00:07<05:11,  7.25s/it, acc=0.992, loss=0.0129]"
     ]
    },
    {
     "name": "stdout",
     "output_type": "stream",
     "text": [
      "Number of data items used in training: 128\n"
     ]
    },
    {
     "name": "stderr",
     "output_type": "stream",
     "text": [
      "Epoch=9/20:   5%|▎       | 2/44 [00:14<05:12,  7.44s/it, acc=0.988, loss=0.0785]"
     ]
    },
    {
     "name": "stdout",
     "output_type": "stream",
     "text": [
      "Number of data items used in training: 256\n"
     ]
    },
    {
     "name": "stderr",
     "output_type": "stream",
     "text": [
      "Epoch=9/20:   7%|▌        | 3/44 [00:22<05:10,  7.58s/it, acc=0.99, loss=0.0166]"
     ]
    },
    {
     "name": "stdout",
     "output_type": "stream",
     "text": [
      "Number of data items used in training: 384\n"
     ]
    },
    {
     "name": "stderr",
     "output_type": "stream",
     "text": [
      "Epoch=9/20:   9%|▋      | 4/44 [00:29<04:56,  7.41s/it, acc=0.992, loss=0.00684]"
     ]
    },
    {
     "name": "stdout",
     "output_type": "stream",
     "text": [
      "Number of data items used in training: 512\n"
     ]
    },
    {
     "name": "stderr",
     "output_type": "stream",
     "text": [
      "Epoch=9/20:  11%|▋     | 5/44 [00:35<04:21,  6.71s/it, acc=0.994, loss=0.000899]"
     ]
    },
    {
     "name": "stdout",
     "output_type": "stream",
     "text": [
      "Number of data items used in training: 640\n"
     ]
    },
    {
     "name": "stderr",
     "output_type": "stream",
     "text": [
      "Epoch=9/20:  14%|▊     | 6/44 [00:42<04:19,  6.82s/it, acc=0.995, loss=0.000598]"
     ]
    },
    {
     "name": "stdout",
     "output_type": "stream",
     "text": [
      "Number of data items used in training: 768\n"
     ]
    },
    {
     "name": "stderr",
     "output_type": "stream",
     "text": [
      "Epoch=9/20:  16%|█▎      | 7/44 [00:49<04:17,  6.95s/it, acc=0.994, loss=0.0156]"
     ]
    },
    {
     "name": "stdout",
     "output_type": "stream",
     "text": [
      "Number of data items used in training: 896\n"
     ]
    },
    {
     "name": "stderr",
     "output_type": "stream",
     "text": [
      "Epoch=9/20:  18%|█     | 8/44 [00:56<04:10,  6.96s/it, acc=0.995, loss=0.000774]"
     ]
    },
    {
     "name": "stdout",
     "output_type": "stream",
     "text": [
      "Number of data items used in training: 1024\n"
     ]
    },
    {
     "name": "stderr",
     "output_type": "stream",
     "text": [
      "Epoch=9/20:  20%|█▍     | 9/44 [01:03<04:00,  6.87s/it, acc=0.996, loss=0.00219]"
     ]
    },
    {
     "name": "stdout",
     "output_type": "stream",
     "text": [
      "Number of data items used in training: 1152\n"
     ]
    },
    {
     "name": "stderr",
     "output_type": "stream",
     "text": [
      "Epoch=9/20:  23%|█▎    | 10/44 [01:09<03:53,  6.86s/it, acc=0.996, loss=0.00123]"
     ]
    },
    {
     "name": "stdout",
     "output_type": "stream",
     "text": [
      "Number of data items used in training: 1280\n"
     ]
    },
    {
     "name": "stderr",
     "output_type": "stream",
     "text": [
      "Epoch=9/20:  25%|█▎   | 11/44 [01:17<03:49,  6.94s/it, acc=0.996, loss=0.000702]"
     ]
    },
    {
     "name": "stdout",
     "output_type": "stream",
     "text": [
      "Number of data items used in training: 1408\n"
     ]
    },
    {
     "name": "stderr",
     "output_type": "stream",
     "text": [
      "Epoch=9/20:  27%|█▉     | 12/44 [01:24<03:42,  6.96s/it, acc=0.996, loss=0.0102]"
     ]
    },
    {
     "name": "stdout",
     "output_type": "stream",
     "text": [
      "Number of data items used in training: 1536\n"
     ]
    },
    {
     "name": "stderr",
     "output_type": "stream",
     "text": [
      "Epoch=9/20:  30%|██     | 13/44 [01:30<03:31,  6.81s/it, acc=0.996, loss=0.0288]"
     ]
    },
    {
     "name": "stdout",
     "output_type": "stream",
     "text": [
      "Number of data items used in training: 1664\n"
     ]
    },
    {
     "name": "stderr",
     "output_type": "stream",
     "text": [
      "Epoch=9/20:  32%|█▉    | 14/44 [01:36<03:18,  6.63s/it, acc=0.996, loss=0.00054]"
     ]
    },
    {
     "name": "stdout",
     "output_type": "stream",
     "text": [
      "Number of data items used in training: 1792\n"
     ]
    },
    {
     "name": "stderr",
     "output_type": "stream",
     "text": [
      "Epoch=9/20:  34%|██    | 15/44 [01:44<03:19,  6.89s/it, acc=0.996, loss=0.00697]"
     ]
    },
    {
     "name": "stdout",
     "output_type": "stream",
     "text": [
      "Number of data items used in training: 1920\n"
     ]
    },
    {
     "name": "stderr",
     "output_type": "stream",
     "text": [
      "Epoch=9/20:  36%|██▉     | 16/44 [01:51<03:17,  7.05s/it, acc=0.996, loss=0.051]"
     ]
    },
    {
     "name": "stdout",
     "output_type": "stream",
     "text": [
      "Number of data items used in training: 2048\n"
     ]
    },
    {
     "name": "stderr",
     "output_type": "stream",
     "text": [
      "Epoch=9/20:  39%|██▋    | 17/44 [01:58<03:09,  7.01s/it, acc=0.996, loss=0.0116]"
     ]
    },
    {
     "name": "stdout",
     "output_type": "stream",
     "text": [
      "Number of data items used in training: 2176\n"
     ]
    },
    {
     "name": "stderr",
     "output_type": "stream",
     "text": [
      "Epoch=9/20:  41%|██▊    | 18/44 [02:05<03:04,  7.10s/it, acc=0.996, loss=0.0132]"
     ]
    },
    {
     "name": "stdout",
     "output_type": "stream",
     "text": [
      "Number of data items used in training: 2304\n"
     ]
    },
    {
     "name": "stderr",
     "output_type": "stream",
     "text": [
      "Epoch=9/20:  43%|██▌   | 19/44 [02:12<02:53,  6.94s/it, acc=0.996, loss=0.00274]"
     ]
    },
    {
     "name": "stdout",
     "output_type": "stream",
     "text": [
      "Number of data items used in training: 2432\n"
     ]
    },
    {
     "name": "stderr",
     "output_type": "stream",
     "text": [
      "Epoch=9/20:  45%|██▋   | 20/44 [02:20<02:54,  7.29s/it, acc=0.996, loss=0.00468]"
     ]
    },
    {
     "name": "stdout",
     "output_type": "stream",
     "text": [
      "Number of data items used in training: 2560\n"
     ]
    },
    {
     "name": "stderr",
     "output_type": "stream",
     "text": [
      "Epoch=9/20:  48%|██▍  | 21/44 [02:28<02:48,  7.35s/it, acc=0.996, loss=0.000499]"
     ]
    },
    {
     "name": "stdout",
     "output_type": "stream",
     "text": [
      "Number of data items used in training: 2688\n"
     ]
    },
    {
     "name": "stderr",
     "output_type": "stream",
     "text": [
      "Epoch=9/20:  50%|███▌   | 22/44 [02:35<02:43,  7.42s/it, acc=0.996, loss=0.0616]"
     ]
    },
    {
     "name": "stdout",
     "output_type": "stream",
     "text": [
      "Number of data items used in training: 2816\n"
     ]
    },
    {
     "name": "stderr",
     "output_type": "stream",
     "text": [
      "Epoch=9/20:  52%|███▋   | 23/44 [02:42<02:29,  7.12s/it, acc=0.996, loss=0.0036]"
     ]
    },
    {
     "name": "stdout",
     "output_type": "stream",
     "text": [
      "Number of data items used in training: 2944\n"
     ]
    },
    {
     "name": "stderr",
     "output_type": "stream",
     "text": [
      "Epoch=9/20:  55%|███▎  | 24/44 [02:49<02:24,  7.24s/it, acc=0.996, loss=0.00449]"
     ]
    },
    {
     "name": "stdout",
     "output_type": "stream",
     "text": [
      "Number of data items used in training: 3072\n"
     ]
    },
    {
     "name": "stderr",
     "output_type": "stream",
     "text": [
      "Epoch=9/20:  57%|███▍  | 25/44 [02:56<02:15,  7.13s/it, acc=0.997, loss=0.00574]"
     ]
    },
    {
     "name": "stdout",
     "output_type": "stream",
     "text": [
      "Number of data items used in training: 3200\n"
     ]
    },
    {
     "name": "stderr",
     "output_type": "stream",
     "text": [
      "Epoch=9/20:  59%|████▏  | 26/44 [03:03<02:10,  7.25s/it, acc=0.996, loss=0.0157]"
     ]
    },
    {
     "name": "stdout",
     "output_type": "stream",
     "text": [
      "Number of data items used in training: 3328\n"
     ]
    },
    {
     "name": "stderr",
     "output_type": "stream",
     "text": [
      "Epoch=9/20:  61%|████▎  | 27/44 [03:11<02:03,  7.25s/it, acc=0.996, loss=0.0729]"
     ]
    },
    {
     "name": "stdout",
     "output_type": "stream",
     "text": [
      "Number of data items used in training: 3456\n"
     ]
    },
    {
     "name": "stderr",
     "output_type": "stream",
     "text": [
      "Epoch=9/20:  64%|███▊  | 28/44 [03:19<02:01,  7.62s/it, acc=0.996, loss=0.00332]"
     ]
    },
    {
     "name": "stdout",
     "output_type": "stream",
     "text": [
      "Number of data items used in training: 3584\n"
     ]
    },
    {
     "name": "stderr",
     "output_type": "stream",
     "text": [
      "Epoch=9/20:  66%|███▉  | 29/44 [03:26<01:48,  7.27s/it, acc=0.996, loss=0.00192]"
     ]
    },
    {
     "name": "stdout",
     "output_type": "stream",
     "text": [
      "Number of data items used in training: 3712\n"
     ]
    },
    {
     "name": "stderr",
     "output_type": "stream",
     "text": [
      "Epoch=9/20:  68%|█████▍  | 30/44 [03:33<01:40,  7.17s/it, acc=0.996, loss=0.079]"
     ]
    },
    {
     "name": "stdout",
     "output_type": "stream",
     "text": [
      "Number of data items used in training: 3840\n"
     ]
    },
    {
     "name": "stderr",
     "output_type": "stream",
     "text": [
      "Epoch=9/20:  70%|████▏ | 31/44 [03:41<01:36,  7.44s/it, acc=0.996, loss=0.00337]"
     ]
    },
    {
     "name": "stdout",
     "output_type": "stream",
     "text": [
      "Number of data items used in training: 3968\n"
     ]
    },
    {
     "name": "stderr",
     "output_type": "stream",
     "text": [
      "Epoch=9/20:  73%|████▎ | 32/44 [03:48<01:27,  7.27s/it, acc=0.996, loss=0.00263]"
     ]
    },
    {
     "name": "stdout",
     "output_type": "stream",
     "text": [
      "Number of data items used in training: 4096\n"
     ]
    },
    {
     "name": "stderr",
     "output_type": "stream",
     "text": [
      "Epoch=9/20:  75%|████▌ | 33/44 [03:55<01:19,  7.23s/it, acc=0.996, loss=0.00698]"
     ]
    },
    {
     "name": "stdout",
     "output_type": "stream",
     "text": [
      "Number of data items used in training: 4224\n"
     ]
    },
    {
     "name": "stderr",
     "output_type": "stream",
     "text": [
      "Epoch=9/20:  77%|█████▍ | 34/44 [04:01<01:09,  6.92s/it, acc=0.996, loss=0.0551]"
     ]
    },
    {
     "name": "stdout",
     "output_type": "stream",
     "text": [
      "Number of data items used in training: 4352\n"
     ]
    },
    {
     "name": "stderr",
     "output_type": "stream",
     "text": [
      "Epoch=9/20:  80%|████▊ | 35/44 [04:08<01:03,  7.02s/it, acc=0.996, loss=0.00274]"
     ]
    },
    {
     "name": "stdout",
     "output_type": "stream",
     "text": [
      "Number of data items used in training: 4480\n"
     ]
    },
    {
     "name": "stderr",
     "output_type": "stream",
     "text": [
      "Epoch=9/20:  82%|█████▋ | 36/44 [04:16<00:57,  7.21s/it, acc=0.995, loss=0.0621]"
     ]
    },
    {
     "name": "stdout",
     "output_type": "stream",
     "text": [
      "Number of data items used in training: 4608\n"
     ]
    },
    {
     "name": "stderr",
     "output_type": "stream",
     "text": [
      "Epoch=9/20:  84%|█████▉ | 37/44 [04:24<00:51,  7.37s/it, acc=0.995, loss=0.0188]"
     ]
    },
    {
     "name": "stdout",
     "output_type": "stream",
     "text": [
      "Number of data items used in training: 4736\n"
     ]
    },
    {
     "name": "stderr",
     "output_type": "stream",
     "text": [
      "Epoch=9/20:  86%|██████ | 38/44 [04:31<00:43,  7.27s/it, acc=0.995, loss=0.0269]"
     ]
    },
    {
     "name": "stdout",
     "output_type": "stream",
     "text": [
      "Number of data items used in training: 4864\n"
     ]
    },
    {
     "name": "stderr",
     "output_type": "stream",
     "text": [
      "Epoch=9/20:  89%|██████▏| 39/44 [04:37<00:35,  7.12s/it, acc=0.995, loss=0.0393]"
     ]
    },
    {
     "name": "stdout",
     "output_type": "stream",
     "text": [
      "Number of data items used in training: 4992\n"
     ]
    },
    {
     "name": "stderr",
     "output_type": "stream",
     "text": [
      "Epoch=9/20:  91%|█████▍| 40/44 [04:45<00:28,  7.15s/it, acc=0.995, loss=0.00675]"
     ]
    },
    {
     "name": "stdout",
     "output_type": "stream",
     "text": [
      "Number of data items used in training: 5120\n"
     ]
    },
    {
     "name": "stderr",
     "output_type": "stream",
     "text": [
      "Epoch=9/20:  93%|███████▍| 41/44 [04:52<00:21,  7.28s/it, acc=0.995, loss=0.011]"
     ]
    },
    {
     "name": "stdout",
     "output_type": "stream",
     "text": [
      "Number of data items used in training: 5248\n"
     ]
    },
    {
     "name": "stderr",
     "output_type": "stream",
     "text": [
      "Epoch=9/20:  95%|███████▋| 42/44 [05:00<00:14,  7.31s/it, acc=0.995, loss=0.021]"
     ]
    },
    {
     "name": "stdout",
     "output_type": "stream",
     "text": [
      "Number of data items used in training: 5376\n"
     ]
    },
    {
     "name": "stderr",
     "output_type": "stream",
     "text": [
      "Epoch=9/20:  98%|██████▊| 43/44 [05:06<00:06,  6.92s/it, acc=0.995, loss=0.0128]"
     ]
    },
    {
     "name": "stdout",
     "output_type": "stream",
     "text": [
      "Number of data items used in training: 5504\n"
     ]
    },
    {
     "name": "stderr",
     "output_type": "stream",
     "text": [
      "Epoch=9/20: 100%|██████| 44/44 [05:08<00:00,  7.01s/it, acc=0.995, loss=0.00124]\n"
     ]
    },
    {
     "name": "stdout",
     "output_type": "stream",
     "text": [
      "Number of data items used in training: 5536\n"
     ]
    },
    {
     "name": "stderr",
     "output_type": "stream",
     "text": [
      "                                                                                \r"
     ]
    },
    {
     "name": "stdout",
     "output_type": "stream",
     "text": [
      "The current model is tested on 1384 testing data items.\n",
      "Accuracy after training this epoch in testing data is: 0.903179190751445\n",
      "Loss after training this epoch in testing data is: 0.29170066118240356\n",
      "Starting epoch: 10\n"
     ]
    },
    {
     "name": "stderr",
     "output_type": "stream",
     "text": [
      "Epoch=10/20:   2%|▏         | 1/44 [00:07<05:36,  7.83s/it, acc=1, loss=0.00803]"
     ]
    },
    {
     "name": "stdout",
     "output_type": "stream",
     "text": [
      "Number of data items used in training: 128\n"
     ]
    },
    {
     "name": "stderr",
     "output_type": "stream",
     "text": [
      "Epoch=10/20:   5%|▎      | 2/44 [00:14<05:01,  7.17s/it, acc=0.996, loss=0.0191]"
     ]
    },
    {
     "name": "stdout",
     "output_type": "stream",
     "text": [
      "Number of data items used in training: 256\n"
     ]
    },
    {
     "name": "stderr",
     "output_type": "stream",
     "text": [
      "Epoch=10/20:   7%|▍     | 3/44 [00:21<04:50,  7.09s/it, acc=0.997, loss=0.00417]"
     ]
    },
    {
     "name": "stdout",
     "output_type": "stream",
     "text": [
      "Number of data items used in training: 384\n"
     ]
    },
    {
     "name": "stderr",
     "output_type": "stream",
     "text": [
      "Epoch=10/20:   9%|▋      | 4/44 [00:28<04:37,  6.94s/it, acc=0.996, loss=0.0109]"
     ]
    },
    {
     "name": "stdout",
     "output_type": "stream",
     "text": [
      "Number of data items used in training: 512\n"
     ]
    },
    {
     "name": "stderr",
     "output_type": "stream",
     "text": [
      "Epoch=10/20:  11%|▋     | 5/44 [00:34<04:22,  6.74s/it, acc=0.997, loss=0.00993]"
     ]
    },
    {
     "name": "stdout",
     "output_type": "stream",
     "text": [
      "Number of data items used in training: 640\n"
     ]
    },
    {
     "name": "stderr",
     "output_type": "stream",
     "text": [
      "Epoch=10/20:  14%|▉      | 6/44 [00:41<04:19,  6.82s/it, acc=0.996, loss=0.0151]"
     ]
    },
    {
     "name": "stdout",
     "output_type": "stream",
     "text": [
      "Number of data items used in training: 768\n"
     ]
    },
    {
     "name": "stderr",
     "output_type": "stream",
     "text": [
      "Epoch=10/20:  16%|▉     | 7/44 [00:48<04:11,  6.79s/it, acc=0.997, loss=0.00813]"
     ]
    },
    {
     "name": "stdout",
     "output_type": "stream",
     "text": [
      "Number of data items used in training: 896\n"
     ]
    },
    {
     "name": "stderr",
     "output_type": "stream",
     "text": [
      "Epoch=10/20:  18%|█     | 8/44 [00:55<04:03,  6.77s/it, acc=0.997, loss=0.00245]"
     ]
    },
    {
     "name": "stdout",
     "output_type": "stream",
     "text": [
      "Number of data items used in training: 1024\n"
     ]
    },
    {
     "name": "stderr",
     "output_type": "stream",
     "text": [
      "Epoch=10/20:  20%|█▏    | 9/44 [01:01<03:51,  6.61s/it, acc=0.997, loss=0.00498]"
     ]
    },
    {
     "name": "stdout",
     "output_type": "stream",
     "text": [
      "Number of data items used in training: 1152\n"
     ]
    },
    {
     "name": "stderr",
     "output_type": "stream",
     "text": [
      "Epoch=10/20:  23%|█▏   | 10/44 [01:08<03:50,  6.79s/it, acc=0.998, loss=0.00521]"
     ]
    },
    {
     "name": "stdout",
     "output_type": "stream",
     "text": [
      "Number of data items used in training: 1280\n"
     ]
    },
    {
     "name": "stderr",
     "output_type": "stream",
     "text": [
      "Epoch=10/20:  25%|█▌    | 11/44 [01:15<03:44,  6.81s/it, acc=0.997, loss=0.0213]"
     ]
    },
    {
     "name": "stdout",
     "output_type": "stream",
     "text": [
      "Number of data items used in training: 1408\n"
     ]
    },
    {
     "name": "stderr",
     "output_type": "stream",
     "text": [
      "Epoch=10/20:  27%|█▎   | 12/44 [01:21<03:36,  6.75s/it, acc=0.997, loss=0.00295]"
     ]
    },
    {
     "name": "stdout",
     "output_type": "stream",
     "text": [
      "Number of data items used in training: 1536\n"
     ]
    },
    {
     "name": "stderr",
     "output_type": "stream",
     "text": [
      "Epoch=10/20:  30%|█▍   | 13/44 [01:29<03:35,  6.96s/it, acc=0.998, loss=0.00241]"
     ]
    },
    {
     "name": "stdout",
     "output_type": "stream",
     "text": [
      "Number of data items used in training: 1664\n"
     ]
    },
    {
     "name": "stderr",
     "output_type": "stream",
     "text": [
      "Epoch=10/20:  32%|█▉    | 14/44 [01:36<03:29,  6.98s/it, acc=0.997, loss=0.0655]"
     ]
    },
    {
     "name": "stdout",
     "output_type": "stream",
     "text": [
      "Number of data items used in training: 1792\n"
     ]
    },
    {
     "name": "stderr",
     "output_type": "stream",
     "text": [
      "Epoch=10/20:  34%|█▋   | 15/44 [01:43<03:18,  6.86s/it, acc=0.997, loss=0.00964]"
     ]
    },
    {
     "name": "stdout",
     "output_type": "stream",
     "text": [
      "Number of data items used in training: 1920\n"
     ]
    },
    {
     "name": "stderr",
     "output_type": "stream",
     "text": [
      "Epoch=10/20:  36%|█▍  | 16/44 [01:49<03:10,  6.80s/it, acc=0.997, loss=0.000819]"
     ]
    },
    {
     "name": "stdout",
     "output_type": "stream",
     "text": [
      "Number of data items used in training: 2048\n"
     ]
    },
    {
     "name": "stderr",
     "output_type": "stream",
     "text": [
      "Epoch=10/20:  39%|█▉   | 17/44 [01:56<03:05,  6.86s/it, acc=0.997, loss=0.00083]"
     ]
    },
    {
     "name": "stdout",
     "output_type": "stream",
     "text": [
      "Number of data items used in training: 2176\n"
     ]
    },
    {
     "name": "stderr",
     "output_type": "stream",
     "text": [
      "Epoch=10/20:  41%|█▋  | 18/44 [02:03<02:58,  6.88s/it, acc=0.997, loss=0.000566]"
     ]
    },
    {
     "name": "stdout",
     "output_type": "stream",
     "text": [
      "Number of data items used in training: 2304\n"
     ]
    },
    {
     "name": "stderr",
     "output_type": "stream",
     "text": [
      "Epoch=10/20:  43%|██▏  | 19/44 [02:10<02:52,  6.91s/it, acc=0.998, loss=0.00191]"
     ]
    },
    {
     "name": "stdout",
     "output_type": "stream",
     "text": [
      "Number of data items used in training: 2432\n"
     ]
    },
    {
     "name": "stderr",
     "output_type": "stream",
     "text": [
      "Epoch=10/20:  45%|█▊  | 20/44 [02:17<02:44,  6.87s/it, acc=0.998, loss=0.000457]"
     ]
    },
    {
     "name": "stdout",
     "output_type": "stream",
     "text": [
      "Number of data items used in training: 2560\n"
     ]
    },
    {
     "name": "stderr",
     "output_type": "stream",
     "text": [
      "Epoch=10/20:  48%|█▉  | 21/44 [02:23<02:32,  6.64s/it, acc=0.998, loss=0.000977]"
     ]
    },
    {
     "name": "stdout",
     "output_type": "stream",
     "text": [
      "Number of data items used in training: 2688\n"
     ]
    },
    {
     "name": "stderr",
     "output_type": "stream",
     "text": [
      "Epoch=10/20:  50%|███   | 22/44 [02:30<02:27,  6.70s/it, acc=0.998, loss=0.0252]"
     ]
    },
    {
     "name": "stdout",
     "output_type": "stream",
     "text": [
      "Number of data items used in training: 2816\n"
     ]
    },
    {
     "name": "stderr",
     "output_type": "stream",
     "text": [
      "Epoch=10/20:  52%|██  | 23/44 [02:37<02:23,  6.84s/it, acc=0.998, loss=0.000641]"
     ]
    },
    {
     "name": "stdout",
     "output_type": "stream",
     "text": [
      "Number of data items used in training: 2944\n"
     ]
    },
    {
     "name": "stderr",
     "output_type": "stream",
     "text": [
      "Epoch=10/20:  55%|██▋  | 24/44 [02:44<02:18,  6.91s/it, acc=0.998, loss=0.00292]"
     ]
    },
    {
     "name": "stdout",
     "output_type": "stream",
     "text": [
      "Number of data items used in training: 3072\n"
     ]
    },
    {
     "name": "stderr",
     "output_type": "stream",
     "text": [
      "Epoch=10/20:  57%|██▎ | 25/44 [02:51<02:10,  6.85s/it, acc=0.998, loss=0.000928]"
     ]
    },
    {
     "name": "stdout",
     "output_type": "stream",
     "text": [
      "Number of data items used in training: 3200\n"
     ]
    },
    {
     "name": "stderr",
     "output_type": "stream",
     "text": [
      "Epoch=10/20:  59%|███▌  | 26/44 [02:57<02:00,  6.68s/it, acc=0.998, loss=0.0012]"
     ]
    },
    {
     "name": "stdout",
     "output_type": "stream",
     "text": [
      "Number of data items used in training: 3328\n"
     ]
    },
    {
     "name": "stderr",
     "output_type": "stream",
     "text": [
      "Epoch=10/20:  61%|███  | 27/44 [03:04<01:56,  6.86s/it, acc=0.998, loss=0.00151]"
     ]
    },
    {
     "name": "stdout",
     "output_type": "stream",
     "text": [
      "Number of data items used in training: 3456\n"
     ]
    },
    {
     "name": "stderr",
     "output_type": "stream",
     "text": [
      "Epoch=10/20:  64%|███▏ | 28/44 [03:11<01:48,  6.78s/it, acc=0.998, loss=0.00163]"
     ]
    },
    {
     "name": "stdout",
     "output_type": "stream",
     "text": [
      "Number of data items used in training: 3584\n"
     ]
    },
    {
     "name": "stderr",
     "output_type": "stream",
     "text": [
      "Epoch=10/20:  66%|███▎ | 29/44 [03:18<01:41,  6.76s/it, acc=0.998, loss=0.00542]"
     ]
    },
    {
     "name": "stdout",
     "output_type": "stream",
     "text": [
      "Number of data items used in training: 3712\n"
     ]
    },
    {
     "name": "stderr",
     "output_type": "stream",
     "text": [
      "Epoch=10/20:  68%|███▍ | 30/44 [03:24<01:33,  6.69s/it, acc=0.998, loss=0.00086]"
     ]
    },
    {
     "name": "stdout",
     "output_type": "stream",
     "text": [
      "Number of data items used in training: 3840\n"
     ]
    },
    {
     "name": "stderr",
     "output_type": "stream",
     "text": [
      "Epoch=10/20:  70%|███▌ | 31/44 [03:31<01:27,  6.76s/it, acc=0.998, loss=0.00127]"
     ]
    },
    {
     "name": "stdout",
     "output_type": "stream",
     "text": [
      "Number of data items used in training: 3968\n"
     ]
    },
    {
     "name": "stderr",
     "output_type": "stream",
     "text": [
      "Epoch=10/20:  73%|████▎ | 32/44 [03:38<01:22,  6.91s/it, acc=0.998, loss=0.0513]"
     ]
    },
    {
     "name": "stdout",
     "output_type": "stream",
     "text": [
      "Number of data items used in training: 4096\n"
     ]
    },
    {
     "name": "stderr",
     "output_type": "stream",
     "text": [
      "Epoch=10/20:  75%|███ | 33/44 [03:45<01:15,  6.84s/it, acc=0.998, loss=0.000445]"
     ]
    },
    {
     "name": "stdout",
     "output_type": "stream",
     "text": [
      "Number of data items used in training: 4224\n"
     ]
    },
    {
     "name": "stderr",
     "output_type": "stream",
     "text": [
      "Epoch=10/20:  77%|███ | 34/44 [03:52<01:08,  6.81s/it, acc=0.998, loss=0.000956]"
     ]
    },
    {
     "name": "stdout",
     "output_type": "stream",
     "text": [
      "Number of data items used in training: 4352\n"
     ]
    },
    {
     "name": "stderr",
     "output_type": "stream",
     "text": [
      "Epoch=10/20:  80%|███▏| 35/44 [03:58<01:00,  6.76s/it, acc=0.998, loss=0.000389]"
     ]
    },
    {
     "name": "stdout",
     "output_type": "stream",
     "text": [
      "Number of data items used in training: 4480\n"
     ]
    },
    {
     "name": "stderr",
     "output_type": "stream",
     "text": [
      "Epoch=10/20:  82%|███▎| 36/44 [04:06<00:55,  6.90s/it, acc=0.998, loss=0.000504]"
     ]
    },
    {
     "name": "stdout",
     "output_type": "stream",
     "text": [
      "Number of data items used in training: 4608\n"
     ]
    },
    {
     "name": "stderr",
     "output_type": "stream",
     "text": [
      "Epoch=10/20:  84%|███▎| 37/44 [04:12<00:47,  6.80s/it, acc=0.998, loss=0.000602]"
     ]
    },
    {
     "name": "stdout",
     "output_type": "stream",
     "text": [
      "Number of data items used in training: 4736\n"
     ]
    },
    {
     "name": "stderr",
     "output_type": "stream",
     "text": [
      "Epoch=10/20:  86%|███▍| 38/44 [04:19<00:41,  6.88s/it, acc=0.998, loss=0.000631]"
     ]
    },
    {
     "name": "stdout",
     "output_type": "stream",
     "text": [
      "Number of data items used in training: 4864\n"
     ]
    },
    {
     "name": "stderr",
     "output_type": "stream",
     "text": [
      "Epoch=10/20:  89%|████▍| 39/44 [04:27<00:35,  7.03s/it, acc=0.998, loss=0.00197]"
     ]
    },
    {
     "name": "stdout",
     "output_type": "stream",
     "text": [
      "Number of data items used in training: 4992\n"
     ]
    },
    {
     "name": "stderr",
     "output_type": "stream",
     "text": [
      "Epoch=10/20:  91%|████▌| 40/44 [04:33<00:27,  6.96s/it, acc=0.998, loss=0.00115]"
     ]
    },
    {
     "name": "stdout",
     "output_type": "stream",
     "text": [
      "Number of data items used in training: 5120\n"
     ]
    },
    {
     "name": "stderr",
     "output_type": "stream",
     "text": [
      "Epoch=10/20:  93%|█████▌| 41/44 [04:40<00:20,  6.90s/it, acc=0.998, loss=0.0666]"
     ]
    },
    {
     "name": "stdout",
     "output_type": "stream",
     "text": [
      "Number of data items used in training: 5248\n"
     ]
    },
    {
     "name": "stderr",
     "output_type": "stream",
     "text": [
      "Epoch=10/20:  95%|████▊| 42/44 [04:47<00:13,  6.78s/it, acc=0.998, loss=0.00791]"
     ]
    },
    {
     "name": "stdout",
     "output_type": "stream",
     "text": [
      "Number of data items used in training: 5376\n"
     ]
    },
    {
     "name": "stderr",
     "output_type": "stream",
     "text": [
      "Epoch=10/20:  98%|████▉| 43/44 [04:54<00:06,  6.82s/it, acc=0.998, loss=0.00196]"
     ]
    },
    {
     "name": "stdout",
     "output_type": "stream",
     "text": [
      "Number of data items used in training: 5504\n"
     ]
    },
    {
     "name": "stderr",
     "output_type": "stream",
     "text": [
      "Epoch=10/20: 100%|████| 44/44 [04:56<00:00,  6.73s/it, acc=0.998, loss=0.000295]\n"
     ]
    },
    {
     "name": "stdout",
     "output_type": "stream",
     "text": [
      "Number of data items used in training: 5536\n"
     ]
    },
    {
     "name": "stderr",
     "output_type": "stream",
     "text": [
      "                                                                                \r"
     ]
    },
    {
     "name": "stdout",
     "output_type": "stream",
     "text": [
      "The current model is tested on 1384 testing data items.\n",
      "Accuracy after training this epoch in testing data is: 0.903179190751445\n",
      "Loss after training this epoch in testing data is: 0.3356705605983734\n",
      "Starting epoch: 11\n"
     ]
    },
    {
     "name": "stderr",
     "output_type": "stream",
     "text": [
      "Epoch=11/20:   2%|▏         | 1/44 [00:08<06:13,  8.69s/it, acc=1, loss=0.00135]"
     ]
    },
    {
     "name": "stdout",
     "output_type": "stream",
     "text": [
      "Number of data items used in training: 128\n"
     ]
    },
    {
     "name": "stderr",
     "output_type": "stream",
     "text": [
      "Epoch=11/20:   5%|▍         | 2/44 [00:16<05:39,  8.09s/it, acc=1, loss=0.00448]"
     ]
    },
    {
     "name": "stdout",
     "output_type": "stream",
     "text": [
      "Number of data items used in training: 256\n"
     ]
    },
    {
     "name": "stderr",
     "output_type": "stream",
     "text": [
      "Epoch=11/20:   7%|▍      | 3/44 [00:23<05:15,  7.70s/it, acc=0.997, loss=0.0139]"
     ]
    },
    {
     "name": "stdout",
     "output_type": "stream",
     "text": [
      "Number of data items used in training: 384\n"
     ]
    },
    {
     "name": "stderr",
     "output_type": "stream",
     "text": [
      "Epoch=11/20:   9%|▌     | 4/44 [00:29<04:47,  7.18s/it, acc=0.998, loss=0.00271]"
     ]
    },
    {
     "name": "stdout",
     "output_type": "stream",
     "text": [
      "Number of data items used in training: 512\n"
     ]
    },
    {
     "name": "stderr",
     "output_type": "stream",
     "text": [
      "Epoch=11/20:  11%|▌    | 5/44 [00:35<04:22,  6.74s/it, acc=0.998, loss=0.000697]"
     ]
    },
    {
     "name": "stdout",
     "output_type": "stream",
     "text": [
      "Number of data items used in training: 640\n"
     ]
    },
    {
     "name": "stderr",
     "output_type": "stream",
     "text": [
      "Epoch=11/20:  14%|▋    | 6/44 [00:42<04:19,  6.83s/it, acc=0.999, loss=0.000803]"
     ]
    },
    {
     "name": "stdout",
     "output_type": "stream",
     "text": [
      "Number of data items used in training: 768\n"
     ]
    },
    {
     "name": "stderr",
     "output_type": "stream",
     "text": [
      "Epoch=11/20:  16%|▊    | 7/44 [00:49<04:14,  6.88s/it, acc=0.999, loss=0.000855]"
     ]
    },
    {
     "name": "stdout",
     "output_type": "stream",
     "text": [
      "Number of data items used in training: 896\n"
     ]
    },
    {
     "name": "stderr",
     "output_type": "stream",
     "text": [
      "Epoch=11/20:  18%|█     | 8/44 [00:56<04:04,  6.80s/it, acc=0.999, loss=0.00113]"
     ]
    },
    {
     "name": "stdout",
     "output_type": "stream",
     "text": [
      "Number of data items used in training: 1024\n"
     ]
    },
    {
     "name": "stderr",
     "output_type": "stream",
     "text": [
      "Epoch=11/20:  20%|█▍     | 9/44 [01:03<03:59,  6.85s/it, acc=0.998, loss=0.0109]"
     ]
    },
    {
     "name": "stdout",
     "output_type": "stream",
     "text": [
      "Number of data items used in training: 1152\n"
     ]
    },
    {
     "name": "stderr",
     "output_type": "stream",
     "text": [
      "Epoch=11/20:  23%|█▏   | 10/44 [01:10<03:53,  6.87s/it, acc=0.998, loss=0.00115]"
     ]
    },
    {
     "name": "stdout",
     "output_type": "stream",
     "text": [
      "Number of data items used in training: 1280\n"
     ]
    },
    {
     "name": "stderr",
     "output_type": "stream",
     "text": [
      "Epoch=11/20:  25%|█▌    | 11/44 [01:17<03:46,  6.85s/it, acc=0.998, loss=0.0222]"
     ]
    },
    {
     "name": "stdout",
     "output_type": "stream",
     "text": [
      "Number of data items used in training: 1408\n"
     ]
    },
    {
     "name": "stderr",
     "output_type": "stream",
     "text": [
      "Epoch=11/20:  27%|█▎   | 12/44 [01:23<03:32,  6.65s/it, acc=0.998, loss=0.00258]"
     ]
    },
    {
     "name": "stdout",
     "output_type": "stream",
     "text": [
      "Number of data items used in training: 1536\n"
     ]
    },
    {
     "name": "stderr",
     "output_type": "stream",
     "text": [
      "Epoch=11/20:  30%|█▏  | 13/44 [01:30<03:30,  6.80s/it, acc=0.998, loss=0.000712]"
     ]
    },
    {
     "name": "stdout",
     "output_type": "stream",
     "text": [
      "Number of data items used in training: 1664\n"
     ]
    },
    {
     "name": "stderr",
     "output_type": "stream",
     "text": [
      "Epoch=11/20:  32%|█▎  | 14/44 [01:37<03:25,  6.86s/it, acc=0.998, loss=0.000448]"
     ]
    },
    {
     "name": "stdout",
     "output_type": "stream",
     "text": [
      "Number of data items used in training: 1792\n"
     ]
    },
    {
     "name": "stderr",
     "output_type": "stream",
     "text": [
      "Epoch=11/20:  34%|█▎  | 15/44 [01:44<03:16,  6.78s/it, acc=0.998, loss=0.000395]"
     ]
    },
    {
     "name": "stdout",
     "output_type": "stream",
     "text": [
      "Number of data items used in training: 1920\n"
     ]
    },
    {
     "name": "stderr",
     "output_type": "stream",
     "text": [
      "Epoch=11/20:  36%|█▍  | 16/44 [01:50<03:09,  6.76s/it, acc=0.999, loss=0.000465]"
     ]
    },
    {
     "name": "stdout",
     "output_type": "stream",
     "text": [
      "Number of data items used in training: 2048\n"
     ]
    },
    {
     "name": "stderr",
     "output_type": "stream",
     "text": [
      "Epoch=11/20:  39%|█▌  | 17/44 [01:57<02:59,  6.66s/it, acc=0.999, loss=0.000472]"
     ]
    },
    {
     "name": "stdout",
     "output_type": "stream",
     "text": [
      "Number of data items used in training: 2176\n"
     ]
    },
    {
     "name": "stderr",
     "output_type": "stream",
     "text": [
      "Epoch=11/20:  41%|██▍   | 18/44 [02:04<02:58,  6.85s/it, acc=0.999, loss=0.0057]"
     ]
    },
    {
     "name": "stdout",
     "output_type": "stream",
     "text": [
      "Number of data items used in training: 2304\n"
     ]
    },
    {
     "name": "stderr",
     "output_type": "stream",
     "text": [
      "Epoch=11/20:  43%|██▏  | 19/44 [02:11<02:48,  6.73s/it, acc=0.999, loss=0.00431]"
     ]
    },
    {
     "name": "stdout",
     "output_type": "stream",
     "text": [
      "Number of data items used in training: 2432\n"
     ]
    },
    {
     "name": "stderr",
     "output_type": "stream",
     "text": [
      "Epoch=11/20:  45%|██▋   | 20/44 [02:17<02:42,  6.78s/it, acc=0.999, loss=0.0011]"
     ]
    },
    {
     "name": "stdout",
     "output_type": "stream",
     "text": [
      "Number of data items used in training: 2560\n"
     ]
    },
    {
     "name": "stderr",
     "output_type": "stream",
     "text": [
      "Epoch=11/20:  48%|█▉  | 21/44 [02:25<02:37,  6.87s/it, acc=0.999, loss=0.000406]"
     ]
    },
    {
     "name": "stdout",
     "output_type": "stream",
     "text": [
      "Number of data items used in training: 2688\n"
     ]
    },
    {
     "name": "stderr",
     "output_type": "stream",
     "text": [
      "Epoch=11/20:  50%|██▌  | 22/44 [02:31<02:31,  6.89s/it, acc=0.999, loss=0.00246]"
     ]
    },
    {
     "name": "stdout",
     "output_type": "stream",
     "text": [
      "Number of data items used in training: 2816\n"
     ]
    },
    {
     "name": "stderr",
     "output_type": "stream",
     "text": [
      "Epoch=11/20:  52%|███▏  | 23/44 [02:39<02:27,  7.03s/it, acc=0.999, loss=0.0164]"
     ]
    },
    {
     "name": "stdout",
     "output_type": "stream",
     "text": [
      "Number of data items used in training: 2944\n"
     ]
    },
    {
     "name": "stderr",
     "output_type": "stream",
     "text": [
      "Epoch=11/20:  55%|██▋  | 24/44 [02:45<02:16,  6.84s/it, acc=0.999, loss=0.00209]"
     ]
    },
    {
     "name": "stdout",
     "output_type": "stream",
     "text": [
      "Number of data items used in training: 3072\n"
     ]
    },
    {
     "name": "stderr",
     "output_type": "stream",
     "text": [
      "Epoch=11/20:  57%|██▎ | 25/44 [02:53<02:18,  7.27s/it, acc=0.999, loss=0.000877]"
     ]
    },
    {
     "name": "stdout",
     "output_type": "stream",
     "text": [
      "Number of data items used in training: 3200\n"
     ]
    },
    {
     "name": "stderr",
     "output_type": "stream",
     "text": [
      "Epoch=11/20:  59%|██▉  | 26/44 [03:00<02:04,  6.91s/it, acc=0.999, loss=0.00476]"
     ]
    },
    {
     "name": "stdout",
     "output_type": "stream",
     "text": [
      "Number of data items used in training: 3328\n"
     ]
    },
    {
     "name": "stderr",
     "output_type": "stream",
     "text": [
      "Epoch=11/20:  61%|███  | 27/44 [03:06<01:54,  6.74s/it, acc=0.999, loss=0.00239]"
     ]
    },
    {
     "name": "stdout",
     "output_type": "stream",
     "text": [
      "Number of data items used in training: 3456\n"
     ]
    },
    {
     "name": "stderr",
     "output_type": "stream",
     "text": [
      "Epoch=11/20:  64%|██▌ | 28/44 [03:13<01:48,  6.78s/it, acc=0.999, loss=0.000577]"
     ]
    },
    {
     "name": "stdout",
     "output_type": "stream",
     "text": [
      "Number of data items used in training: 3584\n"
     ]
    },
    {
     "name": "stderr",
     "output_type": "stream",
     "text": [
      "Epoch=11/20:  66%|██▋ | 29/44 [03:20<01:41,  6.78s/it, acc=0.999, loss=0.000547]"
     ]
    },
    {
     "name": "stdout",
     "output_type": "stream",
     "text": [
      "Number of data items used in training: 3712\n"
     ]
    },
    {
     "name": "stderr",
     "output_type": "stream",
     "text": [
      "Epoch=11/20:  68%|██▋ | 30/44 [03:26<01:35,  6.79s/it, acc=0.999, loss=0.000613]"
     ]
    },
    {
     "name": "stdout",
     "output_type": "stream",
     "text": [
      "Number of data items used in training: 3840\n"
     ]
    },
    {
     "name": "stderr",
     "output_type": "stream",
     "text": [
      "Epoch=11/20:  70%|████▏ | 31/44 [03:32<01:25,  6.58s/it, acc=0.998, loss=0.0727]"
     ]
    },
    {
     "name": "stdout",
     "output_type": "stream",
     "text": [
      "Number of data items used in training: 3968\n"
     ]
    },
    {
     "name": "stderr",
     "output_type": "stream",
     "text": [
      "Epoch=11/20:  73%|████▎ | 32/44 [03:40<01:21,  6.81s/it, acc=0.998, loss=0.0183]"
     ]
    },
    {
     "name": "stdout",
     "output_type": "stream",
     "text": [
      "Number of data items used in training: 4096\n"
     ]
    },
    {
     "name": "stderr",
     "output_type": "stream",
     "text": [
      "Epoch=11/20:  75%|███▊ | 33/44 [03:46<01:14,  6.74s/it, acc=0.998, loss=0.00039]"
     ]
    },
    {
     "name": "stdout",
     "output_type": "stream",
     "text": [
      "Number of data items used in training: 4224\n"
     ]
    },
    {
     "name": "stderr",
     "output_type": "stream",
     "text": [
      "Epoch=11/20:  77%|███▊ | 34/44 [03:53<01:08,  6.81s/it, acc=0.998, loss=0.00142]"
     ]
    },
    {
     "name": "stdout",
     "output_type": "stream",
     "text": [
      "Number of data items used in training: 4352\n"
     ]
    },
    {
     "name": "stderr",
     "output_type": "stream",
     "text": [
      "Epoch=11/20:  80%|███▉ | 35/44 [04:00<01:02,  6.89s/it, acc=0.998, loss=0.00184]"
     ]
    },
    {
     "name": "stdout",
     "output_type": "stream",
     "text": [
      "Number of data items used in training: 4480\n"
     ]
    },
    {
     "name": "stderr",
     "output_type": "stream",
     "text": [
      "Epoch=11/20:  82%|████ | 36/44 [04:07<00:54,  6.85s/it, acc=0.998, loss=0.00164]"
     ]
    },
    {
     "name": "stdout",
     "output_type": "stream",
     "text": [
      "Number of data items used in training: 4608\n"
     ]
    },
    {
     "name": "stderr",
     "output_type": "stream",
     "text": [
      "Epoch=11/20:  84%|████▏| 37/44 [04:14<00:48,  6.91s/it, acc=0.999, loss=0.00536]"
     ]
    },
    {
     "name": "stdout",
     "output_type": "stream",
     "text": [
      "Number of data items used in training: 4736\n"
     ]
    },
    {
     "name": "stderr",
     "output_type": "stream",
     "text": [
      "Epoch=11/20:  86%|███▍| 38/44 [04:21<00:41,  6.85s/it, acc=0.999, loss=0.000934]"
     ]
    },
    {
     "name": "stdout",
     "output_type": "stream",
     "text": [
      "Number of data items used in training: 4864\n"
     ]
    },
    {
     "name": "stderr",
     "output_type": "stream",
     "text": [
      "Epoch=11/20:  89%|█████▎| 39/44 [04:28<00:33,  6.78s/it, acc=0.999, loss=0.0042]"
     ]
    },
    {
     "name": "stdout",
     "output_type": "stream",
     "text": [
      "Number of data items used in training: 4992\n"
     ]
    },
    {
     "name": "stderr",
     "output_type": "stream",
     "text": [
      "Epoch=11/20:  91%|█████▍| 40/44 [04:34<00:26,  6.63s/it, acc=0.998, loss=0.0117]"
     ]
    },
    {
     "name": "stdout",
     "output_type": "stream",
     "text": [
      "Number of data items used in training: 5120\n"
     ]
    },
    {
     "name": "stderr",
     "output_type": "stream",
     "text": [
      "Epoch=11/20:  93%|█████▌| 41/44 [04:41<00:20,  6.77s/it, acc=0.998, loss=0.0282]"
     ]
    },
    {
     "name": "stdout",
     "output_type": "stream",
     "text": [
      "Number of data items used in training: 5248\n"
     ]
    },
    {
     "name": "stderr",
     "output_type": "stream",
     "text": [
      "Epoch=11/20:  95%|████▊| 42/44 [04:48<00:13,  6.86s/it, acc=0.998, loss=0.00514]"
     ]
    },
    {
     "name": "stdout",
     "output_type": "stream",
     "text": [
      "Number of data items used in training: 5376\n"
     ]
    },
    {
     "name": "stderr",
     "output_type": "stream",
     "text": [
      "Epoch=11/20:  98%|████▉| 43/44 [04:55<00:06,  6.83s/it, acc=0.998, loss=0.00116]"
     ]
    },
    {
     "name": "stdout",
     "output_type": "stream",
     "text": [
      "Number of data items used in training: 5504\n"
     ]
    },
    {
     "name": "stderr",
     "output_type": "stream",
     "text": [
      "Epoch=11/20: 100%|████| 44/44 [04:56<00:00,  6.74s/it, acc=0.998, loss=0.000313]\n"
     ]
    },
    {
     "name": "stdout",
     "output_type": "stream",
     "text": [
      "Number of data items used in training: 5536\n"
     ]
    },
    {
     "name": "stderr",
     "output_type": "stream",
     "text": [
      "                                                                                \r"
     ]
    },
    {
     "name": "stdout",
     "output_type": "stream",
     "text": [
      "The current model is tested on 1384 testing data items.\n",
      "Accuracy after training this epoch in testing data is: 0.9002890173410405\n",
      "Loss after training this epoch in testing data is: 0.2514938414096832\n",
      "Starting epoch: 12\n"
     ]
    },
    {
     "name": "stderr",
     "output_type": "stream",
     "text": [
      "Epoch=12/20:   2%|▏         | 1/44 [00:07<05:30,  7.69s/it, acc=1, loss=0.00101]"
     ]
    },
    {
     "name": "stdout",
     "output_type": "stream",
     "text": [
      "Number of data items used in training: 128\n"
     ]
    },
    {
     "name": "stderr",
     "output_type": "stream",
     "text": [
      "Epoch=12/20:   5%|▌          | 2/44 [00:12<04:23,  6.27s/it, acc=1, loss=0.0043]"
     ]
    },
    {
     "name": "stdout",
     "output_type": "stream",
     "text": [
      "Number of data items used in training: 256\n"
     ]
    },
    {
     "name": "stderr",
     "output_type": "stream",
     "text": [
      "Epoch=12/20:   7%|▋         | 3/44 [00:20<04:37,  6.76s/it, acc=1, loss=0.00142]"
     ]
    },
    {
     "name": "stdout",
     "output_type": "stream",
     "text": [
      "Number of data items used in training: 384\n"
     ]
    },
    {
     "name": "stderr",
     "output_type": "stream",
     "text": [
      "Epoch=12/20:   9%|▊        | 4/44 [00:27<04:40,  7.01s/it, acc=0.996, loss=0.03]"
     ]
    },
    {
     "name": "stdout",
     "output_type": "stream",
     "text": [
      "Number of data items used in training: 512\n"
     ]
    },
    {
     "name": "stderr",
     "output_type": "stream",
     "text": [
      "Epoch=12/20:  11%|█        | 5/44 [00:34<04:31,  6.96s/it, acc=0.997, loss=0.01]"
     ]
    },
    {
     "name": "stdout",
     "output_type": "stream",
     "text": [
      "Number of data items used in training: 640\n"
     ]
    },
    {
     "name": "stderr",
     "output_type": "stream",
     "text": [
      "Epoch=12/20:  14%|▊     | 6/44 [00:40<04:13,  6.68s/it, acc=0.996, loss=0.00933]"
     ]
    },
    {
     "name": "stdout",
     "output_type": "stream",
     "text": [
      "Number of data items used in training: 768\n"
     ]
    },
    {
     "name": "stderr",
     "output_type": "stream",
     "text": [
      "Epoch=12/20:  16%|▊    | 7/44 [00:46<04:01,  6.54s/it, acc=0.997, loss=0.000317]"
     ]
    },
    {
     "name": "stdout",
     "output_type": "stream",
     "text": [
      "Number of data items used in training: 896\n"
     ]
    },
    {
     "name": "stderr",
     "output_type": "stream",
     "text": [
      "Epoch=12/20:  18%|▉    | 8/44 [00:54<04:02,  6.72s/it, acc=0.997, loss=0.000316]"
     ]
    },
    {
     "name": "stdout",
     "output_type": "stream",
     "text": [
      "Number of data items used in training: 1024\n"
     ]
    },
    {
     "name": "stderr",
     "output_type": "stream",
     "text": [
      "Epoch=12/20:  20%|█    | 9/44 [01:01<03:58,  6.82s/it, acc=0.997, loss=0.000209]"
     ]
    },
    {
     "name": "stdout",
     "output_type": "stream",
     "text": [
      "Number of data items used in training: 1152\n"
     ]
    },
    {
     "name": "stderr",
     "output_type": "stream",
     "text": [
      "Epoch=12/20:  23%|▉   | 10/44 [01:07<03:52,  6.84s/it, acc=0.998, loss=0.000235]"
     ]
    },
    {
     "name": "stdout",
     "output_type": "stream",
     "text": [
      "Number of data items used in training: 1280\n"
     ]
    },
    {
     "name": "stderr",
     "output_type": "stream",
     "text": [
      "Epoch=12/20:  25%|█▎   | 11/44 [01:15<03:49,  6.96s/it, acc=0.998, loss=0.00237]"
     ]
    },
    {
     "name": "stdout",
     "output_type": "stream",
     "text": [
      "Number of data items used in training: 1408\n"
     ]
    },
    {
     "name": "stderr",
     "output_type": "stream",
     "text": [
      "Epoch=12/20:  27%|█   | 12/44 [01:21<03:39,  6.87s/it, acc=0.998, loss=0.000313]"
     ]
    },
    {
     "name": "stdout",
     "output_type": "stream",
     "text": [
      "Number of data items used in training: 1536\n"
     ]
    },
    {
     "name": "stderr",
     "output_type": "stream",
     "text": [
      "Epoch=12/20:  30%|█▊    | 13/44 [01:28<03:34,  6.93s/it, acc=0.998, loss=0.0694]"
     ]
    },
    {
     "name": "stdout",
     "output_type": "stream",
     "text": [
      "Number of data items used in training: 1664\n"
     ]
    },
    {
     "name": "stderr",
     "output_type": "stream",
     "text": [
      "Epoch=12/20:  32%|█▎  | 14/44 [01:35<03:26,  6.87s/it, acc=0.998, loss=0.000244]"
     ]
    },
    {
     "name": "stdout",
     "output_type": "stream",
     "text": [
      "Number of data items used in training: 1792\n"
     ]
    },
    {
     "name": "stderr",
     "output_type": "stream",
     "text": [
      "Epoch=12/20:  34%|██    | 15/44 [01:43<03:27,  7.16s/it, acc=0.996, loss=0.0785]"
     ]
    },
    {
     "name": "stdout",
     "output_type": "stream",
     "text": [
      "Number of data items used in training: 1920\n"
     ]
    },
    {
     "name": "stderr",
     "output_type": "stream",
     "text": [
      "Epoch=12/20:  36%|█▊   | 16/44 [01:49<03:13,  6.91s/it, acc=0.997, loss=0.00198]"
     ]
    },
    {
     "name": "stdout",
     "output_type": "stream",
     "text": [
      "Number of data items used in training: 2048\n"
     ]
    },
    {
     "name": "stderr",
     "output_type": "stream",
     "text": [
      "Epoch=12/20:  39%|█▉   | 17/44 [01:56<03:07,  6.95s/it, acc=0.996, loss=0.00693]"
     ]
    },
    {
     "name": "stdout",
     "output_type": "stream",
     "text": [
      "Number of data items used in training: 2176\n"
     ]
    },
    {
     "name": "stderr",
     "output_type": "stream",
     "text": [
      "Epoch=12/20:  41%|█▋  | 18/44 [02:04<03:05,  7.14s/it, acc=0.997, loss=0.000489]"
     ]
    },
    {
     "name": "stdout",
     "output_type": "stream",
     "text": [
      "Number of data items used in training: 2304\n"
     ]
    },
    {
     "name": "stderr",
     "output_type": "stream",
     "text": [
      "Epoch=12/20:  43%|██▏  | 19/44 [02:11<03:00,  7.23s/it, acc=0.997, loss=0.00169]"
     ]
    },
    {
     "name": "stdout",
     "output_type": "stream",
     "text": [
      "Number of data items used in training: 2432\n"
     ]
    },
    {
     "name": "stderr",
     "output_type": "stream",
     "text": [
      "Epoch=12/20:  45%|██▋   | 20/44 [02:19<02:52,  7.21s/it, acc=0.996, loss=0.0116]"
     ]
    },
    {
     "name": "stdout",
     "output_type": "stream",
     "text": [
      "Number of data items used in training: 2560\n"
     ]
    },
    {
     "name": "stderr",
     "output_type": "stream",
     "text": [
      "Epoch=12/20:  48%|██▊   | 21/44 [02:25<02:41,  7.04s/it, acc=0.997, loss=0.0052]"
     ]
    },
    {
     "name": "stdout",
     "output_type": "stream",
     "text": [
      "Number of data items used in training: 2688\n"
     ]
    },
    {
     "name": "stderr",
     "output_type": "stream",
     "text": [
      "Epoch=12/20:  50%|██▌  | 22/44 [02:33<02:39,  7.27s/it, acc=0.996, loss=0.00668]"
     ]
    },
    {
     "name": "stdout",
     "output_type": "stream",
     "text": [
      "Number of data items used in training: 2816\n"
     ]
    },
    {
     "name": "stderr",
     "output_type": "stream",
     "text": [
      "Epoch=12/20:  52%|██▌  | 23/44 [02:40<02:32,  7.29s/it, acc=0.997, loss=0.00322]"
     ]
    },
    {
     "name": "stdout",
     "output_type": "stream",
     "text": [
      "Number of data items used in training: 2944\n"
     ]
    },
    {
     "name": "stderr",
     "output_type": "stream",
     "text": [
      "Epoch=12/20:  55%|██▏ | 24/44 [02:47<02:21,  7.09s/it, acc=0.997, loss=0.000791]"
     ]
    },
    {
     "name": "stdout",
     "output_type": "stream",
     "text": [
      "Number of data items used in training: 3072\n"
     ]
    },
    {
     "name": "stderr",
     "output_type": "stream",
     "text": [
      "Epoch=12/20:  57%|███▍  | 25/44 [02:54<02:12,  6.95s/it, acc=0.997, loss=0.0104]"
     ]
    },
    {
     "name": "stdout",
     "output_type": "stream",
     "text": [
      "Number of data items used in training: 3200\n"
     ]
    },
    {
     "name": "stderr",
     "output_type": "stream",
     "text": [
      "Epoch=12/20:  59%|███▌  | 26/44 [03:01<02:09,  7.18s/it, acc=0.997, loss=0.0035]"
     ]
    },
    {
     "name": "stdout",
     "output_type": "stream",
     "text": [
      "Number of data items used in training: 3328\n"
     ]
    },
    {
     "name": "stderr",
     "output_type": "stream",
     "text": [
      "Epoch=12/20:  61%|███  | 27/44 [03:09<02:04,  7.34s/it, acc=0.997, loss=0.00108]"
     ]
    },
    {
     "name": "stdout",
     "output_type": "stream",
     "text": [
      "Number of data items used in training: 3456\n"
     ]
    },
    {
     "name": "stderr",
     "output_type": "stream",
     "text": [
      "Epoch=12/20:  64%|███▊  | 28/44 [03:17<01:59,  7.48s/it, acc=0.997, loss=0.0123]"
     ]
    },
    {
     "name": "stdout",
     "output_type": "stream",
     "text": [
      "Number of data items used in training: 3584\n"
     ]
    },
    {
     "name": "stderr",
     "output_type": "stream",
     "text": [
      "Epoch=12/20:  66%|████▌  | 29/44 [03:23<01:48,  7.22s/it, acc=0.996, loss=0.016]"
     ]
    },
    {
     "name": "stdout",
     "output_type": "stream",
     "text": [
      "Number of data items used in training: 3712\n"
     ]
    },
    {
     "name": "stderr",
     "output_type": "stream",
     "text": [
      "Epoch=12/20:  68%|███▍ | 30/44 [03:31<01:40,  7.19s/it, acc=0.997, loss=0.00673]"
     ]
    },
    {
     "name": "stdout",
     "output_type": "stream",
     "text": [
      "Number of data items used in training: 3840\n"
     ]
    },
    {
     "name": "stderr",
     "output_type": "stream",
     "text": [
      "Epoch=12/20:  70%|███▌ | 31/44 [03:38<01:35,  7.38s/it, acc=0.997, loss=0.00537]"
     ]
    },
    {
     "name": "stdout",
     "output_type": "stream",
     "text": [
      "Number of data items used in training: 3968\n"
     ]
    },
    {
     "name": "stderr",
     "output_type": "stream",
     "text": [
      "Epoch=12/20:  73%|████▎ | 32/44 [03:46<01:28,  7.35s/it, acc=0.996, loss=0.0244]"
     ]
    },
    {
     "name": "stdout",
     "output_type": "stream",
     "text": [
      "Number of data items used in training: 4096\n"
     ]
    },
    {
     "name": "stderr",
     "output_type": "stream",
     "text": [
      "Epoch=12/20:  75%|███▊ | 33/44 [03:53<01:19,  7.25s/it, acc=0.996, loss=0.00718]"
     ]
    },
    {
     "name": "stdout",
     "output_type": "stream",
     "text": [
      "Number of data items used in training: 4224\n"
     ]
    },
    {
     "name": "stderr",
     "output_type": "stream",
     "text": [
      "Epoch=12/20:  77%|███▊ | 34/44 [03:59<01:09,  6.92s/it, acc=0.996, loss=0.00997]"
     ]
    },
    {
     "name": "stdout",
     "output_type": "stream",
     "text": [
      "Number of data items used in training: 4352\n"
     ]
    },
    {
     "name": "stderr",
     "output_type": "stream",
     "text": [
      "Epoch=12/20:  80%|████▊ | 35/44 [04:07<01:04,  7.16s/it, acc=0.996, loss=0.0172]"
     ]
    },
    {
     "name": "stdout",
     "output_type": "stream",
     "text": [
      "Number of data items used in training: 4480\n"
     ]
    },
    {
     "name": "stderr",
     "output_type": "stream",
     "text": [
      "Epoch=12/20:  82%|█████▋ | 36/44 [04:16<01:03,  7.96s/it, acc=0.996, loss=0.012]"
     ]
    },
    {
     "name": "stdout",
     "output_type": "stream",
     "text": [
      "Number of data items used in training: 4608\n"
     ]
    },
    {
     "name": "stderr",
     "output_type": "stream",
     "text": [
      "Epoch=12/20:  84%|█████ | 37/44 [04:25<00:56,  8.05s/it, acc=0.996, loss=0.0245]"
     ]
    },
    {
     "name": "stdout",
     "output_type": "stream",
     "text": [
      "Number of data items used in training: 4736\n"
     ]
    },
    {
     "name": "stderr",
     "output_type": "stream",
     "text": [
      "Epoch=12/20:  86%|█████▏| 38/44 [04:31<00:44,  7.46s/it, acc=0.996, loss=0.0015]"
     ]
    },
    {
     "name": "stdout",
     "output_type": "stream",
     "text": [
      "Number of data items used in training: 4864\n"
     ]
    },
    {
     "name": "stderr",
     "output_type": "stream",
     "text": [
      "Epoch=12/20:  89%|█████▎| 39/44 [04:38<00:37,  7.44s/it, acc=0.996, loss=0.0123]"
     ]
    },
    {
     "name": "stdout",
     "output_type": "stream",
     "text": [
      "Number of data items used in training: 4992\n"
     ]
    },
    {
     "name": "stderr",
     "output_type": "stream",
     "text": [
      "Epoch=12/20:  91%|████▌| 40/44 [04:45<00:29,  7.29s/it, acc=0.996, loss=0.00253]"
     ]
    },
    {
     "name": "stdout",
     "output_type": "stream",
     "text": [
      "Number of data items used in training: 5120\n"
     ]
    },
    {
     "name": "stderr",
     "output_type": "stream",
     "text": [
      "Epoch=12/20:  93%|████▋| 41/44 [04:52<00:21,  7.23s/it, acc=0.996, loss=0.00267]"
     ]
    },
    {
     "name": "stdout",
     "output_type": "stream",
     "text": [
      "Number of data items used in training: 5248\n"
     ]
    },
    {
     "name": "stderr",
     "output_type": "stream",
     "text": [
      "Epoch=12/20:  95%|█████▋| 42/44 [04:59<00:14,  7.17s/it, acc=0.996, loss=0.0211]"
     ]
    },
    {
     "name": "stdout",
     "output_type": "stream",
     "text": [
      "Number of data items used in training: 5376\n"
     ]
    },
    {
     "name": "stderr",
     "output_type": "stream",
     "text": [
      "Epoch=12/20:  98%|█████▊| 43/44 [05:05<00:06,  6.91s/it, acc=0.996, loss=0.0607]"
     ]
    },
    {
     "name": "stdout",
     "output_type": "stream",
     "text": [
      "Number of data items used in training: 5504\n"
     ]
    },
    {
     "name": "stderr",
     "output_type": "stream",
     "text": [
      "Epoch=12/20: 100%|██████| 44/44 [05:07<00:00,  7.00s/it, acc=0.996, loss=0.0031]\n"
     ]
    },
    {
     "name": "stdout",
     "output_type": "stream",
     "text": [
      "Number of data items used in training: 5536\n"
     ]
    },
    {
     "name": "stderr",
     "output_type": "stream",
     "text": [
      "                                                                                \r"
     ]
    },
    {
     "name": "stdout",
     "output_type": "stream",
     "text": [
      "The current model is tested on 1384 testing data items.\n",
      "Accuracy after training this epoch in testing data is: 0.8706647398843931\n",
      "Loss after training this epoch in testing data is: 0.4233434796333313\n",
      "Starting epoch: 13\n"
     ]
    },
    {
     "name": "stderr",
     "output_type": "stream",
     "text": [
      "Epoch=13/20:   2%|▏      | 1/44 [00:08<05:45,  8.03s/it, acc=0.977, loss=0.0666]"
     ]
    },
    {
     "name": "stdout",
     "output_type": "stream",
     "text": [
      "Number of data items used in training: 128\n"
     ]
    },
    {
     "name": "stderr",
     "output_type": "stream",
     "text": [
      "Epoch=13/20:   5%|▏    | 2/44 [00:14<04:49,  6.90s/it, acc=0.988, loss=0.000475]"
     ]
    },
    {
     "name": "stdout",
     "output_type": "stream",
     "text": [
      "Number of data items used in training: 256\n"
     ]
    },
    {
     "name": "stderr",
     "output_type": "stream",
     "text": [
      "Epoch=13/20:   7%|▌       | 3/44 [00:20<04:35,  6.73s/it, acc=0.99, loss=0.0192]"
     ]
    },
    {
     "name": "stdout",
     "output_type": "stream",
     "text": [
      "Number of data items used in training: 384\n"
     ]
    },
    {
     "name": "stderr",
     "output_type": "stream",
     "text": [
      "Epoch=13/20:   9%|▌     | 4/44 [00:27<04:35,  6.89s/it, acc=0.992, loss=0.00324]"
     ]
    },
    {
     "name": "stdout",
     "output_type": "stream",
     "text": [
      "Number of data items used in training: 512\n"
     ]
    },
    {
     "name": "stderr",
     "output_type": "stream",
     "text": [
      "Epoch=13/20:  11%|▋     | 5/44 [00:34<04:29,  6.91s/it, acc=0.994, loss=0.00143]"
     ]
    },
    {
     "name": "stdout",
     "output_type": "stream",
     "text": [
      "Number of data items used in training: 640\n"
     ]
    },
    {
     "name": "stderr",
     "output_type": "stream",
     "text": [
      "Epoch=13/20:  14%|▊     | 6/44 [00:41<04:17,  6.76s/it, acc=0.995, loss=0.00119]"
     ]
    },
    {
     "name": "stdout",
     "output_type": "stream",
     "text": [
      "Number of data items used in training: 768\n"
     ]
    },
    {
     "name": "stderr",
     "output_type": "stream",
     "text": [
      "Epoch=13/20:  16%|█      | 7/44 [00:48<04:14,  6.89s/it, acc=0.994, loss=0.0206]"
     ]
    },
    {
     "name": "stdout",
     "output_type": "stream",
     "text": [
      "Number of data items used in training: 896\n"
     ]
    },
    {
     "name": "stderr",
     "output_type": "stream",
     "text": [
      "Epoch=13/20:  18%|█▎     | 8/44 [00:55<04:08,  6.91s/it, acc=0.994, loss=0.0138]"
     ]
    },
    {
     "name": "stdout",
     "output_type": "stream",
     "text": [
      "Number of data items used in training: 1024\n"
     ]
    },
    {
     "name": "stderr",
     "output_type": "stream",
     "text": [
      "Epoch=13/20:  20%|█▏    | 9/44 [01:02<04:05,  7.01s/it, acc=0.995, loss=0.00065]"
     ]
    },
    {
     "name": "stdout",
     "output_type": "stream",
     "text": [
      "Number of data items used in training: 1152\n"
     ]
    },
    {
     "name": "stderr",
     "output_type": "stream",
     "text": [
      "Epoch=13/20:  23%|█▎    | 10/44 [01:08<03:51,  6.81s/it, acc=0.995, loss=0.0031]"
     ]
    },
    {
     "name": "stdout",
     "output_type": "stream",
     "text": [
      "Number of data items used in training: 1280\n"
     ]
    },
    {
     "name": "stderr",
     "output_type": "stream",
     "text": [
      "Epoch=13/20:  25%|█▎   | 11/44 [01:15<03:40,  6.68s/it, acc=0.996, loss=0.00475]"
     ]
    },
    {
     "name": "stdout",
     "output_type": "stream",
     "text": [
      "Number of data items used in training: 1408\n"
     ]
    },
    {
     "name": "stderr",
     "output_type": "stream",
     "text": [
      "Epoch=13/20:  27%|█▋    | 12/44 [01:22<03:42,  6.94s/it, acc=0.995, loss=0.0204]"
     ]
    },
    {
     "name": "stdout",
     "output_type": "stream",
     "text": [
      "Number of data items used in training: 1536\n"
     ]
    },
    {
     "name": "stderr",
     "output_type": "stream",
     "text": [
      "Epoch=13/20:  30%|█▊    | 13/44 [01:30<03:39,  7.08s/it, acc=0.995, loss=0.0635]"
     ]
    },
    {
     "name": "stdout",
     "output_type": "stream",
     "text": [
      "Number of data items used in training: 1664\n"
     ]
    },
    {
     "name": "stderr",
     "output_type": "stream",
     "text": [
      "Epoch=13/20:  32%|█▉    | 14/44 [01:37<03:35,  7.18s/it, acc=0.994, loss=0.0282]"
     ]
    },
    {
     "name": "stdout",
     "output_type": "stream",
     "text": [
      "Number of data items used in training: 1792\n"
     ]
    },
    {
     "name": "stderr",
     "output_type": "stream",
     "text": [
      "Epoch=13/20:  34%|██    | 15/44 [01:43<03:19,  6.86s/it, acc=0.994, loss=0.0028]"
     ]
    },
    {
     "name": "stdout",
     "output_type": "stream",
     "text": [
      "Number of data items used in training: 1920\n"
     ]
    },
    {
     "name": "stderr",
     "output_type": "stream",
     "text": [
      "Epoch=13/20:  36%|█▊   | 16/44 [01:50<03:13,  6.92s/it, acc=0.995, loss=0.00991]"
     ]
    },
    {
     "name": "stdout",
     "output_type": "stream",
     "text": [
      "Number of data items used in training: 2048\n"
     ]
    },
    {
     "name": "stderr",
     "output_type": "stream",
     "text": [
      "Epoch=13/20:  39%|██▎   | 17/44 [01:57<03:06,  6.92s/it, acc=0.994, loss=0.0339]"
     ]
    },
    {
     "name": "stdout",
     "output_type": "stream",
     "text": [
      "Number of data items used in training: 2176\n"
     ]
    },
    {
     "name": "stderr",
     "output_type": "stream",
     "text": [
      "Epoch=13/20:  41%|██▊    | 18/44 [02:05<03:06,  7.16s/it, acc=0.994, loss=0.025]"
     ]
    },
    {
     "name": "stdout",
     "output_type": "stream",
     "text": [
      "Number of data items used in training: 2304\n"
     ]
    },
    {
     "name": "stderr",
     "output_type": "stream",
     "text": [
      "Epoch=13/20:  43%|██▌   | 19/44 [02:11<02:53,  6.95s/it, acc=0.994, loss=0.0585]"
     ]
    },
    {
     "name": "stdout",
     "output_type": "stream",
     "text": [
      "Number of data items used in training: 2432\n"
     ]
    },
    {
     "name": "stderr",
     "output_type": "stream",
     "text": [
      "Epoch=13/20:  45%|██▋   | 20/44 [02:19<02:51,  7.14s/it, acc=0.995, loss=0.0165]"
     ]
    },
    {
     "name": "stdout",
     "output_type": "stream",
     "text": [
      "Number of data items used in training: 2560\n"
     ]
    },
    {
     "name": "stderr",
     "output_type": "stream",
     "text": [
      "Epoch=13/20:  48%|███▎   | 21/44 [02:26<02:44,  7.16s/it, acc=0.994, loss=0.012]"
     ]
    },
    {
     "name": "stdout",
     "output_type": "stream",
     "text": [
      "Number of data items used in training: 2688\n"
     ]
    },
    {
     "name": "stderr",
     "output_type": "stream",
     "text": [
      "Epoch=13/20:  50%|███   | 22/44 [02:33<02:37,  7.15s/it, acc=0.994, loss=0.0408]"
     ]
    },
    {
     "name": "stdout",
     "output_type": "stream",
     "text": [
      "Number of data items used in training: 2816\n"
     ]
    },
    {
     "name": "stderr",
     "output_type": "stream",
     "text": [
      "Epoch=13/20:  52%|██▌  | 23/44 [02:40<02:28,  7.06s/it, acc=0.994, loss=0.00299]"
     ]
    },
    {
     "name": "stdout",
     "output_type": "stream",
     "text": [
      "Number of data items used in training: 2944\n"
     ]
    },
    {
     "name": "stderr",
     "output_type": "stream",
     "text": [
      "Epoch=13/20:  55%|██▋  | 24/44 [02:48<02:23,  7.19s/it, acc=0.994, loss=0.00267]"
     ]
    },
    {
     "name": "stdout",
     "output_type": "stream",
     "text": [
      "Number of data items used in training: 3072\n"
     ]
    },
    {
     "name": "stderr",
     "output_type": "stream",
     "text": [
      "Epoch=13/20:  57%|██▊  | 25/44 [02:55<02:19,  7.34s/it, acc=0.995, loss=0.00433]"
     ]
    },
    {
     "name": "stdout",
     "output_type": "stream",
     "text": [
      "Number of data items used in training: 3200\n"
     ]
    },
    {
     "name": "stderr",
     "output_type": "stream",
     "text": [
      "Epoch=13/20:  59%|███▌  | 26/44 [03:03<02:15,  7.51s/it, acc=0.994, loss=0.0614]"
     ]
    },
    {
     "name": "stdout",
     "output_type": "stream",
     "text": [
      "Number of data items used in training: 3328\n"
     ]
    },
    {
     "name": "stderr",
     "output_type": "stream",
     "text": [
      "Epoch=13/20:  61%|███  | 27/44 [03:11<02:06,  7.46s/it, acc=0.995, loss=0.00129]"
     ]
    },
    {
     "name": "stdout",
     "output_type": "stream",
     "text": [
      "Number of data items used in training: 3456\n"
     ]
    },
    {
     "name": "stderr",
     "output_type": "stream",
     "text": [
      "Epoch=13/20:  64%|███▏ | 28/44 [03:17<01:53,  7.07s/it, acc=0.995, loss=0.00174]"
     ]
    },
    {
     "name": "stdout",
     "output_type": "stream",
     "text": [
      "Number of data items used in training: 3584\n"
     ]
    },
    {
     "name": "stderr",
     "output_type": "stream",
     "text": [
      "Epoch=13/20:  66%|███▉  | 29/44 [03:25<01:49,  7.28s/it, acc=0.995, loss=0.0185]"
     ]
    },
    {
     "name": "stdout",
     "output_type": "stream",
     "text": [
      "Number of data items used in training: 3712\n"
     ]
    },
    {
     "name": "stderr",
     "output_type": "stream",
     "text": [
      "Epoch=13/20:  68%|████  | 30/44 [03:32<01:42,  7.33s/it, acc=0.994, loss=0.0239]"
     ]
    },
    {
     "name": "stdout",
     "output_type": "stream",
     "text": [
      "Number of data items used in training: 3840\n"
     ]
    },
    {
     "name": "stderr",
     "output_type": "stream",
     "text": [
      "Epoch=13/20:  70%|███▌ | 31/44 [03:39<01:32,  7.12s/it, acc=0.994, loss=0.00436]"
     ]
    },
    {
     "name": "stdout",
     "output_type": "stream",
     "text": [
      "Number of data items used in training: 3968\n"
     ]
    },
    {
     "name": "stderr",
     "output_type": "stream",
     "text": [
      "Epoch=13/20:  73%|████▎ | 32/44 [03:46<01:24,  7.07s/it, acc=0.994, loss=0.0482]"
     ]
    },
    {
     "name": "stdout",
     "output_type": "stream",
     "text": [
      "Number of data items used in training: 4096\n"
     ]
    },
    {
     "name": "stderr",
     "output_type": "stream",
     "text": [
      "Epoch=13/20:  75%|███▊ | 33/44 [03:53<01:18,  7.09s/it, acc=0.995, loss=0.00322]"
     ]
    },
    {
     "name": "stdout",
     "output_type": "stream",
     "text": [
      "Number of data items used in training: 4224\n"
     ]
    },
    {
     "name": "stderr",
     "output_type": "stream",
     "text": [
      "Epoch=13/20:  77%|█████▍ | 34/44 [04:01<01:14,  7.42s/it, acc=0.994, loss=0.022]"
     ]
    },
    {
     "name": "stdout",
     "output_type": "stream",
     "text": [
      "Number of data items used in training: 4352\n"
     ]
    },
    {
     "name": "stderr",
     "output_type": "stream",
     "text": [
      "Epoch=13/20:  80%|███▉ | 35/44 [04:08<01:06,  7.37s/it, acc=0.995, loss=0.00282]"
     ]
    },
    {
     "name": "stdout",
     "output_type": "stream",
     "text": [
      "Number of data items used in training: 4480\n"
     ]
    },
    {
     "name": "stderr",
     "output_type": "stream",
     "text": [
      "Epoch=13/20:  82%|████ | 36/44 [04:14<00:56,  7.03s/it, acc=0.995, loss=0.00522]"
     ]
    },
    {
     "name": "stdout",
     "output_type": "stream",
     "text": [
      "Number of data items used in training: 4608\n"
     ]
    },
    {
     "name": "stderr",
     "output_type": "stream",
     "text": [
      "Epoch=13/20:  82%|███▎| 36/44 [04:24<00:56,  7.03s/it, acc=0.995, loss=0.000642]"
     ]
    },
    {
     "name": "stdout",
     "output_type": "stream",
     "text": [
      "Number of data items used in training: 4736\n"
     ]
    },
    {
     "name": "stderr",
     "output_type": "stream",
     "text": [
      "Epoch=13/20:  86%|█████▏| 38/44 [04:35<00:52,  8.70s/it, acc=0.995, loss=0.0136]"
     ]
    },
    {
     "name": "stdout",
     "output_type": "stream",
     "text": [
      "Number of data items used in training: 4864\n"
     ]
    },
    {
     "name": "stderr",
     "output_type": "stream",
     "text": [
      "Epoch=13/20:  89%|█████▎| 39/44 [04:43<00:43,  8.66s/it, acc=0.995, loss=0.0046]"
     ]
    },
    {
     "name": "stdout",
     "output_type": "stream",
     "text": [
      "Number of data items used in training: 4992\n"
     ]
    },
    {
     "name": "stderr",
     "output_type": "stream",
     "text": [
      "Epoch=13/20:  91%|███▋| 40/44 [04:51<00:33,  8.48s/it, acc=0.995, loss=0.000912]"
     ]
    },
    {
     "name": "stdout",
     "output_type": "stream",
     "text": [
      "Number of data items used in training: 5120\n"
     ]
    },
    {
     "name": "stderr",
     "output_type": "stream",
     "text": [
      "Epoch=13/20:  93%|█████▌| 41/44 [04:59<00:24,  8.08s/it, acc=0.995, loss=0.0185]"
     ]
    },
    {
     "name": "stdout",
     "output_type": "stream",
     "text": [
      "Number of data items used in training: 5248\n"
     ]
    },
    {
     "name": "stderr",
     "output_type": "stream",
     "text": [
      "Epoch=13/20:  95%|████▊| 42/44 [05:05<00:15,  7.72s/it, acc=0.995, loss=0.00149]"
     ]
    },
    {
     "name": "stdout",
     "output_type": "stream",
     "text": [
      "Number of data items used in training: 5376\n"
     ]
    },
    {
     "name": "stderr",
     "output_type": "stream",
     "text": [
      "Epoch=13/20:  98%|████▉| 43/44 [05:12<00:07,  7.30s/it, acc=0.995, loss=0.00105]"
     ]
    },
    {
     "name": "stdout",
     "output_type": "stream",
     "text": [
      "Number of data items used in training: 5504\n"
     ]
    },
    {
     "name": "stderr",
     "output_type": "stream",
     "text": [
      "Epoch=13/20: 100%|████| 44/44 [05:14<00:00,  7.14s/it, acc=0.995, loss=0.000309]\n"
     ]
    },
    {
     "name": "stdout",
     "output_type": "stream",
     "text": [
      "Number of data items used in training: 5536\n"
     ]
    },
    {
     "name": "stderr",
     "output_type": "stream",
     "text": [
      "                                                                                \r"
     ]
    },
    {
     "name": "stdout",
     "output_type": "stream",
     "text": [
      "The current model is tested on 1384 testing data items.\n",
      "Accuracy after training this epoch in testing data is: 0.9046242774566474\n",
      "Loss after training this epoch in testing data is: 0.3554764688014984\n",
      "Starting epoch: 14\n"
     ]
    },
    {
     "name": "stderr",
     "output_type": "stream",
     "text": [
      "Epoch=14/20:   2%|▏         | 1/44 [00:06<05:00,  6.98s/it, acc=1, loss=0.00148]"
     ]
    },
    {
     "name": "stdout",
     "output_type": "stream",
     "text": [
      "Number of data items used in training: 128\n"
     ]
    },
    {
     "name": "stderr",
     "output_type": "stream",
     "text": [
      "Epoch=14/20:   5%|▍         | 2/44 [00:13<04:48,  6.87s/it, acc=1, loss=0.00133]"
     ]
    },
    {
     "name": "stdout",
     "output_type": "stream",
     "text": [
      "Number of data items used in training: 256\n"
     ]
    },
    {
     "name": "stderr",
     "output_type": "stream",
     "text": [
      "Epoch=14/20:   7%|▍      | 3/44 [00:20<04:34,  6.70s/it, acc=0.997, loss=0.0231]"
     ]
    },
    {
     "name": "stdout",
     "output_type": "stream",
     "text": [
      "Number of data items used in training: 384\n"
     ]
    },
    {
     "name": "stderr",
     "output_type": "stream",
     "text": [
      "Epoch=14/20:   9%|▌     | 4/44 [00:26<04:19,  6.48s/it, acc=0.998, loss=0.00224]"
     ]
    },
    {
     "name": "stdout",
     "output_type": "stream",
     "text": [
      "Number of data items used in training: 512\n"
     ]
    },
    {
     "name": "stderr",
     "output_type": "stream",
     "text": [
      "Epoch=14/20:  11%|▌    | 5/44 [00:33<04:19,  6.66s/it, acc=0.998, loss=0.000309]"
     ]
    },
    {
     "name": "stdout",
     "output_type": "stream",
     "text": [
      "Number of data items used in training: 640\n"
     ]
    },
    {
     "name": "stderr",
     "output_type": "stream",
     "text": [
      "Epoch=14/20:  14%|▊     | 6/44 [00:39<04:11,  6.61s/it, acc=0.999, loss=0.00143]"
     ]
    },
    {
     "name": "stdout",
     "output_type": "stream",
     "text": [
      "Number of data items used in training: 768\n"
     ]
    },
    {
     "name": "stderr",
     "output_type": "stream",
     "text": [
      "Epoch=14/20:  16%|▉     | 7/44 [00:46<04:04,  6.61s/it, acc=0.999, loss=0.00061]"
     ]
    },
    {
     "name": "stdout",
     "output_type": "stream",
     "text": [
      "Number of data items used in training: 896\n"
     ]
    },
    {
     "name": "stderr",
     "output_type": "stream",
     "text": [
      "Epoch=14/20:  18%|▉    | 8/44 [00:53<04:00,  6.68s/it, acc=0.999, loss=0.000427]"
     ]
    },
    {
     "name": "stdout",
     "output_type": "stream",
     "text": [
      "Number of data items used in training: 1024\n"
     ]
    },
    {
     "name": "stderr",
     "output_type": "stream",
     "text": [
      "Epoch=14/20:  20%|█▏    | 9/44 [00:59<03:53,  6.67s/it, acc=0.999, loss=0.00185]"
     ]
    },
    {
     "name": "stdout",
     "output_type": "stream",
     "text": [
      "Number of data items used in training: 1152\n"
     ]
    },
    {
     "name": "stderr",
     "output_type": "stream",
     "text": [
      "Epoch=14/20:  23%|█▏   | 10/44 [01:06<03:46,  6.68s/it, acc=0.999, loss=0.00225]"
     ]
    },
    {
     "name": "stdout",
     "output_type": "stream",
     "text": [
      "Number of data items used in training: 1280\n"
     ]
    },
    {
     "name": "stderr",
     "output_type": "stream",
     "text": [
      "Epoch=14/20:  25%|█▎   | 11/44 [01:12<03:34,  6.50s/it, acc=0.999, loss=0.00117]"
     ]
    },
    {
     "name": "stdout",
     "output_type": "stream",
     "text": [
      "Number of data items used in training: 1408\n"
     ]
    },
    {
     "name": "stderr",
     "output_type": "stream",
     "text": [
      "Epoch=14/20:  27%|█▎   | 12/44 [01:19<03:31,  6.59s/it, acc=0.999, loss=0.00718]"
     ]
    },
    {
     "name": "stdout",
     "output_type": "stream",
     "text": [
      "Number of data items used in training: 1536\n"
     ]
    },
    {
     "name": "stderr",
     "output_type": "stream",
     "text": [
      "Epoch=14/20:  30%|█▊    | 13/44 [01:26<03:26,  6.68s/it, acc=0.998, loss=0.0325]"
     ]
    },
    {
     "name": "stdout",
     "output_type": "stream",
     "text": [
      "Number of data items used in training: 1664\n"
     ]
    },
    {
     "name": "stderr",
     "output_type": "stream",
     "text": [
      "Epoch=14/20:  32%|█▎  | 14/44 [01:33<03:21,  6.72s/it, acc=0.998, loss=0.000578]"
     ]
    },
    {
     "name": "stdout",
     "output_type": "stream",
     "text": [
      "Number of data items used in training: 1792\n"
     ]
    },
    {
     "name": "stderr",
     "output_type": "stream",
     "text": [
      "Epoch=14/20:  34%|█▋   | 15/44 [01:40<03:15,  6.72s/it, acc=0.998, loss=0.00129]"
     ]
    },
    {
     "name": "stdout",
     "output_type": "stream",
     "text": [
      "Number of data items used in training: 1920\n"
     ]
    },
    {
     "name": "stderr",
     "output_type": "stream",
     "text": [
      "Epoch=14/20:  36%|█▍  | 16/44 [01:46<03:04,  6.59s/it, acc=0.999, loss=0.000834]"
     ]
    },
    {
     "name": "stdout",
     "output_type": "stream",
     "text": [
      "Number of data items used in training: 2048\n"
     ]
    },
    {
     "name": "stderr",
     "output_type": "stream",
     "text": [
      "Epoch=14/20:  39%|█▉   | 17/44 [01:53<03:00,  6.67s/it, acc=0.999, loss=0.00122]"
     ]
    },
    {
     "name": "stdout",
     "output_type": "stream",
     "text": [
      "Number of data items used in training: 2176\n"
     ]
    },
    {
     "name": "stderr",
     "output_type": "stream",
     "text": [
      "Epoch=14/20:  41%|█▋  | 18/44 [01:59<02:51,  6.60s/it, acc=0.999, loss=0.000379]"
     ]
    },
    {
     "name": "stdout",
     "output_type": "stream",
     "text": [
      "Number of data items used in training: 2304\n"
     ]
    },
    {
     "name": "stderr",
     "output_type": "stream",
     "text": [
      "Epoch=14/20:  43%|██▏  | 19/44 [02:06<02:45,  6.62s/it, acc=0.999, loss=0.00136]"
     ]
    },
    {
     "name": "stdout",
     "output_type": "stream",
     "text": [
      "Number of data items used in training: 2432\n"
     ]
    },
    {
     "name": "stderr",
     "output_type": "stream",
     "text": [
      "Epoch=14/20:  45%|██▎  | 20/44 [02:13<02:40,  6.69s/it, acc=0.999, loss=0.00109]"
     ]
    },
    {
     "name": "stdout",
     "output_type": "stream",
     "text": [
      "Number of data items used in training: 2560\n"
     ]
    },
    {
     "name": "stderr",
     "output_type": "stream",
     "text": [
      "Epoch=14/20:  48%|██▍  | 21/44 [02:19<02:32,  6.65s/it, acc=0.999, loss=0.00109]"
     ]
    },
    {
     "name": "stdout",
     "output_type": "stream",
     "text": [
      "Number of data items used in training: 2688\n"
     ]
    },
    {
     "name": "stderr",
     "output_type": "stream",
     "text": [
      "Epoch=14/20:  50%|██  | 22/44 [02:26<02:27,  6.72s/it, acc=0.999, loss=0.000481]"
     ]
    },
    {
     "name": "stdout",
     "output_type": "stream",
     "text": [
      "Number of data items used in training: 2816\n"
     ]
    },
    {
     "name": "stderr",
     "output_type": "stream",
     "text": [
      "Epoch=14/20:  52%|██  | 23/44 [02:32<02:17,  6.57s/it, acc=0.999, loss=0.000586]"
     ]
    },
    {
     "name": "stdout",
     "output_type": "stream",
     "text": [
      "Number of data items used in training: 2944\n"
     ]
    },
    {
     "name": "stderr",
     "output_type": "stream",
     "text": [
      "Epoch=14/20:  55%|██▋  | 24/44 [02:39<02:12,  6.61s/it, acc=0.999, loss=0.00249]"
     ]
    },
    {
     "name": "stdout",
     "output_type": "stream",
     "text": [
      "Number of data items used in training: 3072\n"
     ]
    },
    {
     "name": "stderr",
     "output_type": "stream",
     "text": [
      "Epoch=14/20:  57%|███▍  | 25/44 [02:46<02:06,  6.65s/it, acc=0.998, loss=0.0624]"
     ]
    },
    {
     "name": "stdout",
     "output_type": "stream",
     "text": [
      "Number of data items used in training: 3200\n"
     ]
    },
    {
     "name": "stderr",
     "output_type": "stream",
     "text": [
      "Epoch=14/20:  59%|██▉  | 26/44 [02:53<02:00,  6.69s/it, acc=0.998, loss=0.00179]"
     ]
    },
    {
     "name": "stdout",
     "output_type": "stream",
     "text": [
      "Number of data items used in training: 3328\n"
     ]
    },
    {
     "name": "stderr",
     "output_type": "stream",
     "text": [
      "Epoch=14/20:  61%|██▍ | 27/44 [02:59<01:53,  6.70s/it, acc=0.999, loss=0.000775]"
     ]
    },
    {
     "name": "stdout",
     "output_type": "stream",
     "text": [
      "Number of data items used in training: 3456\n"
     ]
    },
    {
     "name": "stderr",
     "output_type": "stream",
     "text": [
      "Epoch=14/20:  64%|███▏ | 28/44 [03:06<01:45,  6.59s/it, acc=0.999, loss=0.00441]"
     ]
    },
    {
     "name": "stdout",
     "output_type": "stream",
     "text": [
      "Number of data items used in training: 3584\n"
     ]
    },
    {
     "name": "stderr",
     "output_type": "stream",
     "text": [
      "Epoch=14/20:  66%|██▋ | 29/44 [03:12<01:39,  6.62s/it, acc=0.999, loss=0.000295]"
     ]
    },
    {
     "name": "stdout",
     "output_type": "stream",
     "text": [
      "Number of data items used in training: 3712\n"
     ]
    },
    {
     "name": "stderr",
     "output_type": "stream",
     "text": [
      "Epoch=14/20:  68%|██▋ | 30/44 [03:19<01:32,  6.60s/it, acc=0.999, loss=0.000333]"
     ]
    },
    {
     "name": "stdout",
     "output_type": "stream",
     "text": [
      "Number of data items used in training: 3840\n"
     ]
    },
    {
     "name": "stderr",
     "output_type": "stream",
     "text": [
      "Epoch=14/20:  70%|██▊ | 31/44 [03:26<01:26,  6.66s/it, acc=0.999, loss=0.000603]"
     ]
    },
    {
     "name": "stdout",
     "output_type": "stream",
     "text": [
      "Number of data items used in training: 3968\n"
     ]
    },
    {
     "name": "stderr",
     "output_type": "stream",
     "text": [
      "Epoch=14/20:  73%|████▎ | 32/44 [03:32<01:20,  6.70s/it, acc=0.999, loss=0.0032]"
     ]
    },
    {
     "name": "stdout",
     "output_type": "stream",
     "text": [
      "Number of data items used in training: 4096\n"
     ]
    },
    {
     "name": "stderr",
     "output_type": "stream",
     "text": [
      "Epoch=14/20:  75%|████▌ | 33/44 [03:39<01:13,  6.64s/it, acc=0.999, loss=0.0469]"
     ]
    },
    {
     "name": "stdout",
     "output_type": "stream",
     "text": [
      "Number of data items used in training: 4224\n"
     ]
    },
    {
     "name": "stderr",
     "output_type": "stream",
     "text": [
      "Epoch=14/20:  77%|███ | 34/44 [03:46<01:06,  6.66s/it, acc=0.999, loss=0.000584]"
     ]
    },
    {
     "name": "stdout",
     "output_type": "stream",
     "text": [
      "Number of data items used in training: 4352\n"
     ]
    },
    {
     "name": "stderr",
     "output_type": "stream",
     "text": [
      "Epoch=14/20:  80%|███▉ | 35/44 [03:52<00:58,  6.52s/it, acc=0.999, loss=0.00205]"
     ]
    },
    {
     "name": "stdout",
     "output_type": "stream",
     "text": [
      "Number of data items used in training: 4480\n"
     ]
    },
    {
     "name": "stderr",
     "output_type": "stream",
     "text": [
      "Epoch=14/20:  82%|████ | 36/44 [03:59<00:52,  6.59s/it, acc=0.999, loss=0.00427]"
     ]
    },
    {
     "name": "stdout",
     "output_type": "stream",
     "text": [
      "Number of data items used in training: 4608\n"
     ]
    },
    {
     "name": "stderr",
     "output_type": "stream",
     "text": [
      "Epoch=14/20:  84%|█████ | 37/44 [04:05<00:46,  6.65s/it, acc=0.999, loss=0.0418]"
     ]
    },
    {
     "name": "stdout",
     "output_type": "stream",
     "text": [
      "Number of data items used in training: 4736\n"
     ]
    },
    {
     "name": "stderr",
     "output_type": "stream",
     "text": [
      "Epoch=14/20:  86%|█████▏| 38/44 [04:12<00:39,  6.63s/it, acc=0.998, loss=0.0199]"
     ]
    },
    {
     "name": "stdout",
     "output_type": "stream",
     "text": [
      "Number of data items used in training: 4864\n"
     ]
    },
    {
     "name": "stderr",
     "output_type": "stream",
     "text": [
      "Epoch=14/20:  89%|████▍| 39/44 [04:19<00:33,  6.67s/it, acc=0.998, loss=0.00077]"
     ]
    },
    {
     "name": "stdout",
     "output_type": "stream",
     "text": [
      "Number of data items used in training: 4992\n"
     ]
    },
    {
     "name": "stderr",
     "output_type": "stream",
     "text": [
      "Epoch=14/20:  91%|███▋| 40/44 [04:25<00:26,  6.58s/it, acc=0.998, loss=0.000565]"
     ]
    },
    {
     "name": "stdout",
     "output_type": "stream",
     "text": [
      "Number of data items used in training: 5120\n"
     ]
    },
    {
     "name": "stderr",
     "output_type": "stream",
     "text": [
      "Epoch=14/20:  93%|████▋| 41/44 [04:32<00:19,  6.62s/it, acc=0.998, loss=0.00148]"
     ]
    },
    {
     "name": "stdout",
     "output_type": "stream",
     "text": [
      "Number of data items used in training: 5248\n"
     ]
    },
    {
     "name": "stderr",
     "output_type": "stream",
     "text": [
      "Epoch=14/20:  95%|█████▋| 42/44 [04:38<00:13,  6.62s/it, acc=0.999, loss=0.0105]"
     ]
    },
    {
     "name": "stdout",
     "output_type": "stream",
     "text": [
      "Number of data items used in training: 5376\n"
     ]
    },
    {
     "name": "stderr",
     "output_type": "stream",
     "text": [
      "Epoch=14/20:  98%|████▉| 43/44 [04:45<00:06,  6.65s/it, acc=0.999, loss=0.00831]"
     ]
    },
    {
     "name": "stdout",
     "output_type": "stream",
     "text": [
      "Number of data items used in training: 5504\n"
     ]
    },
    {
     "name": "stderr",
     "output_type": "stream",
     "text": [
      "Epoch=14/20: 100%|████| 44/44 [04:47<00:00,  6.53s/it, acc=0.999, loss=0.000981]\n"
     ]
    },
    {
     "name": "stdout",
     "output_type": "stream",
     "text": [
      "Number of data items used in training: 5536\n"
     ]
    },
    {
     "name": "stderr",
     "output_type": "stream",
     "text": [
      "                                                                                \r"
     ]
    },
    {
     "name": "stdout",
     "output_type": "stream",
     "text": [
      "The current model is tested on 1384 testing data items.\n",
      "Accuracy after training this epoch in testing data is: 0.8634393063583815\n",
      "Loss after training this epoch in testing data is: 0.6108337640762329\n",
      "Starting epoch: 15\n"
     ]
    },
    {
     "name": "stderr",
     "output_type": "stream",
     "text": [
      "Epoch=15/20:   2%|▏      | 1/44 [00:08<05:44,  8.01s/it, acc=0.984, loss=0.0381]"
     ]
    },
    {
     "name": "stdout",
     "output_type": "stream",
     "text": [
      "Number of data items used in training: 128\n"
     ]
    },
    {
     "name": "stderr",
     "output_type": "stream",
     "text": [
      "Epoch=15/20:   5%|▎      | 2/44 [00:15<05:22,  7.67s/it, acc=0.992, loss=0.0209]"
     ]
    },
    {
     "name": "stdout",
     "output_type": "stream",
     "text": [
      "Number of data items used in training: 256\n"
     ]
    },
    {
     "name": "stderr",
     "output_type": "stream",
     "text": [
      "Epoch=15/20:   7%|▍      | 3/44 [00:21<04:43,  6.90s/it, acc=0.992, loss=0.0122]"
     ]
    },
    {
     "name": "stdout",
     "output_type": "stream",
     "text": [
      "Number of data items used in training: 384\n"
     ]
    },
    {
     "name": "stderr",
     "output_type": "stream",
     "text": [
      "Epoch=15/20:   9%|▌     | 4/44 [00:28<04:37,  6.93s/it, acc=0.994, loss=0.00169]"
     ]
    },
    {
     "name": "stdout",
     "output_type": "stream",
     "text": [
      "Number of data items used in training: 512\n"
     ]
    },
    {
     "name": "stderr",
     "output_type": "stream",
     "text": [
      "Epoch=15/20:  11%|▋     | 5/44 [00:35<04:28,  6.89s/it, acc=0.995, loss=0.00102]"
     ]
    },
    {
     "name": "stdout",
     "output_type": "stream",
     "text": [
      "Number of data items used in training: 640\n"
     ]
    },
    {
     "name": "stderr",
     "output_type": "stream",
     "text": [
      "Epoch=15/20:  14%|▋    | 6/44 [00:41<04:20,  6.85s/it, acc=0.996, loss=0.000588]"
     ]
    },
    {
     "name": "stdout",
     "output_type": "stream",
     "text": [
      "Number of data items used in training: 768\n"
     ]
    },
    {
     "name": "stderr",
     "output_type": "stream",
     "text": [
      "Epoch=15/20:  16%|▉     | 7/44 [00:48<04:10,  6.78s/it, acc=0.997, loss=0.00045]"
     ]
    },
    {
     "name": "stdout",
     "output_type": "stream",
     "text": [
      "Number of data items used in training: 896\n"
     ]
    },
    {
     "name": "stderr",
     "output_type": "stream",
     "text": [
      "Epoch=15/20:  18%|▉    | 8/44 [00:55<04:00,  6.69s/it, acc=0.997, loss=0.000468]"
     ]
    },
    {
     "name": "stdout",
     "output_type": "stream",
     "text": [
      "Number of data items used in training: 1024\n"
     ]
    },
    {
     "name": "stderr",
     "output_type": "stream",
     "text": [
      "Epoch=15/20:  20%|█    | 9/44 [01:02<03:56,  6.76s/it, acc=0.997, loss=0.000308]"
     ]
    },
    {
     "name": "stdout",
     "output_type": "stream",
     "text": [
      "Number of data items used in training: 1152\n"
     ]
    },
    {
     "name": "stderr",
     "output_type": "stream",
     "text": [
      "Epoch=15/20:  23%|█▏   | 10/44 [01:08<03:43,  6.58s/it, acc=0.998, loss=0.00114]"
     ]
    },
    {
     "name": "stdout",
     "output_type": "stream",
     "text": [
      "Number of data items used in training: 1280\n"
     ]
    },
    {
     "name": "stderr",
     "output_type": "stream",
     "text": [
      "Epoch=15/20:  25%|█▌    | 11/44 [01:14<03:36,  6.55s/it, acc=0.996, loss=0.0598]"
     ]
    },
    {
     "name": "stdout",
     "output_type": "stream",
     "text": [
      "Number of data items used in training: 1408\n"
     ]
    },
    {
     "name": "stderr",
     "output_type": "stream",
     "text": [
      "Epoch=15/20:  27%|█▋    | 12/44 [01:21<03:34,  6.71s/it, acc=0.997, loss=0.0105]"
     ]
    },
    {
     "name": "stdout",
     "output_type": "stream",
     "text": [
      "Number of data items used in training: 1536\n"
     ]
    },
    {
     "name": "stderr",
     "output_type": "stream",
     "text": [
      "Epoch=15/20:  30%|█▊    | 13/44 [01:28<03:29,  6.76s/it, acc=0.996, loss=0.0164]"
     ]
    },
    {
     "name": "stdout",
     "output_type": "stream",
     "text": [
      "Number of data items used in training: 1664\n"
     ]
    },
    {
     "name": "stderr",
     "output_type": "stream",
     "text": [
      "Epoch=15/20:  32%|█▌   | 14/44 [01:35<03:25,  6.86s/it, acc=0.997, loss=0.00546]"
     ]
    },
    {
     "name": "stdout",
     "output_type": "stream",
     "text": [
      "Number of data items used in training: 1792\n"
     ]
    },
    {
     "name": "stderr",
     "output_type": "stream",
     "text": [
      "Epoch=15/20:  34%|█▋   | 15/44 [01:42<03:22,  6.97s/it, acc=0.997, loss=0.00164]"
     ]
    },
    {
     "name": "stdout",
     "output_type": "stream",
     "text": [
      "Number of data items used in training: 1920\n"
     ]
    },
    {
     "name": "stderr",
     "output_type": "stream",
     "text": [
      "Epoch=15/20:  36%|█▊   | 16/44 [01:50<03:18,  7.09s/it, acc=0.997, loss=0.00957]"
     ]
    },
    {
     "name": "stdout",
     "output_type": "stream",
     "text": [
      "Number of data items used in training: 2048\n"
     ]
    },
    {
     "name": "stderr",
     "output_type": "stream",
     "text": [
      "Epoch=15/20:  39%|██▎   | 17/44 [01:56<03:01,  6.71s/it, acc=0.996, loss=0.0295]"
     ]
    },
    {
     "name": "stdout",
     "output_type": "stream",
     "text": [
      "Number of data items used in training: 2176\n"
     ]
    },
    {
     "name": "stderr",
     "output_type": "stream",
     "text": [
      "Epoch=15/20:  41%|█▋  | 18/44 [02:02<02:52,  6.65s/it, acc=0.997, loss=0.000794]"
     ]
    },
    {
     "name": "stdout",
     "output_type": "stream",
     "text": [
      "Number of data items used in training: 2304\n"
     ]
    },
    {
     "name": "stderr",
     "output_type": "stream",
     "text": [
      "Epoch=15/20:  43%|██▌   | 19/44 [02:09<02:47,  6.71s/it, acc=0.996, loss=0.0437]"
     ]
    },
    {
     "name": "stdout",
     "output_type": "stream",
     "text": [
      "Number of data items used in training: 2432\n"
     ]
    },
    {
     "name": "stderr",
     "output_type": "stream",
     "text": [
      "Epoch=15/20:  45%|█▊  | 20/44 [02:16<02:42,  6.77s/it, acc=0.996, loss=0.000956]"
     ]
    },
    {
     "name": "stdout",
     "output_type": "stream",
     "text": [
      "Number of data items used in training: 2560\n"
     ]
    },
    {
     "name": "stderr",
     "output_type": "stream",
     "text": [
      "Epoch=15/20:  48%|█▉  | 21/44 [02:23<02:35,  6.75s/it, acc=0.997, loss=0.000635]"
     ]
    },
    {
     "name": "stdout",
     "output_type": "stream",
     "text": [
      "Number of data items used in training: 2688\n"
     ]
    },
    {
     "name": "stderr",
     "output_type": "stream",
     "text": [
      "Epoch=15/20:  50%|███   | 22/44 [02:29<02:22,  6.49s/it, acc=0.996, loss=0.0205]"
     ]
    },
    {
     "name": "stdout",
     "output_type": "stream",
     "text": [
      "Number of data items used in training: 2816\n"
     ]
    },
    {
     "name": "stderr",
     "output_type": "stream",
     "text": [
      "Epoch=15/20:  52%|███▏  | 23/44 [02:35<02:19,  6.64s/it, acc=0.997, loss=0.0018]"
     ]
    },
    {
     "name": "stdout",
     "output_type": "stream",
     "text": [
      "Number of data items used in training: 2944\n"
     ]
    },
    {
     "name": "stderr",
     "output_type": "stream",
     "text": [
      "Epoch=15/20:  55%|██▋  | 24/44 [02:42<02:13,  6.66s/it, acc=0.997, loss=0.00176]"
     ]
    },
    {
     "name": "stdout",
     "output_type": "stream",
     "text": [
      "Number of data items used in training: 3072\n"
     ]
    },
    {
     "name": "stderr",
     "output_type": "stream",
     "text": [
      "Epoch=15/20:  57%|██▊  | 25/44 [02:49<02:06,  6.63s/it, acc=0.997, loss=0.00489]"
     ]
    },
    {
     "name": "stdout",
     "output_type": "stream",
     "text": [
      "Number of data items used in training: 3200\n"
     ]
    },
    {
     "name": "stderr",
     "output_type": "stream",
     "text": [
      "Epoch=15/20:  59%|██▉  | 26/44 [02:56<02:00,  6.70s/it, acc=0.997, loss=0.00657]"
     ]
    },
    {
     "name": "stdout",
     "output_type": "stream",
     "text": [
      "Number of data items used in training: 3328\n"
     ]
    },
    {
     "name": "stderr",
     "output_type": "stream",
     "text": [
      "Epoch=15/20:  61%|███▋  | 27/44 [03:02<01:53,  6.69s/it, acc=0.997, loss=0.0299]"
     ]
    },
    {
     "name": "stdout",
     "output_type": "stream",
     "text": [
      "Number of data items used in training: 3456\n"
     ]
    },
    {
     "name": "stderr",
     "output_type": "stream",
     "text": [
      "Epoch=15/20:  64%|███▊  | 28/44 [03:09<01:47,  6.69s/it, acc=0.996, loss=0.0204]"
     ]
    },
    {
     "name": "stdout",
     "output_type": "stream",
     "text": [
      "Number of data items used in training: 3584\n"
     ]
    },
    {
     "name": "stderr",
     "output_type": "stream",
     "text": [
      "Epoch=15/20:  66%|██▋ | 29/44 [03:15<01:36,  6.46s/it, acc=0.996, loss=0.000665]"
     ]
    },
    {
     "name": "stdout",
     "output_type": "stream",
     "text": [
      "Number of data items used in training: 3712\n"
     ]
    },
    {
     "name": "stderr",
     "output_type": "stream",
     "text": [
      "Epoch=15/20:  68%|████  | 30/44 [03:22<01:31,  6.54s/it, acc=0.996, loss=0.0124]"
     ]
    },
    {
     "name": "stdout",
     "output_type": "stream",
     "text": [
      "Number of data items used in training: 3840\n"
     ]
    },
    {
     "name": "stderr",
     "output_type": "stream",
     "text": [
      "Epoch=15/20:  70%|████▏ | 31/44 [03:28<01:26,  6.62s/it, acc=0.996, loss=0.0037]"
     ]
    },
    {
     "name": "stdout",
     "output_type": "stream",
     "text": [
      "Number of data items used in training: 3968\n"
     ]
    },
    {
     "name": "stderr",
     "output_type": "stream",
     "text": [
      "Epoch=15/20:  73%|███▋ | 32/44 [03:35<01:18,  6.58s/it, acc=0.997, loss=0.00546]"
     ]
    },
    {
     "name": "stdout",
     "output_type": "stream",
     "text": [
      "Number of data items used in training: 4096\n"
     ]
    },
    {
     "name": "stderr",
     "output_type": "stream",
     "text": [
      "Epoch=15/20:  75%|████▌ | 33/44 [03:42<01:12,  6.61s/it, acc=0.996, loss=0.0245]"
     ]
    },
    {
     "name": "stdout",
     "output_type": "stream",
     "text": [
      "Number of data items used in training: 4224\n"
     ]
    },
    {
     "name": "stderr",
     "output_type": "stream",
     "text": [
      "Epoch=15/20:  77%|███▊ | 34/44 [03:48<01:04,  6.47s/it, acc=0.997, loss=0.00729]"
     ]
    },
    {
     "name": "stdout",
     "output_type": "stream",
     "text": [
      "Number of data items used in training: 4352\n"
     ]
    },
    {
     "name": "stderr",
     "output_type": "stream",
     "text": [
      "Epoch=15/20:  80%|████▊ | 35/44 [03:55<00:59,  6.57s/it, acc=0.996, loss=0.0655]"
     ]
    },
    {
     "name": "stdout",
     "output_type": "stream",
     "text": [
      "Number of data items used in training: 4480\n"
     ]
    },
    {
     "name": "stderr",
     "output_type": "stream",
     "text": [
      "Epoch=15/20:  82%|████▉ | 36/44 [04:01<00:52,  6.62s/it, acc=0.996, loss=0.0303]"
     ]
    },
    {
     "name": "stdout",
     "output_type": "stream",
     "text": [
      "Number of data items used in training: 4608\n"
     ]
    },
    {
     "name": "stderr",
     "output_type": "stream",
     "text": [
      "Epoch=15/20:  84%|████▏| 37/44 [04:08<00:46,  6.64s/it, acc=0.996, loss=0.00122]"
     ]
    },
    {
     "name": "stdout",
     "output_type": "stream",
     "text": [
      "Number of data items used in training: 4736\n"
     ]
    },
    {
     "name": "stderr",
     "output_type": "stream",
     "text": [
      "Epoch=15/20:  86%|█████▏| 38/44 [04:15<00:40,  6.69s/it, acc=0.996, loss=0.0161]"
     ]
    },
    {
     "name": "stdout",
     "output_type": "stream",
     "text": [
      "Number of data items used in training: 4864\n"
     ]
    },
    {
     "name": "stderr",
     "output_type": "stream",
     "text": [
      "Epoch=15/20:  89%|████▍| 39/44 [04:21<00:33,  6.62s/it, acc=0.996, loss=0.00261]"
     ]
    },
    {
     "name": "stdout",
     "output_type": "stream",
     "text": [
      "Number of data items used in training: 4992\n"
     ]
    },
    {
     "name": "stderr",
     "output_type": "stream",
     "text": [
      "Epoch=15/20:  91%|████▌| 40/44 [04:28<00:26,  6.65s/it, acc=0.996, loss=0.00602]"
     ]
    },
    {
     "name": "stdout",
     "output_type": "stream",
     "text": [
      "Number of data items used in training: 5120\n"
     ]
    },
    {
     "name": "stderr",
     "output_type": "stream",
     "text": [
      "Epoch=15/20:  93%|█████▌| 41/44 [04:34<00:19,  6.54s/it, acc=0.996, loss=0.0021]"
     ]
    },
    {
     "name": "stdout",
     "output_type": "stream",
     "text": [
      "Number of data items used in training: 5248\n"
     ]
    },
    {
     "name": "stderr",
     "output_type": "stream",
     "text": [
      "Epoch=15/20:  95%|███▊| 42/44 [04:41<00:13,  6.60s/it, acc=0.996, loss=0.000459]"
     ]
    },
    {
     "name": "stdout",
     "output_type": "stream",
     "text": [
      "Number of data items used in training: 5376\n"
     ]
    },
    {
     "name": "stderr",
     "output_type": "stream",
     "text": [
      "Epoch=15/20:  98%|███▉| 43/44 [04:48<00:06,  6.66s/it, acc=0.996, loss=0.000799]"
     ]
    },
    {
     "name": "stdout",
     "output_type": "stream",
     "text": [
      "Number of data items used in training: 5504\n"
     ]
    },
    {
     "name": "stderr",
     "output_type": "stream",
     "text": [
      "Epoch=15/20: 100%|█████| 44/44 [04:49<00:00,  6.59s/it, acc=0.996, loss=0.00995]\n"
     ]
    },
    {
     "name": "stdout",
     "output_type": "stream",
     "text": [
      "Number of data items used in training: 5536\n"
     ]
    },
    {
     "name": "stderr",
     "output_type": "stream",
     "text": [
      "                                                                                \r"
     ]
    },
    {
     "name": "stdout",
     "output_type": "stream",
     "text": [
      "The current model is tested on 1384 testing data items.\n",
      "Accuracy after training this epoch in testing data is: 0.8916184971098265\n",
      "Loss after training this epoch in testing data is: 0.48306649923324585\n",
      "Starting epoch: 16\n"
     ]
    },
    {
     "name": "stderr",
     "output_type": "stream",
     "text": [
      "Epoch=16/20:   2%|▏         | 1/44 [00:08<05:48,  8.11s/it, acc=1, loss=0.00115]"
     ]
    },
    {
     "name": "stdout",
     "output_type": "stream",
     "text": [
      "Number of data items used in training: 128\n"
     ]
    },
    {
     "name": "stderr",
     "output_type": "stream",
     "text": [
      "Epoch=16/20:   5%|▍         | 2/44 [00:13<04:28,  6.38s/it, acc=1, loss=0.00199]"
     ]
    },
    {
     "name": "stdout",
     "output_type": "stream",
     "text": [
      "Number of data items used in training: 256\n"
     ]
    },
    {
     "name": "stderr",
     "output_type": "stream",
     "text": [
      "Epoch=16/20:   7%|▊          | 3/44 [00:20<04:28,  6.55s/it, acc=1, loss=0.0034]"
     ]
    },
    {
     "name": "stdout",
     "output_type": "stream",
     "text": [
      "Number of data items used in training: 384\n"
     ]
    },
    {
     "name": "stderr",
     "output_type": "stream",
     "text": [
      "Epoch=16/20:   9%|▊        | 4/44 [00:26<04:28,  6.71s/it, acc=1, loss=0.000697]"
     ]
    },
    {
     "name": "stdout",
     "output_type": "stream",
     "text": [
      "Number of data items used in training: 512\n"
     ]
    },
    {
     "name": "stderr",
     "output_type": "stream",
     "text": [
      "Epoch=16/20:  11%|█▏        | 5/44 [00:33<04:19,  6.66s/it, acc=1, loss=0.00162]"
     ]
    },
    {
     "name": "stdout",
     "output_type": "stream",
     "text": [
      "Number of data items used in training: 640\n"
     ]
    },
    {
     "name": "stderr",
     "output_type": "stream",
     "text": [
      "Epoch=16/20:  14%|▊     | 6/44 [00:39<04:03,  6.40s/it, acc=0.999, loss=0.00907]"
     ]
    },
    {
     "name": "stdout",
     "output_type": "stream",
     "text": [
      "Number of data items used in training: 768\n"
     ]
    },
    {
     "name": "stderr",
     "output_type": "stream",
     "text": [
      "Epoch=16/20:  16%|█      | 7/44 [00:46<03:58,  6.45s/it, acc=0.998, loss=0.0322]"
     ]
    },
    {
     "name": "stdout",
     "output_type": "stream",
     "text": [
      "Number of data items used in training: 896\n"
     ]
    },
    {
     "name": "stderr",
     "output_type": "stream",
     "text": [
      "Epoch=16/20:  18%|▉    | 8/44 [00:52<03:55,  6.55s/it, acc=0.998, loss=0.000289]"
     ]
    },
    {
     "name": "stdout",
     "output_type": "stream",
     "text": [
      "Number of data items used in training: 1024\n"
     ]
    },
    {
     "name": "stderr",
     "output_type": "stream",
     "text": [
      "Epoch=16/20:  20%|█▍     | 9/44 [00:59<03:48,  6.53s/it, acc=0.998, loss=0.0012]"
     ]
    },
    {
     "name": "stdout",
     "output_type": "stream",
     "text": [
      "Number of data items used in training: 1152\n"
     ]
    },
    {
     "name": "stderr",
     "output_type": "stream",
     "text": [
      "Epoch=16/20:  23%|█▏   | 10/44 [01:05<03:39,  6.45s/it, acc=0.998, loss=0.00455]"
     ]
    },
    {
     "name": "stdout",
     "output_type": "stream",
     "text": [
      "Number of data items used in training: 1280\n"
     ]
    },
    {
     "name": "stderr",
     "output_type": "stream",
     "text": [
      "Epoch=16/20:  25%|█   | 11/44 [01:12<03:37,  6.60s/it, acc=0.999, loss=0.000653]"
     ]
    },
    {
     "name": "stdout",
     "output_type": "stream",
     "text": [
      "Number of data items used in training: 1408\n"
     ]
    },
    {
     "name": "stderr",
     "output_type": "stream",
     "text": [
      "Epoch=16/20:  27%|█▋    | 12/44 [01:18<03:27,  6.50s/it, acc=0.998, loss=0.0107]"
     ]
    },
    {
     "name": "stdout",
     "output_type": "stream",
     "text": [
      "Number of data items used in training: 1536\n"
     ]
    },
    {
     "name": "stderr",
     "output_type": "stream",
     "text": [
      "Epoch=16/20:  30%|█▊    | 13/44 [01:25<03:25,  6.64s/it, acc=0.998, loss=0.0063]"
     ]
    },
    {
     "name": "stdout",
     "output_type": "stream",
     "text": [
      "Number of data items used in training: 1664\n"
     ]
    },
    {
     "name": "stderr",
     "output_type": "stream",
     "text": [
      "Epoch=16/20:  32%|█▌   | 14/44 [01:32<03:18,  6.60s/it, acc=0.998, loss=0.00228]"
     ]
    },
    {
     "name": "stdout",
     "output_type": "stream",
     "text": [
      "Number of data items used in training: 1792\n"
     ]
    },
    {
     "name": "stderr",
     "output_type": "stream",
     "text": [
      "Epoch=16/20:  34%|██    | 15/44 [01:39<03:14,  6.72s/it, acc=0.998, loss=0.0011]"
     ]
    },
    {
     "name": "stdout",
     "output_type": "stream",
     "text": [
      "Number of data items used in training: 1920\n"
     ]
    },
    {
     "name": "stderr",
     "output_type": "stream",
     "text": [
      "Epoch=16/20:  36%|██▏   | 16/44 [01:46<03:09,  6.75s/it, acc=0.998, loss=0.0128]"
     ]
    },
    {
     "name": "stdout",
     "output_type": "stream",
     "text": [
      "Number of data items used in training: 2048\n"
     ]
    },
    {
     "name": "stderr",
     "output_type": "stream",
     "text": [
      "Epoch=16/20:  39%|██▎   | 17/44 [01:52<02:57,  6.57s/it, acc=0.997, loss=0.0424]"
     ]
    },
    {
     "name": "stdout",
     "output_type": "stream",
     "text": [
      "Number of data items used in training: 2176\n"
     ]
    },
    {
     "name": "stderr",
     "output_type": "stream",
     "text": [
      "Epoch=16/20:  41%|█▋  | 18/44 [01:58<02:51,  6.59s/it, acc=0.997, loss=0.000227]"
     ]
    },
    {
     "name": "stdout",
     "output_type": "stream",
     "text": [
      "Number of data items used in training: 2304\n"
     ]
    },
    {
     "name": "stderr",
     "output_type": "stream",
     "text": [
      "Epoch=16/20:  43%|██▌   | 19/44 [02:05<02:45,  6.62s/it, acc=0.997, loss=0.0615]"
     ]
    },
    {
     "name": "stdout",
     "output_type": "stream",
     "text": [
      "Number of data items used in training: 2432\n"
     ]
    },
    {
     "name": "stderr",
     "output_type": "stream",
     "text": [
      "Epoch=16/20:  45%|██▎  | 20/44 [02:12<02:38,  6.61s/it, acc=0.997, loss=0.00328]"
     ]
    },
    {
     "name": "stdout",
     "output_type": "stream",
     "text": [
      "Number of data items used in training: 2560\n"
     ]
    },
    {
     "name": "stderr",
     "output_type": "stream",
     "text": [
      "Epoch=16/20:  48%|██▊   | 21/44 [02:18<02:33,  6.65s/it, acc=0.997, loss=0.0663]"
     ]
    },
    {
     "name": "stdout",
     "output_type": "stream",
     "text": [
      "Number of data items used in training: 2688\n"
     ]
    },
    {
     "name": "stderr",
     "output_type": "stream",
     "text": [
      "Epoch=16/20:  50%|███▌   | 22/44 [02:25<02:24,  6.59s/it, acc=0.996, loss=0.026]"
     ]
    },
    {
     "name": "stdout",
     "output_type": "stream",
     "text": [
      "Number of data items used in training: 2816\n"
     ]
    },
    {
     "name": "stderr",
     "output_type": "stream",
     "text": [
      "Epoch=16/20:  52%|███▏  | 23/44 [02:32<02:20,  6.69s/it, acc=0.996, loss=0.0299]"
     ]
    },
    {
     "name": "stdout",
     "output_type": "stream",
     "text": [
      "Number of data items used in training: 2944\n"
     ]
    },
    {
     "name": "stderr",
     "output_type": "stream",
     "text": [
      "Epoch=16/20:  55%|███▎  | 24/44 [02:38<02:10,  6.55s/it, acc=0.996, loss=0.0391]"
     ]
    },
    {
     "name": "stdout",
     "output_type": "stream",
     "text": [
      "Number of data items used in training: 3072\n"
     ]
    },
    {
     "name": "stderr",
     "output_type": "stream",
     "text": [
      "Epoch=16/20:  57%|██▊  | 25/44 [02:45<02:05,  6.62s/it, acc=0.996, loss=0.00478]"
     ]
    },
    {
     "name": "stdout",
     "output_type": "stream",
     "text": [
      "Number of data items used in training: 3200\n"
     ]
    },
    {
     "name": "stderr",
     "output_type": "stream",
     "text": [
      "Epoch=16/20:  59%|███▌  | 26/44 [02:52<02:00,  6.67s/it, acc=0.996, loss=0.0054]"
     ]
    },
    {
     "name": "stdout",
     "output_type": "stream",
     "text": [
      "Number of data items used in training: 3328\n"
     ]
    },
    {
     "name": "stderr",
     "output_type": "stream",
     "text": [
      "Epoch=16/20:  61%|███  | 27/44 [02:58<01:52,  6.65s/it, acc=0.996, loss=0.00424]"
     ]
    },
    {
     "name": "stdout",
     "output_type": "stream",
     "text": [
      "Number of data items used in training: 3456\n"
     ]
    },
    {
     "name": "stderr",
     "output_type": "stream",
     "text": [
      "Epoch=16/20:  64%|███▊  | 28/44 [03:05<01:47,  6.70s/it, acc=0.996, loss=0.0014]"
     ]
    },
    {
     "name": "stdout",
     "output_type": "stream",
     "text": [
      "Number of data items used in training: 3584\n"
     ]
    },
    {
     "name": "stderr",
     "output_type": "stream",
     "text": [
      "Epoch=16/20:  66%|███▎ | 29/44 [03:11<01:39,  6.66s/it, acc=0.996, loss=0.00589]"
     ]
    },
    {
     "name": "stdout",
     "output_type": "stream",
     "text": [
      "Number of data items used in training: 3712\n"
     ]
    },
    {
     "name": "stderr",
     "output_type": "stream",
     "text": [
      "Epoch=16/20:  68%|████  | 30/44 [03:18<01:34,  6.75s/it, acc=0.997, loss=0.0108]"
     ]
    },
    {
     "name": "stdout",
     "output_type": "stream",
     "text": [
      "Number of data items used in training: 3840\n"
     ]
    },
    {
     "name": "stderr",
     "output_type": "stream",
     "text": [
      "Epoch=16/20:  70%|████▏ | 31/44 [03:25<01:26,  6.63s/it, acc=0.996, loss=0.0286]"
     ]
    },
    {
     "name": "stdout",
     "output_type": "stream",
     "text": [
      "Number of data items used in training: 3968\n"
     ]
    },
    {
     "name": "stderr",
     "output_type": "stream",
     "text": [
      "Epoch=16/20:  73%|█████  | 32/44 [03:32<01:20,  6.68s/it, acc=0.996, loss=0.018]"
     ]
    },
    {
     "name": "stdout",
     "output_type": "stream",
     "text": [
      "Number of data items used in training: 4096\n"
     ]
    },
    {
     "name": "stderr",
     "output_type": "stream",
     "text": [
      "Epoch=16/20:  75%|███▊ | 33/44 [03:39<01:15,  6.90s/it, acc=0.996, loss=0.00567]"
     ]
    },
    {
     "name": "stdout",
     "output_type": "stream",
     "text": [
      "Number of data items used in training: 4224\n"
     ]
    },
    {
     "name": "stderr",
     "output_type": "stream",
     "text": [
      "Epoch=16/20:  77%|███▊ | 34/44 [03:46<01:07,  6.79s/it, acc=0.996, loss=0.00671]"
     ]
    },
    {
     "name": "stdout",
     "output_type": "stream",
     "text": [
      "Number of data items used in training: 4352\n"
     ]
    },
    {
     "name": "stderr",
     "output_type": "stream",
     "text": [
      "Epoch=16/20:  80%|████▊ | 35/44 [03:54<01:06,  7.34s/it, acc=0.996, loss=0.0178]"
     ]
    },
    {
     "name": "stdout",
     "output_type": "stream",
     "text": [
      "Number of data items used in training: 4480\n"
     ]
    },
    {
     "name": "stderr",
     "output_type": "stream",
     "text": [
      "Epoch=16/20:  82%|████ | 36/44 [04:00<00:54,  6.84s/it, acc=0.996, loss=0.00328]"
     ]
    },
    {
     "name": "stdout",
     "output_type": "stream",
     "text": [
      "Number of data items used in training: 4608\n"
     ]
    },
    {
     "name": "stderr",
     "output_type": "stream",
     "text": [
      "Epoch=16/20:  84%|████▏| 37/44 [04:07<00:49,  7.01s/it, acc=0.996, loss=0.00718]"
     ]
    },
    {
     "name": "stdout",
     "output_type": "stream",
     "text": [
      "Number of data items used in training: 4736\n"
     ]
    },
    {
     "name": "stderr",
     "output_type": "stream",
     "text": [
      "Epoch=16/20:  86%|█████▏| 38/44 [04:14<00:41,  6.94s/it, acc=0.996, loss=0.0307]"
     ]
    },
    {
     "name": "stdout",
     "output_type": "stream",
     "text": [
      "Number of data items used in training: 4864\n"
     ]
    },
    {
     "name": "stderr",
     "output_type": "stream",
     "text": [
      "Epoch=16/20:  89%|█████▎| 39/44 [04:21<00:34,  6.92s/it, acc=0.996, loss=0.0314]"
     ]
    },
    {
     "name": "stdout",
     "output_type": "stream",
     "text": [
      "Number of data items used in training: 4992\n"
     ]
    },
    {
     "name": "stderr",
     "output_type": "stream",
     "text": [
      "Epoch=16/20:  91%|█████▍| 40/44 [04:27<00:27,  6.80s/it, acc=0.996, loss=0.0115]"
     ]
    },
    {
     "name": "stdout",
     "output_type": "stream",
     "text": [
      "Number of data items used in training: 5120\n"
     ]
    },
    {
     "name": "stderr",
     "output_type": "stream",
     "text": [
      "Epoch=16/20:  93%|█████▌| 41/44 [04:34<00:20,  6.71s/it, acc=0.996, loss=0.0108]"
     ]
    },
    {
     "name": "stdout",
     "output_type": "stream",
     "text": [
      "Number of data items used in training: 5248\n"
     ]
    },
    {
     "name": "stderr",
     "output_type": "stream",
     "text": [
      "Epoch=16/20:  95%|█████▋| 42/44 [04:41<00:13,  6.71s/it, acc=0.996, loss=0.0056]"
     ]
    },
    {
     "name": "stdout",
     "output_type": "stream",
     "text": [
      "Number of data items used in training: 5376\n"
     ]
    },
    {
     "name": "stderr",
     "output_type": "stream",
     "text": [
      "Epoch=16/20:  98%|█████▊| 43/44 [04:47<00:06,  6.60s/it, acc=0.996, loss=0.0127]"
     ]
    },
    {
     "name": "stdout",
     "output_type": "stream",
     "text": [
      "Number of data items used in training: 5504\n"
     ]
    },
    {
     "name": "stderr",
     "output_type": "stream",
     "text": [
      "Epoch=16/20: 100%|█████| 44/44 [04:49<00:00,  6.58s/it, acc=0.996, loss=0.00732]\n"
     ]
    },
    {
     "name": "stdout",
     "output_type": "stream",
     "text": [
      "Number of data items used in training: 5536\n"
     ]
    },
    {
     "name": "stderr",
     "output_type": "stream",
     "text": [
      "                                                                                \r"
     ]
    },
    {
     "name": "stdout",
     "output_type": "stream",
     "text": [
      "The current model is tested on 1384 testing data items.\n",
      "Accuracy after training this epoch in testing data is: 0.8930635838150289\n",
      "Loss after training this epoch in testing data is: 0.3281007409095764\n",
      "Starting epoch: 17\n"
     ]
    },
    {
     "name": "stderr",
     "output_type": "stream",
     "text": [
      "Epoch=17/20:   2%|▏     | 1/44 [00:07<05:25,  7.56s/it, acc=0.992, loss=0.00803]"
     ]
    },
    {
     "name": "stdout",
     "output_type": "stream",
     "text": [
      "Number of data items used in training: 128\n"
     ]
    },
    {
     "name": "stderr",
     "output_type": "stream",
     "text": [
      "Epoch=17/20:   5%|▎     | 2/44 [00:14<05:05,  7.27s/it, acc=0.996, loss=0.00199]"
     ]
    },
    {
     "name": "stdout",
     "output_type": "stream",
     "text": [
      "Number of data items used in training: 256\n"
     ]
    },
    {
     "name": "stderr",
     "output_type": "stream",
     "text": [
      "Epoch=17/20:   7%|▍      | 3/44 [00:20<04:23,  6.42s/it, acc=0.995, loss=0.0231]"
     ]
    },
    {
     "name": "stdout",
     "output_type": "stream",
     "text": [
      "Number of data items used in training: 384\n"
     ]
    },
    {
     "name": "stderr",
     "output_type": "stream",
     "text": [
      "Epoch=17/20:   9%|▋      | 4/44 [00:26<04:20,  6.52s/it, acc=0.992, loss=0.0377]"
     ]
    },
    {
     "name": "stdout",
     "output_type": "stream",
     "text": [
      "Number of data items used in training: 512\n"
     ]
    },
    {
     "name": "stderr",
     "output_type": "stream",
     "text": [
      "Epoch=17/20:  11%|▌    | 5/44 [00:33<04:17,  6.60s/it, acc=0.994, loss=0.000927]"
     ]
    },
    {
     "name": "stdout",
     "output_type": "stream",
     "text": [
      "Number of data items used in training: 640\n"
     ]
    },
    {
     "name": "stderr",
     "output_type": "stream",
     "text": [
      "Epoch=17/20:  14%|▊     | 6/44 [00:39<04:07,  6.51s/it, acc=0.995, loss=0.00249]"
     ]
    },
    {
     "name": "stdout",
     "output_type": "stream",
     "text": [
      "Number of data items used in training: 768\n"
     ]
    },
    {
     "name": "stderr",
     "output_type": "stream",
     "text": [
      "Epoch=17/20:  16%|█      | 7/44 [00:46<03:57,  6.43s/it, acc=0.996, loss=0.0105]"
     ]
    },
    {
     "name": "stdout",
     "output_type": "stream",
     "text": [
      "Number of data items used in training: 896\n"
     ]
    },
    {
     "name": "stderr",
     "output_type": "stream",
     "text": [
      "Epoch=17/20:  18%|█     | 8/44 [00:53<03:57,  6.60s/it, acc=0.996, loss=0.00116]"
     ]
    },
    {
     "name": "stdout",
     "output_type": "stream",
     "text": [
      "Number of data items used in training: 1024\n"
     ]
    },
    {
     "name": "stderr",
     "output_type": "stream",
     "text": [
      "Epoch=17/20:  20%|█    | 9/44 [00:59<03:47,  6.49s/it, acc=0.997, loss=0.000321]"
     ]
    },
    {
     "name": "stdout",
     "output_type": "stream",
     "text": [
      "Number of data items used in training: 1152\n"
     ]
    },
    {
     "name": "stderr",
     "output_type": "stream",
     "text": [
      "Epoch=17/20:  23%|█▏   | 10/44 [01:05<03:39,  6.46s/it, acc=0.997, loss=0.00493]"
     ]
    },
    {
     "name": "stdout",
     "output_type": "stream",
     "text": [
      "Number of data items used in training: 1280\n"
     ]
    },
    {
     "name": "stderr",
     "output_type": "stream",
     "text": [
      "Epoch=17/20:  25%|█▌    | 11/44 [01:12<03:35,  6.53s/it, acc=0.996, loss=0.0225]"
     ]
    },
    {
     "name": "stdout",
     "output_type": "stream",
     "text": [
      "Number of data items used in training: 1408\n"
     ]
    },
    {
     "name": "stderr",
     "output_type": "stream",
     "text": [
      "Epoch=17/20:  27%|█   | 12/44 [01:19<03:30,  6.58s/it, acc=0.996, loss=0.000481]"
     ]
    },
    {
     "name": "stdout",
     "output_type": "stream",
     "text": [
      "Number of data items used in training: 1536\n"
     ]
    },
    {
     "name": "stderr",
     "output_type": "stream",
     "text": [
      "Epoch=17/20:  30%|█▍   | 13/44 [01:25<03:23,  6.55s/it, acc=0.996, loss=0.00218]"
     ]
    },
    {
     "name": "stdout",
     "output_type": "stream",
     "text": [
      "Number of data items used in training: 1664\n"
     ]
    },
    {
     "name": "stderr",
     "output_type": "stream",
     "text": [
      "Epoch=17/20:  32%|█▉    | 14/44 [01:31<03:09,  6.32s/it, acc=0.996, loss=0.0476]"
     ]
    },
    {
     "name": "stdout",
     "output_type": "stream",
     "text": [
      "Number of data items used in training: 1792\n"
     ]
    },
    {
     "name": "stderr",
     "output_type": "stream",
     "text": [
      "Epoch=17/20:  34%|█▋   | 15/44 [01:38<03:06,  6.44s/it, acc=0.996, loss=0.00125]"
     ]
    },
    {
     "name": "stdout",
     "output_type": "stream",
     "text": [
      "Number of data items used in training: 1920\n"
     ]
    },
    {
     "name": "stderr",
     "output_type": "stream",
     "text": [
      "Epoch=17/20:  36%|█▍  | 16/44 [01:44<03:01,  6.50s/it, acc=0.997, loss=0.000351]"
     ]
    },
    {
     "name": "stdout",
     "output_type": "stream",
     "text": [
      "Number of data items used in training: 2048\n"
     ]
    },
    {
     "name": "stderr",
     "output_type": "stream",
     "text": [
      "Epoch=17/20:  39%|█▉   | 17/44 [01:51<02:54,  6.47s/it, acc=0.996, loss=0.00962]"
     ]
    },
    {
     "name": "stdout",
     "output_type": "stream",
     "text": [
      "Number of data items used in training: 2176\n"
     ]
    },
    {
     "name": "stderr",
     "output_type": "stream",
     "text": [
      "Epoch=17/20:  41%|██   | 18/44 [01:58<02:52,  6.63s/it, acc=0.997, loss=0.00504]"
     ]
    },
    {
     "name": "stdout",
     "output_type": "stream",
     "text": [
      "Number of data items used in training: 2304\n"
     ]
    },
    {
     "name": "stderr",
     "output_type": "stream",
     "text": [
      "Epoch=17/20:  43%|██▏  | 19/44 [02:04<02:43,  6.55s/it, acc=0.997, loss=0.00621]"
     ]
    },
    {
     "name": "stdout",
     "output_type": "stream",
     "text": [
      "Number of data items used in training: 2432\n"
     ]
    },
    {
     "name": "stderr",
     "output_type": "stream",
     "text": [
      "Epoch=17/20:  45%|██▎  | 20/44 [02:11<02:39,  6.63s/it, acc=0.997, loss=0.00335]"
     ]
    },
    {
     "name": "stdout",
     "output_type": "stream",
     "text": [
      "Number of data items used in training: 2560\n"
     ]
    },
    {
     "name": "stderr",
     "output_type": "stream",
     "text": [
      "Epoch=17/20:  48%|██▍  | 21/44 [02:17<02:29,  6.50s/it, acc=0.997, loss=0.00897]"
     ]
    },
    {
     "name": "stdout",
     "output_type": "stream",
     "text": [
      "Number of data items used in training: 2688\n"
     ]
    },
    {
     "name": "stderr",
     "output_type": "stream",
     "text": [
      "Epoch=17/20:  50%|██▌  | 22/44 [02:24<02:24,  6.55s/it, acc=0.997, loss=0.00329]"
     ]
    },
    {
     "name": "stdout",
     "output_type": "stream",
     "text": [
      "Number of data items used in training: 2816\n"
     ]
    },
    {
     "name": "stderr",
     "output_type": "stream",
     "text": [
      "Epoch=17/20:  52%|███▏  | 23/44 [02:30<02:18,  6.59s/it, acc=0.997, loss=0.0369]"
     ]
    },
    {
     "name": "stdout",
     "output_type": "stream",
     "text": [
      "Number of data items used in training: 2944\n"
     ]
    },
    {
     "name": "stderr",
     "output_type": "stream",
     "text": [
      "Epoch=17/20:  55%|██▋  | 24/44 [02:37<02:10,  6.52s/it, acc=0.997, loss=0.00166]"
     ]
    },
    {
     "name": "stdout",
     "output_type": "stream",
     "text": [
      "Number of data items used in training: 3072\n"
     ]
    },
    {
     "name": "stderr",
     "output_type": "stream",
     "text": [
      "Epoch=17/20:  57%|███▍  | 25/44 [02:43<02:03,  6.51s/it, acc=0.996, loss=0.0362]"
     ]
    },
    {
     "name": "stdout",
     "output_type": "stream",
     "text": [
      "Number of data items used in training: 3200\n"
     ]
    },
    {
     "name": "stderr",
     "output_type": "stream",
     "text": [
      "Epoch=17/20:  59%|███▌  | 26/44 [02:50<01:56,  6.48s/it, acc=0.996, loss=0.0346]"
     ]
    },
    {
     "name": "stdout",
     "output_type": "stream",
     "text": [
      "Number of data items used in training: 3328\n"
     ]
    },
    {
     "name": "stderr",
     "output_type": "stream",
     "text": [
      "Epoch=17/20:  61%|███  | 27/44 [02:56<01:51,  6.54s/it, acc=0.996, loss=0.00504]"
     ]
    },
    {
     "name": "stdout",
     "output_type": "stream",
     "text": [
      "Number of data items used in training: 3456\n"
     ]
    },
    {
     "name": "stderr",
     "output_type": "stream",
     "text": [
      "Epoch=17/20:  64%|███▏ | 28/44 [03:03<01:45,  6.57s/it, acc=0.996, loss=0.00592]"
     ]
    },
    {
     "name": "stdout",
     "output_type": "stream",
     "text": [
      "Number of data items used in training: 3584\n"
     ]
    },
    {
     "name": "stderr",
     "output_type": "stream",
     "text": [
      "Epoch=17/20:  66%|██▋ | 29/44 [03:09<01:38,  6.58s/it, acc=0.996, loss=0.000241]"
     ]
    },
    {
     "name": "stdout",
     "output_type": "stream",
     "text": [
      "Number of data items used in training: 3712\n"
     ]
    },
    {
     "name": "stderr",
     "output_type": "stream",
     "text": [
      "Epoch=17/20:  68%|██▋ | 30/44 [03:16<01:32,  6.59s/it, acc=0.997, loss=0.000133]"
     ]
    },
    {
     "name": "stdout",
     "output_type": "stream",
     "text": [
      "Number of data items used in training: 3840\n"
     ]
    },
    {
     "name": "stderr",
     "output_type": "stream",
     "text": [
      "Epoch=17/20:  70%|██▊ | 31/44 [03:22<01:23,  6.43s/it, acc=0.997, loss=0.000202]"
     ]
    },
    {
     "name": "stdout",
     "output_type": "stream",
     "text": [
      "Number of data items used in training: 3968\n"
     ]
    },
    {
     "name": "stderr",
     "output_type": "stream",
     "text": [
      "Epoch=17/20:  73%|███▋ | 32/44 [03:29<01:18,  6.51s/it, acc=0.997, loss=0.00706]"
     ]
    },
    {
     "name": "stdout",
     "output_type": "stream",
     "text": [
      "Number of data items used in training: 4096\n"
     ]
    },
    {
     "name": "stderr",
     "output_type": "stream",
     "text": [
      "Epoch=17/20:  75%|███ | 33/44 [03:36<01:12,  6.57s/it, acc=0.997, loss=0.000194]"
     ]
    },
    {
     "name": "stdout",
     "output_type": "stream",
     "text": [
      "Number of data items used in training: 4224\n"
     ]
    },
    {
     "name": "stderr",
     "output_type": "stream",
     "text": [
      "Epoch=17/20:  77%|████▋ | 34/44 [03:42<01:05,  6.51s/it, acc=0.997, loss=0.0246]"
     ]
    },
    {
     "name": "stdout",
     "output_type": "stream",
     "text": [
      "Number of data items used in training: 4352\n"
     ]
    },
    {
     "name": "stderr",
     "output_type": "stream",
     "text": [
      "Epoch=17/20:  80%|████▊ | 35/44 [03:48<00:58,  6.53s/it, acc=0.996, loss=0.0267]"
     ]
    },
    {
     "name": "stdout",
     "output_type": "stream",
     "text": [
      "Number of data items used in training: 4480\n"
     ]
    },
    {
     "name": "stderr",
     "output_type": "stream",
     "text": [
      "Epoch=17/20:  82%|███▎| 36/44 [03:55<00:51,  6.44s/it, acc=0.996, loss=0.000299]"
     ]
    },
    {
     "name": "stdout",
     "output_type": "stream",
     "text": [
      "Number of data items used in training: 4608\n"
     ]
    },
    {
     "name": "stderr",
     "output_type": "stream",
     "text": [
      "Epoch=17/20:  84%|████▏| 37/44 [04:01<00:45,  6.48s/it, acc=0.996, loss=0.00816]"
     ]
    },
    {
     "name": "stdout",
     "output_type": "stream",
     "text": [
      "Number of data items used in training: 4736\n"
     ]
    },
    {
     "name": "stderr",
     "output_type": "stream",
     "text": [
      "Epoch=17/20:  86%|████▎| 38/44 [04:08<00:39,  6.51s/it, acc=0.996, loss=0.00486]"
     ]
    },
    {
     "name": "stdout",
     "output_type": "stream",
     "text": [
      "Number of data items used in training: 4864\n"
     ]
    },
    {
     "name": "stderr",
     "output_type": "stream",
     "text": [
      "Epoch=17/20:  89%|███▌| 39/44 [04:14<00:32,  6.51s/it, acc=0.996, loss=0.000428]"
     ]
    },
    {
     "name": "stdout",
     "output_type": "stream",
     "text": [
      "Number of data items used in training: 4992\n"
     ]
    },
    {
     "name": "stderr",
     "output_type": "stream",
     "text": [
      "Epoch=17/20:  91%|███▋| 40/44 [04:21<00:26,  6.57s/it, acc=0.996, loss=0.000379]"
     ]
    },
    {
     "name": "stdout",
     "output_type": "stream",
     "text": [
      "Number of data items used in training: 5120\n"
     ]
    },
    {
     "name": "stderr",
     "output_type": "stream",
     "text": [
      "Epoch=17/20:  93%|█████▌| 41/44 [04:27<00:19,  6.50s/it, acc=0.996, loss=0.0245]"
     ]
    },
    {
     "name": "stdout",
     "output_type": "stream",
     "text": [
      "Number of data items used in training: 5248\n"
     ]
    },
    {
     "name": "stderr",
     "output_type": "stream",
     "text": [
      "Epoch=17/20:  95%|████▊| 42/44 [04:34<00:12,  6.48s/it, acc=0.996, loss=0.00178]"
     ]
    },
    {
     "name": "stdout",
     "output_type": "stream",
     "text": [
      "Number of data items used in training: 5376\n"
     ]
    },
    {
     "name": "stderr",
     "output_type": "stream",
     "text": [
      "Epoch=17/20:  98%|████▉| 43/44 [04:40<00:06,  6.52s/it, acc=0.997, loss=0.00153]"
     ]
    },
    {
     "name": "stdout",
     "output_type": "stream",
     "text": [
      "Number of data items used in training: 5504\n"
     ]
    },
    {
     "name": "stderr",
     "output_type": "stream",
     "text": [
      "Epoch=17/20: 100%|████| 44/44 [04:42<00:00,  6.42s/it, acc=0.997, loss=0.000126]\n"
     ]
    },
    {
     "name": "stdout",
     "output_type": "stream",
     "text": [
      "Number of data items used in training: 5536\n"
     ]
    },
    {
     "name": "stderr",
     "output_type": "stream",
     "text": [
      "                                                                                \r"
     ]
    },
    {
     "name": "stdout",
     "output_type": "stream",
     "text": [
      "The current model is tested on 1384 testing data items.\n",
      "Accuracy after training this epoch in testing data is: 0.8923410404624278\n",
      "Loss after training this epoch in testing data is: 0.4123607277870178\n",
      "Starting epoch: 18\n"
     ]
    },
    {
     "name": "stderr",
     "output_type": "stream",
     "text": [
      "Epoch=18/20:   2%|▏      | 1/44 [00:07<05:19,  7.43s/it, acc=0.992, loss=0.0367]"
     ]
    },
    {
     "name": "stdout",
     "output_type": "stream",
     "text": [
      "Number of data items used in training: 128\n"
     ]
    },
    {
     "name": "stderr",
     "output_type": "stream",
     "text": [
      "Epoch=18/20:   5%|▎     | 2/44 [00:13<04:32,  6.49s/it, acc=0.996, loss=0.00069]"
     ]
    },
    {
     "name": "stdout",
     "output_type": "stream",
     "text": [
      "Number of data items used in training: 256\n"
     ]
    },
    {
     "name": "stderr",
     "output_type": "stream",
     "text": [
      "Epoch=18/20:   7%|▎    | 3/44 [00:19<04:18,  6.32s/it, acc=0.997, loss=0.000138]"
     ]
    },
    {
     "name": "stdout",
     "output_type": "stream",
     "text": [
      "Number of data items used in training: 384\n"
     ]
    },
    {
     "name": "stderr",
     "output_type": "stream",
     "text": [
      "Epoch=18/20:   9%|▋      | 4/44 [00:26<04:22,  6.55s/it, acc=0.996, loss=0.0104]"
     ]
    },
    {
     "name": "stdout",
     "output_type": "stream",
     "text": [
      "Number of data items used in training: 512\n"
     ]
    },
    {
     "name": "stderr",
     "output_type": "stream",
     "text": [
      "Epoch=18/20:  11%|▌    | 5/44 [00:32<04:11,  6.46s/it, acc=0.997, loss=0.000337]"
     ]
    },
    {
     "name": "stdout",
     "output_type": "stream",
     "text": [
      "Number of data items used in training: 640\n"
     ]
    },
    {
     "name": "stderr",
     "output_type": "stream",
     "text": [
      "Epoch=18/20:  14%|▋    | 6/44 [00:38<03:57,  6.25s/it, acc=0.997, loss=0.000843]"
     ]
    },
    {
     "name": "stdout",
     "output_type": "stream",
     "text": [
      "Number of data items used in training: 768\n"
     ]
    },
    {
     "name": "stderr",
     "output_type": "stream",
     "text": [
      "Epoch=18/20:  16%|▉     | 7/44 [00:45<03:55,  6.36s/it, acc=0.998, loss=0.00529]"
     ]
    },
    {
     "name": "stdout",
     "output_type": "stream",
     "text": [
      "Number of data items used in training: 896\n"
     ]
    },
    {
     "name": "stderr",
     "output_type": "stream",
     "text": [
      "Epoch=18/20:  18%|█▍      | 8/44 [00:51<03:52,  6.45s/it, acc=0.997, loss=0.049]"
     ]
    },
    {
     "name": "stdout",
     "output_type": "stream",
     "text": [
      "Number of data items used in training: 1024\n"
     ]
    },
    {
     "name": "stderr",
     "output_type": "stream",
     "text": [
      "Epoch=18/20:  20%|█▍     | 9/44 [00:58<03:45,  6.44s/it, acc=0.997, loss=0.0147]"
     ]
    },
    {
     "name": "stdout",
     "output_type": "stream",
     "text": [
      "Number of data items used in training: 1152\n"
     ]
    },
    {
     "name": "stderr",
     "output_type": "stream",
     "text": [
      "Epoch=18/20:  23%|█▎    | 10/44 [01:03<03:33,  6.28s/it, acc=0.996, loss=0.0475]"
     ]
    },
    {
     "name": "stdout",
     "output_type": "stream",
     "text": [
      "Number of data items used in training: 1280\n"
     ]
    },
    {
     "name": "stderr",
     "output_type": "stream",
     "text": [
      "Epoch=18/20:  25%|█▎   | 11/44 [01:10<03:32,  6.44s/it, acc=0.996, loss=0.00306]"
     ]
    },
    {
     "name": "stdout",
     "output_type": "stream",
     "text": [
      "Number of data items used in training: 1408\n"
     ]
    },
    {
     "name": "stderr",
     "output_type": "stream",
     "text": [
      "Epoch=18/20:  27%|█▋    | 12/44 [01:17<03:27,  6.48s/it, acc=0.996, loss=0.0231]"
     ]
    },
    {
     "name": "stdout",
     "output_type": "stream",
     "text": [
      "Number of data items used in training: 1536\n"
     ]
    },
    {
     "name": "stderr",
     "output_type": "stream",
     "text": [
      "Epoch=18/20:  30%|█▊    | 13/44 [01:23<03:19,  6.43s/it, acc=0.996, loss=0.0163]"
     ]
    },
    {
     "name": "stdout",
     "output_type": "stream",
     "text": [
      "Number of data items used in training: 1664\n"
     ]
    },
    {
     "name": "stderr",
     "output_type": "stream",
     "text": [
      "Epoch=18/20:  32%|█▉    | 14/44 [01:30<03:15,  6.51s/it, acc=0.996, loss=0.0679]"
     ]
    },
    {
     "name": "stdout",
     "output_type": "stream",
     "text": [
      "Number of data items used in training: 1792\n"
     ]
    },
    {
     "name": "stderr",
     "output_type": "stream",
     "text": [
      "Epoch=18/20:  34%|█▋   | 15/44 [01:36<03:07,  6.45s/it, acc=0.996, loss=0.00274]"
     ]
    },
    {
     "name": "stdout",
     "output_type": "stream",
     "text": [
      "Number of data items used in training: 1920\n"
     ]
    },
    {
     "name": "stderr",
     "output_type": "stream",
     "text": [
      "Epoch=18/20:  36%|█▊   | 16/44 [01:43<02:59,  6.41s/it, acc=0.996, loss=0.00491]"
     ]
    },
    {
     "name": "stdout",
     "output_type": "stream",
     "text": [
      "Number of data items used in training: 2048\n"
     ]
    },
    {
     "name": "stderr",
     "output_type": "stream",
     "text": [
      "Epoch=18/20:  39%|█▉   | 17/44 [01:49<02:53,  6.43s/it, acc=0.996, loss=0.00528]"
     ]
    },
    {
     "name": "stdout",
     "output_type": "stream",
     "text": [
      "Number of data items used in training: 2176\n"
     ]
    },
    {
     "name": "stderr",
     "output_type": "stream",
     "text": [
      "Epoch=18/20:  41%|██▍   | 18/44 [01:56<02:49,  6.54s/it, acc=0.997, loss=0.0062]"
     ]
    },
    {
     "name": "stdout",
     "output_type": "stream",
     "text": [
      "Number of data items used in training: 2304\n"
     ]
    },
    {
     "name": "stderr",
     "output_type": "stream",
     "text": [
      "Epoch=18/20:  43%|███    | 19/44 [02:02<02:43,  6.55s/it, acc=0.997, loss=0.012]"
     ]
    },
    {
     "name": "stdout",
     "output_type": "stream",
     "text": [
      "Number of data items used in training: 2432\n"
     ]
    },
    {
     "name": "stderr",
     "output_type": "stream",
     "text": [
      "Epoch=18/20:  45%|██▋   | 20/44 [02:08<02:34,  6.43s/it, acc=0.997, loss=0.0147]"
     ]
    },
    {
     "name": "stdout",
     "output_type": "stream",
     "text": [
      "Number of data items used in training: 2560\n"
     ]
    },
    {
     "name": "stderr",
     "output_type": "stream",
     "text": [
      "Epoch=18/20:  48%|███▎   | 21/44 [02:15<02:30,  6.54s/it, acc=0.996, loss=0.085]"
     ]
    },
    {
     "name": "stdout",
     "output_type": "stream",
     "text": [
      "Number of data items used in training: 2688\n"
     ]
    },
    {
     "name": "stderr",
     "output_type": "stream",
     "text": [
      "Epoch=18/20:  50%|██▌  | 22/44 [02:22<02:23,  6.54s/it, acc=0.996, loss=0.00681]"
     ]
    },
    {
     "name": "stdout",
     "output_type": "stream",
     "text": [
      "Number of data items used in training: 2816\n"
     ]
    },
    {
     "name": "stderr",
     "output_type": "stream",
     "text": [
      "Epoch=18/20:  52%|███▏  | 23/44 [02:29<02:20,  6.69s/it, acc=0.995, loss=0.0288]"
     ]
    },
    {
     "name": "stdout",
     "output_type": "stream",
     "text": [
      "Number of data items used in training: 2944\n"
     ]
    },
    {
     "name": "stderr",
     "output_type": "stream",
     "text": [
      "Epoch=18/20:  55%|███▎  | 24/44 [02:35<02:13,  6.67s/it, acc=0.995, loss=0.0307]"
     ]
    },
    {
     "name": "stdout",
     "output_type": "stream",
     "text": [
      "Number of data items used in training: 3072\n"
     ]
    },
    {
     "name": "stderr",
     "output_type": "stream",
     "text": [
      "Epoch=18/20:  57%|███▍  | 25/44 [02:42<02:06,  6.67s/it, acc=0.994, loss=0.0496]"
     ]
    },
    {
     "name": "stdout",
     "output_type": "stream",
     "text": [
      "Number of data items used in training: 3200\n"
     ]
    },
    {
     "name": "stderr",
     "output_type": "stream",
     "text": [
      "Epoch=18/20:  59%|██▉  | 26/44 [02:49<02:01,  6.75s/it, acc=0.995, loss=0.00378]"
     ]
    },
    {
     "name": "stdout",
     "output_type": "stream",
     "text": [
      "Number of data items used in training: 3328\n"
     ]
    },
    {
     "name": "stderr",
     "output_type": "stream",
     "text": [
      "Epoch=18/20:  61%|███  | 27/44 [02:55<01:51,  6.57s/it, acc=0.995, loss=0.00673]"
     ]
    },
    {
     "name": "stdout",
     "output_type": "stream",
     "text": [
      "Number of data items used in training: 3456\n"
     ]
    },
    {
     "name": "stderr",
     "output_type": "stream",
     "text": [
      "Epoch=18/20:  64%|███▏ | 28/44 [03:02<01:48,  6.76s/it, acc=0.995, loss=0.00865]"
     ]
    },
    {
     "name": "stdout",
     "output_type": "stream",
     "text": [
      "Number of data items used in training: 3584\n"
     ]
    },
    {
     "name": "stderr",
     "output_type": "stream",
     "text": [
      "Epoch=18/20:  66%|███▎ | 29/44 [03:09<01:41,  6.78s/it, acc=0.995, loss=0.00279]"
     ]
    },
    {
     "name": "stdout",
     "output_type": "stream",
     "text": [
      "Number of data items used in training: 3712\n"
     ]
    },
    {
     "name": "stderr",
     "output_type": "stream",
     "text": [
      "Epoch=18/20:  68%|███▍ | 30/44 [03:16<01:34,  6.74s/it, acc=0.995, loss=0.00465]"
     ]
    },
    {
     "name": "stdout",
     "output_type": "stream",
     "text": [
      "Number of data items used in training: 3840\n"
     ]
    },
    {
     "name": "stderr",
     "output_type": "stream",
     "text": [
      "Epoch=18/20:  70%|████▉  | 31/44 [03:23<01:28,  6.78s/it, acc=0.995, loss=0.006]"
     ]
    },
    {
     "name": "stdout",
     "output_type": "stream",
     "text": [
      "Number of data items used in training: 3968\n"
     ]
    },
    {
     "name": "stderr",
     "output_type": "stream",
     "text": [
      "Epoch=18/20:  73%|███▋ | 32/44 [03:29<01:20,  6.69s/it, acc=0.996, loss=0.00308]"
     ]
    },
    {
     "name": "stdout",
     "output_type": "stream",
     "text": [
      "Number of data items used in training: 4096\n"
     ]
    },
    {
     "name": "stderr",
     "output_type": "stream",
     "text": [
      "Epoch=18/20:  75%|████▌ | 33/44 [03:36<01:13,  6.69s/it, acc=0.996, loss=0.0376]"
     ]
    },
    {
     "name": "stdout",
     "output_type": "stream",
     "text": [
      "Number of data items used in training: 4224\n"
     ]
    },
    {
     "name": "stderr",
     "output_type": "stream",
     "text": [
      "Epoch=18/20:  77%|███▊ | 34/44 [03:42<01:04,  6.42s/it, acc=0.996, loss=0.00569]"
     ]
    },
    {
     "name": "stdout",
     "output_type": "stream",
     "text": [
      "Number of data items used in training: 4352\n"
     ]
    },
    {
     "name": "stderr",
     "output_type": "stream",
     "text": [
      "Epoch=18/20:  80%|███▉ | 35/44 [03:49<00:58,  6.53s/it, acc=0.996, loss=0.00409]"
     ]
    },
    {
     "name": "stdout",
     "output_type": "stream",
     "text": [
      "Number of data items used in training: 4480\n"
     ]
    },
    {
     "name": "stderr",
     "output_type": "stream",
     "text": [
      "Epoch=18/20:  82%|████ | 36/44 [03:55<00:53,  6.64s/it, acc=0.996, loss=0.00255]"
     ]
    },
    {
     "name": "stdout",
     "output_type": "stream",
     "text": [
      "Number of data items used in training: 4608\n"
     ]
    },
    {
     "name": "stderr",
     "output_type": "stream",
     "text": [
      "Epoch=18/20:  84%|████▏| 37/44 [04:02<00:45,  6.57s/it, acc=0.996, loss=0.00139]"
     ]
    },
    {
     "name": "stdout",
     "output_type": "stream",
     "text": [
      "Number of data items used in training: 4736\n"
     ]
    },
    {
     "name": "stderr",
     "output_type": "stream",
     "text": [
      "Epoch=18/20:  86%|███▍| 38/44 [04:08<00:38,  6.48s/it, acc=0.996, loss=0.000862]"
     ]
    },
    {
     "name": "stdout",
     "output_type": "stream",
     "text": [
      "Number of data items used in training: 4864\n"
     ]
    },
    {
     "name": "stderr",
     "output_type": "stream",
     "text": [
      "Epoch=18/20:  89%|████▍| 39/44 [04:15<00:32,  6.49s/it, acc=0.996, loss=0.00123]"
     ]
    },
    {
     "name": "stdout",
     "output_type": "stream",
     "text": [
      "Number of data items used in training: 4992\n"
     ]
    },
    {
     "name": "stderr",
     "output_type": "stream",
     "text": [
      "Epoch=18/20:  91%|███▋| 40/44 [04:21<00:26,  6.53s/it, acc=0.996, loss=0.000767]"
     ]
    },
    {
     "name": "stdout",
     "output_type": "stream",
     "text": [
      "Number of data items used in training: 5120\n"
     ]
    },
    {
     "name": "stderr",
     "output_type": "stream",
     "text": [
      "Epoch=18/20:  93%|████▋| 41/44 [04:28<00:19,  6.56s/it, acc=0.996, loss=0.00702]"
     ]
    },
    {
     "name": "stdout",
     "output_type": "stream",
     "text": [
      "Number of data items used in training: 5248\n"
     ]
    },
    {
     "name": "stderr",
     "output_type": "stream",
     "text": [
      "Epoch=18/20:  95%|████▊| 42/44 [04:34<00:13,  6.55s/it, acc=0.996, loss=0.00521]"
     ]
    },
    {
     "name": "stdout",
     "output_type": "stream",
     "text": [
      "Number of data items used in training: 5376\n"
     ]
    },
    {
     "name": "stderr",
     "output_type": "stream",
     "text": [
      "Epoch=18/20:  98%|████▉| 43/44 [04:41<00:06,  6.61s/it, acc=0.997, loss=0.00144]"
     ]
    },
    {
     "name": "stdout",
     "output_type": "stream",
     "text": [
      "Number of data items used in training: 5504\n"
     ]
    },
    {
     "name": "stderr",
     "output_type": "stream",
     "text": [
      "Epoch=18/20: 100%|████| 44/44 [04:43<00:00,  6.44s/it, acc=0.997, loss=0.000101]\n"
     ]
    },
    {
     "name": "stdout",
     "output_type": "stream",
     "text": [
      "Number of data items used in training: 5536\n"
     ]
    },
    {
     "name": "stderr",
     "output_type": "stream",
     "text": [
      "                                                                                \r"
     ]
    },
    {
     "name": "stdout",
     "output_type": "stream",
     "text": [
      "The current model is tested on 1384 testing data items.\n",
      "Accuracy after training this epoch in testing data is: 0.9002890173410405\n",
      "Loss after training this epoch in testing data is: 0.5477064847946167\n",
      "Starting epoch: 19\n"
     ]
    },
    {
     "name": "stderr",
     "output_type": "stream",
     "text": [
      "Epoch=19/20:   2%|▏      | 1/44 [00:07<05:37,  7.86s/it, acc=0.992, loss=0.0281]"
     ]
    },
    {
     "name": "stdout",
     "output_type": "stream",
     "text": [
      "Number of data items used in training: 128\n"
     ]
    },
    {
     "name": "stderr",
     "output_type": "stream",
     "text": [
      "Epoch=19/20:   5%|▎     | 2/44 [00:14<04:55,  7.03s/it, acc=0.996, loss=0.00401]"
     ]
    },
    {
     "name": "stdout",
     "output_type": "stream",
     "text": [
      "Number of data items used in training: 256\n"
     ]
    },
    {
     "name": "stderr",
     "output_type": "stream",
     "text": [
      "Epoch=19/20:   7%|▎    | 3/44 [00:19<04:22,  6.41s/it, acc=0.997, loss=0.000466]"
     ]
    },
    {
     "name": "stdout",
     "output_type": "stream",
     "text": [
      "Number of data items used in training: 384\n"
     ]
    },
    {
     "name": "stderr",
     "output_type": "stream",
     "text": [
      "Epoch=19/20:   9%|▋      | 4/44 [00:27<04:29,  6.74s/it, acc=0.996, loss=0.0082]"
     ]
    },
    {
     "name": "stdout",
     "output_type": "stream",
     "text": [
      "Number of data items used in training: 512\n"
     ]
    },
    {
     "name": "stderr",
     "output_type": "stream",
     "text": [
      "Epoch=19/20:  11%|▌    | 5/44 [00:33<04:22,  6.72s/it, acc=0.997, loss=0.000487]"
     ]
    },
    {
     "name": "stdout",
     "output_type": "stream",
     "text": [
      "Number of data items used in training: 640\n"
     ]
    },
    {
     "name": "stderr",
     "output_type": "stream",
     "text": [
      "Epoch=19/20:  14%|▋    | 6/44 [00:39<04:06,  6.47s/it, acc=0.997, loss=0.000674]"
     ]
    },
    {
     "name": "stdout",
     "output_type": "stream",
     "text": [
      "Number of data items used in training: 768\n"
     ]
    },
    {
     "name": "stderr",
     "output_type": "stream",
     "text": [
      "Epoch=19/20:  16%|▊    | 7/44 [00:47<04:07,  6.68s/it, acc=0.998, loss=0.000836]"
     ]
    },
    {
     "name": "stdout",
     "output_type": "stream",
     "text": [
      "Number of data items used in training: 896\n"
     ]
    },
    {
     "name": "stderr",
     "output_type": "stream",
     "text": [
      "Epoch=19/20:  18%|█▎     | 8/44 [00:54<04:07,  6.87s/it, acc=0.994, loss=0.0554]"
     ]
    },
    {
     "name": "stdout",
     "output_type": "stream",
     "text": [
      "Number of data items used in training: 1024\n"
     ]
    },
    {
     "name": "stderr",
     "output_type": "stream",
     "text": [
      "Epoch=19/20:  20%|█    | 9/44 [01:01<04:03,  6.97s/it, acc=0.995, loss=0.000666]"
     ]
    },
    {
     "name": "stdout",
     "output_type": "stream",
     "text": [
      "Number of data items used in training: 1152\n"
     ]
    },
    {
     "name": "stderr",
     "output_type": "stream",
     "text": [
      "Epoch=19/20:  23%|█▏   | 10/44 [01:07<03:49,  6.74s/it, acc=0.995, loss=0.00327]"
     ]
    },
    {
     "name": "stdout",
     "output_type": "stream",
     "text": [
      "Number of data items used in training: 1280\n"
     ]
    },
    {
     "name": "stderr",
     "output_type": "stream",
     "text": [
      "Epoch=19/20:  25%|█   | 11/44 [01:14<03:40,  6.69s/it, acc=0.996, loss=0.000198]"
     ]
    },
    {
     "name": "stdout",
     "output_type": "stream",
     "text": [
      "Number of data items used in training: 1408\n"
     ]
    },
    {
     "name": "stderr",
     "output_type": "stream",
     "text": [
      "Epoch=19/20:  27%|█▎   | 12/44 [01:20<03:33,  6.66s/it, acc=0.996, loss=0.00027]"
     ]
    },
    {
     "name": "stdout",
     "output_type": "stream",
     "text": [
      "Number of data items used in training: 1536\n"
     ]
    },
    {
     "name": "stderr",
     "output_type": "stream",
     "text": [
      "Epoch=19/20:  30%|█▏  | 13/44 [01:27<03:26,  6.67s/it, acc=0.996, loss=0.000373]"
     ]
    },
    {
     "name": "stdout",
     "output_type": "stream",
     "text": [
      "Number of data items used in training: 1664\n"
     ]
    },
    {
     "name": "stderr",
     "output_type": "stream",
     "text": [
      "Epoch=19/20:  32%|█▌   | 14/44 [01:34<03:22,  6.75s/it, acc=0.997, loss=0.00336]"
     ]
    },
    {
     "name": "stdout",
     "output_type": "stream",
     "text": [
      "Number of data items used in training: 1792\n"
     ]
    },
    {
     "name": "stderr",
     "output_type": "stream",
     "text": [
      "Epoch=19/20:  34%|██    | 15/44 [01:40<03:13,  6.66s/it, acc=0.996, loss=0.0961]"
     ]
    },
    {
     "name": "stdout",
     "output_type": "stream",
     "text": [
      "Number of data items used in training: 1920\n"
     ]
    },
    {
     "name": "stderr",
     "output_type": "stream",
     "text": [
      "Epoch=19/20:  36%|█▊   | 16/44 [01:47<03:05,  6.64s/it, acc=0.996, loss=0.00222]"
     ]
    },
    {
     "name": "stdout",
     "output_type": "stream",
     "text": [
      "Number of data items used in training: 2048\n"
     ]
    },
    {
     "name": "stderr",
     "output_type": "stream",
     "text": [
      "Epoch=19/20:  39%|██▎   | 17/44 [01:53<02:56,  6.52s/it, acc=0.995, loss=0.0241]"
     ]
    },
    {
     "name": "stdout",
     "output_type": "stream",
     "text": [
      "Number of data items used in training: 2176\n"
     ]
    },
    {
     "name": "stderr",
     "output_type": "stream",
     "text": [
      "Epoch=19/20:  41%|██   | 18/44 [02:00<02:52,  6.63s/it, acc=0.996, loss=0.00127]"
     ]
    },
    {
     "name": "stdout",
     "output_type": "stream",
     "text": [
      "Number of data items used in training: 2304\n"
     ]
    },
    {
     "name": "stderr",
     "output_type": "stream",
     "text": [
      "Epoch=19/20:  43%|██▌   | 19/44 [02:07<02:43,  6.55s/it, acc=0.995, loss=0.0328]"
     ]
    },
    {
     "name": "stdout",
     "output_type": "stream",
     "text": [
      "Number of data items used in training: 2432\n"
     ]
    },
    {
     "name": "stderr",
     "output_type": "stream",
     "text": [
      "Epoch=19/20:  45%|██▋   | 20/44 [02:13<02:37,  6.55s/it, acc=0.995, loss=0.0139]"
     ]
    },
    {
     "name": "stdout",
     "output_type": "stream",
     "text": [
      "Number of data items used in training: 2560\n"
     ]
    },
    {
     "name": "stderr",
     "output_type": "stream",
     "text": [
      "Epoch=19/20:  48%|██▍  | 21/44 [02:20<02:32,  6.64s/it, acc=0.996, loss=0.00425]"
     ]
    },
    {
     "name": "stdout",
     "output_type": "stream",
     "text": [
      "Number of data items used in training: 2688\n"
     ]
    },
    {
     "name": "stderr",
     "output_type": "stream",
     "text": [
      "Epoch=19/20:  50%|███   | 22/44 [02:26<02:23,  6.52s/it, acc=0.995, loss=0.0477]"
     ]
    },
    {
     "name": "stdout",
     "output_type": "stream",
     "text": [
      "Number of data items used in training: 2816\n"
     ]
    },
    {
     "name": "stderr",
     "output_type": "stream",
     "text": [
      "Epoch=19/20:  52%|███▏  | 23/44 [02:33<02:15,  6.47s/it, acc=0.995, loss=0.0167]"
     ]
    },
    {
     "name": "stdout",
     "output_type": "stream",
     "text": [
      "Number of data items used in training: 2944\n"
     ]
    },
    {
     "name": "stderr",
     "output_type": "stream",
     "text": [
      "Epoch=19/20:  55%|██▋  | 24/44 [02:39<02:10,  6.50s/it, acc=0.995, loss=0.00977]"
     ]
    },
    {
     "name": "stdout",
     "output_type": "stream",
     "text": [
      "Number of data items used in training: 3072\n"
     ]
    },
    {
     "name": "stderr",
     "output_type": "stream",
     "text": [
      "Epoch=19/20:  57%|██▎ | 25/44 [02:46<02:05,  6.60s/it, acc=0.995, loss=0.000842]"
     ]
    },
    {
     "name": "stdout",
     "output_type": "stream",
     "text": [
      "Number of data items used in training: 3200\n"
     ]
    },
    {
     "name": "stderr",
     "output_type": "stream",
     "text": [
      "Epoch=19/20:  59%|██▎ | 26/44 [02:53<01:59,  6.63s/it, acc=0.995, loss=0.000283]"
     ]
    },
    {
     "name": "stdout",
     "output_type": "stream",
     "text": [
      "Number of data items used in training: 3328\n"
     ]
    },
    {
     "name": "stderr",
     "output_type": "stream",
     "text": [
      "Epoch=19/20:  61%|███  | 27/44 [02:59<01:49,  6.45s/it, acc=0.996, loss=0.00193]"
     ]
    },
    {
     "name": "stdout",
     "output_type": "stream",
     "text": [
      "Number of data items used in training: 3456\n"
     ]
    },
    {
     "name": "stderr",
     "output_type": "stream",
     "text": [
      "Epoch=19/20:  64%|██▌ | 28/44 [03:05<01:44,  6.55s/it, acc=0.996, loss=0.000378]"
     ]
    },
    {
     "name": "stdout",
     "output_type": "stream",
     "text": [
      "Number of data items used in training: 3584\n"
     ]
    },
    {
     "name": "stderr",
     "output_type": "stream",
     "text": [
      "Epoch=19/20:  66%|██▋ | 29/44 [03:12<01:37,  6.53s/it, acc=0.996, loss=0.000441]"
     ]
    },
    {
     "name": "stdout",
     "output_type": "stream",
     "text": [
      "Number of data items used in training: 3712\n"
     ]
    },
    {
     "name": "stderr",
     "output_type": "stream",
     "text": [
      "Epoch=19/20:  68%|██▋ | 30/44 [03:19<01:31,  6.55s/it, acc=0.996, loss=0.000507]"
     ]
    },
    {
     "name": "stdout",
     "output_type": "stream",
     "text": [
      "Number of data items used in training: 3840\n"
     ]
    },
    {
     "name": "stderr",
     "output_type": "stream",
     "text": [
      "Epoch=19/20:  70%|███▌ | 31/44 [03:25<01:25,  6.60s/it, acc=0.996, loss=0.00118]"
     ]
    },
    {
     "name": "stdout",
     "output_type": "stream",
     "text": [
      "Number of data items used in training: 3968\n"
     ]
    },
    {
     "name": "stderr",
     "output_type": "stream",
     "text": [
      "Epoch=19/20:  73%|██▉ | 32/44 [03:32<01:18,  6.52s/it, acc=0.996, loss=0.000375]"
     ]
    },
    {
     "name": "stdout",
     "output_type": "stream",
     "text": [
      "Number of data items used in training: 4096\n"
     ]
    },
    {
     "name": "stderr",
     "output_type": "stream",
     "text": [
      "Epoch=19/20:  75%|████▌ | 33/44 [03:38<01:12,  6.59s/it, acc=0.996, loss=0.0137]"
     ]
    },
    {
     "name": "stdout",
     "output_type": "stream",
     "text": [
      "Number of data items used in training: 4224\n"
     ]
    },
    {
     "name": "stderr",
     "output_type": "stream",
     "text": [
      "Epoch=19/20:  77%|███ | 34/44 [03:44<01:04,  6.45s/it, acc=0.996, loss=0.000142]"
     ]
    },
    {
     "name": "stdout",
     "output_type": "stream",
     "text": [
      "Number of data items used in training: 4352\n"
     ]
    },
    {
     "name": "stderr",
     "output_type": "stream",
     "text": [
      "Epoch=19/20:  80%|███▏| 35/44 [03:51<00:58,  6.50s/it, acc=0.996, loss=0.000772]"
     ]
    },
    {
     "name": "stdout",
     "output_type": "stream",
     "text": [
      "Number of data items used in training: 4480\n"
     ]
    },
    {
     "name": "stderr",
     "output_type": "stream",
     "text": [
      "Epoch=19/20:  82%|████▉ | 36/44 [03:58<00:52,  6.56s/it, acc=0.996, loss=0.0429]"
     ]
    },
    {
     "name": "stdout",
     "output_type": "stream",
     "text": [
      "Number of data items used in training: 4608\n"
     ]
    },
    {
     "name": "stderr",
     "output_type": "stream",
     "text": [
      "Epoch=19/20:  84%|████▏| 37/44 [04:04<00:45,  6.49s/it, acc=0.996, loss=0.00169]"
     ]
    },
    {
     "name": "stdout",
     "output_type": "stream",
     "text": [
      "Number of data items used in training: 4736\n"
     ]
    },
    {
     "name": "stderr",
     "output_type": "stream",
     "text": [
      "Epoch=19/20:  86%|█████▏| 38/44 [04:11<00:39,  6.55s/it, acc=0.997, loss=0.0025]"
     ]
    },
    {
     "name": "stdout",
     "output_type": "stream",
     "text": [
      "Number of data items used in training: 4864\n"
     ]
    },
    {
     "name": "stderr",
     "output_type": "stream",
     "text": [
      "Epoch=19/20:  89%|███▌| 39/44 [04:18<00:33,  6.62s/it, acc=0.997, loss=0.000931]"
     ]
    },
    {
     "name": "stdout",
     "output_type": "stream",
     "text": [
      "Number of data items used in training: 4992\n"
     ]
    },
    {
     "name": "stderr",
     "output_type": "stream",
     "text": [
      "Epoch=19/20:  91%|████▌| 40/44 [04:24<00:26,  6.59s/it, acc=0.997, loss=0.00022]"
     ]
    },
    {
     "name": "stdout",
     "output_type": "stream",
     "text": [
      "Number of data items used in training: 5120\n"
     ]
    },
    {
     "name": "stderr",
     "output_type": "stream",
     "text": [
      "Epoch=19/20:  93%|████▋| 41/44 [04:31<00:19,  6.55s/it, acc=0.997, loss=0.00278]"
     ]
    },
    {
     "name": "stdout",
     "output_type": "stream",
     "text": [
      "Number of data items used in training: 5248\n"
     ]
    },
    {
     "name": "stderr",
     "output_type": "stream",
     "text": [
      "Epoch=19/20:  95%|███▊| 42/44 [04:37<00:13,  6.65s/it, acc=0.997, loss=0.000203]"
     ]
    },
    {
     "name": "stdout",
     "output_type": "stream",
     "text": [
      "Number of data items used in training: 5376\n"
     ]
    },
    {
     "name": "stderr",
     "output_type": "stream",
     "text": [
      "Epoch=19/20:  98%|██████▊| 43/44 [04:45<00:06,  6.95s/it, acc=0.997, loss=0.106]"
     ]
    },
    {
     "name": "stdout",
     "output_type": "stream",
     "text": [
      "Number of data items used in training: 5504\n"
     ]
    },
    {
     "name": "stderr",
     "output_type": "stream",
     "text": [
      "Epoch=19/20: 100%|████| 44/44 [04:46<00:00,  6.52s/it, acc=0.997, loss=0.000171]\n"
     ]
    },
    {
     "name": "stdout",
     "output_type": "stream",
     "text": [
      "Number of data items used in training: 5536\n"
     ]
    },
    {
     "name": "stderr",
     "output_type": "stream",
     "text": [
      "                                                                                \r"
     ]
    },
    {
     "name": "stdout",
     "output_type": "stream",
     "text": [
      "The current model is tested on 1384 testing data items.\n",
      "Accuracy after training this epoch in testing data is: 0.8836705202312138\n",
      "Loss after training this epoch in testing data is: 0.5585958361625671\n",
      "Starting epoch: 20\n"
     ]
    },
    {
     "name": "stderr",
     "output_type": "stream",
     "text": [
      "Epoch=20/20:   2%|▏         | 1/44 [00:07<05:37,  7.84s/it, acc=1, loss=0.00147]"
     ]
    },
    {
     "name": "stdout",
     "output_type": "stream",
     "text": [
      "Number of data items used in training: 128\n"
     ]
    },
    {
     "name": "stderr",
     "output_type": "stream",
     "text": [
      "Epoch=20/20:   5%|▌          | 2/44 [00:14<05:11,  7.42s/it, acc=1, loss=0.0033]"
     ]
    },
    {
     "name": "stdout",
     "output_type": "stream",
     "text": [
      "Number of data items used in training: 256\n"
     ]
    },
    {
     "name": "stderr",
     "output_type": "stream",
     "text": [
      "Epoch=20/20:   7%|▋         | 3/44 [00:20<04:23,  6.43s/it, acc=1, loss=0.00202]"
     ]
    },
    {
     "name": "stdout",
     "output_type": "stream",
     "text": [
      "Number of data items used in training: 384\n"
     ]
    },
    {
     "name": "stderr",
     "output_type": "stream",
     "text": [
      "Epoch=20/20:   9%|▋      | 4/44 [00:27<04:23,  6.59s/it, acc=0.998, loss=0.0276]"
     ]
    },
    {
     "name": "stdout",
     "output_type": "stream",
     "text": [
      "Number of data items used in training: 512\n"
     ]
    },
    {
     "name": "stderr",
     "output_type": "stream",
     "text": [
      "Epoch=20/20:  11%|▋     | 5/44 [00:33<04:17,  6.61s/it, acc=0.998, loss=0.00332]"
     ]
    },
    {
     "name": "stdout",
     "output_type": "stream",
     "text": [
      "Number of data items used in training: 640\n"
     ]
    },
    {
     "name": "stderr",
     "output_type": "stream",
     "text": [
      "Epoch=20/20:  14%|▉      | 6/44 [00:39<04:05,  6.45s/it, acc=0.995, loss=0.0736]"
     ]
    },
    {
     "name": "stdout",
     "output_type": "stream",
     "text": [
      "Number of data items used in training: 768\n"
     ]
    },
    {
     "name": "stderr",
     "output_type": "stream",
     "text": [
      "Epoch=20/20:  16%|█      | 7/44 [00:46<03:55,  6.37s/it, acc=0.994, loss=0.0735]"
     ]
    },
    {
     "name": "stdout",
     "output_type": "stream",
     "text": [
      "Number of data items used in training: 896\n"
     ]
    },
    {
     "name": "stderr",
     "output_type": "stream",
     "text": [
      "Epoch=20/20:  18%|█     | 8/44 [00:53<03:58,  6.62s/it, acc=0.995, loss=0.00249]"
     ]
    },
    {
     "name": "stdout",
     "output_type": "stream",
     "text": [
      "Number of data items used in training: 1024\n"
     ]
    },
    {
     "name": "stderr",
     "output_type": "stream",
     "text": [
      "Epoch=20/20:  20%|█▏    | 9/44 [00:59<03:47,  6.51s/it, acc=0.996, loss=0.00164]"
     ]
    },
    {
     "name": "stdout",
     "output_type": "stream",
     "text": [
      "Number of data items used in training: 1152\n"
     ]
    },
    {
     "name": "stderr",
     "output_type": "stream",
     "text": [
      "Epoch=20/20:  23%|█▏   | 10/44 [01:05<03:38,  6.43s/it, acc=0.996, loss=0.00388]"
     ]
    },
    {
     "name": "stdout",
     "output_type": "stream",
     "text": [
      "Number of data items used in training: 1280\n"
     ]
    },
    {
     "name": "stderr",
     "output_type": "stream",
     "text": [
      "Epoch=20/20:  25%|█▌    | 11/44 [01:12<03:37,  6.59s/it, acc=0.995, loss=0.0294]"
     ]
    },
    {
     "name": "stdout",
     "output_type": "stream",
     "text": [
      "Number of data items used in training: 1408\n"
     ]
    },
    {
     "name": "stderr",
     "output_type": "stream",
     "text": [
      "Epoch=20/20:  27%|█▋    | 12/44 [01:19<03:32,  6.65s/it, acc=0.993, loss=0.0442]"
     ]
    },
    {
     "name": "stdout",
     "output_type": "stream",
     "text": [
      "Number of data items used in training: 1536\n"
     ]
    },
    {
     "name": "stderr",
     "output_type": "stream",
     "text": [
      "Epoch=20/20:  30%|█▊    | 13/44 [01:26<03:25,  6.63s/it, acc=0.993, loss=0.0246]"
     ]
    },
    {
     "name": "stdout",
     "output_type": "stream",
     "text": [
      "Number of data items used in training: 1664\n"
     ]
    },
    {
     "name": "stderr",
     "output_type": "stream",
     "text": [
      "Epoch=20/20:  32%|█▉    | 14/44 [01:31<03:11,  6.39s/it, acc=0.992, loss=0.0518]"
     ]
    },
    {
     "name": "stdout",
     "output_type": "stream",
     "text": [
      "Number of data items used in training: 1792\n"
     ]
    },
    {
     "name": "stderr",
     "output_type": "stream",
     "text": [
      "Epoch=20/20:  34%|█▋   | 15/44 [01:38<03:08,  6.50s/it, acc=0.992, loss=0.00999]"
     ]
    },
    {
     "name": "stdout",
     "output_type": "stream",
     "text": [
      "Number of data items used in training: 1920\n"
     ]
    },
    {
     "name": "stderr",
     "output_type": "stream",
     "text": [
      "Epoch=20/20:  36%|█▊   | 16/44 [01:45<03:04,  6.59s/it, acc=0.993, loss=0.00446]"
     ]
    },
    {
     "name": "stdout",
     "output_type": "stream",
     "text": [
      "Number of data items used in training: 2048\n"
     ]
    },
    {
     "name": "stderr",
     "output_type": "stream",
     "text": [
      "Epoch=20/20:  39%|█▉   | 17/44 [01:51<02:56,  6.54s/it, acc=0.993, loss=0.00232]"
     ]
    },
    {
     "name": "stdout",
     "output_type": "stream",
     "text": [
      "Number of data items used in training: 2176\n"
     ]
    },
    {
     "name": "stderr",
     "output_type": "stream",
     "text": [
      "Epoch=20/20:  41%|██   | 18/44 [01:58<02:49,  6.51s/it, acc=0.993, loss=0.00294]"
     ]
    },
    {
     "name": "stdout",
     "output_type": "stream",
     "text": [
      "Number of data items used in training: 2304\n"
     ]
    },
    {
     "name": "stderr",
     "output_type": "stream",
     "text": [
      "Epoch=20/20:  43%|██▏  | 19/44 [02:04<02:40,  6.40s/it, acc=0.994, loss=0.00355]"
     ]
    },
    {
     "name": "stdout",
     "output_type": "stream",
     "text": [
      "Number of data items used in training: 2432\n"
     ]
    },
    {
     "name": "stderr",
     "output_type": "stream",
     "text": [
      "Epoch=20/20:  45%|██▎  | 20/44 [02:11<02:36,  6.50s/it, acc=0.994, loss=0.00168]"
     ]
    },
    {
     "name": "stdout",
     "output_type": "stream",
     "text": [
      "Number of data items used in training: 2560\n"
     ]
    },
    {
     "name": "stderr",
     "output_type": "stream",
     "text": [
      "Epoch=20/20:  48%|██▊   | 21/44 [02:17<02:30,  6.54s/it, acc=0.994, loss=0.0142]"
     ]
    },
    {
     "name": "stdout",
     "output_type": "stream",
     "text": [
      "Number of data items used in training: 2688\n"
     ]
    },
    {
     "name": "stderr",
     "output_type": "stream",
     "text": [
      "Epoch=20/20:  50%|███   | 22/44 [02:24<02:23,  6.50s/it, acc=0.994, loss=0.0018]"
     ]
    },
    {
     "name": "stdout",
     "output_type": "stream",
     "text": [
      "Number of data items used in training: 2816\n"
     ]
    },
    {
     "name": "stderr",
     "output_type": "stream",
     "text": [
      "Epoch=20/20:  52%|██▌  | 23/44 [02:31<02:18,  6.59s/it, acc=0.995, loss=0.00565]"
     ]
    },
    {
     "name": "stdout",
     "output_type": "stream",
     "text": [
      "Number of data items used in training: 2944\n"
     ]
    },
    {
     "name": "stderr",
     "output_type": "stream",
     "text": [
      "Epoch=20/20:  55%|██▋  | 24/44 [02:37<02:09,  6.46s/it, acc=0.995, loss=0.00201]"
     ]
    },
    {
     "name": "stdout",
     "output_type": "stream",
     "text": [
      "Number of data items used in training: 3072\n"
     ]
    },
    {
     "name": "stderr",
     "output_type": "stream",
     "text": [
      "Epoch=20/20:  57%|██▊  | 25/44 [02:44<02:06,  6.66s/it, acc=0.995, loss=0.00243]"
     ]
    },
    {
     "name": "stdout",
     "output_type": "stream",
     "text": [
      "Number of data items used in training: 3200\n"
     ]
    },
    {
     "name": "stderr",
     "output_type": "stream",
     "text": [
      "Epoch=20/20:  59%|███▌  | 26/44 [02:50<01:56,  6.46s/it, acc=0.995, loss=0.0163]"
     ]
    },
    {
     "name": "stdout",
     "output_type": "stream",
     "text": [
      "Number of data items used in training: 3328\n"
     ]
    },
    {
     "name": "stderr",
     "output_type": "stream",
     "text": [
      "Epoch=20/20:  61%|███▋  | 27/44 [02:56<01:50,  6.53s/it, acc=0.995, loss=0.0294]"
     ]
    },
    {
     "name": "stdout",
     "output_type": "stream",
     "text": [
      "Number of data items used in training: 3456\n"
     ]
    },
    {
     "name": "stderr",
     "output_type": "stream",
     "text": [
      "Epoch=20/20:  64%|███▊  | 28/44 [03:03<01:45,  6.62s/it, acc=0.994, loss=0.0208]"
     ]
    },
    {
     "name": "stdout",
     "output_type": "stream",
     "text": [
      "Number of data items used in training: 3584\n"
     ]
    },
    {
     "name": "stderr",
     "output_type": "stream",
     "text": [
      "Epoch=20/20:  66%|██▋ | 29/44 [03:10<01:38,  6.54s/it, acc=0.995, loss=0.000889]"
     ]
    },
    {
     "name": "stdout",
     "output_type": "stream",
     "text": [
      "Number of data items used in training: 3712\n"
     ]
    },
    {
     "name": "stderr",
     "output_type": "stream",
     "text": [
      "Epoch=20/20:  68%|██▋ | 30/44 [03:16<01:31,  6.50s/it, acc=0.995, loss=0.000636]"
     ]
    },
    {
     "name": "stdout",
     "output_type": "stream",
     "text": [
      "Number of data items used in training: 3840\n"
     ]
    },
    {
     "name": "stderr",
     "output_type": "stream",
     "text": [
      "Epoch=20/20:  70%|██▊ | 31/44 [03:23<01:25,  6.58s/it, acc=0.995, loss=0.000532]"
     ]
    },
    {
     "name": "stdout",
     "output_type": "stream",
     "text": [
      "Number of data items used in training: 3968\n"
     ]
    },
    {
     "name": "stderr",
     "output_type": "stream",
     "text": [
      "Epoch=20/20:  73%|██▉ | 32/44 [03:30<01:20,  6.68s/it, acc=0.995, loss=0.000951]"
     ]
    },
    {
     "name": "stdout",
     "output_type": "stream",
     "text": [
      "Number of data items used in training: 4096\n"
     ]
    },
    {
     "name": "stderr",
     "output_type": "stream",
     "text": [
      "Epoch=20/20:  75%|███ | 33/44 [03:37<01:13,  6.70s/it, acc=0.995, loss=0.000738]"
     ]
    },
    {
     "name": "stdout",
     "output_type": "stream",
     "text": [
      "Number of data items used in training: 4224\n"
     ]
    },
    {
     "name": "stderr",
     "output_type": "stream",
     "text": [
      "Epoch=20/20:  77%|███▊ | 34/44 [03:43<01:06,  6.66s/it, acc=0.995, loss=0.00038]"
     ]
    },
    {
     "name": "stdout",
     "output_type": "stream",
     "text": [
      "Number of data items used in training: 4352\n"
     ]
    },
    {
     "name": "stderr",
     "output_type": "stream",
     "text": [
      "Epoch=20/20:  80%|███▏| 35/44 [03:50<01:00,  6.70s/it, acc=0.996, loss=0.000628]"
     ]
    },
    {
     "name": "stdout",
     "output_type": "stream",
     "text": [
      "Number of data items used in training: 4480\n"
     ]
    },
    {
     "name": "stderr",
     "output_type": "stream",
     "text": [
      "Epoch=20/20:  82%|███▎| 36/44 [03:56<00:52,  6.56s/it, acc=0.996, loss=0.000751]"
     ]
    },
    {
     "name": "stdout",
     "output_type": "stream",
     "text": [
      "Number of data items used in training: 4608\n"
     ]
    },
    {
     "name": "stderr",
     "output_type": "stream",
     "text": [
      "Epoch=20/20:  84%|███▎| 37/44 [04:03<00:47,  6.73s/it, acc=0.996, loss=0.000239]"
     ]
    },
    {
     "name": "stdout",
     "output_type": "stream",
     "text": [
      "Number of data items used in training: 4736\n"
     ]
    },
    {
     "name": "stderr",
     "output_type": "stream",
     "text": [
      "Epoch=20/20:  86%|████▎| 38/44 [04:10<00:40,  6.69s/it, acc=0.996, loss=0.00413]"
     ]
    },
    {
     "name": "stdout",
     "output_type": "stream",
     "text": [
      "Number of data items used in training: 4864\n"
     ]
    },
    {
     "name": "stderr",
     "output_type": "stream",
     "text": [
      "Epoch=20/20:  89%|█████▎| 39/44 [04:16<00:33,  6.67s/it, acc=0.996, loss=0.0321]"
     ]
    },
    {
     "name": "stdout",
     "output_type": "stream",
     "text": [
      "Number of data items used in training: 4992\n"
     ]
    },
    {
     "name": "stderr",
     "output_type": "stream",
     "text": [
      "Epoch=20/20:  91%|████▌| 40/44 [04:23<00:26,  6.75s/it, acc=0.996, loss=0.00136]"
     ]
    },
    {
     "name": "stdout",
     "output_type": "stream",
     "text": [
      "Number of data items used in training: 5120\n"
     ]
    },
    {
     "name": "stderr",
     "output_type": "stream",
     "text": [
      "Epoch=20/20:  93%|█████▌| 41/44 [04:30<00:19,  6.60s/it, acc=0.996, loss=0.0607]"
     ]
    },
    {
     "name": "stdout",
     "output_type": "stream",
     "text": [
      "Number of data items used in training: 5248\n"
     ]
    },
    {
     "name": "stderr",
     "output_type": "stream",
     "text": [
      "Epoch=20/20:  95%|█████▋| 42/44 [04:36<00:13,  6.64s/it, acc=0.995, loss=0.0812]"
     ]
    },
    {
     "name": "stdout",
     "output_type": "stream",
     "text": [
      "Number of data items used in training: 5376\n"
     ]
    },
    {
     "name": "stderr",
     "output_type": "stream",
     "text": [
      "Epoch=20/20:  98%|████▉| 43/44 [04:43<00:06,  6.56s/it, acc=0.995, loss=0.00041]"
     ]
    },
    {
     "name": "stdout",
     "output_type": "stream",
     "text": [
      "Number of data items used in training: 5504\n"
     ]
    },
    {
     "name": "stderr",
     "output_type": "stream",
     "text": [
      "Epoch=20/20: 100%|████| 44/44 [04:45<00:00,  6.48s/it, acc=0.995, loss=0.000279]\n"
     ]
    },
    {
     "name": "stdout",
     "output_type": "stream",
     "text": [
      "Number of data items used in training: 5536\n"
     ]
    },
    {
     "name": "stderr",
     "output_type": "stream",
     "text": [
      "                                                                                \r"
     ]
    },
    {
     "name": "stdout",
     "output_type": "stream",
     "text": [
      "The current model is tested on 1384 testing data items.\n",
      "Accuracy after training this epoch in testing data is: 0.8908959537572254\n",
      "Loss after training this epoch in testing data is: 0.42281314730644226\n"
     ]
    },
    {
     "data": {
      "image/png": "[encoded data removed]",
      "text/plain": [
       "<Figure size 640x480 with 1 Axes>"
      ]
     },
     "metadata": {},
     "output_type": "display_data"
    },
    {
     "data": {
      "image/png": "[encoded data removed]",
      "text/plain": [
       "<Figure size 640x480 with 1 Axes>"
      ]
     },
     "metadata": {},
     "output_type": "display_data"
    },
    {
     "name": "stdout",
     "output_type": "stream",
     "text": [
      "+---------------------+----------+-----------+------------+------------+------------+-------------+-------------+-------------+----------+-------------+-------------+-----------+-------------+-------------+------------+------------+-------------+-------------+-------------+-------------+\n",
      "|                     |        1 |         2 |          3 |          4 |          5 |           6 |           7 |           8 |        9 |          10 |          11 |        12 |          13 |          14 |         15 |         16 |          17 |          18 |          19 |          20 |\n",
      "+=====================+==========+===========+============+============+============+=============+=============+=============+==========+=============+=============+===========+=============+=============+============+============+=============+=============+=============+=============+\n",
      "| training accuracy   | 0.810874 | 0.946712  | 0.970195   | 0.968208   | 0.991871   | 0.998013    | 0.997832    | 0.996568    | 0.994942 | 0.998194    | 0.998194    | 0.995665  | 0.995303    | 0.998555    | 0.996207   | 0.995665   | 0.996568    | 0.996568    | 0.996568    | 0.995484    |\n",
      "+---------------------+----------+-----------+------------+------------+------------+-------------+-------------+-------------+----------+-------------+-------------+-----------+-------------+-------------+------------+------------+-------------+-------------+-------------+-------------+\n",
      "| validation accuracy | 0.893064 | 0.859827  | 0.902457   | 0.898121   | 0.906792   | 0.900289    | 0.906069    | 0.895954    | 0.903179 | 0.903179    | 0.900289    | 0.870665  | 0.904624    | 0.863439    | 0.891618   | 0.893064   | 0.892341    | 0.900289    | 0.883671    | 0.890896    |\n",
      "+---------------------+----------+-----------+------------+------------+------------+-------------+-------------+-------------+----------+-------------+-------------+-----------+-------------+-------------+------------+------------+-------------+-------------+-------------+-------------+\n",
      "| training loss       | 0.249455 | 0.0101119 | 0.00160711 | 0.00273912 | 0.00187269 | 0.000343707 | 0.000226826 | 0.000236247 | 0.001236 | 0.000294774 | 0.000313434 | 0.0030989 | 0.000308752 | 0.000980742 | 0.00994662 | 0.00732007 | 0.000125825 | 0.000101097 | 0.000170562 | 0.000278875 |\n",
      "+---------------------+----------+-----------+------------+------------+------------+-------------+-------------+-------------+----------+-------------+-------------+-----------+-------------+-------------+------------+------------+-------------+-------------+-------------+-------------+\n",
      "| validation loss     | 0.202448 | 0.327349  | 0.181165   | 0.251094   | 0.152302   | 0.289192    | 0.267763    | 0.267681    | 0.291701 | 0.335671    | 0.251494    | 0.423343  | 0.355476    | 0.610834    | 0.483066   | 0.328101   | 0.412361    | 0.547706    | 0.558596    | 0.422813    |\n",
      "+---------------------+----------+-----------+------------+------------+------------+-------------+-------------+-------------+----------+-------------+-------------+-----------+-------------+-------------+------------+------------+-------------+-------------+-------------+-------------+\n",
      "==========================\n"
     ]
    }
   ],
   "source": [
    "model=finetune(20, dataloader, model, loss_fn, optimizer)"
   ]
  },
  {
   "cell_type": "markdown",
   "id": "15d064a1",
   "metadata": {},
   "source": [
    "Our training is done! As can be seen from the result, the classifier can achieve an accuracy of around 90% on the validation dataset. This shows how BERT can also be used in sentiment analysis area: it can help us determine the sentiment expressed in a given piece of text, and achieve good testing results.\n",
    "\n",
    "Now let's use some sample data to do testing:"
   ]
  },
  {
   "cell_type": "code",
   "execution_count": 15,
   "id": "98f3a33b",
   "metadata": {},
   "outputs": [
    {
     "name": "stdout",
     "output_type": "stream",
     "text": [
      "                                                   0  1\n",
      "0  \"Inception\" - Christopher Nolan's mind-bending...  1\n",
      "1  \"The Shawshank Redemption\" - This emotionally ...  1\n",
      "2  \"La La Land\" - This modern musical is a deligh...  1\n",
      "3  \"Up\" - Pixar's animated gem combines heartfelt...  1\n",
      "4  \"The Dark Knight\" - Christopher Nolan's grippi...  1\n",
      "5  \"The Last Airbender\" - M. Night Shyamalan's ad...  0\n",
      "6  \"Transformers: Revenge of the Fallen\" - This s...  0\n",
      "7  \"Cats\" - This ill-conceived musical adaptation...  0\n",
      "8  \"Suicide Squad\" - Despite a promising premise ...  0\n",
      "9  \"The Emoji Movie\" - This animated feature atte...  0\n",
      "max size of each tokenized data is: 100\n",
      "\n"
     ]
    },
    {
     "name": "stderr",
     "output_type": "stream",
     "text": [
      "  0%|                                                     | 0/1 [00:00<?, ?it/s]/Users/susieli/anaconda3/lib/python3.10/site-packages/transformers/tokenization_utils_base.py:2377: FutureWarning: The `pad_to_max_length` argument is deprecated and will be removed in a future version, use `padding=True` or `padding='longest'` to pad to the longest sequence in the batch, or use `padding='max_length'` to pad to a max length. In this case, you can give a specific length with `max_length` (e.g. `max_length=45`) or leave max_length to None to pad to the maximal input size of the model (e.g. 512 for Bert).\n",
      "  warnings.warn(\n",
      "                                                                                "
     ]
    },
    {
     "name": "stdout",
     "output_type": "stream",
     "text": [
      "The current model is tested on 10 testing data items.\n",
      "Accuracy after training this epoch in testing data is: 1.0\n",
      "Loss after training this epoch in testing data is: 0.00020647705241572112\n",
      "[[1.]\n",
      " [1.]\n",
      " [1.]\n",
      " [1.]\n",
      " [1.]\n",
      " [0.]\n",
      " [0.]\n",
      " [0.]\n",
      " [0.]\n",
      " [0.]]\n"
     ]
    },
    {
     "name": "stderr",
     "output_type": "stream",
     "text": [
      "\r"
     ]
    }
   ],
   "source": [
    "class BertDataset_test(Dataset):\n",
    "    def __init__(self, tokenizer,max_length):\n",
    "        super(BertDataset_test, self).__init__()\n",
    "        #self.root_dir=root_dir\n",
    "        self.train_csv=pd.read_csv('testing_data.csv')\n",
    "        print(self.train_csv.head(10))\n",
    "        self.tokenizer=tokenizer\n",
    "        self.target=self.train_csv.iloc[:,1]\n",
    "        self.max_length=max_length\n",
    "        print(\"max size of each tokenized data is: \"+str(max_length)+\"\\n\")\n",
    "        \n",
    "    def __len__(self):\n",
    "        return len(self.train_csv)\n",
    "    \n",
    "    def __getitem__(self, index):\n",
    "        \n",
    "        text1 = self.train_csv.iloc[index,0]\n",
    "        \n",
    "        inputs = self.tokenizer.encode_plus(\n",
    "            text1 ,\n",
    "            None,\n",
    "            pad_to_max_length=True,\n",
    "            add_special_tokens=True,\n",
    "            return_attention_mask=True,\n",
    "            max_length=self.max_length,\n",
    "        )\n",
    "        ids = inputs[\"input_ids\"]\n",
    "        token_type_ids = inputs[\"token_type_ids\"]\n",
    "        mask = inputs[\"attention_mask\"]\n",
    "\n",
    "        return {\n",
    "            'ids': torch.tensor(ids, dtype=torch.long),\n",
    "            'mask': torch.tensor(mask, dtype=torch.long),\n",
    "            'token_type_ids': torch.tensor(token_type_ids, dtype=torch.long),\n",
    "            'target': torch.tensor(self.train_csv.iloc[index, 1], dtype=torch.long)\n",
    "            }\n",
    "dataset_sample_test=BertDataset_test(tokenizer, max_length=100)\n",
    "\n",
    "dataloader_sample_test=DataLoader(dataset=dataset_sample_test,batch_size=32)\n",
    "\n",
    "sample_acc, sample_loss, sample_pred=model_testing(dataloader_sample_test,model, loss_fn)\n",
    "\n",
    "print(sample_pred)"
   ]
  },
  {
   "cell_type": "markdown",
   "id": "ad295d24",
   "metadata": {},
   "source": [
    "References:\n",
    "Bansal, L. (2021, Sep 18). Fine-Tuning BERT for Text Classification in PyTorch [Blog post]. Retrieved from https://luv-bansal.medium.com/fine-tuning-bert-for-text-classification-in-pytorch-503d97342db2\n",
    "Alammar, J. (2019, Nov 26). A Visual Guide to Using BERT for the First Time [Web article]. Retrieved from http://jalammar.github.io/a-visual-guide-to-using-bert-for-the-first-time/"
   ]
  },
  {
   "cell_type": "code",
   "execution_count": null,
   "id": "8dc2c80a",
   "metadata": {},
   "outputs": [],
   "source": []
  }
 ],
 "metadata": {
  "kernelspec": {
   "display_name": "Python 3 (ipykernel)",
   "language": "python",
   "name": "python3"
  },
  "language_info": {
   "codemirror_mode": {
    "name": "ipython",
    "version": 3
   },
   "file_extension": ".py",
   "mimetype": "text/x-python",
   "name": "python",
   "nbconvert_exporter": "python",
   "pygments_lexer": "ipython3",
   "version": "3.10.11"
  }
 },
 "nbformat": 4,
 "nbformat_minor": 5
}
